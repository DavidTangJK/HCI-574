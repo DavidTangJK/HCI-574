{
 "cells": [
  {
   "cell_type": "markdown",
   "metadata": {},
   "source": [
    "# HCI 574 General HW Instructions\n",
    "\n",
    "\n",
    "### Work through the problems\n",
    "- Answer the questions shown in the HW. Fix anything with ???. Answers to text questions should be given in a printed string, e.g.:  `print(\"This is the answer\")` or as a comment e.g. `# This is the answer`\n",
    "- Ensure that VSCode is set to autosve your notebook! In _Settings_ search for autosave and set it to 1000 ms.\n",
    "- It's fine to create new python cells if you want to try something without changing the offcial cell but please ensure that at the end there's only one cell with your official answer to the question and (__very impotant!__) that that cell as been run/executed so we can see its output. If you want to \"save\" your inofficial cell(s), make sure they are fully commented out!\n",
    "\n",
    "\n",
    "\n",
    "### Handing in the HW\n",
    "- Check that all other files the HW might have (screenshots, data files, etc.) are indeed in the correct HW folder.\n",
    "- Zip your HW folder folder (e.g. into HW1_ALemming.zip). On Windows use Right-click -> Send To - Compress Folder. Please don't use rar or any other exotic compressors!\n",
    "- Zip your HW folder and hand it into Gradescope\n",
    "\n",
    "\n",
    "### Points\n",
    "\n",
    "The number of points a problem is worth when solved properly is always shown inside brackets at the heading of the problem, e.g.\n",
    "##### Q1 [ 3.5 pts]  This problem is worth 3.5 points\n",
    "\n",
    "\n",
    "Sometimes you may get additional extra credits if we feel your solution is particularly clever, etc. \n",
    "Some problem are entirely __optional__, these will have a + in from of the points, e.g.\n",
    "##### Q2 [ +1 pt ] This *optional* problem is worth 1 point\n",
    "```\n",
    "'''\n",
    "# figure out something ...\n",
    "???\n",
    "'''\n",
    "```\n",
    "\n",
    "Optional problems start and end with a line with `'''`, so its code is ignored. If you want to do this problem you must first delete this first and last line and then make its code work.\n",
    "\n",
    "You can solve these optional points to learn more or make up of points you missed in earlier HW. Note however, that there's a cap on the total HW points, if you have more than 100% of HW points the end of the semester, it will be reduced to 100%\n",
    "\n",
    "\n",
    "### Questions?\n",
    "If you have questions or need help, ask me after class, use Piazza or ask the TA during office hours  "
   ]
  },
  {
   "cell_type": "markdown",
   "metadata": {
    "deletable": false,
    "editable": false,
    "nbgrader": {
     "cell_type": "markdown",
     "checksum": "75ad670edc7d0c41c69562f204b0cd1d",
     "grade": false,
     "grade_id": "h",
     "locked": true,
     "schema_version": 3,
     "solution": false,
     "task": false
    }
   },
   "source": [
    "# HCI574 - HW1 \n"
   ]
  },
  {
   "cell_type": "markdown",
   "metadata": {
    "deletable": false,
    "editable": false,
    "nbgrader": {
     "cell_type": "markdown",
     "checksum": "db27dfc383579c3d39c04a041809fdcf",
     "grade": false,
     "grade_id": "p1q",
     "locked": true,
     "schema_version": 3,
     "solution": false
    }
   },
   "source": [
    "### Q1 [ 1 pt ] Import the math module (math) \n",
    "\n",
    "Change the python code in the cell below. Initially, you WILL get an error with this code, this is by design! You need to first fix something in the first line. After a succelfull import, print should show this: `<module 'math' (built-in)>`\n",
    "\n"
   ]
  },
  {
   "cell_type": "code",
   "execution_count": 3,
   "metadata": {
    "deletable": false,
    "nbgrader": {
     "cell_type": "code",
     "checksum": "185345bb18148870906b77ca75a2bf92",
     "grade": true,
     "grade_id": "p1",
     "locked": false,
     "points": 1,
     "schema_version": 3,
     "solution": true
    }
   },
   "outputs": [
    {
     "name": "stdout",
     "output_type": "stream",
     "text": [
      "<module 'math' (built-in)>\n"
     ]
    }
   ],
   "source": [
    "import math # wants access to the build-in math module, but it's wrong! Fix this!\n",
    "print(math)\n",
    "\n",
    "\n"
   ]
  },
  {
   "cell_type": "markdown",
   "metadata": {
    "deletable": false,
    "editable": false,
    "nbgrader": {
     "cell_type": "markdown",
     "checksum": "8373da4621039c923fa223ace2f4056f",
     "grade": false,
     "grade_id": "p2q",
     "locked": true,
     "schema_version": 3,
     "solution": false,
     "task": false
    }
   },
   "source": [
    "### Q2  [ 1 pt ] In code, print out the internal help text info about the log10 math function\n",
    "\n",
    "Note: You will get a None like this: `The help text for log10 is: None` as well, that's normal ..."
   ]
  },
  {
   "cell_type": "code",
   "execution_count": 7,
   "metadata": {
    "deletable": false,
    "nbgrader": {
     "cell_type": "code",
     "checksum": "125e35bd1c74be40dc04ab5fbfe68d13",
     "grade": true,
     "grade_id": "p2",
     "locked": false,
     "points": 1,
     "schema_version": 3,
     "solution": true
    }
   },
   "outputs": [
    {
     "name": "stdout",
     "output_type": "stream",
     "text": [
      "Help on built-in function log10 in module math:\n",
      "\n",
      "log10(x, /)\n",
      "    Return the base 10 logarithm of x.\n",
      "\n",
      "The help text for log10 is: None\n"
     ]
    }
   ],
   "source": [
    "print(\"The help text for log10 is:\", help(math.log10))\n",
    "\n"
   ]
  },
  {
   "cell_type": "markdown",
   "metadata": {
    "deletable": false,
    "editable": false,
    "nbgrader": {
     "cell_type": "markdown",
     "checksum": "84362715d6e082b1b5672ebe90033136",
     "grade": false,
     "grade_id": "p3q",
     "locked": true,
     "schema_version": 3,
     "solution": false,
     "task": false
    }
   },
   "source": [
    "### Q3 [ 1 pts ] In code, using functions and constants defined by the math module, calculate the square-root of the log10 of Pi\n"
   ]
  },
  {
   "cell_type": "code",
   "execution_count": 6,
   "metadata": {
    "deletable": false,
    "nbgrader": {
     "cell_type": "code",
     "checksum": "0dead2c639301b03b57eeb3dbf24151e",
     "grade": true,
     "grade_id": "p3",
     "locked": false,
     "points": 1,
     "schema_version": 3,
     "solution": true
    }
   },
   "outputs": [
    {
     "name": "stdout",
     "output_type": "stream",
     "text": [
      "The square-root of the log10 of Pi is: 0.7050885566325225\n"
     ]
    }
   ],
   "source": [
    "print(\"The square-root of the log10 of Pi is:\", math.sqrt(math.log10(math.pi)))\n",
    "\n"
   ]
  },
  {
   "cell_type": "markdown",
   "metadata": {
    "deletable": false,
    "editable": false,
    "nbgrader": {
     "cell_type": "markdown",
     "checksum": "6e39d6d88c59399ec2585570654f1c51",
     "grade": false,
     "grade_id": "p4q",
     "locked": true,
     "schema_version": 3,
     "solution": false
    }
   },
   "source": [
    "### Q4 [ 1 pt ] Generate random number -5  to +5\n",
    "\n",
    "- In code, print out the result of calling the `randint()` function (from the random module) in a way that it generates a number between (and including) -5 and +5\n",
    "- repeat your print line 3 times so it prints out 3 such random numbers"
   ]
  },
  {
   "cell_type": "code",
   "execution_count": 8,
   "metadata": {
    "deletable": false,
    "nbgrader": {
     "cell_type": "code",
     "checksum": "8d8b1b97f7f9ed93dd6eb8417a162d47",
     "grade": true,
     "grade_id": "p4",
     "locked": false,
     "points": 1,
     "schema_version": 3,
     "solution": true
    }
   },
   "outputs": [
    {
     "name": "stdout",
     "output_type": "stream",
     "text": [
      "This is a random number between -5 and +5: -2\n",
      "This is a random number between -5 and +5: -1\n",
      "This is a random number between -5 and +5: 4\n"
     ]
    }
   ],
   "source": [
    "# Grading cell\n",
    "\n",
    "import random\n",
    "print(\"This is a random number between -5 and +5:\", random.randint(-5, 5))\n",
    "print(\"This is a random number between -5 and +5:\", random.randint(-5, 5))\n",
    "print(\"This is a random number between -5 and +5:\", random.randint(-5, 5))"
   ]
  },
  {
   "cell_type": "markdown",
   "metadata": {
    "deletable": false,
    "editable": false,
    "nbgrader": {
     "cell_type": "markdown",
     "checksum": "09d193daa2ec4fd6cb4e52864491f502",
     "grade": false,
     "grade_id": "p5q",
     "locked": true,
     "schema_version": 3,
     "solution": false
    }
   },
   "source": [
    "### Q5 [ 1 pt ] Make a list\n",
    "\n",
    "In code, make a list (called `the_list`) with 3 elements: the number 1, the number 2.7 and the string \"Monty Python\". Print out `the_list`.\n"
   ]
  },
  {
   "cell_type": "code",
   "execution_count": 9,
   "metadata": {
    "deletable": false,
    "nbgrader": {
     "cell_type": "code",
     "checksum": "e79ad6ae47df84c259e875540d1bf19a",
     "grade": true,
     "grade_id": "p5",
     "locked": false,
     "points": 1,
     "schema_version": 3,
     "solution": true
    }
   },
   "outputs": [
    {
     "name": "stdout",
     "output_type": "stream",
     "text": [
      "the_list contains [1, 2.7, 'Monty Python']\n"
     ]
    }
   ],
   "source": [
    "the_list = [1, 2.7, \"Monty Python\"]\n",
    "print(\"the_list contains\", the_list)\n",
    "\n"
   ]
  },
  {
   "cell_type": "markdown",
   "metadata": {
    "deletable": false,
    "editable": false,
    "nbgrader": {
     "cell_type": "markdown",
     "checksum": "73ec3a6374126f9045e5043dfc55a560",
     "grade": false,
     "grade_id": "p6q",
     "locked": true,
     "schema_version": 3,
     "solution": false
    }
   },
   "source": [
    "### Q5 [ 1 pt ] How many elements does the_list contain?\n",
    "\n",
    "- In code, use a standard function to print out the number of elements stored in `the_list`. \n",
    "- Do not simply look at it and count it yourself! \n",
    "- Alternatively you could also calculate the number of elements first, assign the result to a variable and then print out the variable."
   ]
  },
  {
   "cell_type": "code",
   "execution_count": 10,
   "metadata": {
    "deletable": false,
    "nbgrader": {
     "cell_type": "code",
     "checksum": "d4cb996774cb9732dcb828b5188048c6",
     "grade": true,
     "grade_id": "p6",
     "locked": false,
     "points": 1,
     "schema_version": 3,
     "solution": true
    }
   },
   "outputs": [
    {
     "name": "stdout",
     "output_type": "stream",
     "text": [
      "list [1, 2.7, 'Monty Python'] , contains 3 elements\n"
     ]
    }
   ],
   "source": [
    "print(\"list\", the_list, \", contains\", len(the_list), \"elements\")\n",
    "\n"
   ]
  },
  {
   "cell_type": "markdown",
   "metadata": {
    "deletable": false,
    "editable": false,
    "nbgrader": {
     "cell_type": "markdown",
     "checksum": "c5abe8ca0f29a2d61f2764917a201910",
     "grade": false,
     "grade_id": "p7q",
     "locked": true,
     "schema_version": 3,
     "solution": false
    }
   },
   "source": [
    "### Q6 [ 2 pts ] Extract the last element of the_list\n",
    "\n",
    "- print out the value of the_list's last element using an index number \n",
    "- But, do __NOT__ just use -1 as index i.e. `the_list[-1]`! \n",
    "- You will have to use the `len()` function to calculate the index of the last element based on the number of elements the lasit has.\n",
    "- (Again, do not just do the math in your head and write in the resulting number. There will need to be a sort of (simple) \"formula\" and we need to see it, not just the resulting index.\n",
    "- if perfectly fine if you want to use a play around cell to figure out the math!"
   ]
  },
  {
   "cell_type": "code",
   "execution_count": 11,
   "metadata": {
    "deletable": false,
    "nbgrader": {
     "cell_type": "code",
     "checksum": "cb22b0475127b50416e858f517d1af52",
     "grade": true,
     "grade_id": "p7",
     "locked": false,
     "points": 2,
     "schema_version": 3,
     "solution": true
    }
   },
   "outputs": [
    {
     "name": "stdout",
     "output_type": "stream",
     "text": [
      "the_list is [1, 2.7, 'Monty Python']\n",
      "The last element of the_list has the index number 2\n",
      "The value of that last element is Monty Python\n"
     ]
    }
   ],
   "source": [
    "print(\"the_list is\", the_list) # show all the elements\n",
    "\n",
    "# calculate the index of the last element using the number of list elements\n",
    "index_of_last_element = len(the_list) - 1\n",
    "print(\"The last element of the_list has the index number\", index_of_last_element)\n",
    "\n",
    "# use index_of_last_element to get the value of the last element\n",
    "value_of_last_element = the_list[index_of_last_element]\n",
    "print(\"The value of that last element is\", value_of_last_element)\n",
    "\n",
    "\n"
   ]
  },
  {
   "cell_type": "code",
   "execution_count": null,
   "metadata": {},
   "outputs": [],
   "source": [
    "# play around"
   ]
  },
  {
   "cell_type": "markdown",
   "metadata": {
    "deletable": false,
    "editable": false,
    "nbgrader": {
     "cell_type": "markdown",
     "checksum": "8154bb268a73cdbada55af9a74d442f0",
     "grade": false,
     "grade_id": "p8q",
     "locked": true,
     "schema_version": 3,
     "solution": false
    }
   },
   "source": [
    "### Q7 [ 1 pt ] Make PyPyPyMon\n",
    "\n",
    "- A string s contains `\"Monty Python\"`. \n",
    "- Using two slices from s (e.g. `s[2:4]`) and the string operators + and *, to assemble the string `\"PyPyPyMon\"` and print it out. "
   ]
  },
  {
   "cell_type": "code",
   "execution_count": 12,
   "metadata": {
    "deletable": false,
    "nbgrader": {
     "cell_type": "code",
     "checksum": "b4166773c1fa3eab95cd6585c42795d0",
     "grade": true,
     "grade_id": "p8",
     "locked": false,
     "points": 1,
     "schema_version": 3,
     "solution": true
    }
   },
   "outputs": [
    {
     "name": "stdout",
     "output_type": "stream",
     "text": [
      "glued together slices: PyPyPyMon\n"
     ]
    }
   ],
   "source": [
    "s = \"Monty Python\"\n",
    "slicenglue = s[6:8]*3 + s[0:3]  \n",
    "print(\"glued together slices:\", slicenglue)\n",
    "\n",
    "\n"
   ]
  },
  {
   "cell_type": "code",
   "execution_count": 20,
   "metadata": {},
   "outputs": [],
   "source": [
    "# play around"
   ]
  },
  {
   "cell_type": "markdown",
   "metadata": {
    "deletable": false,
    "editable": false,
    "nbgrader": {
     "cell_type": "markdown",
     "checksum": "f3a80a6bdadc5e37a1389997979be9d0",
     "grade": false,
     "grade_id": "p9q",
     "locked": true,
     "schema_version": 3,
     "solution": false
    }
   },
   "source": [
    "### Q8 [ 1 pt ] Create a filled dictionary in two different ways\n",
    "In code, give me two different ways of creating a dictionary from the following\n",
    "key:value pairs: \n",
    "\n",
    "`\"name\" : \"Ames\"` and  `\"population\" : 50731`\n",
    "\n",
    "1) create dict1 in a single statement (line) i.e. all at once\n",
    "\n",
    "2) create dict2 as initially empty and add each key-value-pair to it separately (i.e. each in its own line)"
   ]
  },
  {
   "cell_type": "code",
   "execution_count": 13,
   "metadata": {
    "deletable": false,
    "nbgrader": {
     "cell_type": "code",
     "checksum": "6717c474db3ee81334c146cf1b39d7ea",
     "grade": true,
     "grade_id": "p9",
     "locked": false,
     "points": 1,
     "schema_version": 3,
     "solution": true
    }
   },
   "outputs": [
    {
     "name": "stdout",
     "output_type": "stream",
     "text": [
      "First dict {'name': 'Ames', 'population': 50731}\n",
      "Second dict {'name': 'Ames', 'population': 50731}\n"
     ]
    }
   ],
   "source": [
    "# Create dict1 one way\n",
    "dict1 = {\"name\": \"Ames\", \"population\": 50731}\n",
    "print(\"First dict\", dict1)\n",
    "\n",
    "# Create a dict with the same values another way and call it dict2\n",
    "dict2 = {}\n",
    "dict2[\"name\"] = \"Ames\"\n",
    "dict2[\"population\"] = 50731\n",
    "print(\"Second dict\", dict2)\n",
    "\n",
    "\n"
   ]
  },
  {
   "cell_type": "code",
   "execution_count": null,
   "metadata": {},
   "outputs": [],
   "source": [
    "# play around"
   ]
  },
  {
   "cell_type": "markdown",
   "metadata": {
    "deletable": false,
    "editable": false,
    "nbgrader": {
     "cell_type": "markdown",
     "checksum": "e508f482ac16258a73969eb4b2c87373",
     "grade": false,
     "grade_id": "p10q",
     "locked": true,
     "schema_version": 3,
     "solution": false
    }
   },
   "source": [
    "### Q9 [ +1 pt ] Generate random floating point numbers between -100.0 and +100.0\n",
    "\n",
    "__Optional__: For this you must __only__ use the `random.random()` function to print out three different floating point numbers between -100 and +100. (read about random() at docs.python.org/2/library/random.html#module-random.html).\n",
    "\n",
    "I realize that `random.uniform(-100, 100)` works perfectly well for this but for the sake of making you think, I want you to use __only(!)__ `random.random()` to generate random floats between 0.0 and 1.0 and then modify them with some math so that, in the end, you get -100 to +100. (Hint: the math will only involve multiplication and subtraction)\n",
    "\n",
    "For this I'm going to give you a way to visualize your formula. Please install seaborn and run the cell that defines the show_histogram() function. "
   ]
  },
  {
   "cell_type": "code",
   "execution_count": 1,
   "metadata": {},
   "outputs": [
    {
     "name": "stdout",
     "output_type": "stream",
     "text": [
      "Requirement already satisfied: seaborn in c:\\users\\david\\appdata\\local\\packages\\pythonsoftwarefoundation.python.3.10_qbz5n2kfra8p0\\localcache\\local-packages\\python310\\site-packages (0.13.1)\n",
      "Requirement already satisfied: matplotlib!=3.6.1,>=3.4 in c:\\users\\david\\appdata\\local\\packages\\pythonsoftwarefoundation.python.3.10_qbz5n2kfra8p0\\localcache\\local-packages\\python310\\site-packages (from seaborn) (3.8.2)\n",
      "Requirement already satisfied: pandas>=1.2 in c:\\users\\david\\appdata\\local\\packages\\pythonsoftwarefoundation.python.3.10_qbz5n2kfra8p0\\localcache\\local-packages\\python310\\site-packages (from seaborn) (2.2.0)\n",
      "Requirement already satisfied: numpy!=1.24.0,>=1.20 in c:\\users\\david\\appdata\\local\\packages\\pythonsoftwarefoundation.python.3.10_qbz5n2kfra8p0\\localcache\\local-packages\\python310\\site-packages (from seaborn) (1.26.3)\n",
      "Requirement already satisfied: pillow>=8 in c:\\users\\david\\appdata\\local\\packages\\pythonsoftwarefoundation.python.3.10_qbz5n2kfra8p0\\localcache\\local-packages\\python310\\site-packages (from matplotlib!=3.6.1,>=3.4->seaborn) (10.2.0)\n",
      "Requirement already satisfied: contourpy>=1.0.1 in c:\\users\\david\\appdata\\local\\packages\\pythonsoftwarefoundation.python.3.10_qbz5n2kfra8p0\\localcache\\local-packages\\python310\\site-packages (from matplotlib!=3.6.1,>=3.4->seaborn) (1.2.0)\n",
      "Requirement already satisfied: cycler>=0.10 in c:\\users\\david\\appdata\\local\\packages\\pythonsoftwarefoundation.python.3.10_qbz5n2kfra8p0\\localcache\\local-packages\\python310\\site-packages (from matplotlib!=3.6.1,>=3.4->seaborn) (0.12.1)\n",
      "Requirement already satisfied: pyparsing>=2.3.1 in c:\\users\\david\\appdata\\local\\packages\\pythonsoftwarefoundation.python.3.10_qbz5n2kfra8p0\\localcache\\local-packages\\python310\\site-packages (from matplotlib!=3.6.1,>=3.4->seaborn) (3.1.1)\n",
      "Requirement already satisfied: kiwisolver>=1.3.1 in c:\\users\\david\\appdata\\local\\packages\\pythonsoftwarefoundation.python.3.10_qbz5n2kfra8p0\\localcache\\local-packages\\python310\\site-packages (from matplotlib!=3.6.1,>=3.4->seaborn) (1.4.5)\n",
      "Requirement already satisfied: fonttools>=4.22.0 in c:\\users\\david\\appdata\\local\\packages\\pythonsoftwarefoundation.python.3.10_qbz5n2kfra8p0\\localcache\\local-packages\\python310\\site-packages (from matplotlib!=3.6.1,>=3.4->seaborn) (4.47.2)\n",
      "Requirement already satisfied: python-dateutil>=2.7 in c:\\users\\david\\appdata\\local\\packages\\pythonsoftwarefoundation.python.3.10_qbz5n2kfra8p0\\localcache\\local-packages\\python310\\site-packages (from matplotlib!=3.6.1,>=3.4->seaborn) (2.8.2)\n",
      "Requirement already satisfied: packaging>=20.0 in c:\\users\\david\\appdata\\local\\packages\\pythonsoftwarefoundation.python.3.10_qbz5n2kfra8p0\\localcache\\local-packages\\python310\\site-packages (from matplotlib!=3.6.1,>=3.4->seaborn) (23.2)\n",
      "Requirement already satisfied: tzdata>=2022.7 in c:\\users\\david\\appdata\\local\\packages\\pythonsoftwarefoundation.python.3.10_qbz5n2kfra8p0\\localcache\\local-packages\\python310\\site-packages (from pandas>=1.2->seaborn) (2023.4)\n",
      "Requirement already satisfied: pytz>=2020.1 in c:\\users\\david\\appdata\\local\\packages\\pythonsoftwarefoundation.python.3.10_qbz5n2kfra8p0\\localcache\\local-packages\\python310\\site-packages (from pandas>=1.2->seaborn) (2023.3.post1)\n",
      "Requirement already satisfied: six>=1.5 in c:\\users\\david\\appdata\\local\\packages\\pythonsoftwarefoundation.python.3.10_qbz5n2kfra8p0\\localcache\\local-packages\\python310\\site-packages (from python-dateutil>=2.7->matplotlib!=3.6.1,>=3.4->seaborn) (1.16.0)\n",
      "Note: you may need to restart the kernel to use updated packages.\n"
     ]
    },
    {
     "name": "stderr",
     "output_type": "stream",
     "text": [
      "\n",
      "[notice] A new release of pip is available: 23.0.1 -> 23.3.2\n",
      "[notice] To update, run: C:\\Users\\david\\AppData\\Local\\Microsoft\\WindowsApps\\PythonSoftwareFoundation.Python.3.10_qbz5n2kfra8p0\\python.exe -m pip install --upgrade pip\n"
     ]
    }
   ],
   "source": [
    "# install the seaborn graphing package  \n",
    "%pip install seaborn"
   ]
  },
  {
   "cell_type": "code",
   "execution_count": 2,
   "metadata": {},
   "outputs": [
    {
     "name": "stdout",
     "output_type": "stream",
     "text": [
      "Ready to graph!\n"
     ]
    }
   ],
   "source": [
    "# This function will draw your \"formula\", don't worry if you don't understand the details!\n",
    "import seaborn as sns\n",
    "import random\n",
    "# This function will draw your \"formula\"\n",
    "def show_histogram(formula):\n",
    "    nums = [] # list to be filled with random numbers\n",
    "    for n in range(1000):\n",
    "        nums.append(eval(formula))\n",
    "    sns.histplot(data=nums, bins=1000)\n",
    "print(\"Ready to graph!\")"
   ]
  },
  {
   "cell_type": "code",
   "execution_count": 3,
   "metadata": {},
   "outputs": [
    {
     "name": "stdout",
     "output_type": "stream",
     "text": [
      "39.014095797747515\n"
     ]
    },
    {
     "data": {
      "image/png": "[encoded data removed]",
      "text/plain": [
       "<Figure size 640x480 with 1 Axes>"
      ]
     },
     "metadata": {},
     "output_type": "display_data"
    }
   ],
   "source": [
    "# To use the function, put your formula into the function but as a string!\n",
    "# (write it like normal python code and just wrap it into quotes) \n",
    "\n",
    "# Ex: I want to see if random.random() * 50 might be the solution\n",
    "print(random.random() * 50)  # drawing a single number with your formula using proper python math\n",
    "show_histogram(\"random.random()  * 50\") # graphing the formula running the math 1000 times."
   ]
  },
  {
   "cell_type": "markdown",
   "metadata": {},
   "source": [
    "The graph shows only numbers from 0 to 50 instead of -100 to 100, so `random.random() * 50` is obviously not what you want. Change the formula so that the graph shows numbers from -100 to 100. \n",
    "\n",
    "Given the correct formula, the graph should look something like this: ![](histo.png)"
   ]
  },
  {
   "cell_type": "code",
   "execution_count": 31,
   "metadata": {
    "deletable": false,
    "nbgrader": {
     "cell_type": "code",
     "checksum": "9bc2eec15b54b0d58526f41785c9e388",
     "grade": true,
     "grade_id": "cell-ba3bbff6390ac534",
     "locked": false,
     "points": 0,
     "schema_version": 3,
     "solution": true,
     "task": false
    }
   },
   "outputs": [
    {
     "name": "stdout",
     "output_type": "stream",
     "text": [
      "-24.01439711886144\n"
     ]
    },
    {
     "data": {
      "image/png": "[encoded data removed]",
      "text/plain": [
       "<Figure size 640x480 with 1 Axes>"
      ]
     },
     "metadata": {},
     "output_type": "display_data"
    }
   ],
   "source": [
    "print(200 * random.random() - 100)\n",
    "show_histogram(\"200 * random.random() - 100\" ) # make sure to wrap your formula in double quotes!\n",
    "\n"
   ]
  },
  {
   "cell_type": "markdown",
   "metadata": {
    "deletable": false,
    "editable": false,
    "nbgrader": {
     "cell_type": "markdown",
     "checksum": "ec676e7fccdf52eb3846a58381e4e068",
     "grade": false,
     "grade_id": "p11q",
     "locked": true,
     "schema_version": 3,
     "solution": false
    }
   },
   "source": [
    "### Q10 [ +1 pt ] Artsy Time! Draw a \"random zig-zag\" path using turtle graphics \n",
    "\n",
    "- __Optional__: Draw some \"random zig-zag art\" using turtle graphics and include a screenshot.\n",
    "- I've given you a setup where the turtle starts in the center of the graphics window. \n",
    "- There's a for loop that repeats the indented lines 10 times (which you could change to 20 or 100 ...).\n",
    "\n",
    "<div>\n",
    "\n",
    "- Inside this loop, it will move to a random x/y position, thereby creating a valueable piece of modern zig-zag art! \n",
    "- All you have to do is to generate these 2 random numbers. \n",
    "- The numbers must vary between -300 and +300 in x and in y, i.e. -300 is the lowest and +300 the largest number that should ever be generated!  \n",
    "- if you have some programming experience, feel free to \"spice\" this up, e.g. change colors randomly. See the turtle documentation for more: https://docs.python.org/3/library/turtle.html\n",
    "\n",
    "    \n",
    "<div>\n",
    "\n",
    "- Save the result as a screenshot (jpg, png, etc.) in that same folder as this notebook.\n",
    "    \n",
    "<div>\n",
    "    \n",
    "- If killing the turtle window doesn't work, restart the kernel and run the cell again.\n",
    "\n",
    "<div>\n",
    "\n",
    "- If running the turtle in the notebook give you trouble, copy paste the code into this (stop and clear the code window first): https://trinket.io/turtle \n",
    "- Note that this runs Python 2 so you need to change your print(\"abc\") in print abc. The \n",
    "- Once it runs there, grab a screenshot of your browser and copy/paste your working code back in the grading cell\n"
   ]
  },
  {
   "cell_type": "code",
   "execution_count": 1,
   "metadata": {
    "deletable": false,
    "nbgrader": {
     "cell_type": "code",
     "checksum": "ce99a9cb4a2634f737f5f02c10723041",
     "grade": true,
     "grade_id": "p11",
     "locked": false,
     "points": 0,
     "schema_version": 3,
     "solution": true
    }
   },
   "outputs": [
    {
     "name": "stdout",
     "output_type": "stream",
     "text": [
      "0 : goto x/y -170 , 298\n",
      "1 : goto x/y -92 , 201\n",
      "2 : goto x/y 104 , -168\n",
      "3 : goto x/y -192 , -127\n",
      "4 : goto x/y 228 , 181\n",
      "5 : goto x/y 54 , 39\n",
      "6 : goto x/y 224 , 226\n",
      "7 : goto x/y -27 , 165\n",
      "8 : goto x/y -29 , 200\n",
      "9 : goto x/y -88 , 283\n",
      "10 : goto x/y -194 , 273\n",
      "11 : goto x/y -186 , -11\n",
      "12 : goto x/y -299 , 33\n",
      "13 : goto x/y -233 , -108\n",
      "14 : goto x/y 247 , -265\n",
      "15 : goto x/y -176 , 45\n",
      "16 : goto x/y 77 , -211\n",
      "17 : goto x/y 253 , 188\n",
      "18 : goto x/y -220 , 289\n",
      "19 : goto x/y 297 , 100\n",
      "20 : goto x/y -145 , -166\n",
      "21 : goto x/y 229 , 150\n",
      "22 : goto x/y 184 , -218\n",
      "23 : goto x/y 27 , 292\n",
      "24 : goto x/y -269 , 277\n",
      "25 : goto x/y -251 , -186\n",
      "26 : goto x/y -62 , 253\n",
      "27 : goto x/y -189 , -81\n",
      "28 : goto x/y -36 , -19\n",
      "29 : goto x/y 181 , -49\n",
      "did 30 random gotos\n"
     ]
    }
   ],
   "source": [
    "import random\n",
    "import turtle\n",
    "\n",
    "turtle.goto(0, 0)\n",
    "# Creates a turtle and opens the graphics window. Make sure the graphics window is not obscured\n",
    "# by any other window, it may not be able to draw when behind other windows.\n",
    "\n",
    "turtle.speed(5) # set to higher number (5) for higher speeds\n",
    "turtle.bgcolor(\"black\")\n",
    "\n",
    "# start of for loop: repeats the indented block 10 times ...\n",
    "for n in range(30): # ... once you got it to run use a larger number than 10 here (20, 50, 100, ...) and see what happens\n",
    "    \n",
    "    # make sure all lines below are indented with 4 spaces, like the following line!\n",
    "    print(n, end=' ') # end=\" \" means: put a space not the default newline at the end\n",
    "    colors = [\"blue\", \"red\", \"green\", \"purple\", \"orange\"]\n",
    "    random_color = random.choice(colors)\n",
    "    turtle.color(random_color)\n",
    "\n",
    "    # Make a random x and a random y coordinate (stay within the canvas boundaries!)\n",
    "    # You can use randint() or random()\n",
    "    random_coord_x = random.randint(-300, 300)\n",
    "    random_coord_y = random.randint(-300, 300)\n",
    "    \n",
    "    \n",
    "\n",
    "    # Make the turtle go to this random x/y coordinate\n",
    "    print(\": goto x/y\", random_coord_x, \",\", random_coord_y) # print coords\n",
    "    turtle.goto(random_coord_x, random_coord_y)\n",
    "\n",
    "# end of for loop - no indent\n",
    "print(\"did\", n+1, \"random gotos\") #  "
   ]
  },
  {
   "cell_type": "code",
   "execution_count": 21,
   "metadata": {},
   "outputs": [],
   "source": [
    "# exit turtle on Windows\n",
    "turtle.exitonclick()"
   ]
  },
  {
   "cell_type": "code",
   "execution_count": 11,
   "metadata": {},
   "outputs": [],
   "source": [
    "# exit turtle on Mac. Wait for a but then click the red x on the window\n",
    "turtle.mainloop()"
   ]
  }
 ],
 "metadata": {
  "kernelspec": {
   "display_name": "Python 3 (ipykernel)",
   "language": "python",
   "name": "python3"
  },
  "language_info": {
   "codemirror_mode": {
    "name": "ipython",
    "version": 3
   },
   "file_extension": ".py",
   "mimetype": "text/x-python",
   "name": "python",
   "nbconvert_exporter": "python",
   "pygments_lexer": "ipython3",
   "version": "3.10.11"
  },
  "varInspector": {
   "cols": {
    "lenName": 16,
    "lenType": 16,
    "lenVar": 40
   },
   "kernels_config": {
    "python": {
     "delete_cmd_postfix": "",
     "delete_cmd_prefix": "del ",
     "library": "var_list.py",
     "varRefreshCmd": "print(var_dic_list())"
    },
    "r": {
     "delete_cmd_postfix": ") ",
     "delete_cmd_prefix": "rm(",
     "library": "var_list.r",
     "varRefreshCmd": "cat(var_dic_list()) "
    }
   },
   "types_to_exclude": [
    "module",
    "function",
    "builtin_function_or_method",
    "instance",
    "_Feature"
   ],
   "window_display": false
  }
 },
 "nbformat": 4,
 "nbformat_minor": 1
}
