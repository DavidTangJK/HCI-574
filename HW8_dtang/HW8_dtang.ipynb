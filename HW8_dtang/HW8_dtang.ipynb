{
 "cells": [
  {
   "cell_type": "markdown",
   "metadata": {},
   "source": [
    "# HCI 574 General HW Instructions\n",
    "\n",
    "\n",
    "### Work through the problems\n",
    "- Answer the questions shown in the HW. Fix anything with ???. Answers to text questions should be given in a printed string, e.g.:  `print(\"This is the answer\")` or as a comment e.g. `# This is the answer`\n",
    "- Ensure that VSCode is set to autosve your notebook! In _Settings_ search for autosave and set it to 1000 ms.\n",
    "- It's fine to create new python cells if you want to try something without changing the offcial cell but please ensure that at the end there's only one cell with your official answer to the question and (__very impotant!__) that that cell as been run/executed so we can see its output. If you want to \"save\" your inofficial cell(s), make sure they are fully commented out!\n",
    "\n",
    "\n",
    "\n",
    "### Handing in the HW\n",
    "- Check that all other files the HW might have (screenshots, data files, etc.) are indeed in the correct HW folder.\n",
    "- Zip your HW folder folder (e.g. into HW1_ALemming.zip). On Windows you can Right-click -> Send To - Compress Folder. Please don't use rar or any other exotic compressors!\n",
    "- Zip your HW folder and hand it into Gradescope\n",
    "\n",
    "\n",
    "### Points\n",
    "\n",
    "The number of points a problem is worth when solved properly is always shown inside brackets at the heading of the problem, e.g.\n",
    "##### Q1 [ 3.5 pts]  This problem is worth 3.5 points\n",
    "\n",
    "Sometimes you may get additional extra credits if we feel your solution is particularly clever, etc. \n",
    "Some problem are entirely __optional__, these will have a + in from of the points, e.g.\n",
    "##### Q2 [ +1 pt ] This *optional* problem is worth 1 point\n",
    "\n",
    "You can solve these optional points to learn more or make up of points you missed in earlier HW. Note however, that there's a cap on the total HW points, if you have more than 100% of HW points the end of the semester, it will be reduced to 100%\n",
    "\n",
    "### Questions?\n",
    "If you have questions or need help, ask me after class, use Piazza or ask the TA during office hours  "
   ]
  },
  {
   "cell_type": "markdown",
   "metadata": {
    "deletable": false,
    "editable": false,
    "nbgrader": {
     "cell_type": "markdown",
     "checksum": "1ee036ae14ae01f9e781575f312b34b2",
     "grade": false,
     "grade_id": "intro",
     "locked": true,
     "schema_version": 3,
     "solution": false
    }
   },
   "source": [
    "# HCI574 HW8 - Object-oriented Programming -  class design\n",
    "- building on what we did during the OOP lectures, in this HW you will design a class using OOP principles\n",
    "- I have given you a base class called BasePoint.py to get you started"
   ]
  },
  {
   "cell_type": "markdown",
   "metadata": {
    "deletable": false,
    "editable": false,
    "nbgrader": {
     "cell_type": "markdown",
     "checksum": "7cbac337ae38e4996dd746be1df3b5b4",
     "grade": false,
     "grade_id": "cell-0f29be15dddf029b",
     "locked": true,
     "schema_version": 3,
     "solution": false,
     "task": false
    }
   },
   "source": [
    "### BasePoint class\n",
    "- BasePoint.py contains a rudimentary point class \n",
    "- It's very similar to the Point class I used during the lectures OOP2 and OOP3\n",
    "- Please look at `BasePoint.py` first!\n",
    "\n",
    "<p>\n",
    "\n",
    "- You're supposed to improve it, but you _cannot change BasePoint.py directly_\n",
    "- Instead, use OOP inheritance to subclass BasePoint and add/overload methods\n",
    "\n",
    "<p>\n",
    "    \n",
    "    \n",
    "- I use `from BasePoint import *` instead of `import BasePoint`, so I can call the class `Basepoint` instead of \n",
    "`Basepoint.Basepoint`\n",
    "- As in the lecture you will need to have a turtle window open. I suggest you drag it to one side of your display and make VS Code fill the other side. \n",
    "\n",
    "<p>\n",
    "\n",
    "- Finally, as this HW can be pretty complex, let me remind you that it might be better to copy/paste the code into a .py file and run the proper debugger on it. You will obviously have to import BasePoint as seen below and then copy/paste all class definitions as you develop them (as some are derived from others). Once your classes work, copy the code back into the notebook cells"
   ]
  },
  {
   "cell_type": "code",
   "execution_count": 20,
   "metadata": {},
   "outputs": [
    {
     "name": "stdout",
     "output_type": "stream",
     "text": [
      "Help on class BasePoint in module BasePoint:\n",
      "\n",
      "class BasePoint(builtins.object)\n",
      " |  BasePoint(x_coord=0, y_coord=0)\n",
      " |  \n",
      " |  A rudimentary point class\n",
      " |  \n",
      " |  Methods defined here:\n",
      " |  \n",
      " |  __add__(self, other_point)\n",
      " |      overloaded addition (+) operator\n",
      " |  \n",
      " |  __init__(self, x_coord=0, y_coord=0)\n",
      " |      Create instance from a x and a y coordinate\n",
      " |  \n",
      " |  __str__(self)\n",
      " |      return string with x and y coordinates ( for print() )\n",
      " |  \n",
      " |  draw(self, pen_size=3)\n",
      " |      Go to x/y location and make a dot of size pen_size\n",
      " |  \n",
      " |  get_xy(self)\n",
      " |  \n",
      " |  set_x(self, new_x)\n",
      " |  \n",
      " |  ----------------------------------------------------------------------\n",
      " |  Data descriptors defined here:\n",
      " |  \n",
      " |  __dict__\n",
      " |      dictionary for instance variables (if defined)\n",
      " |  \n",
      " |  __weakref__\n",
      " |      list of weak references to the object (if defined)\n",
      "\n",
      "x: 12, y: 34\n"
     ]
    }
   ],
   "source": [
    "import turtle\n",
    "screen = turtle.Screen()\n",
    "screen.setup(1000, 1000) # screen size in pixels\n",
    "\n",
    "from BasePoint import *\n",
    "help(BasePoint) # notice which methods are implemented and if they are overloding\n",
    "\n",
    "# Make an instance, print its coordinates and make it draw() itself\n",
    "bp = BasePoint(12, 34)\n",
    "print(bp)\n",
    "bp.draw()\n"
   ]
  },
  {
   "cell_type": "markdown",
   "metadata": {
    "deletable": false,
    "editable": false,
    "nbgrader": {
     "cell_type": "markdown",
     "checksum": "81146075cd287aa5c352113e07437c27",
     "grade": false,
     "grade_id": "q1t",
     "locked": true,
     "schema_version": 3,
     "solution": false
    }
   },
   "source": [
    "### Q1: Write a more complete Point Class [ 9 pts ]\n",
    "- Define a __subclass__ of BasePoint called __Point__ (2 pts)\n",
    "- You do not need to define or overload `__init__()`, BasePoint's init is suffcient and does not need to be improved, so you can use this:\n",
    "\n",
    "```py\n",
    "    def __init__(self, x_coord=0, y_coord=0): \n",
    "        self.x = x_coord\n",
    "        self.y = y_coord\n",
    "```\n",
    "\n",
    "<p>\n",
    "\n",
    "- Overload/add the following methods and operators\n",
    "- A test for each is given later\n",
    "\n",
    "<p>\n",
    "\n",
    "1) Access methods (1 pt each)\n",
    "- set_x()\n",
    "- set_y()\n",
    "- set_xy() (use 2 separate arguments, e.g.: `p.set_xy(45, 67)`\n",
    "- get_x()\n",
    "- get_y() \n",
    "    \n",
    "    \n",
    "2) Operator Overloading:\n",
    "- BasePoint already has a `__add__`() for point addition\n",
    "- Also overload the minus (-) operator (`__sub__`()) (2 pts) so this code would work: \n",
    "\n",
    "  `p = Point(1,1) - Point(2,2)` => p is x=-1 and y=-1 \n",
    "\n"
   ]
  },
  {
   "cell_type": "markdown",
   "metadata": {},
   "source": [
    "### Q2: optional overload == and add a distance method [  +1 pt  ]\n",
    "\n",
    "3) Optional: Overload the equal (==) operator (`__eq__()`) so that  p2 == p1 returns True if p1.x == p2.x and p1.y == p2.y, False otherwise. (0.5 pt)\n",
    "\n",
    "\n",
    "4) Optional:  add a `dist()` method that returns the 2D distance to a given point: \n",
    "`Point(0,0).dist(Point(3,3))` => 4.242 (0.5 pt)"
   ]
  },
  {
   "cell_type": "code",
   "execution_count": 2,
   "metadata": {
    "deletable": false,
    "nbgrader": {
     "cell_type": "code",
     "checksum": "8b1d5f0f70c173a94af28ac8ef246de3",
     "grade": true,
     "grade_id": "q1c",
     "locked": false,
     "points": 9,
     "schema_version": 3,
     "solution": true
    }
   },
   "outputs": [],
   "source": [
    "# Point class definition, derived from my BasePoint class\n",
    "import math\n",
    "class Point(BasePoint):\n",
    "\n",
    "    def __init__(self, x_coord=0, y_coord=0): \n",
    "        self.x = x_coord\n",
    "        self.y = y_coord\n",
    "    \n",
    "    #    \n",
    "    # Access methods\n",
    "    #\n",
    "    def set_x(self, new_x):\n",
    "        self.x = new_x\n",
    "\n",
    "    def set_y(self, new_y):\n",
    "        self.y = new_y\n",
    "\n",
    "    def set_xy(self, new_x, new_y):\n",
    "        self.x = new_x\n",
    "        self.y = new_y\n",
    "\n",
    "    def get_x(self):\n",
    "        return self.x\n",
    "    \n",
    "    def get_y(self):\n",
    "        return self.y\n",
    "\n",
    "    #\n",
    "    # Operator overloading:\n",
    "    #\n",
    "    def __add__(self, other_point):\n",
    "        \"overloaded addition (+) operator\"\n",
    "        added_x = self.x + other_point.x\n",
    "        added_y = self.y + other_point.y\n",
    "        added_pt = Point(added_x, added_y)\n",
    "        return added_pt\n",
    "    \n",
    "    def __sub__(self, other_point):\n",
    "        \"overloaded addition (-) operator\"\n",
    "        minus_x = self.x - other_point.x\n",
    "        minus_y = self.y - other_point.y\n",
    "        minus_pt = Point(minus_x, minus_y)\n",
    "        return minus_pt\n",
    "\n",
    "    def __eq__(self, other_point):\n",
    "        \"overloaded equal (==) operator\"\n",
    "        if(self.x == other_point.x and self.y == other_point.y):\n",
    "            return True\n",
    "        else:\n",
    "            return False\n",
    "        \n",
    "    def dist(self, other_point):\n",
    "        dif_x = (other_point.x - self.x) ** 2\n",
    "        dif_y = (other_point.y - self.y) ** 2\n",
    "        total_dif = math.sqrt(dif_x + dif_y)\n",
    "        return total_dif\n",
    "    \n",
    "\n",
    "    \n",
    "\n",
    "\n",
    "    \n",
    "\n",
    "\n",
    "    "
   ]
  },
  {
   "cell_type": "code",
   "execution_count": 7,
   "metadata": {},
   "outputs": [
    {
     "name": "stdout",
     "output_type": "stream",
     "text": [
      "[<class '__main__.Point'>, <class 'BasePoint.BasePoint'>, <class 'object'>]\n",
      "Help on class Point in module __main__:\n",
      "\n",
      "class Point(BasePoint.BasePoint)\n",
      " |  Point(x_coord=0, y_coord=0)\n",
      " |  \n",
      " |  Method resolution order:\n",
      " |      Point\n",
      " |      BasePoint.BasePoint\n",
      " |      builtins.object\n",
      " |  \n",
      " |  Methods defined here:\n",
      " |  \n",
      " |  __add__(self, other_point)\n",
      " |      overloaded addition (+) operator\n",
      " |  \n",
      " |  __eq__(self, other_point)\n",
      " |      overloaded equal (==) operator\n",
      " |  \n",
      " |  __init__(self, x_coord=0, y_coord=0)\n",
      " |      Create instance from a x and a y coordinate\n",
      " |  \n",
      " |  __sub__(self, other_point)\n",
      " |      overloaded addition (-) operator\n",
      " |  \n",
      " |  dist(self, other_point)\n",
      " |  \n",
      " |  get_x(self)\n",
      " |  \n",
      " |  get_y(self)\n",
      " |  \n",
      " |  set_x(self, new_x)\n",
      " |      # Access methods\n",
      " |  \n",
      " |  set_xy(self, new_x, new_y)\n",
      " |  \n",
      " |  set_y(self, new_y)\n",
      " |  \n",
      " |  ----------------------------------------------------------------------\n",
      " |  Data and other attributes defined here:\n",
      " |  \n",
      " |  __hash__ = None\n",
      " |  \n",
      " |  ----------------------------------------------------------------------\n",
      " |  Methods inherited from BasePoint.BasePoint:\n",
      " |  \n",
      " |  __str__(self)\n",
      " |      return string with x and y coordinates ( for print() )\n",
      " |  \n",
      " |  draw(self, pen_size=3)\n",
      " |      Go to x/y location and make a dot of size pen_size\n",
      " |  \n",
      " |  get_xy(self)\n",
      " |  \n",
      " |  ----------------------------------------------------------------------\n",
      " |  Data descriptors inherited from BasePoint.BasePoint:\n",
      " |  \n",
      " |  __dict__\n",
      " |      dictionary for instance variables (if defined)\n",
      " |  \n",
      " |  __weakref__\n",
      " |      list of weak references to the object (if defined)\n",
      "\n"
     ]
    }
   ],
   "source": [
    "# path of inheritance: should show Point, BasePoint, object\n",
    "print(Point.mro())\n",
    "\n",
    "# help should list all your Point methods (+ others that it inherited from its base classes)\n",
    "help(Point)"
   ]
  },
  {
   "cell_type": "markdown",
   "metadata": {},
   "source": [
    "### Test cells for you Point class\n",
    "\n",
    "- the following cells contain tests for your Point class, make sure that the x/y values of p match the values I show at the end of the print()s"
   ]
  },
  {
   "cell_type": "code",
   "execution_count": 4,
   "metadata": {},
   "outputs": [
    {
     "name": "stdout",
     "output_type": "stream",
     "text": [
      "x: -99, y: 34 x: -99, y: 34\n",
      "(-99, 34) (-99, 34)\n"
     ]
    }
   ],
   "source": [
    "# test for get_xy() and set_x()\n",
    "p = Point(12, 34)\n",
    "p.set_x(-99)\n",
    "print(p, \"x: -99, y: 34\")   \n",
    "print(p.get_xy(), \"(-99, 34)\")  # "
   ]
  },
  {
   "cell_type": "code",
   "execution_count": 27,
   "metadata": {},
   "outputs": [
    {
     "name": "stdout",
     "output_type": "stream",
     "text": [
      "x: 12, y: -99 x: 12, y: -99\n"
     ]
    }
   ],
   "source": [
    "# test for set_y()   \n",
    "p = Point(12, 34)\n",
    "p.set_y(-99)\n",
    "print(p, \"x: 12, y: -99\")    "
   ]
  },
  {
   "cell_type": "code",
   "execution_count": 28,
   "metadata": {},
   "outputs": [
    {
     "name": "stdout",
     "output_type": "stream",
     "text": [
      "x: 56, y: 78 x: 56, y: 78\n"
     ]
    }
   ],
   "source": [
    "# test for set_xy()  \n",
    "p = Point(12, 34)\n",
    "p.set_xy(56, 78)\n",
    "print(p, \"x: 56, y: 78\")    "
   ]
  },
  {
   "cell_type": "code",
   "execution_count": 29,
   "metadata": {},
   "outputs": [
    {
     "name": "stdout",
     "output_type": "stream",
     "text": [
      "12 12\n"
     ]
    }
   ],
   "source": [
    "# test for get_x()  \n",
    "p = Point(12, 34)\n",
    "print(p.get_x(), \"12\") # 12"
   ]
  },
  {
   "cell_type": "code",
   "execution_count": 8,
   "metadata": {},
   "outputs": [
    {
     "name": "stdout",
     "output_type": "stream",
     "text": [
      "34 34\n"
     ]
    }
   ],
   "source": [
    "# test for get_y()  \n",
    "p = Point(12, 34)\n",
    "print(p.get_y(), \"34\") # 34"
   ]
  },
  {
   "cell_type": "code",
   "execution_count": 9,
   "metadata": {},
   "outputs": [
    {
     "name": "stdout",
     "output_type": "stream",
     "text": [
      "x: 5, y: 10 x: 5, y: 10\n"
     ]
    }
   ],
   "source": [
    "# Test for overloaded minus (optional)    \n",
    "p1 = Point(10, 20)\n",
    "p2 = Point(5, 10)\n",
    "d = p1 - p2\n",
    "print(d, \"x: 5, y: 10\")  # x: 5, y: 10"
   ]
  },
  {
   "cell_type": "markdown",
   "metadata": {},
   "source": [
    "- the following tests are for optional parts (3 and 4), skip them if you didn't implement them\n"
   ]
  },
  {
   "cell_type": "code",
   "execution_count": 9,
   "metadata": {},
   "outputs": [
    {
     "name": "stdout",
     "output_type": "stream",
     "text": [
      "p1 == p2 False False\n",
      "p1 == p3 True True\n"
     ]
    }
   ],
   "source": [
    "# Test for overloaded == (optional)\n",
    "p1 = Point(10, 20)\n",
    "p2 = Point(5, 10)\n",
    "p3 = Point(10,20)\n",
    "\n",
    "print(\"p1 == p2\", p1 == p2, False) # False\n",
    "print(\"p1 == p3\", p1 == p3, True)  # True"
   ]
  },
  {
   "cell_type": "code",
   "execution_count": 10,
   "metadata": {},
   "outputs": [
    {
     "name": "stdout",
     "output_type": "stream",
     "text": [
      "11.180339887498949 11.180339887498949\n",
      "11.180339887498949 11.180339887498949\n",
      "0.0 0\n"
     ]
    }
   ],
   "source": [
    "# Tests for dist (optional)\n",
    "import math\n",
    "print(p1.dist(p2), 11.180339887498949)  # 11.180339887498949\n",
    "print(p2.dist(p1), 11.180339887498949)  # 11.180339887498949\n",
    "print(p1.dist(p1), 0)  # 0\n"
   ]
  },
  {
   "cell_type": "markdown",
   "metadata": {},
   "source": [
    "- this cell just tests if you can draw 3 points, should line up like a diagonal"
   ]
  },
  {
   "cell_type": "code",
   "execution_count": 3,
   "metadata": {},
   "outputs": [],
   "source": [
    "# test for draw()\n",
    "turtle.clear()\n",
    "p = Point(0, 0)\n",
    "p.draw()\n",
    "\n",
    "p1 = Point(-50, -50)\n",
    "p1.draw()\n",
    "\n",
    "p2 = Point(50, 50)\n",
    "p2.draw()"
   ]
  },
  {
   "cell_type": "markdown",
   "metadata": {
    "deletable": false,
    "editable": false,
    "nbgrader": {
     "cell_type": "markdown",
     "checksum": "10054da3a527785ec384f63e166b455a",
     "grade": false,
     "grade_id": "Polgon_desc",
     "locked": true,
     "schema_version": 3,
     "solution": false
    }
   },
   "source": [
    "### Polygon Class\n",
    "\n",
    "- Below is the def for a Polygon class (very similar to the one from lecture OOP3)\n",
    "- ___There's nothing for you to do here (other than to run the cell so we can use this class later!)___, unless you want to implement the optional part.\n",
    "\n",
    "\n",
    "### Q3: Optional: implement and test a Polygon length() method  [ +1 pt ]\n",
    "\n",
    "- provide a length() method for the Polygon class that returns the total length of the polygon's outline by summing up the distances from each point to the next, including the distance from the last point back to first point.\n",
    "    \n",
    "- For example for a 3 point polygon `poly = Poly(p1, p2, p3)`, `poly.length()` should return distance from p1 to p2 plus the distance from  p2 to p3 plus the distance from p3 to p1.  \n",
    "\n",
    "- You could use the Point to Point distance method dist() from above if you implemented it or you can do the math here instead."
   ]
  },
  {
   "cell_type": "code",
   "execution_count": 4,
   "metadata": {
    "deletable": false,
    "nbgrader": {
     "cell_type": "code",
     "checksum": "772a853dee3a17483a2b8cb9ee2a34e3",
     "grade": true,
     "grade_id": "Polgon_code",
     "locked": false,
     "points": 0,
     "schema_version": 3,
     "solution": true
    }
   },
   "outputs": [],
   "source": [
    "# Polygon class - a sequence of Point objects\n",
    "class Polygon(object): \n",
    "    '''Polygon class'''\n",
    "    \n",
    "    def __init__(self, points=[]): # init with list of points\n",
    "        self.point_list = points[:] # make a copy\n",
    "\n",
    "    def __str__(self):\n",
    "        '''str overload'''\n",
    "        retstr = \"\" # info on ALL points\n",
    "        for i,p in enumerate(self.point_list):\n",
    "            retstr += str(i) + \": \" + str(p) + \"\\n\" # str(p) will use p.__str__()\n",
    "        return retstr\n",
    "        \n",
    "    def draw(self, line_width=2, fill_color=\"orange\", draw_points=False, pen_size=10): \n",
    "        '''Draw a filled polygon with a border and optional dots'''\n",
    "        old_pen_size = turtle.pensize() # store pensize\n",
    "        old_fill_color = turtle.fillcolor() # and fill color\n",
    "        turtle.pensize(line_width)\n",
    "        turtle.color(\"black\", fill_color) # black pen color\n",
    "        turtle.goto(self.point_list[-1].get_xy()) #start drawing at last point to draw line from last to first point\n",
    "        turtle.pendown()\n",
    "        \n",
    "        turtle.begin_fill()\n",
    "        for p in self.point_list:\n",
    "            x,y  = p.get_xy()\n",
    "            turtle.goto(x,y)\n",
    "        turtle.end_fill()\n",
    "        \n",
    "        # restore old settings\n",
    "        turtle.pensize(old_pen_size) \n",
    "        turtle.fillcolor(old_fill_color)\n",
    "        turtle.penup()\n",
    "        \n",
    "        # overplot with dots?\n",
    "        if draw_points == True:\n",
    "            for p in self.point_list: \n",
    "                p.draw(pen_size) # tells that Point to draw itself\n",
    "\n",
    "    def length(self):\n",
    "        total_dist = self.point_list[0].dist(self.point_list[1]) + self.point_list[1].dist(self.point_list[2]) + self.point_list[2].dist(self.point_list[0])\n",
    "        return total_dist\n",
    "    \n",
    "\n",
    "    \n"
   ]
  },
  {
   "cell_type": "markdown",
   "metadata": {},
   "source": [
    "#### Tests for creating, printing and drawing a polygon, again make sure these all work!"
   ]
  },
  {
   "cell_type": "code",
   "execution_count": 5,
   "metadata": {},
   "outputs": [
    {
     "name": "stdout",
     "output_type": "stream",
     "text": [
      "0: x: 0, y: 0\n",
      "1: x: 200, y: 0\n",
      "2: x: 100, y: 200\n",
      "\n"
     ]
    }
   ],
   "source": [
    "# make a polygon (triangle) from 3 points\n",
    "p1 = Point(0, 0)\n",
    "p2 = Point(200, 0)\n",
    "p3 = Point(100, 200)\n",
    "\n",
    "poly = Polygon([p1, p2, p3])\n",
    "print(poly)"
   ]
  },
  {
   "cell_type": "code",
   "execution_count": 22,
   "metadata": {},
   "outputs": [],
   "source": [
    "# draw test (note: if the fill is weird, run it again ...)\n",
    "# make a screenshot of the graph and save it as polygon.png in your HW8 folder\n",
    "turtle.clear() \n",
    "poly.draw(draw_points=True)"
   ]
  },
  {
   "cell_type": "code",
   "execution_count": 15,
   "metadata": {},
   "outputs": [
    {
     "name": "stdout",
     "output_type": "stream",
     "text": [
      "647.2135954999579\n"
     ]
    }
   ],
   "source": [
    "# Test for optional polyon length (skip this if you didn't implement length())\n",
    "print(poly.length())  # should be 647.2135954999579"
   ]
  },
  {
   "cell_type": "markdown",
   "metadata": {
    "deletable": false,
    "editable": false,
    "nbgrader": {
     "cell_type": "markdown",
     "checksum": "d3da3438eb8ca04ac58141a37103fe47",
     "grade": false,
     "grade_id": "q2t",
     "locked": true,
     "schema_version": 3,
     "solution": false,
     "task": false
    }
   },
   "source": [
    "### Q4: Rectangle class [ 9 pts ]\n",
    "\n",
    "- Define a Rectangle class as a __subclass (a specialization)__ of the Polygon class (i.e. with Polygon as its base class).\n",
    "- This is similar to my subclassing of Square from Polygon in lecture 29, which you should follow closely. \n",
    "\n",
    "\n",
    "- This time, you __will__ need to define (overwrite) `__init__`! (8 pts)\n",
    "- `__init__()` arguments need to be: \n",
    "    - the rectangle's lower left corner point\n",
    "    - the rectangle's width \n",
    "    - the rectangle's height.\n",
    "\n",
    "\n",
    "- Note that in your `__init__` you also will have to run the  `__init__()` method of the __Polygon class(!)__ (`Polygon.__init__`) to initilize your base class with appropriate args. (Again, look at how that worked in lecture 29)\n",
    "    \n",
    "    \n",
    "- With these args, it needs to be possible to construct a rectangle from a Point (the to-be lower left corner) and 2 numbers (its width and height), like this:\n",
    "```\n",
    "lowerleft_corner = Point(-50,-50)\n",
    "rt = Rectangle(lowerleft_corner, width=100, height=300)\n",
    "```\n",
    "\n",
    "\n",
    "- add a method `area()` that returns the area of the rectangle (1 pt)\n",
    "\n",
    "- __Important__: do NOT overload the draw() method!!!\n"
   ]
  },
  {
   "cell_type": "code",
   "execution_count": 16,
   "metadata": {
    "deletable": false,
    "nbgrader": {
     "cell_type": "code",
     "checksum": "08d708d009055d2f87c7afb8d2842ea3",
     "grade": true,
     "grade_id": "q2c",
     "locked": false,
     "points": 9,
     "schema_version": 3,
     "solution": true
    }
   },
   "outputs": [],
   "source": [
    "# Rectangle Class\n",
    "class Rectangle(Polygon):\n",
    "    \n",
    "    def __init__(self, lower_left_corner=Point(0,0), width=0, height=0):\n",
    "        go_right = Point(width, 0) # increase only x\n",
    "        go_up = Point(0, height)\n",
    "\n",
    "        lwr_lt = lower_left_corner \n",
    "        lwr_rt = lwr_lt + go_right # lower right\n",
    "        upr_rt = lwr_rt + go_up    # upper right\n",
    "        upr_lt = lwr_lt + go_up    # upper left\n",
    "\n",
    "        plst = [lwr_lt,  # square's lower-left corner coordinate\n",
    "                lwr_rt,  # lower-right corner\n",
    "                upr_rt,  # upper-right corner\n",
    "                upr_lt]\n",
    "        \n",
    "        plst[0].draw()\n",
    "        plst[1].draw()\n",
    "        plst[2].draw()\n",
    "        plst[3].draw()\n",
    "\n",
    "        Polygon.__init__(self, # address of our Square instance \n",
    "                         plst)\n",
    "    \n",
    "    def area(self):\n",
    "\n",
    "        return (self.point_list[1].get_x() - self.point_list[0].get_x()) * (self.point_list[2].get_y() - self.point_list[1].get_y())\n"
   ]
  },
  {
   "cell_type": "code",
   "execution_count": 21,
   "metadata": {},
   "outputs": [
    {
     "name": "stdout",
     "output_type": "stream",
     "text": [
      "0: x: -50, y: -50\n",
      "1: x: 50, y: -50\n",
      "2: x: 50, y: 250\n",
      "3: x: -50, y: 250\n",
      "\n",
      "30000 30000\n"
     ]
    }
   ],
   "source": [
    "# constructor test \n",
    "rt = Rectangle(Point(-50,-50), width=100, height=300)\n",
    "print(rt) # 0: x: -50, y: -50\n",
    "          # 1: x: 50, y: -50\n",
    "          # 2: x: 50, y: 250\n",
    "          # 3: x: -50, y: 250\n",
    "\n",
    "print(rt.area(), \"30000\") "
   ]
  },
  {
   "cell_type": "code",
   "execution_count": null,
   "metadata": {},
   "outputs": [],
   "source": [
    "# draw test  \n",
    "# make a screenshot of the graph and save it as rectangle.png in your HW8 folder\n",
    "turtle.clear()\n",
    "rt.draw(draw_points=True)"
   ]
  },
  {
   "cell_type": "markdown",
   "metadata": {
    "deletable": false,
    "editable": false,
    "nbgrader": {
     "cell_type": "markdown",
     "checksum": "d56520df03d6b9b9088143d37abe5834",
     "grade": false,
     "grade_id": "q4t",
     "locked": true,
     "schema_version": 3,
     "solution": false
    }
   },
   "source": [
    "### Q5:  How can a rectangle draw itself w/o having defined a draw() method in its class def? [ 1 pt ]\n",
    "- type in your answer in the code cell below as a comment block"
   ]
  },
  {
   "cell_type": "code",
   "execution_count": 19,
   "metadata": {
    "deletable": false,
    "nbgrader": {
     "cell_type": "code",
     "checksum": "e357a196473802d46bbe14f23fb52c17",
     "grade": true,
     "grade_id": "q4c",
     "locked": false,
     "points": 1,
     "schema_version": 3,
     "solution": true
    }
   },
   "outputs": [],
   "source": [
    "# How can a rectangle draw itself w/o having defined a draw() method? (1 pt)\n",
    "# \n",
    "# The draw method is already defined in the polygon class, \n",
    "# and the rectangle class copy the methods of the polygon into the rectangle.\n",
    "\n"
   ]
  },
  {
   "cell_type": "markdown",
   "metadata": {
    "deletable": false,
    "editable": false,
    "nbgrader": {
     "cell_type": "markdown",
     "checksum": "d0a3350f9719d0b00a6a923102c910c4",
     "grade": false,
     "grade_id": "q5t",
     "locked": true,
     "schema_version": 3,
     "solution": false
    }
   },
   "source": [
    "###  Q6: Composition and Inheritance [ 2 pts ]\n",
    "\n",
    "\n",
    "- Composition: Which of the classes here is composed of other objects? [1 pt]\n",
    "- True/False:  The Point Class is derived from the Polygon class [1 pt]\n"
   ]
  },
  {
   "cell_type": "code",
   "execution_count": null,
   "metadata": {
    "deletable": false,
    "nbgrader": {
     "cell_type": "code",
     "checksum": "8625441091334147eecdeaa66d8810b7",
     "grade": true,
     "grade_id": "q5c",
     "locked": false,
     "points": 2,
     "schema_version": 3,
     "solution": true
    }
   },
   "outputs": [],
   "source": [
    "# Composition: Which of the classes here is composed of other objects? [1 pt]\n",
    "# The classes here composed of other objects are:\n",
    "# Rectangle Class, Polygon Class, Point Class\n",
    "#\n",
    "\n",
    "# True/False: The Point Class is derived from the Polygon class [1 pt]\n",
    "# False, the Point Class is derived from the BasePoint class\n",
    "#\n",
    "\n",
    "\n"
   ]
  },
  {
   "cell_type": "markdown",
   "metadata": {
    "deletable": false,
    "editable": false,
    "nbgrader": {
     "cell_type": "markdown",
     "checksum": "794efa754b069e2b27ef632d76798bab",
     "grade": false,
     "grade_id": "q3t",
     "locked": true,
     "schema_version": 3,
     "solution": false
    }
   },
   "source": [
    "###  Q7: Optional: ArtzyRectangle class [ +3 pt ]\n",
    "\n",
    "Create a  new subclass of Rectangle called ArtzyRectangle. (Well ... it's really a random rectangle but I'll call that artistic :)\n",
    "\n",
    "- Its constructor must have NO args:` ar = ArtzyRectangle()` \n",
    "- Instead, make it so it randomly chooses a position and sizes for itself during init\n",
    "- The canvas size will be 300 x 300  and the lower left corner of your rectangles should fall into these ranges. However some parts of your rectangles could be partially drawn outside the canvas. \n",
    "\n",
    "<p>\n",
    "\n",
    "- Overwrite the draw() method so that it randomly varies some visual aspect of the rectangle.\n",
    "- This could be: random line widths, random line and fill colors, have a 50% chance of using fill, etc. Consult the [Turtle documentation](https://docs.python.org/3/library/turtle.html) for more on drawing properties. \n",
    "- you should overwrite the draw() method. In it, you could call the Rectangle draw() method and feed it random plot parameter values. Or you could do something else entirely, go ham!\n",
    "\n",
    "<p>    \n",
    "    \n",
    "- When done, run a loop to draw a couple of your new rectangles on top of each other (at least 5). Make a screenshot of your artwork and put it into your HW8 folder as artzy.png (or jpg or whatever)\n",
    "\n",
    "<p>\n",
    "    \n",
    "<img src=\"Randrian.png\" alt=\"Drawing\" style=\"width: 400px; float: left;\"/>\n"
   ]
  },
  {
   "cell_type": "code",
   "execution_count": null,
   "metadata": {
    "deletable": false,
    "nbgrader": {
     "cell_type": "code",
     "checksum": "afe0fbe1db4ab01988a7d0f1ad26cb6c",
     "grade": true,
     "grade_id": "q3c",
     "locked": false,
     "points": 0,
     "schema_version": 3,
     "solution": true
    }
   },
   "outputs": [],
   "source": [
    "# ArtzyRectangle class  (subclass of Rectangle)\n"
   ]
  },
  {
   "cell_type": "code",
   "execution_count": null,
   "metadata": {},
   "outputs": [],
   "source": [
    "# draw 10 ArtzyRectangles\n",
    "turtle.clear()\n",
    "\n",
    "for i in range(0, 10):\n",
    "    ar = ArtzyRectangle()\n",
    "    ar.draw()"
   ]
  }
 ],
 "metadata": {
  "kernelspec": {
   "display_name": "Python 3 (ipykernel)",
   "language": "python",
   "name": "python3"
  },
  "language_info": {
   "codemirror_mode": {
    "name": "ipython",
    "version": 3
   },
   "file_extension": ".py",
   "mimetype": "text/x-python",
   "name": "python",
   "nbconvert_exporter": "python",
   "pygments_lexer": "ipython3",
   "version": "3.10.11"
  },
  "varInspector": {
   "cols": {
    "lenName": 16,
    "lenType": 16,
    "lenVar": 40
   },
   "kernels_config": {
    "python": {
     "delete_cmd_postfix": "",
     "delete_cmd_prefix": "del ",
     "library": "var_list.py",
     "varRefreshCmd": "print(var_dic_list())"
    },
    "r": {
     "delete_cmd_postfix": ") ",
     "delete_cmd_prefix": "rm(",
     "library": "var_list.r",
     "varRefreshCmd": "cat(var_dic_list()) "
    }
   },
   "types_to_exclude": [
    "module",
    "function",
    "builtin_function_or_method",
    "instance",
    "_Feature"
   ],
   "window_display": false
  }
 },
 "nbformat": 4,
 "nbformat_minor": 2
}
