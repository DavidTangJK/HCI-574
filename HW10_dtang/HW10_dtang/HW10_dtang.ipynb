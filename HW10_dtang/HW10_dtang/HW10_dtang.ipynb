{
 "cells": [
  {
   "cell_type": "markdown",
   "metadata": {},
   "source": [
    "### HCI 574 - HW 10"
   ]
  },
  {
   "cell_type": "markdown",
   "metadata": {},
   "source": [
    "PLease make sure to first read the HW10 instructions on Canvas! The stes below are just recaps of the more detailed instructions, primarily to give you a in-code roadmap."
   ]
  },
  {
   "cell_type": "code",
   "execution_count": null,
   "metadata": {},
   "outputs": [],
   "source": [
    "# Steps for the TKinter version\n",
    "\n",
    "# 1) Search term entry\n",
    "# Look at the text editor code at the end of lecture 31\n",
    "# re-use the Label and the (text) Entry widget \n",
    "# add a Run search button that will run your processing method\n",
    "# and/or bind() the Return key into the Entry widget to run your processing method  \n",
    "# use the grid geometry manager to put them into your first row\n",
    "# re-use the code for creating a ScrolledText widget \n",
    "# you will use insert() in your processing method later to display the results\n",
    "\n",
    "# 2) Scrape google news for the RSS feed\n",
    "# This has to be done in your processing method \n",
    "# Look at lecture 38 for how to: \n",
    "# a) assemble the URL for your search\n",
    "# b) use requests to download the RSS document \n",
    "# c) use feedparser to create a list of entries (RSS item tags)\n",
    "\n",
    "# 3) output the results\n",
    "# loop over your list of entries, optionally keep a counter for the running number\n",
    "# pull out date/time, title and link URL \n",
    "# starting with the optional running number, glue all that together into a single string with a \\n at the end\n",
    "# in your Text widget use insert(END, <your string>) to print out each line\n"
   ]
  },
  {
   "cell_type": "code",
   "execution_count": 1,
   "metadata": {},
   "outputs": [],
   "source": [
    "# Steps for the Web app\n",
    "\n",
    "# 1) Search term entry\n",
    "# look at lecture 36 to generate a HTML file with a form tag that contains \n",
    "#   a text input (for the search term) \n",
    "#   a submit input (to trigger the search\n",
    "# You can do this via constructing a string with the HTML inside or via a template \n",
    "# if you use a template, you won't need any of the {{ }} Jinja inlining stuff I used in the lecture\n",
    "# Write a Flask server with two routes\n",
    "# a) an main route, which will serve up your HTML (string or file) that contains the form tag\n",
    "# b) a results route that will display your running number, date/time, title and link for the requested RSS feed\n",
    "# Ensure that action property in your form tag points to this route \n",
    "# E.g. if the route is called results in Python, use action=\"/result/\" in HTML\n",
    "\n",
    "# 2) Scrape google news for the RSS feed\n",
    "# This has to be done in your results route\n",
    "# your will get the search term with request.args[\"URL\"], assuming you used name=\"URL\" in your text input tag \n",
    "# Look at lecture 38 for how to: \n",
    "# a) assemble the URL for your search\n",
    "# b) use requests to download the RSS document \n",
    "# c) use feedparser to create a list of entries (RSS item tags)\n",
    "\n",
    "# 3) output the results\n",
    "# loop over your list of entries, optional keep a counter for the running number\n",
    "# pull out date/time, title and link URL \n",
    "# from these create and anchor tag \n",
    "# html_code_for_item = \"{:s} <a href={:s}> {:s} </a><br>\".format(date, URL, title)\n",
    "# or \"{:d}: {:s} <a href={:s}> {:s} </a><br>\".format(n, date, URL, title) if you use a running number n\n",
    "# glue all html_code_for_item strings together into a single string\n",
    "# In your results route, return this single string to show it in the browser\n",
    "# Optional: you could create a proper HTML page (see beginning of lecture 35) and use your single string inside the body tag\n",
    "# or you could create another template html file and use {{ my_result_string }} to inline it in the body tag "
   ]
  },
  {
   "cell_type": "code",
   "execution_count": null,
   "metadata": {},
   "outputs": [],
   "source": [
    "'''This app is hosted on pythonanywhere, feel free to visit it at this link: https://dtang.pythonanywhere.com/'''"
   ]
  },
  {
   "cell_type": "code",
   "execution_count": null,
   "metadata": {},
   "outputs": [],
   "source": [
    "''' Package installs and imports, uncomment to run installs if needed'''\n",
    "'''\n",
    "%pip install requests\n",
    "%pip install bs4\n",
    "%pip install Flask\n",
    "%pip install feedparser\n",
    "'''\n",
    "\n",
    "from urllib.parse import urlencode\n",
    "from flask import Flask, request, render_template\n",
    "import random\n",
    "import string\n",
    "import requests\n",
    "import feedparser\n",
    "import requests \n",
    "import bs4 \n"
   ]
  },
  {
   "cell_type": "code",
   "execution_count": 51,
   "metadata": {},
   "outputs": [
    {
     "name": "stdout",
     "output_type": "stream",
     "text": [
      " * Serving Flask app 'RSS Search Engine'\n",
      " * Debug mode: off\n"
     ]
    },
    {
     "name": "stderr",
     "output_type": "stream",
     "text": [
      "WARNING: This is a development server. Do not use it in a production deployment. Use a production WSGI server instead.\n",
      " * Running on http://127.0.0.1:8080\n",
      "Press CTRL+C to quit\n",
      "127.0.0.1 - - [06/May/2024 12:31:15] \"GET / HTTP/1.1\" 200 -\n",
      "127.0.0.1 - - [06/May/2024 12:31:15] \"GET /static/styles.css HTTP/1.1\" 200 -\n"
     ]
    },
    {
     "name": "stdout",
     "output_type": "stream",
     "text": [
      "Searching RSS news based on monty python\n",
      "query: https://news.google.com/rss/search?q=monty+python\n"
     ]
    },
    {
     "name": "stderr",
     "output_type": "stream",
     "text": [
      "127.0.0.1 - - [06/May/2024 12:31:20] \"GET /result/?search_term=monty+python HTTP/1.1\" 200 -\n",
      "127.0.0.1 - - [06/May/2024 12:31:20] \"GET /static/styles.css HTTP/1.1\" 304 -\n"
     ]
    }
   ],
   "source": [
    "app = Flask(\"RSS Search Engine\")\n",
    "\n",
    "@app.route(\"/\")  \n",
    "def main_page():\n",
    "    html_str = render_template('index.html', title=\"RSS Search Engine\") # title will be inlined in {{ title }}\n",
    "    return html_str  # give it to the browser to display the inline page\n",
    "\n",
    "\n",
    "def get_links(anchors_tags):\n",
    "    links = []\n",
    "    for a in anchors_tags:\n",
    "        l = a.get('href')\n",
    "        if l != None and l.startswith(\"http\"): # only collect external (internet) links\n",
    "            links.append(str(l))    # convert to string and append to list\n",
    "    return links\n",
    "\n",
    "''' Get method triggered by form to perform '''\n",
    "@app.route('/result/', methods=[\"GET\"])\n",
    "def result_page():\n",
    "    \n",
    "    '''Get search term from form using request.args'''\n",
    "    search_term = request.args[\"search_term\"]\n",
    "    print(\"Searching RSS news based on\", search_term)\n",
    "    \n",
    "    \n",
    "    base_url = \"https://news.google.com/rss/search\"\n",
    "    query_params = {\n",
    "        'q': search_term\n",
    "    }\n",
    "\n",
    "    '''put base url and search term together to get ready to get rss feed data'''\n",
    "    rss_feed_url = f\"{base_url}?{urlencode(query_params)}\"\n",
    "    print(\"query:\", rss_feed_url)\n",
    "\n",
    "    '''Return a moderately long string with jumbled letters to spoof google news'''\n",
    "    def random_name():\n",
    "        name_list = []\n",
    "        length = random.randint(5, 12)\n",
    "        for i in range(0, length):\n",
    "            name_list.append(random.choice(string.ascii_letters))\n",
    "        return \"\".join(name_list)\n",
    "    \n",
    "    '''Function to retrieve rss feeds based on the rss feed url given'''\n",
    "    def get_rss_feeds():\n",
    "        r = requests.get(rss_feed_url, headers={'User-agent': random_name()})\n",
    "        r.raise_for_status()\n",
    "\n",
    "        f = feedparser.parse(r.text) # parse into a dictionary\n",
    "        list_of_entries = f.entries\n",
    "        return list_of_entries\n",
    "    \n",
    "    '''Code to parse data from rss feed into a long string'''\n",
    "    entries_string = \"\"\n",
    "    for num_item, item in enumerate(get_rss_feeds()): \n",
    "        entries_string = entries_string + str(num_item+1) + \" \" + item[\"updated\"] + \" \" + \"<a href=\\\"\" + item[\"link\"] + \"\\\"> \" + item[\"title\"] + \" </a><br>\"\n",
    "        \n",
    "\n",
    "    '''HTML structure to output the results from RSS Search Results'''\n",
    "    html = \"\"\"\n",
    "        <html>\n",
    "          <head>\n",
    "            <link rel=\"stylesheet\" href=\"/static/styles.css\"/>\n",
    "          </head>  \n",
    "          <body>\n",
    "            <h1>RSS news results for \"\"\" + search_term + \"\"\"</h1>\n",
    "            <div class=\"search-form\">\n",
    "            <form action=\"/\" method=\"get\">\n",
    "              <input type=\"submit\" value=\"Back to Main Page\"> \n",
    "            </form></div><h3>\"\"\" + entries_string + \"\"\"</h3>\n",
    "            \n",
    "          </body>\n",
    "        </html>\"\"\"\n",
    "    return html # show finished web page\n",
    "\n",
    "''' error handling if needed'''\n",
    "@app.errorhandler(500)\n",
    "def page_not_found(error):\n",
    "    print(error) \n",
    "    s = \"Error with \" + str(request.args[\"URL\"]) + \"<br>\" + str(error)   \n",
    "    s = s + \"<br>Hit the Back button and try something else ...)\"\n",
    "    return s\n",
    "\n",
    "\"\"\"code to start server\"\"\"\n",
    "from socket import gethostname\n",
    "if 'liveweb' not in gethostname(): # all pythonanywhere servers have liveweb in their name\n",
    "    app.run(debug=False, port=8080)\n",
    "# http://127.0.0.1:8080/"
   ]
  }
 ],
 "metadata": {
  "kernelspec": {
   "display_name": "Python 3 (ipykernel)",
   "language": "python",
   "name": "python3"
  },
  "language_info": {
   "codemirror_mode": {
    "name": "ipython",
    "version": 3
   },
   "file_extension": ".py",
   "mimetype": "text/x-python",
   "name": "python",
   "nbconvert_exporter": "python",
   "pygments_lexer": "ipython3",
   "version": "3.10.11"
  }
 },
 "nbformat": 4,
 "nbformat_minor": 2
}
