{
 "cells": [
  {
   "cell_type": "markdown",
   "metadata": {},
   "source": [
    "### HCI 574 - HW 10"
   ]
  },
  {
   "cell_type": "markdown",
   "metadata": {},
   "source": [
    "PLease make sure to first read the HW10 instructions on Canvas! The stes below are just recaps of the more detailed instructions, primarily to give you a in-code roadmap."
   ]
  },
  {
   "cell_type": "code",
   "execution_count": null,
   "metadata": {},
   "outputs": [],
   "source": [
    "# Steps for the TKinter version\n",
    "\n",
    "# 1) Search term entry\n",
    "# Look at the text editor code at the end of lecture 31\n",
    "# re-use the Label and the (text) Entry widget \n",
    "# add a Run search button that will run your processing method\n",
    "# and/or bind() the Return key into the Entry widget to run your processing method  \n",
    "# use the grid geometry manager to put them into your first row\n",
    "# re-use the code for creating a ScrolledText widget \n",
    "# you will use insert() in your processing method later to display the results\n",
    "\n",
    "# 2) Scrape google news for the RSS feed\n",
    "# This has to be done in your processing method \n",
    "# Look at lecture 38 for how to: \n",
    "# a) assemble the URL for your search\n",
    "# b) use requests to download the RSS document \n",
    "# c) use feedparser to create a list of entries (RSS item tags)\n",
    "\n",
    "# 3) output the results\n",
    "# loop over your list of entries, optionally keep a counter for the running number\n",
    "# pull out date/time, title and link URL \n",
    "# starting with the optional running number, glue all that together into a single string with a \\n at the end\n",
    "# in your Text widget use insert(END, <your string>) to print out each line\n"
   ]
  },
  {
   "cell_type": "code",
   "execution_count": null,
   "metadata": {},
   "outputs": [],
   "source": []
  },
  {
   "cell_type": "code",
   "execution_count": null,
   "metadata": {},
   "outputs": [],
   "source": []
  },
  {
   "cell_type": "code",
   "execution_count": null,
   "metadata": {},
   "outputs": [],
   "source": []
  },
  {
   "cell_type": "code",
   "execution_count": null,
   "metadata": {},
   "outputs": [],
   "source": []
  },
  {
   "cell_type": "code",
   "execution_count": 2,
   "metadata": {},
   "outputs": [],
   "source": [
    "# Steps for the Web app\n",
    "\n",
    "# 1) Search term entry\n",
    "# look at lecture 36 to generate a HTML file with a form tag that contains \n",
    "#   a text input (for the search term) \n",
    "#   a submit input (to trigger the search\n",
    "# You can do this via constructing a string with the HTML inside or via a template \n",
    "# if you use a template, you won't need any of the {{ }} Jinja inlining stuff I used in the lecture\n",
    "# Write a Flask server with two routes\n",
    "# a) an main route, which will serve up your HTML (string or file) that contains the form tag\n",
    "# b) a results route that will display your running number, date/time, title and link for the requested RSS feed\n",
    "# Ensure that action property in your form tag points to this route \n",
    "# E.g. if the route is called results in Python, use action=\"/result/\" in HTML\n",
    "\n",
    "# 2) Scrape google news for the RSS feed\n",
    "# This has to be done in your results route\n",
    "# your will get the search term with request.args[\"URL\"], assuming you used name=\"URL\" in your text input tag \n",
    "# Look at lecture 38 for how to: \n",
    "# a) assemble the URL for your search\n",
    "# b) use requests to download the RSS document \n",
    "# c) use feedparser to create a list of entries (RSS item tags)\n",
    "\n",
    "# 3) output the results\n",
    "# loop over your list of entries, optional keep a counter for the running number\n",
    "# pull out date/time, title and link URL \n",
    "# from these create and anchor tag \n",
    "# html_code_for_item = \"{:s} <a href={:s}> {:s} </a><br>\".format(date, URL, title)\n",
    "# or \"{:d}: {:s} <a href={:s}> {:s} </a><br>\".format(n, date, URL, title) if you use a running number n\n",
    "# glue all html_code_for_item strings together into a single string\n",
    "# In your results route, return this single string to show it in the browser\n",
    "# Optional: you could create a proper HTML page (see beginning of lecture 35) and use your single string inside the body tag\n",
    "# or you could create another template html file and use {{ my_result_string }} to inline it in the body tag "
   ]
  },
  {
   "cell_type": "code",
   "execution_count": null,
   "metadata": {},
   "outputs": [],
   "source": []
  },
  {
   "cell_type": "code",
   "execution_count": null,
   "metadata": {},
   "outputs": [],
   "source": []
  },
  {
   "cell_type": "code",
   "execution_count": null,
   "metadata": {},
   "outputs": [],
   "source": []
  },
  {
   "cell_type": "code",
   "execution_count": null,
   "metadata": {},
   "outputs": [],
   "source": []
  },
  {
   "cell_type": "code",
   "execution_count": null,
   "metadata": {},
   "outputs": [],
   "source": []
  }
 ],
 "metadata": {
  "kernelspec": {
   "display_name": "Python 3 (ipykernel)",
   "language": "python",
   "name": "python3"
  },
  "language_info": {
   "codemirror_mode": {
    "name": "ipython",
    "version": 3
   },
   "file_extension": ".py",
   "mimetype": "text/x-python",
   "name": "python",
   "nbconvert_exporter": "python",
   "pygments_lexer": "ipython3",
   "version": "3.10.9"
  }
 },
 "nbformat": 4,
 "nbformat_minor": 2
}
