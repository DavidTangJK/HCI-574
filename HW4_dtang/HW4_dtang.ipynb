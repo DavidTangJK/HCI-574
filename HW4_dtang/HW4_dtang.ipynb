{
 "cells": [
  {
   "cell_type": "markdown",
   "metadata": {},
   "source": [
    "# HCI 574 General HW Instructions\n",
    "\n",
    "\n",
    "### Work through the problems\n",
    "- Answer the questions shown in the HW. Fix anything with ???. Answers to text questions should be given in a printed string, e.g.:  `print(\"This is the answer\")` or as a comment e.g. `# This is the answer`\n",
    "- Ensure that VSCode is set to autosve your notebook! In _Settings_ search for autosave and set it to 1000 ms.\n",
    "- It's fine to create new python cells if you want to try something without changing the offcial cell but please ensure that at the end there's only one cell with your official answer to the question and (__very impotant!__) that that cell as been run/executed so we can see its output. If you want to \"save\" your inofficial cell(s), make sure they are fully commented out!\n",
    "\n",
    "\n",
    "\n",
    "### Handing in the HW\n",
    "- Check that all other files the HW might have (screenshots, data files, etc.) are indeed in the correct HW folder.\n",
    "- Zip your HW folder folder (e.g. into HW1_ALemming.zip). On Windows you can Right-click -> Send To - Compress Folder. Please don't use rar or any other exotic compressors!\n",
    "- Zip your HW folder and hand it into Gradescope\n",
    "\n",
    "\n",
    "### Points\n",
    "\n",
    "The number of points a problem is worth when solved properly is always shown inside brackets at the heading of the problem, e.g.\n",
    "##### Q1 [ 3.5 pts]  This problem is worth 3.5 points\n",
    "\n",
    "Sometimes you may get additional extra credits if we feel your solution is particularly clever, etc. \n",
    "Some problem are entirely __optional__, these will have a + in from of the points, e.g.\n",
    "##### Q2 [ +1 pt ] This *optional* problem is worth 1 point\n",
    "\n",
    "You can solve these optional points to learn more or make up of points you missed in earlier HW. Note however, that there's a cap on the total HW points, if you have more than 100% of HW points the end of the semester, it will be reduced to 100%\n",
    "\n",
    "### Questions?\n",
    "If you have questions or need help, ask me after class, use Piazza or ask the TA during office hours  "
   ]
  },
  {
   "cell_type": "markdown",
   "metadata": {
    "deletable": false,
    "editable": false,
    "nbgrader": {
     "cell_type": "markdown",
     "checksum": "5b1423b49bb49c49b50775a3be1a53d7",
     "grade": false,
     "grade_id": "intro",
     "locked": true,
     "schema_version": 3,
     "solution": false
    }
   },
   "source": [
    "## HW4 - Visualize an exponential growth model\n",
    "\n",
    "\n",
    "In this HW you will use a while loop to accumulate a result to simulate the process of growth over time and plot it via the turtle.\n",
    "\n",
    "<p>\n",
    "\n",
    "A bit of background:\n",
    "\n",
    "- Say you have a number of organisms (N), which reproduce at a certain growth rate per year.\n",
    "- Say you start with 1000 organisms in year 0\n",
    "- `Year 0:   1000`\n",
    "- Each year, the number of organisms increases at a rate of 2%, for which we will use 0.02\n",
    "- The following year (year 1), you have 102% of the previous year (year 0):\n",
    "- `Year 1:   1000 * (1.0 + 0.02) =  1000 * 1.02 = 1020`\n",
    "- The following year (year 2), you again have 102% of the previous year (year 1), which was 102% of year 0:\n",
    "- `Year 2: ( 1000 * (1.0 + 0.02) ) * (1.0 + 0.02) = 1040.40`\n",
    "- but if I had stored the result of the previous year (year 1: 1020) I would have a shorter calculation:\n",
    "-`Year 2:   1020                  * (1.0 + 0.02) = 1040.40` __<- make sure you understand this step!__\n",
    "- (Yes, I know, you can't have 0.40 organisms but let's keep it simple and just accumulate ...)\n",
    "\n",
    "<p>\n",
    "\n",
    "- As a general formula, the number of organism (N) for a certain year is  based on \n",
    "    - the number of organism from the previous year and \n",
    "    - the growth rate (to which we add 1 to make it above 100%, i.e. 1.02 would grow by 2% to a new total of 102%\n",
    "\n",
    "```\n",
    "N_for_current_year =  <N of the year_before> * (1.0 + rate)\n",
    "```\n",
    "\n",
    " <p>\n",
    "    \n",
    "The first couple of cells are NOT graded but there to allow you __to experiment__ so you understand the logic before you start the actual HW:\n",
    "- Start with `N_for_current_year=1000` organisms\n",
    "- use a growth factor (rate) of 0.02 per year (equivalent to 2%) \n",
    "- jump to the next year: overwrite N_for_current_year with the result from the formula above\n",
    "\n",
    "<p>\n",
    "     \n",
    "More on growth models:\n",
    "- http://en.wikipedia.org/wiki/Malthusian_growth_model\n",
    "- http://www.stolaf.edu/people/mckelvey/envision.dir/malthus.html\n",
    "\n"
   ]
  },
  {
   "cell_type": "code",
   "execution_count": 8,
   "metadata": {},
   "outputs": [],
   "source": [
    "# START HERE (warm up part, just run the following cells and observe what happens. This simulates a loop)\n",
    "\n",
    "# start settings for the three variables: \n",
    "# year and N_for_current_year will change during the simulation, rate will stay the same\n",
    "year = 0\n",
    "N_current_year = 1000\n",
    "rate = 0.1 # means 2% growth per year"
   ]
  },
  {
   "cell_type": "code",
   "execution_count": 9,
   "metadata": {},
   "outputs": [
    {
     "name": "stdout",
     "output_type": "stream",
     "text": [
      "0 1000\n"
     ]
    }
   ],
   "source": [
    "# simulate starting year (year 0):\n",
    "print(year, N_current_year)"
   ]
  },
  {
   "cell_type": "code",
   "execution_count": 10,
   "metadata": {},
   "outputs": [
    {
     "name": "stdout",
     "output_type": "stream",
     "text": [
      "1 1100.0\n"
     ]
    }
   ],
   "source": [
    "# simulate next year (year 1):\n",
    "year = year + 1 # it's a new year now!\n",
    "\n",
    "N_of_last_year = N_current_year # store last year's N\n",
    "N_current_year =  N_of_last_year * (1.0 + rate) # get this year's N\n",
    "print(year, N_current_year)"
   ]
  },
  {
   "cell_type": "code",
   "execution_count": 11,
   "metadata": {},
   "outputs": [
    {
     "name": "stdout",
     "output_type": "stream",
     "text": [
      "2 1210.0\n"
     ]
    }
   ],
   "source": [
    "# simulate next year (year 2, this time the code is a bit shorter)\n",
    "year = year + 1\n",
    "\n",
    "# To understand this, it's important to look at the order of evaluation:\n",
    "# First we calculate on the left side the new N with: N_for_current_year * (1.0 + rate)\n",
    "# In that calculation, N_for_current_year still reflects the old value from the now previous year\n",
    "# Then, the result of that calculation gets assigned to N_for_current_year.\n",
    "# That means, we don't really need a separate variable for the old value.\n",
    "N_current_year =  N_current_year * (1.0 + rate) \n",
    "print(year, N_current_year)"
   ]
  },
  {
   "cell_type": "code",
   "execution_count": 12,
   "metadata": {},
   "outputs": [
    {
     "name": "stdout",
     "output_type": "stream",
     "text": [
      "3 1331.0\n"
     ]
    }
   ],
   "source": [
    "# year 3\n",
    "year = year + 1\n",
    "N_current_year =  N_current_year * (1.0 + rate)\n",
    "print(year, N_current_year)"
   ]
  },
  {
   "cell_type": "code",
   "execution_count": 13,
   "metadata": {},
   "outputs": [
    {
     "name": "stdout",
     "output_type": "stream",
     "text": [
      "4 1464.1000000000001\n"
     ]
    }
   ],
   "source": [
    "# year 4\n",
    "year = year + 1\n",
    "N_current_year =  N_current_year * (1.0 + rate)\n",
    "print(year, N_current_year)"
   ]
  },
  {
   "cell_type": "markdown",
   "metadata": {},
   "source": [
    "- Go back to the START HERE cell and change rate to 0.1 (10% yearly growth). \n",
    "- Run the 5 years (year 0 through year 4) again\n",
    "- You'll start again with 1000 but should see much larger numbers \n"
   ]
  },
  {
   "cell_type": "markdown",
   "metadata": {},
   "source": [
    "### Looping\n",
    "\n",
    "- You're probably noticed that we're doing the __exact same thing__ for years 0, 1, 2, 3 and 4\n",
    "- Let's wrap each years calculations into the while loop block:\n",
    "- start with year 0, N_for_current_year = 1000, rate = 0.02\n",
    "- write a while loop that loops up to (and including!) year 4 for a total of 5 years\n",
    "- follow the comments below\n",
    "- if you end up with a infinite loop, use Kernel - Interrupt (the little square on to the left of your running cell)"
   ]
  },
  {
   "cell_type": "code",
   "execution_count": 14,
   "metadata": {},
   "outputs": [
    {
     "name": "stdout",
     "output_type": "stream",
     "text": [
      "0 1000\n",
      "1 1020.0\n",
      "2 1040.4\n",
      "3 1061.208\n",
      "4 1082.43216\n",
      "done\n"
     ]
    }
   ],
   "source": [
    "# looped version of simulating years 0,1,2,3,4\n",
    "\n",
    "# these are the default values\n",
    "year = 0\n",
    "N_current_year = 1000\n",
    "rate = 0.02\n",
    "\n",
    "while year < 5:\n",
    "    print(year, N_current_year) # print out year and population number (N_for_current_year)\n",
    "    N_next_year =  N_current_year * (1.0 + rate) # do the math to calculate population number of the NEXT year (put in new variable N_next_year)\n",
    "    year += 1 # it's s a new year: a) increase year by 1 i.e. jump forward to the next year \n",
    "    N_current_year = N_next_year # b) set N_current_year to the new population you calculated earlier (N_next_year)\n",
    "    # repeat all this until year == 4\n",
    "    \n",
    "print(\"done\")"
   ]
  },
  {
   "cell_type": "markdown",
   "metadata": {
    "deletable": false,
    "editable": false,
    "nbgrader": {
     "cell_type": "markdown",
     "checksum": "b7087c6b4da9e6b9fd97d871f74ec630",
     "grade": false,
     "grade_id": "generalthoughts",
     "locked": true,
     "schema_version": 3,
     "solution": false
    }
   },
   "source": [
    "## Get and validate user input - general thoughts\n",
    "- Now that you can generate a value N for each year, let's deal with getting user input for the 3 parameters for your simulation\n",
    "- As this is an HCI course we will write a simple user interface for our users configure the simluation parameters and also while also catching input errors \n",
    "\n",
    "#### Get 3 inputs from the user: the number of years, number of organisms last year, and the growth factor.\n",
    "- use `input()` to get numeric input from the user\n",
    "- assume that the user is nice and will ONLY enter valid numbers\n",
    "- as there are default value already set for each of the 3 parameters, print out the default before the user enters the input value. \n",
    "\n",
    "<p>\n",
    "\n",
    "- Check that the values the user gives you: \n",
    "    - the number of years to simulate must between 10 and 1000 (including both!)\n",
    "    - the starting population must be between 1 to 100000 (including both!)\n",
    "    - the grow rate must be bigger than 0.0 and smaller-equal than 0.2\n",
    "    - If you find that the user entered values outside these ranges, yell at the user e.g. `\"value must be between <x> and <y>!\"` and have the user re-enter the value.\n",
    "    - you can use your own words for the input text and the error messages\n",
    "    - note that your `input()` will always give you a string but in order to perform your checks, you have to convert it to a number first.\n",
    "- Wrap each of the three user inputs into a `while True:` loop that is only left (via `break`) once the input value is OK.\n",
    "\n",
    "<p>\n",
    "    \n",
    "- __Important__: When you're done, for each parameter create a session where you hit all 3 possible cases:\n",
    "    - input is above the permitted range (too high) => error\n",
    "    - input is below the permitted range (too low) => error\n",
    "    - input is inside the permitted  permitted range => success, move on\n",
    "   "
   ]
  },
  {
   "cell_type": "markdown",
   "metadata": {
    "deletable": false,
    "editable": false,
    "nbgrader": {
     "cell_type": "markdown",
     "checksum": "1db06a4c3abc3c860e51f74c2a28df8d",
     "grade": false,
     "grade_id": "cell-47558a1300f3b6f7",
     "locked": true,
     "schema_version": 3,
     "solution": false,
     "task": false
    }
   },
   "source": [
    "###  Q1 Optional: On Enter, keep default values [+0.5 pt]\n",
    "- for all 3 inputs make it so that pressing Enter alone on input() keeps the default (old) values\n",
    "- input() returns an empty string \"\" when no value was entered i.w. when only the Enter/Return key was pressed\n",
    "- the code for this will be in the code for the next question, this is just so we can give you the 1/2 point"
   ]
  },
  {
   "cell_type": "markdown",
   "metadata": {
    "deletable": false,
    "editable": false,
    "nbgrader": {
     "cell_type": "markdown",
     "checksum": "d6c61fa38d9f9b701319904f949bf42b",
     "grade": false,
     "grade_id": "q1d",
     "locked": true,
     "schema_version": 3,
     "solution": false
    }
   },
   "source": [
    "###  Q2 Validate the number of years the simulation runs [ 2 pts ]\n",
    "\n",
    "- in a `while True:` loop do this:\n",
    "- get input and store in `num_years_str`  (<- _str so you know it's a string)\n",
    "- convert `num_years_str` to the integer and store in `num_years` (no _str so it's number)\n",
    "- do your check: \n",
    "    - on success leave the loop and confirm entered value\n",
    "    - on fail yell at the user and repeat loop\n",
    "\n",
    "Here's what a session with my solution looks (you can use your own words for input text and error message):\n",
    "```\n",
    "Enter number of years to simulate: 3\n",
    " error - must be between 10 and 1000\n",
    "Enter number of years to simulate: 99999999\n",
    " error - must be between 10 and 1000\n",
    "Enter number of years to simulate: 10\n",
    " simulation will run 10 years\n",
    "```"
   ]
  },
  {
   "cell_type": "code",
   "execution_count": 1,
   "metadata": {
    "deletable": false,
    "nbgrader": {
     "cell_type": "code",
     "checksum": "c701a4dafd8807b61af4491127956f91",
     "grade": true,
     "grade_id": "q1c",
     "locked": false,
     "points": 2,
     "schema_version": 3,
     "solution": true
    }
   },
   "outputs": [
    {
     "name": "stdout",
     "output_type": "stream",
     "text": [
      "Simulation will run for 10 years\n"
     ]
    }
   ],
   "source": [
    "# Validate the number of years the simulation runs\n",
    "\n",
    "while True:\n",
    "    num_years_str = input(\"Enter number of years to stimulate between 10 - 1000: \")\n",
    "    num_years = int(num_years_str)\n",
    "    if(num_years < 10 or num_years > 1000):\n",
    "        print(\"Error! Input must be between 10 and 1000\")\n",
    "    else:\n",
    "        print(\"Simulation will run for\", num_years ,\"years\")\n",
    "        break\n",
    "\n",
    "\n"
   ]
  },
  {
   "cell_type": "markdown",
   "metadata": {
    "deletable": false,
    "editable": false,
    "nbgrader": {
     "cell_type": "markdown",
     "checksum": "67751951c1eb3677e6bee432eb85ee7f",
     "grade": false,
     "grade_id": "q2d",
     "locked": true,
     "schema_version": 3,
     "solution": false
    }
   },
   "source": [
    "###  Q3 Validate the starting population [ 2 pts ]\n",
    "\n",
    "Here's a session with my solution:\n",
    "\n",
    "```\n",
    "Enter starting population between 1 and 100000: 0\n",
    " error - must be between 1 and 100000\n",
    "Enter starting population between 1 and 100000: 100001\n",
    " error - must be between 1 and 100000\n",
    "Enter starting population between 1 and 100000: 10\n",
    " starting population is 10\n",
    "\n",
    "```"
   ]
  },
  {
   "cell_type": "code",
   "execution_count": 2,
   "metadata": {
    "deletable": false,
    "nbgrader": {
     "cell_type": "code",
     "checksum": "a62e2f6d08d5af5ed613b4896c590f94",
     "grade": true,
     "grade_id": "q2c",
     "locked": false,
     "points": 2,
     "schema_version": 3,
     "solution": true
    }
   },
   "outputs": [
    {
     "name": "stdout",
     "output_type": "stream",
     "text": [
      "Starting population is 1\n"
     ]
    }
   ],
   "source": [
    "# Validate the starting population\n",
    "\n",
    "while True:\n",
    "    num_pop_str = input(\"Enter number of starting population to stimulate between 1 - 100000: \")\n",
    "    N_start = int(num_pop_str)\n",
    "    if(N_start < 0 or N_start > 100000):\n",
    "        print(\"Error! Input must be between 1 and 100000\")\n",
    "    else:\n",
    "        print(\"Starting population is\", N_start)\n",
    "        break\n",
    "\n",
    "\n",
    "\n"
   ]
  },
  {
   "cell_type": "markdown",
   "metadata": {
    "deletable": false,
    "editable": false,
    "nbgrader": {
     "cell_type": "markdown",
     "checksum": "b9f8f4c5ae69ead451f4321f42e2230f",
     "grade": false,
     "grade_id": "q3d",
     "locked": true,
     "schema_version": 3,
     "solution": false
    }
   },
   "source": [
    "###  Q4 Validate the growth rate [ 2 pts ]\n",
    "\n",
    "- note that rate is a float!\n",
    "- a rate of 0 makes no sense so require that it's larger than 0\n",
    "- (Yes, my input text is a bit sloppy in conveying that, feel free to be more precise :)\n",
    "\n",
    "Here's a session with my solution:\n",
    "\n",
    "```\n",
    "Enter growth factor (0.0 - 0.2): 0\n",
    " error - must be > 0 and <= 0.2\n",
    "Enter growth factor (0.0 - 0.2): 0.5\n",
    " error - must be > 0 and <= 0.2\n",
    "Enter growth factor (0.0 - 0.2): 0.2\n",
    " starting population is 0.2\n",
    "```"
   ]
  },
  {
   "cell_type": "code",
   "execution_count": 9,
   "metadata": {
    "deletable": false,
    "nbgrader": {
     "cell_type": "code",
     "checksum": "9a18f035ae70ccfc16b24dd81ca8a2ab",
     "grade": true,
     "grade_id": "q3c",
     "locked": false,
     "points": 2,
     "schema_version": 3,
     "solution": true,
     "task": false
    }
   },
   "outputs": [
    {
     "name": "stdout",
     "output_type": "stream",
     "text": [
      "Error! Input must be > 0 and <= 0.2\n",
      "Error! Input must be > 0 and <= 0.2\n",
      "Error! Input must be > 0 and <= 0.2\n",
      "Starting growth rate is 0.2\n"
     ]
    }
   ],
   "source": [
    "# Validate the growth rate\n",
    "while True:\n",
    "    num_rate_str = input(\"Enter rate of growth factor to stimulate between 0.0(exclusive) - 0.2(inclusive): \")\n",
    "    rate = float(num_rate_str)\n",
    "    if(rate <= 0.0 or rate > 0.2):\n",
    "        print(\"Error! Input must be > 0 and <= 0.2\")\n",
    "    else:\n",
    "        print(\"Starting growth rate is\", rate)\n",
    "        break\n",
    "\n"
   ]
  },
  {
   "cell_type": "markdown",
   "metadata": {
    "deletable": false,
    "editable": false,
    "nbgrader": {
     "cell_type": "markdown",
     "checksum": "ee77a63e87d2fea61842dc1eb54136f9",
     "grade": false,
     "grade_id": "q5d",
     "locked": true,
     "schema_version": 3,
     "solution": false
    }
   },
   "source": [
    "###  Q5 Set pen color and size [1 pt]\n",
    "\n",
    "- the next cells will setup a few things and instantiate the turtle\n",
    "- __Important: if you have to kill the turtle via Restart on the top of your notebook, always jump to here and again run the setup code cell followed by the cells below it.__\n",
    "- as we're using the turtle, we can change the color and width of the line that plots out growth curve\n",
    "- note that now our turtle is called t, not turtle\n",
    "- use `help(t.pen)` or look at http://docs.python.org/library/turtle.html\n",
    "- figure out how to use the turtle method `.pen()` to set the pencolor to red and the pensize to 3\n"
   ]
  },
  {
   "cell_type": "code",
   "execution_count": 5,
   "metadata": {
    "deletable": false,
    "nbgrader": {
     "cell_type": "code",
     "checksum": "a9a8cf36a6feb8e3bca59ce32442e9f6",
     "grade": true,
     "grade_id": "q5c",
     "locked": false,
     "points": 1,
     "schema_version": 3,
     "solution": true
    }
   },
   "outputs": [],
   "source": [
    "# Set simulation parameters\n",
    "\n",
    "# To make it easy, hardcode valid values for each of the three parameters here.\n",
    "# (pretend these have beem successfully validated by your earlier code)\n",
    "# Once everything runs, come back here, change the parameters and run this an all following cells again\n",
    "num_years = 200      \n",
    "N_start = 1000       \n",
    "rate = 0.02         \n",
    "\n",
    "\n",
    "\n",
    "# Plotting setup\n",
    "# import turtle and set up a large enough canvas for your plot\n",
    "import turtle as t\n",
    "import math\n",
    "t.reset()\n",
    "max_pop = N_start * math.e ** (rate * num_years)\n",
    "sc = t.Screen()\n",
    "sc.setworldcoordinates(0, N_start, num_years*1.1 , max_pop*1.05)\n",
    "\n",
    "\n",
    "\n",
    "# Set pen color to red and pen size to 3\n",
    "t.pencolor(\"red\")\n",
    "t.pensize(3)\n",
    "\n",
    "\n"
   ]
  },
  {
   "cell_type": "markdown",
   "metadata": {
    "deletable": false,
    "editable": false,
    "nbgrader": {
     "cell_type": "markdown",
     "checksum": "107bd4ec295c78540884cdf0f513e0c9",
     "grade": false,
     "grade_id": "q6d",
     "locked": true,
     "schema_version": 3,
     "solution": false
    }
   },
   "source": [
    "###  Q6 Run the simulation loop and draw the growth curve [ 3 pts]\n",
    "- Put your code to plot the curve into the  cell below\n",
    "- use a while loop \n",
    "- use the variable `year` as your counter.\n",
    "- make sure to start year at 0 (not 1) and exit the loop BEFORE year reaches `num_years`\n",
    "\n",
    "<p>\n",
    "\n",
    "- Example: if num_years is 5 (to simulate 5 years of growths) year will become 0,1,2,3,4\n",
    "- Your loop must terminate after year 4:\n",
    "    ```\n",
    "    year 0 ...\n",
    "    year 1 ...\n",
    "    year 2 ...\n",
    "    year 3 ...\n",
    "    year 4 ...\n",
    "    end of simulation\n",
    "    ```\n",
    "<p>    \n",
    "\n",
    "- print() formating: Use string formatting to make your print out nicer:\n",
    "    - print current year with 4 0-padded digits (e.g. 39 as 0039).\n",
    "    - print current population formated to have only two decimals (e.g trim 1235.56789 to 1234.56, don't use round())\n",
    "    - I've given you a skeleton code for this in the comment so you only need to figure out the formating magic\n",
    "    \n",
    "<p>\n",
    "    \n",
    "- After it's done, the turtle window will appear to be \"busy\" but that's OK, no need to close it.\n",
    "- To plot different parameters, change the values in the top of the *Set simulation parameters* cell above (this clears the turtle window). Then run plotting cell below again.\n",
    "- Once you really done, and took a screenshot, jump to the very last cell to properly close the turtle window.\n"
   ]
  },
  {
   "cell_type": "code",
   "execution_count": 6,
   "metadata": {
    "deletable": false,
    "nbgrader": {
     "cell_type": "code",
     "checksum": "91ee8c3b81a12c9a7251ea11af741b16",
     "grade": true,
     "grade_id": "q6c",
     "locked": false,
     "points": 3,
     "schema_version": 3,
     "solution": true
    }
   },
   "outputs": [
    {
     "name": "stdout",
     "output_type": "stream",
     "text": [
      "Simulating 200 years, starting with 1000 organisms, growth rate is 0.02\n",
      "year:0000 pop:1000.00\n",
      "year:0001 pop:1020.00\n",
      "year:0002 pop:1040.40\n",
      "year:0003 pop:1061.21\n",
      "year:0004 pop:1082.43\n",
      "year:0005 pop:1104.08\n",
      "year:0006 pop:1126.16\n",
      "year:0007 pop:1148.69\n",
      "year:0008 pop:1171.66\n",
      "year:0009 pop:1195.09\n",
      "year:0010 pop:1218.99\n",
      "year:0011 pop:1243.37\n",
      "year:0012 pop:1268.24\n",
      "year:0013 pop:1293.61\n",
      "year:0014 pop:1319.48\n",
      "year:0015 pop:1345.87\n",
      "year:0016 pop:1372.79\n",
      "year:0017 pop:1400.24\n",
      "year:0018 pop:1428.25\n",
      "year:0019 pop:1456.81\n",
      "year:0020 pop:1485.95\n",
      "year:0021 pop:1515.67\n",
      "year:0022 pop:1545.98\n",
      "year:0023 pop:1576.90\n",
      "year:0024 pop:1608.44\n",
      "year:0025 pop:1640.61\n",
      "year:0026 pop:1673.42\n",
      "year:0027 pop:1706.89\n",
      "year:0028 pop:1741.02\n",
      "year:0029 pop:1775.84\n",
      "year:0030 pop:1811.36\n",
      "year:0031 pop:1847.59\n",
      "year:0032 pop:1884.54\n",
      "year:0033 pop:1922.23\n",
      "year:0034 pop:1960.68\n",
      "year:0035 pop:1999.89\n",
      "year:0036 pop:2039.89\n",
      "year:0037 pop:2080.69\n",
      "year:0038 pop:2122.30\n",
      "year:0039 pop:2164.74\n",
      "year:0040 pop:2208.04\n",
      "year:0041 pop:2252.20\n",
      "year:0042 pop:2297.24\n",
      "year:0043 pop:2343.19\n",
      "year:0044 pop:2390.05\n",
      "year:0045 pop:2437.85\n",
      "year:0046 pop:2486.61\n",
      "year:0047 pop:2536.34\n",
      "year:0048 pop:2587.07\n",
      "year:0049 pop:2638.81\n",
      "year:0050 pop:2691.59\n",
      "year:0051 pop:2745.42\n",
      "year:0052 pop:2800.33\n",
      "year:0053 pop:2856.33\n",
      "year:0054 pop:2913.46\n",
      "year:0055 pop:2971.73\n",
      "year:0056 pop:3031.17\n",
      "year:0057 pop:3091.79\n",
      "year:0058 pop:3153.62\n",
      "year:0059 pop:3216.70\n",
      "year:0060 pop:3281.03\n",
      "year:0061 pop:3346.65\n",
      "year:0062 pop:3413.58\n",
      "year:0063 pop:3481.86\n",
      "year:0064 pop:3551.49\n",
      "year:0065 pop:3622.52\n",
      "year:0066 pop:3694.97\n",
      "year:0067 pop:3768.87\n",
      "year:0068 pop:3844.25\n",
      "year:0069 pop:3921.14\n",
      "year:0070 pop:3999.56\n",
      "year:0071 pop:4079.55\n",
      "year:0072 pop:4161.14\n",
      "year:0073 pop:4244.36\n",
      "year:0074 pop:4329.25\n",
      "year:0075 pop:4415.84\n",
      "year:0076 pop:4504.15\n",
      "year:0077 pop:4594.24\n",
      "year:0078 pop:4686.12\n",
      "year:0079 pop:4779.84\n",
      "year:0080 pop:4875.44\n",
      "year:0081 pop:4972.95\n",
      "year:0082 pop:5072.41\n",
      "year:0083 pop:5173.86\n",
      "year:0084 pop:5277.33\n",
      "year:0085 pop:5382.88\n",
      "year:0086 pop:5490.54\n",
      "year:0087 pop:5600.35\n",
      "year:0088 pop:5712.35\n",
      "year:0089 pop:5826.60\n",
      "year:0090 pop:5943.13\n",
      "year:0091 pop:6062.00\n",
      "year:0092 pop:6183.24\n",
      "year:0093 pop:6306.90\n",
      "year:0094 pop:6433.04\n",
      "year:0095 pop:6561.70\n",
      "year:0096 pop:6692.93\n",
      "year:0097 pop:6826.79\n",
      "year:0098 pop:6963.33\n",
      "year:0099 pop:7102.59\n",
      "year:0100 pop:7244.65\n",
      "year:0101 pop:7389.54\n",
      "year:0102 pop:7537.33\n",
      "year:0103 pop:7688.08\n",
      "year:0104 pop:7841.84\n",
      "year:0105 pop:7998.67\n",
      "year:0106 pop:8158.65\n",
      "year:0107 pop:8321.82\n",
      "year:0108 pop:8488.26\n",
      "year:0109 pop:8658.02\n",
      "year:0110 pop:8831.18\n",
      "year:0111 pop:9007.81\n",
      "year:0112 pop:9187.96\n",
      "year:0113 pop:9371.72\n",
      "year:0114 pop:9559.16\n",
      "year:0115 pop:9750.34\n",
      "year:0116 pop:9945.35\n",
      "year:0117 pop:10144.25\n",
      "year:0118 pop:10347.14\n",
      "year:0119 pop:10554.08\n",
      "year:0120 pop:10765.16\n",
      "year:0121 pop:10980.47\n",
      "year:0122 pop:11200.08\n",
      "year:0123 pop:11424.08\n",
      "year:0124 pop:11652.56\n",
      "year:0125 pop:11885.61\n",
      "year:0126 pop:12123.32\n",
      "year:0127 pop:12365.79\n",
      "year:0128 pop:12613.10\n",
      "year:0129 pop:12865.37\n",
      "year:0130 pop:13122.67\n",
      "year:0131 pop:13385.13\n",
      "year:0132 pop:13652.83\n",
      "year:0133 pop:13925.89\n",
      "year:0134 pop:14204.40\n",
      "year:0135 pop:14488.49\n",
      "year:0136 pop:14778.26\n",
      "year:0137 pop:15073.83\n",
      "year:0138 pop:15375.30\n",
      "year:0139 pop:15682.81\n",
      "year:0140 pop:15996.47\n",
      "year:0141 pop:16316.40\n",
      "year:0142 pop:16642.72\n",
      "year:0143 pop:16975.58\n",
      "year:0144 pop:17315.09\n",
      "year:0145 pop:17661.39\n",
      "year:0146 pop:18014.62\n",
      "year:0147 pop:18374.91\n",
      "year:0148 pop:18742.41\n",
      "year:0149 pop:19117.26\n",
      "year:0150 pop:19499.60\n",
      "year:0151 pop:19889.59\n",
      "year:0152 pop:20287.39\n",
      "year:0153 pop:20693.13\n",
      "year:0154 pop:21107.00\n",
      "year:0155 pop:21529.14\n",
      "year:0156 pop:21959.72\n",
      "year:0157 pop:22398.91\n",
      "year:0158 pop:22846.89\n",
      "year:0159 pop:23303.83\n",
      "year:0160 pop:23769.91\n",
      "year:0161 pop:24245.31\n",
      "year:0162 pop:24730.21\n",
      "year:0163 pop:25224.82\n",
      "year:0164 pop:25729.31\n",
      "year:0165 pop:26243.90\n",
      "year:0166 pop:26768.78\n",
      "year:0167 pop:27304.15\n",
      "year:0168 pop:27850.23\n",
      "year:0169 pop:28407.24\n",
      "year:0170 pop:28975.38\n",
      "year:0171 pop:29554.89\n",
      "year:0172 pop:30145.99\n",
      "year:0173 pop:30748.91\n",
      "year:0174 pop:31363.89\n",
      "year:0175 pop:31991.17\n",
      "year:0176 pop:32630.99\n",
      "year:0177 pop:33283.61\n",
      "year:0178 pop:33949.28\n",
      "year:0179 pop:34628.27\n",
      "year:0180 pop:35320.83\n",
      "year:0181 pop:36027.25\n",
      "year:0182 pop:36747.79\n",
      "year:0183 pop:37482.75\n",
      "year:0184 pop:38232.40\n",
      "year:0185 pop:38997.05\n",
      "year:0186 pop:39776.99\n",
      "year:0187 pop:40572.53\n",
      "year:0188 pop:41383.98\n",
      "year:0189 pop:42211.66\n",
      "year:0190 pop:43055.90\n",
      "year:0191 pop:43917.01\n",
      "year:0192 pop:44795.35\n",
      "year:0193 pop:45691.26\n",
      "year:0194 pop:46605.09\n",
      "year:0195 pop:47537.19\n",
      "year:0196 pop:48487.93\n",
      "year:0197 pop:49457.69\n",
      "year:0198 pop:50446.84\n",
      "year:0199 pop:51455.78\n",
      "end of simulation loop\n"
     ]
    }
   ],
   "source": [
    "# Plot curve defined by the three parameters\n",
    "import random # for optional problem\n",
    "\n",
    "year = 0 # start at year 0\n",
    "N_current_year = N_start # initialize with the number the user gave you\n",
    "print(\"Simulating\", num_years, \"years, starting with\", N_current_year, \"organisms, growth rate is\", rate)\n",
    "\n",
    "## START YOUR LOOP HERE:\n",
    "\n",
    "while year < num_years:\n",
    "    year_str = \"{:04d}\".format(year) # Use string formatting to print the year with 4 0-padded digits (e.g. 39 as 0039).\n",
    "    pop_str = \"%.2f\"%(N_current_year) # and the current population with two decimals (e.g trim 1235.56789 to 1234.56)\n",
    "\n",
    "    print(f\"year:{year_str} pop:{pop_str}\") \n",
    "\n",
    "\n",
    "    \n",
    "    \n",
    "    # Move turtle pen to new position with goto(x,y):  x is the current year, y is the current population\n",
    "    t.goto(year, N_current_year)\n",
    "\n",
    "    # Calculate the next year's population based on last year's population and store it in N_current_year\n",
    "    N_current_year = N_current_year * (1.0 + rate)\n",
    "    \n",
    "    # update year to next year\n",
    "    year = year + 1\n",
    "\n",
    "    num_years_range = num_years / 10\n",
    "    # code for optional part(s) would go here \n",
    "    \n",
    "    # Q8 Optional A: use 10 labels\n",
    "    if(year == num_years_range or year == num_years_range * 2 or year == num_years_range * 3 or year == num_years_range * 4 or year == num_years_range * 5 or year == num_years_range * 6 or year == num_years_range * 7 or year == num_years_range * 8 or year == num_years_range * 9 or year == num_years_range * 10):\n",
    "        t.write(int(N_current_year), move=False, align='left', font=('Arial', 14, 'normal'))\n",
    "    \n",
    "    \"\"\" #Q9 Optional B:  random catastrophic losses, 10% chance of losing 10-50% of the entire population. \n",
    "    #Please remove triple quotes to test\n",
    "\n",
    "    if random.randint(0, 100) > 90:\n",
    "        random_rate_population_dies = float(\"%.2f\"%(random.uniform(0.10, 0.50)))\n",
    "        N_current_year -= (N_current_year * random_rate_population_dies)\n",
    "    \"\"\"\n",
    "    \n",
    "     \n",
    "          \n",
    "          \n",
    "\n",
    "\n",
    "print(\"end of simulation loop\")  "
   ]
  },
  {
   "cell_type": "markdown",
   "metadata": {
    "deletable": false,
    "editable": false,
    "nbgrader": {
     "cell_type": "markdown",
     "checksum": "7192a6a3c3d5f780e5adc2f3cddfb269",
     "grade": false,
     "grade_id": "q7d",
     "locked": true,
     "schema_version": 3,
     "solution": false
    }
   },
   "source": [
    " ###  Q7 label last pen position with its population [1 pt ]\n",
    " \n",
    "- for the write method see below or go to http://docs.python.org/3/library/turtle.html\n",
    "- Write the final population as text at the last pen position, but truncate to an int (1234.67 => 1234)\n",
    "- `font=('Arial', 14, 'normal')` works well for me but you can experiment with different font sizes and other alignments\n"
   ]
  },
  {
   "cell_type": "code",
   "execution_count": 34,
   "metadata": {
    "deletable": false,
    "nbgrader": {
     "cell_type": "code",
     "checksum": "dc47d462eb97fedfd6d7d8c5f40cd4b8",
     "grade": true,
     "grade_id": "q7c",
     "locked": false,
     "points": 1,
     "schema_version": 3,
     "solution": true
    }
   },
   "outputs": [],
   "source": [
    "\n",
    "t.write(int(N_current_year), move=False, align='left', font=('Arial', 14, 'normal'))\n",
    "\n"
   ]
  },
  {
   "cell_type": "markdown",
   "metadata": {
    "deletable": false,
    "editable": false,
    "nbgrader": {
     "cell_type": "markdown",
     "checksum": "2694c0edcd7930e0c39286c21181f299",
     "grade": false,
     "grade_id": "q8d",
     "locked": true,
     "schema_version": 3,
     "solution": false
    }
   },
   "source": [
    "## Example results:\n",
    "- for 'Simulating 200 years, starting with 1000 organisms, growth rate is 0.02, my text output is:\n",
    "```\n",
    "year: 0000 pop.: 1000.00\n",
    "year: 0001 pop.: 1020.00\n",
    "year: 0002 pop.: 1040.40\n",
    "year: 0003 pop.: 1061.21\n",
    "year: 0004 pop.: 1082.43\n",
    "...\n",
    "year: 0196 pop.: 48487.93\n",
    "year: 0197 pop.: 49457.69\n",
    "year: 0198 pop.: 50446.84\n",
    "year: 0199 pop.: 51455.78\n",
    "end of simulation loop\n",
    "```\n",
    "\n",
    "\n",
    "my turtle window was:\n",
    "\n",
    "\n",
    "<img src=\"example_output.png\" alt=\"Drawing\" style=\"width: 500px; float: left;\">\n"
   ]
  },
  {
   "cell_type": "markdown",
   "metadata": {
    "deletable": false,
    "editable": false,
    "nbgrader": {
     "cell_type": "markdown",
     "checksum": "635390d5a8dcb4485805fc714fac8c87",
     "grade": false,
     "grade_id": "q8d2",
     "locked": true,
     "schema_version": 3,
     "solution": false
    }
   },
   "source": [
    "- Make a screenshot of your turtle window and save it as turtle.png (or .jpg) in your HW4 folder \n"
   ]
  },
  {
   "cell_type": "markdown",
   "metadata": {
    "deletable": false,
    "editable": false,
    "nbgrader": {
     "cell_type": "markdown",
     "checksum": "679af0b5fd1a0e4999d7f0b3c78fd9f6",
     "grade": false,
     "grade_id": "q9d",
     "locked": true,
     "schema_version": 3,
     "solution": false
    }
   },
   "source": [
    "###   Q8 Optional A: use 10 labels [+ 0.5 pt]\n",
    "\n",
    "Optional Part A:\n",
    "- inside your simulation loop, use write() to write N_current_year (again, as left aligned int) but in a way that there are 10 labels along the curve \n",
    "- This should work for any num_years given, so for 200 years, every 20th year, for 500 years, every 50th year, etc.\n",
    "- Don't worry about placing the labels nicely without overlap, some labels will always overlap with the curve, that's OK.\n",
    "- Make a screenshot and put it into your HW4 folder, call it *turtle_with_10_labels.png* (or .jpg)\n",
    "\n",
    "<p>\n",
    "Example:<p>\n",
    "<img src=\"example_output_with_10_labels.png\" alt=\"Drawing\" style=\"width: 500px; float: left;\">"
   ]
  },
  {
   "cell_type": "markdown",
   "metadata": {
    "deletable": false,
    "editable": false,
    "nbgrader": {
     "cell_type": "markdown",
     "checksum": "049795e2e04346e757070ea0231955b3",
     "grade": false,
     "grade_id": "q10d",
     "locked": true,
     "schema_version": 3,
     "solution": false
    }
   },
   "source": [
    "\n",
    "####  Q9 Optional B:  random catastrophic losses [ +0.5 pt]\n",
    "\n",
    "Simulate on or more random catastrophic losses of population, for example:\n",
    "\n",
    "- There's a 10% chance each year that 10-50% of the population dies\n",
    "- Even sneakier: starting with a 1% chance, the chance of catastrophic loss increasese by 1% each year.\n",
    "- Make a screenshot and save as turtle_catastrophy.png (or .jpg)\n",
    "\n"
   ]
  },
  {
   "cell_type": "code",
   "execution_count": 3,
   "metadata": {},
   "outputs": [],
   "source": [
    "# exit turtle on Windows\n",
    "t.exitonclick()"
   ]
  },
  {
   "cell_type": "code",
   "execution_count": null,
   "metadata": {},
   "outputs": [],
   "source": [
    "# exit turtle on Mac. Wait for a bit then click the red x on the window.\n",
    "t.mainloop()"
   ]
  }
 ],
 "metadata": {
  "kernelspec": {
   "display_name": "Python 3 (ipykernel)",
   "language": "python",
   "name": "python3"
  },
  "language_info": {
   "codemirror_mode": {
    "name": "ipython",
    "version": 3
   },
   "file_extension": ".py",
   "mimetype": "text/x-python",
   "name": "python",
   "nbconvert_exporter": "python",
   "pygments_lexer": "ipython3",
   "version": "3.10.11"
  },
  "varInspector": {
   "cols": {
    "lenName": 16,
    "lenType": 16,
    "lenVar": 40
   },
   "kernels_config": {
    "python": {
     "delete_cmd_postfix": "",
     "delete_cmd_prefix": "del ",
     "library": "var_list.py",
     "varRefreshCmd": "print(var_dic_list())"
    },
    "r": {
     "delete_cmd_postfix": ") ",
     "delete_cmd_prefix": "rm(",
     "library": "var_list.r",
     "varRefreshCmd": "cat(var_dic_list()) "
    }
   },
   "types_to_exclude": [
    "module",
    "function",
    "builtin_function_or_method",
    "instance",
    "_Feature"
   ],
   "window_display": false
  }
 },
 "nbformat": 4,
 "nbformat_minor": 2
}
