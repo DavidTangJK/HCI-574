{
 "cells": [
  {
   "cell_type": "markdown",
   "metadata": {},
   "source": [
    "# HCI 574 General HW Instructions\n",
    "\n",
    "\n",
    "### Work through the problems\n",
    "- Answer the questions shown in the HW. Fix anything with ???. Answers to text questions should be given in a printed string, e.g.:  `print(\"This is the answer\")` or as a comment e.g. `# This is the answer`\n",
    "- Ensure that VSCode is set to autosve your notebook! In _Settings_ search for autosave and set it to 1000 ms.\n",
    "- It's fine to create new python cells if you want to try something without changing the offcial cell but please ensure that at the end there's only one cell with your official answer to the question and (__very impotant!__) that that cell as been run/executed so we can see its output. If you want to \"save\" your inofficial cell(s), make sure they are fully commented out!\n",
    "\n",
    "\n",
    "\n",
    "### Handing in the HW\n",
    "- Check that all other files the HW might have (screenshots, data files, etc.) are indeed in the correct HW folder.\n",
    "- Zip your HW folder folder (e.g. into HW1_ALemming.zip). On Windows you can Right-click -> Send To - Compress Folder. Please don't use rar or any other exotic compressors!\n",
    "- Zip your HW folder and hand it into Gradescope\n",
    "\n",
    "\n",
    "### Points\n",
    "\n",
    "The number of points a problem is worth when solved properly is always shown inside brackets at the heading of the problem, e.g.\n",
    "##### Q1 [ 3.5 pts]  This problem is worth 3.5 points\n",
    "\n",
    "Sometimes you may get additional extra credits if we feel your solution is particularly clever, etc. \n",
    "Some problem are entirely __optional__, these will have a + in from of the points, e.g.\n",
    "##### Q2 [ +1 pt ] This *optional* problem is worth 1 point\n",
    "\n",
    "You can solve these optional points to learn more or make up of points you missed in earlier HW. Note however, that there's a cap on the total HW points, if you have more than 100% of HW points the end of the semester, it will be reduced to 100%\n",
    "\n",
    "### Questions?\n",
    "If you have questions or need help, ask me after class, use Piazza or ask the TA during office hours  "
   ]
  },
  {
   "cell_type": "markdown",
   "metadata": {
    "deletable": false,
    "editable": false,
    "nbgrader": {
     "cell_type": "markdown",
     "checksum": "72f7952fc4690255a05f0ba5973df844",
     "grade": false,
     "grade_id": "h",
     "locked": true,
     "schema_version": 3,
     "solution": false
    }
   },
   "source": [
    "# HCI 574 HW7 - plotting a GPS track\n",
    "- most of the material needed for HW7 is in lectures 23 (timedate) and 26 (Pandas dataframe and plotting)\n",
    "- HTML Documentation for: [Pandas](https://pandas.pydata.org/pandas-docs/stable/reference/index.html), [Dataframes](https://pandas.pydata.org/pandas-docs/stable/reference/frame.html), [Series](https://pandas.pydata.org/pandas-docs/stable/reference/series.html) and [plotting](https://pandas.pydata.org/pandas-docs/stable/reference/api/pandas.DataFrame.plot.html) \n",
    "\n",
    "\n",
    "- The spreadsheet file `gps_data.csv` contains a table of GPS locations over time and velocities from a car trip.\n",
    "- Your task is to analyze and plot (graph) the data.\n",
    "\n",
    "```\n",
    "secs \tx \t    y \t    velocity\n",
    "0.67 \t75.56 \t400.59 \t0.5556\n",
    "1.18 \t75.56 \t400.59 \t0.9260  \n",
    "2.37 \t78.05 \t400.40 \t1.8892\n",
    "3.15 \t78.97 \t401.14 \t2.4000\n",
    "...\n",
    "```\n",
    "\n",
    "- The first column (secs) contains the time in seconds at which each measurement was taken (0 = start of trip)\n",
    "- The locations (coordinates) of each GPS measured point is given in x and y columns\n",
    "- The last column contains the velocity of the car at each location (in km/h)"
   ]
  },
  {
   "cell_type": "code",
   "execution_count": null,
   "metadata": {},
   "outputs": [],
   "source": [
    "# I assume that you have installed pandas, numpy and matplotlib as part of lecture 24\n",
    "# if not please put the missing package here and install it via %pip e.g. %pip install pandas\n",
    "%pip install pandas numpy matplotlib"
   ]
  },
  {
   "cell_type": "code",
   "execution_count": 2,
   "metadata": {},
   "outputs": [
    {
     "name": "stderr",
     "output_type": "stream",
     "text": [
      "C:\\Users\\david\\AppData\\Local\\Temp\\ipykernel_28896\\2878128477.py:1: DeprecationWarning: \n",
      "Pyarrow will become a required dependency of pandas in the next major release of pandas (pandas 3.0),\n",
      "(to allow more performant data types, such as the Arrow string type, and better interoperability with other libraries)\n",
      "but was not found to be installed on your system.\n",
      "If this would cause problems for you,\n",
      "please provide us feedback at https://github.com/pandas-dev/pandas/issues/54466\n",
      "        \n",
      "  import pandas as pd\n"
     ]
    },
    {
     "name": "stdout",
     "output_type": "stream",
     "text": [
      "Imports done\n"
     ]
    }
   ],
   "source": [
    "import pandas as pd\n",
    "import sys\n",
    "import numpy as np\n",
    "import matplotlib.pyplot as plt\n",
    "import datetime\n",
    "print(\"Imports done\")\n",
    "\n",
    "# plotting output will be in simple static images\n",
    "%matplotlib inline "
   ]
  },
  {
   "cell_type": "markdown",
   "metadata": {
    "deletable": false,
    "editable": false,
    "nbgrader": {
     "cell_type": "markdown",
     "checksum": "a2bfc1fac85fc0d2e18602bd1da46e30",
     "grade": false,
     "grade_id": "q1t",
     "locked": true,
     "schema_version": 3,
     "solution": false
    }
   },
   "source": [
    "###  Q1: Import a csv file into a dataframe, show column headers and pull out the velocity column [ 2 pts ]\n",
    "- Use pandas to create a dataframe from the csv spreadsheet file.\n",
    "- print out a list of it's column names\n",
    "- make a variable vel that contains the velocity column \n",
    "- print out how many rows vel contains"
   ]
  },
  {
   "cell_type": "code",
   "execution_count": 11,
   "metadata": {
    "deletable": false,
    "nbgrader": {
     "cell_type": "code",
     "checksum": "d0a39cc5442ee1eb3da7442271610182",
     "grade": true,
     "grade_id": "q1c",
     "locked": false,
     "points": 2,
     "schema_version": 3,
     "solution": true
    }
   },
   "outputs": [
    {
     "name": "stdout",
     "output_type": "stream",
     "text": [
      "names of columns are: ['secs', 'x', 'y', 'velocity']\n",
      "<class 'pandas.core.series.Series'>\n",
      "velocity column contains 223 rows\n"
     ]
    }
   ],
   "source": [
    "csv_file = \"gps_data.csv\"\n",
    "\n",
    "# read csv file into a dataframe\n",
    "df = pd.read_csv(csv_file)\n",
    "\n",
    "# print out a list of column names\n",
    "print(\"names of columns are:\", list(df.columns))\n",
    "\n",
    "# make a variable velocity that contains the velocity column (will be a Pandas Series!)\n",
    "velocity =  df['velocity']\n",
    "print(type(velocity))\n",
    "\n",
    "# print out how many rows vel contains (use Pandas to calculate that!)\n",
    "print(\"velocity column contains\", df.shape[0], \"rows\")\n",
    "\n"
   ]
  },
  {
   "cell_type": "markdown",
   "metadata": {
    "deletable": false,
    "editable": false,
    "nbgrader": {
     "cell_type": "markdown",
     "checksum": "673fa0f5182139927f87569c6e01d64d",
     "grade": false,
     "grade_id": "q2t",
     "locked": true,
     "schema_version": 3,
     "solution": false
    }
   },
   "source": [
    "###  Q2: Get the mean velocity and standard deviation [ 1 pt ]\n",
    "- you could use numpy with the velocity Series as we did in lecture 26\n",
    "- or: have the Series calculate its own mean and std.dev.: https://pandas.pydata.org/pandas-docs/stable/reference/api/pandas.Series.html"
   ]
  },
  {
   "cell_type": "code",
   "execution_count": 21,
   "metadata": {
    "deletable": false,
    "nbgrader": {
     "cell_type": "code",
     "checksum": "8c08141eb9aac4cf033a926e01b9c574",
     "grade": true,
     "grade_id": "q2c",
     "locked": false,
     "points": 1,
     "schema_version": 3,
     "solution": true
    }
   },
   "outputs": [
    {
     "name": "stdout",
     "output_type": "stream",
     "text": [
      "mean velocity is 25.859978475336323\n",
      "standard deviation of velocity is is 14.93481492992485\n"
     ]
    }
   ],
   "source": [
    "print(\"mean velocity is\", np.mean(velocity))\n",
    "print(\"standard deviation of velocity is is\", np.std(velocity))\n",
    "\n"
   ]
  },
  {
   "cell_type": "markdown",
   "metadata": {
    "deletable": false,
    "editable": false,
    "nbgrader": {
     "cell_type": "markdown",
     "checksum": "cdee700cb5ee90e6dfa0d1fb54b8de43",
     "grade": false,
     "grade_id": "q2ot",
     "locked": true,
     "schema_version": 3,
     "solution": false
    }
   },
   "source": [
    "###  Q3: Optional: Calculate a point size based on the velocity [ +2 pts ]\n",
    "- Optional:  make a new column psize (for point size) that reflects the velocity at that time\n",
    "- When you get to plotting this data, you will have to experiment with what sizes plot well, but I would go from size 1 to about size 10\n",
    "- You need to have at least 3 different sizes for low, medium and high velocity but it's up to you what velocity values you use as thresholds (you could look at the histogram of the velcity distribution you could create at the end and find two good thresholds)\n",
    "\n",
    "<p>\n",
    "\n",
    "- You could also use a smooth increase of size (starting at 1) up to a max (10?). \n",
    "- It's up to you if that increase is linear or not. (Flannery’s perceptual scaling would suggest that doubling the radius is not perceived as twice the area: https://makingmaps.net/2007/08/28/perceptual-scaling-of-map-symbols/)  \n",
    "- Please leave comments as to what kind of math you're doing!\n",
    "- print out the summary stats for your psize column at the end"
   ]
  },
  {
   "cell_type": "code",
   "execution_count": null,
   "metadata": {
    "deletable": false,
    "nbgrader": {
     "cell_type": "code",
     "checksum": "15a8cbb9ca8d9e21a77d8f2bf4c5def8",
     "grade": true,
     "grade_id": "q2oc",
     "locked": false,
     "points": 0,
     "schema_version": 3,
     "solution": true
    }
   },
   "outputs": [],
   "source": [
    "# Optional: make a new column psize (for point size) that reflects the velocity at that time\n",
    "\n"
   ]
  },
  {
   "cell_type": "markdown",
   "metadata": {
    "deletable": false,
    "editable": false,
    "nbgrader": {
     "cell_type": "markdown",
     "checksum": "ab58825cff98bff85e3e0b2a3a1b522c",
     "grade": false,
     "grade_id": "q3t",
     "locked": true,
     "schema_version": 3,
     "solution": false
    }
   },
   "source": [
    "###  Q4: Calculate the datetime for start and end of the trip [6 pts]\n",
    "- if you need a refresher on how datetime and timedelta works, consult lecture 23"
   ]
  },
  {
   "cell_type": "code",
   "execution_count": 22,
   "metadata": {
    "deletable": false,
    "nbgrader": {
     "cell_type": "code",
     "checksum": "c7c6f090088a08bb6f0445915d2af9ff",
     "grade": true,
     "grade_id": "q3c1",
     "locked": false,
     "points": 1,
     "schema_version": 3,
     "solution": true
    }
   },
   "outputs": [
    {
     "name": "stdout",
     "output_type": "stream",
     "text": [
      "start date/time of trip 2017-03-17 09:45:34\n"
     ]
    }
   ],
   "source": [
    "# The trip started at 9 hours 45 minutes (9:45 am) and 34 seconds on March 17, 2017.  \n",
    "\n",
    "# Create a datetime object from this point in date/time (1 point)\n",
    "start_time = datetime.datetime(2017, 3, 17, 9, 45, 34)\n",
    "print(\"start date/time of trip\", start_time)\n",
    "\n"
   ]
  },
  {
   "cell_type": "code",
   "execution_count": 45,
   "metadata": {
    "deletable": false,
    "nbgrader": {
     "cell_type": "code",
     "checksum": "b51fa476d48f0c571b8a5007a1a78a79",
     "grade": true,
     "grade_id": "q3c2",
     "locked": false,
     "points": 2,
     "schema_version": 3,
     "solution": true
    }
   },
   "outputs": [
    {
     "name": "stdout",
     "output_type": "stream",
     "text": [
      "0    0.00\n",
      "1    1.18\n",
      "2    2.37\n",
      "3    3.15\n",
      "4    4.39\n",
      "Name: secs, dtype: float64\n",
      "trip took 277.73 seconds\n"
     ]
    }
   ],
   "source": [
    "# pull out the column called secs  (1 point)\n",
    "secs = df[\"secs\"]\n",
    "print(secs.head())\n",
    "\n",
    "# figure out how long (how many seconds) the total trip took (1 point)\n",
    "# (hint: this would be the secs value for the last row, which will also be the largest number in that column)\n",
    "trip_length_in_seconds = secs.iloc[-1]\n",
    "print(\"trip took\", trip_length_in_seconds, \"seconds\")\n",
    "\n"
   ]
  },
  {
   "cell_type": "code",
   "execution_count": 49,
   "metadata": {
    "deletable": false,
    "nbgrader": {
     "cell_type": "code",
     "checksum": "708cb130c0118d689b178d722a1f95d1",
     "grade": true,
     "grade_id": "q3c3",
     "locked": false,
     "points": 1,
     "schema_version": 3,
     "solution": true
    }
   },
   "outputs": [
    {
     "name": "stdout",
     "output_type": "stream",
     "text": [
      "trip duration as timedelta object is 277.73 seconds\n"
     ]
    }
   ],
   "source": [
    "# convert the trip length to a timedelta, i.e. a duration.  (1 point)\n",
    "tdiff = datetime.timedelta(seconds=trip_length_in_seconds)\n",
    "print(\"trip duration as timedelta object is\", tdiff.total_seconds(), \"seconds\")\n",
    "\n"
   ]
  },
  {
   "cell_type": "code",
   "execution_count": 50,
   "metadata": {
    "deletable": false,
    "nbgrader": {
     "cell_type": "code",
     "checksum": "ecc0d71c76b1afc89bfb2c59049d3b73",
     "grade": true,
     "grade_id": "q4c4",
     "locked": false,
     "points": 2,
     "schema_version": 3,
     "solution": true
    }
   },
   "outputs": [
    {
     "name": "stdout",
     "output_type": "stream",
     "text": [
      "start date/time of trip 2017-03-17 09:45:34\n",
      "end   date/time of trip 2017-03-17 09:50:11.730000\n"
     ]
    }
   ],
   "source": [
    "# get datetime of the end of the trip (2 points)\n",
    "end_time = start_time + tdiff\n",
    "\n",
    "# print out date/time of start and end of the trip\n",
    "print(\"start date/time of trip\", start_time)\n",
    "print(\"end   date/time of trip\", end_time)\n",
    "\n",
    "\n"
   ]
  },
  {
   "cell_type": "markdown",
   "metadata": {
    "deletable": false,
    "editable": false,
    "nbgrader": {
     "cell_type": "markdown",
     "checksum": "56fe356ca774e5e223eb1683f201057d",
     "grade": false,
     "grade_id": "q5t",
     "locked": true,
     "schema_version": 3,
     "solution": false
    }
   },
   "source": [
    "### Q5: plot the gps data  [ 8 pts ]\n",
    "- to start, look at the scatter plot we did in lecture 26\n",
    "- use the Pandas dataframe's `plot()` method to graph the trip as points (kind='scatter') (1 pt)\n",
    "- example (with optional point sizes):![trip plot](trip_plot_example.png \"Example\")\n",
    "\n",
    "<p>\n",
    "\n",
    "- use the x and y columns of your dataframe as coordinates\n",
    "- set the color to \"blue\" (1 pt)\n",
    "- set the marker size to a good size (maybe 2?) (1 pt)\n",
    "- (if you created the optional psize column, use it to set the marker size \n",
    "\n",
    "<p>\n",
    "\n",
    "- make the plot 10 x 10 inches (1 pt)\n",
    "- set plot limits for x and y to range from -50 to 500 (1 pt)\n",
    "- show a grid (1 pt)\n",
    "- as title, show the trip start and end datetimes (__use str() to convert the datetimes to a string first!__) (2 pts)\n",
    "- make sure to assign the return from plot() to a variable, as we will need that next"
   ]
  },
  {
   "cell_type": "code",
   "execution_count": 54,
   "metadata": {
    "deletable": false,
    "nbgrader": {
     "cell_type": "code",
     "checksum": "6865d6d7d71250740bc63a860628fd89",
     "grade": true,
     "grade_id": "q5c",
     "locked": false,
     "points": 8,
     "schema_version": 3,
     "solution": true
    }
   },
   "outputs": [
    {
     "data": {
      "image/png": "[encoded data removed]",
      "text/plain": [
       "<Figure size 1000x1000 with 1 Axes>"
      ]
     },
     "metadata": {},
     "output_type": "display_data"
    }
   ],
   "source": [
    "p = df.plot(kind='scatter',\n",
    "            x='x',\n",
    "            y='y',\n",
    "            color='blue',\n",
    "            s=3,\n",
    "            figsize=(10, 10),\n",
    "            xlim=(-50, 500),\n",
    "            ylim=(-50, 500),\n",
    "            grid=True,\n",
    "            title=\"start: \" + str(start_time) + \" end: \" + str(end_time),\n",
    "            );\n",
    "\n",
    "\n"
   ]
  },
  {
   "cell_type": "markdown",
   "metadata": {
    "deletable": false,
    "editable": false,
    "nbgrader": {
     "cell_type": "markdown",
     "checksum": "c5c207ce8881ab276ea0f64a078aae42",
     "grade": false,
     "grade_id": "q5ot",
     "locked": true,
     "schema_version": 3,
     "solution": false
    }
   },
   "source": [
    "### Q6: Optional:  Plot points above (\"scatter\") but overplot a line plot  [+ 1] \n",
    "- example:![trip plot](trip_overplot_example.png \"Example\")\n",
    "- you can use any good color\n",
    "- You will need to copy/paste the code of your scatter plot from above into the next cell. Not sure why but otherwise the overplot won't show up.\n",
    "- instead of s for (point) size, use `lw` (linewidth), e.g. `lw=1`\n",
    "- Important: for the line graph to plot over the previous plot p, you will have to create a new plot (p2) and in it the  `ax` argument must be set to p, i.e. `ax=p`\n"
   ]
  },
  {
   "cell_type": "code",
   "execution_count": 55,
   "metadata": {
    "deletable": false,
    "nbgrader": {
     "cell_type": "code",
     "checksum": "a5e67cf7a4e34867a7fbf3b43dd25d45",
     "grade": true,
     "grade_id": "q5oc",
     "locked": false,
     "points": 0,
     "schema_version": 3,
     "solution": true
    }
   },
   "outputs": [
    {
     "data": {
      "image/png": "[encoded data removed]",
      "text/plain": [
       "<Figure size 1000x1000 with 1 Axes>"
      ]
     },
     "metadata": {},
     "output_type": "display_data"
    }
   ],
   "source": [
    "# Optional: overplot scatter plot with a line plot\n",
    "\n",
    "# Copy/paste your scatterplot from above here\n",
    "p = df.plot(kind='scatter',\n",
    "            x='x',\n",
    "            y='y',\n",
    "            color='blue',\n",
    "            s=3,\n",
    "            figsize=(10, 10),\n",
    "            xlim=(-50, 500),\n",
    "            ylim=(-50, 500),\n",
    "            grid=True,\n",
    "            title=\"start: \" + str(start_time) + \" end: \" + str(end_time),\n",
    "            );\n",
    "\n",
    "# in your line plot, remember to set ax=p so it plots on top of the scatter plot!\n",
    "p2 = df.plot(kind='line',\n",
    "             x='x',\n",
    "             y='y',\n",
    "             lw=1,\n",
    "             ax=p,\n",
    "             color='purple')\n",
    "\n"
   ]
  },
  {
   "cell_type": "markdown",
   "metadata": {
    "deletable": false,
    "editable": false,
    "nbgrader": {
     "cell_type": "markdown",
     "checksum": "e83df566f1c9fc1f9ef7eebc5a1d7666",
     "grade": false,
     "grade_id": "q6t",
     "locked": true,
     "schema_version": 3,
     "solution": false
    }
   },
   "source": [
    "### Q7: Save plot a pdf (programatically!) [2 pts] \n",
    "- Saving via the interactive plot viewer doesn't count!\n",
    "- make sure you've set the paper size (10 by 10) via `figsize` in `plot()`\n",
    "- get the figure from the axes (p) (or p2 if you did the scatter + line plot)\n",
    "- using the figure save the plot as `gpsplot.pdf`"
   ]
  },
  {
   "cell_type": "code",
   "execution_count": 53,
   "metadata": {
    "deletable": false,
    "nbgrader": {
     "cell_type": "code",
     "checksum": "be84df4688a9677f41e09e09743bdd85",
     "grade": true,
     "grade_id": "q6c",
     "locked": false,
     "points": 2,
     "schema_version": 3,
     "solution": true
    }
   },
   "outputs": [],
   "source": [
    "fig = p2.get_figure()\n",
    "fig.savefig(\"gpsplot.pdf\")"
   ]
  },
  {
   "cell_type": "markdown",
   "metadata": {
    "deletable": false,
    "editable": false,
    "nbgrader": {
     "cell_type": "markdown",
     "checksum": "0c271afda13db8b2c777787e1e93033d",
     "grade": false,
     "grade_id": "q6ot",
     "locked": true,
     "schema_version": 3,
     "solution": false
    }
   },
   "source": [
    "### Q8: Optional: Plot histogram of the velocity  [ +1 pts ]\n",
    "- use a binsize of 2 (but ... you need to create a list of bin boundaries between the lowest and highest velocity values first.)\n",
    "- save the plot as histo.pdf\n"
   ]
  },
  {
   "cell_type": "code",
   "execution_count": 60,
   "metadata": {
    "deletable": false,
    "nbgrader": {
     "cell_type": "code",
     "checksum": "b7fd3846b0876a0256b8cfa72651ab07",
     "grade": true,
     "grade_id": "q6oc",
     "locked": false,
     "points": 0,
     "schema_version": 3,
     "solution": true
    }
   },
   "outputs": [
    {
     "name": "stdout",
     "output_type": "stream",
     "text": [
      "0.1852\n"
     ]
    },
    {
     "data": {
      "image/png": "[encoded data removed]",
      "text/plain": [
       "<Figure size 1000x1000 with 1 Axes>"
      ]
     },
     "metadata": {},
     "output_type": "display_data"
    }
   ],
   "source": [
    "# Optional: Plot histogram of the velocity\n",
    "bin_list = range(round(df['velocity'].min()), round(df['velocity'].max()), 2)\n",
    "\n",
    "p3 = df['velocity'].plot(kind='hist',\n",
    "                         grid=True,\n",
    "                         ax=None,\n",
    "                         figsize=(10,10),\n",
    "                         title=\"Histogram of velocity for gps data\",\n",
    "                         bins=bin_list)\n",
    "\n"
   ]
  }
 ],
 "metadata": {
  "kernelspec": {
   "display_name": "Python 3 (ipykernel)",
   "language": "python",
   "name": "python3"
  },
  "language_info": {
   "codemirror_mode": {
    "name": "ipython",
    "version": 3
   },
   "file_extension": ".py",
   "mimetype": "text/x-python",
   "name": "python",
   "nbconvert_exporter": "python",
   "pygments_lexer": "ipython3",
   "version": "3.10.11"
  },
  "varInspector": {
   "cols": {
    "lenName": 16,
    "lenType": 16,
    "lenVar": 40
   },
   "kernels_config": {
    "python": {
     "delete_cmd_postfix": "",
     "delete_cmd_prefix": "del ",
     "library": "var_list.py",
     "varRefreshCmd": "print(var_dic_list())"
    },
    "r": {
     "delete_cmd_postfix": ") ",
     "delete_cmd_prefix": "rm(",
     "library": "var_list.r",
     "varRefreshCmd": "cat(var_dic_list()) "
    }
   },
   "types_to_exclude": [
    "module",
    "function",
    "builtin_function_or_method",
    "instance",
    "_Feature"
   ],
   "window_display": false
  }
 },
 "nbformat": 4,
 "nbformat_minor": 2
}
