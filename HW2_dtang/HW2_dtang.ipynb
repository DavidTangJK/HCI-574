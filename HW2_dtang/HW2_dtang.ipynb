{
 "cells": [
  {
   "cell_type": "markdown",
   "metadata": {},
   "source": [
    "# HCI 574 General HW Instructions\n",
    "\n",
    "\n",
    "### Work through the problems\n",
    "- Answer the questions shown in the HW. Fix anything with ???. Answers to text questions should be given in a printed string, e.g.:  `print(\"This is the answer\")` or as a comment e.g. `# This is the answer`\n",
    "- Ensure that VSCode is set to autosve your notebook! In _Settings_ search for autosave and set it to 1000 ms.\n",
    "- It's fine to create new python cells if you want to try something without changing the offcial cell but please ensure that at the end there's only one cell with your official answer to the question and (__very impotant!__) that that cell as been run/executed so we can see its output. If you want to \"save\" your inofficial cell(s), make sure they are fully commented out!\n",
    "\n",
    "\n",
    "\n",
    "### Handing in the HW\n",
    "- Check that all other files the HW might have (screenshots, data files, etc.) are indeed in the correct HW folder.\n",
    "- Zip your HW folder folder (e.g. into HW1_ALemming.zip). On Windows you can Right-click -> Send To - Compress Folder. Please don't use rar or any other exotic compressors!\n",
    "- Zip your HW folder and hand it into Gradescope\n",
    "\n",
    "\n",
    "### Points\n",
    "\n",
    "The number of points a problem is worth when solved properly is always shown inside brackets at the heading of the problem, e.g.\n",
    "##### Q1 [ 3.5 pts]  This problem is worth 3.5 points\n",
    "\n",
    "Sometimes you may get additional extra credits if we feel your solution is particularly clever, etc. \n",
    "Some problem are entirely __optional__, these will have a + in from of the points, e.g.\n",
    "##### Q2 [ +1 pt ] This *optional* problem is worth 1 point\n",
    "\n",
    "You can solve these optional points to learn more or make up of points you missed in earlier HW. Note however, that there's a cap on the total HW points, if you have more than 100% of HW points the end of the semester, it will be reduced to 100%\n",
    "\n",
    "### Questions?\n",
    "If you have questions or need help, ask me after class, use Piazza or ask the TA during office hours  "
   ]
  },
  {
   "cell_type": "markdown",
   "metadata": {},
   "source": []
  },
  {
   "cell_type": "markdown",
   "metadata": {
    "deletable": false,
    "editable": false,
    "nbgrader": {
     "cell_type": "markdown",
     "checksum": "28f2605ce0b78463d37a9caa2285fc93",
     "grade": false,
     "grade_id": "title",
     "locked": true,
     "schema_version": 3,
     "solution": false,
     "task": false
    }
   },
   "source": [
    "# HCI574 HW2 \n",
    "\n",
    "- For this HW you will use weather data contained in a __nested data structure__.\n",
    "- You will dissect this  data struture into smaller, simpler parts\n",
    "- Note: It used to be possible to request live multi day weather data like this from yahoo, but that's now defunct, so you will have to use this old data set from 2018 instead. \n",
    "- If you're curious about a \"live\" dataset, look at the end of of lecture 8 which shows how to access weather data from openmeteo"
   ]
  },
  {
   "cell_type": "code",
   "execution_count": 2,
   "metadata": {
    "deletable": false,
    "editable": false,
    "nbgrader": {
     "cell_type": "code",
     "checksum": "7dbd8c43626a76350ada02632994a45b",
     "grade": false,
     "grade_id": "intro1",
     "locked": true,
     "schema_version": 3,
     "solution": false,
     "task": false
    }
   },
   "outputs": [],
   "source": [
    "w = {'current_conditions': {'barometer': {'direction': '', 'reading': '28.59'},\n",
    "                        'dewpoint': '28',\n",
    "                        'feels_like': '30',\n",
    "                        'humidity': '68',\n",
    "                        'icon': '26',\n",
    "                        'last_updated': '12/30/18 7:53 PM CST',\n",
    "                        'moon_phase': {'icon': '1', 'text': 'Waxing Crescent'},\n",
    "                        'station': 'Ames, IA, US',\n",
    "                        'temperature': '38',\n",
    "                        'text': 'Cloudy',\n",
    "                        'uv': {'index': '0', 'text': 'Low'},\n",
    "                        'visibility': '10.0',\n",
    "                        'wind': {'direction': '230',\n",
    "                                 'gust': 'N/A',\n",
    "                                 'speed': '13',\n",
    "                                 'text': 'SW'}},\n",
    "  'forecasts':[{'date': 'Dec 31',\n",
    "                'day': {'brief_text': 'Clear',\n",
    "                        'chance_precip': '0',\n",
    "                        'humidity': '0',\n",
    "                        'icon': '',\n",
    "                        'text': '',\n",
    "                        'wind': {'direction': '0',\n",
    "                                 'gust': 'N/A',\n",
    "                                 'speed': 'calm',\n",
    "                                 'text': 'CALM'}},\n",
    "                'day_of_week': 'Friday',\n",
    "                'high': '38',\n",
    "                'low': '29',\n",
    "                'night': {'brief_text': 'P Cloudy',\n",
    "                          'chance_precip': '10',\n",
    "                          'humidity': '79',\n",
    "                          'icon': '29',\n",
    "                          'text': 'Partly Cloudy',\n",
    "                          'wind': {'direction': '0',\n",
    "                                   'gust': 'N/A',\n",
    "                                   'speed': 'calm',\n",
    "                                   'text': 'CALM'}},\n",
    "                'sunrise': '7:43 AM',\n",
    "                'sunset': '4:52 PM'},\n",
    "               {'date': 'Jan 1',\n",
    "                'day': {'brief_text': 'M Sunny',\n",
    "                        'chance_precip': '0',\n",
    "                        'humidity': '72',\n",
    "                        'icon': '34',\n",
    "                        'text': 'Mostly Sunny',\n",
    "                        'wind': {'direction': '305',\n",
    "                                 'gust': 'N/A',\n",
    "                                 'speed': '18',\n",
    "                                 'text': 'NW'}},\n",
    "                'day_of_week': 'Saturday',\n",
    "                'high': '32',\n",
    "                'low': '22',\n",
    "                'night': {'brief_text': 'Clear',\n",
    "                          'chance_precip': '0',\n",
    "                          'humidity': '83',\n",
    "                          'icon': '31',\n",
    "                          'text': 'Clear',\n",
    "                          'wind': {'direction': '305',\n",
    "                                   'gust': 'N/A',\n",
    "                                   'speed': '18',\n",
    "                                   'text': 'NW'}},\n",
    "                'sunrise': '7:43 AM',\n",
    "                'sunset': '4:52 PM'},\n",
    "               {'date': 'Jan 2',\n",
    "                'day': {'brief_text': 'M Cloudy',\n",
    "                        'chance_precip': '0',\n",
    "                        'humidity': '70',\n",
    "                        'icon': '28',\n",
    "                        'text': 'Mostly Cloudy',\n",
    "                        'wind': {'direction': '162',\n",
    "                                 'gust': 'N/A',\n",
    "                                 'speed': '11',\n",
    "                                 'text': 'SSE'}},\n",
    "                'day_of_week': 'Sunday',\n",
    "                'high': '40',\n",
    "                'low': '32',\n",
    "                'night': {'brief_text': 'Shwrs Late',\n",
    "                          'chance_precip': '40',\n",
    "                          'humidity': '83',\n",
    "                          'icon': '45',\n",
    "                          'text': 'Showers Late',\n",
    "                          'wind': {'direction': '162',\n",
    "                                   'gust': 'N/A',\n",
    "                                   'speed': '11',\n",
    "                                   'text': 'SSE'}},\n",
    "                'sunrise': '7:43 AM',\n",
    "                'sunset': '4:52 PM'},\n",
    "               {'date': 'Jan 3',\n",
    "                'day': {'brief_text': 'T-Storms',\n",
    "                        'chance_precip': '90',\n",
    "                        'humidity': '97',\n",
    "                        'icon': '4',\n",
    "                        'text': 'T-Storms',\n",
    "                        'wind': {'direction': '133',\n",
    "                                 'gust': 'N/A',\n",
    "                                 'speed': '12',\n",
    "                                 'text': 'SE'}},\n",
    "                'day_of_week': 'Monday',\n",
    "                'high': '41',\n",
    "                'low': '26',\n",
    "                'night': {'brief_text': 'Shwrs Early',\n",
    "                          'chance_precip': '40',\n",
    "                          'humidity': '85',\n",
    "                          'icon': '45',\n",
    "                          'text': 'Showers Early',\n",
    "                          'wind': {'direction': '133',\n",
    "                                   'gust': 'N/A',\n",
    "                                   'speed': '12',\n",
    "                                   'text': 'SE'}},\n",
    "                'sunrise': '7:43 AM',\n",
    "                'sunset': '4:52 PM'},\n",
    "               {'date': 'Jan 4',\n",
    "                'day': {'brief_text': 'P Cldy/Wind',\n",
    "                        'chance_precip': '0',\n",
    "                        'humidity': '62',\n",
    "                        'icon': '24',\n",
    "                        'text': 'Partly Cloudy / Wind',\n",
    "                        'wind': {'direction': '302',\n",
    "                                 'gust': 'N/A',\n",
    "                                 'speed': '23',\n",
    "                                 'text': 'WNW'}},\n",
    "                'day_of_week': 'Tuesday',\n",
    "                'high': '27',\n",
    "                'low': '8',\n",
    "                'night': {'brief_text': 'P Cldy/Wind',\n",
    "                          'chance_precip': '0',\n",
    "                          'humidity': '59',\n",
    "                          'icon': '24',\n",
    "                          'text': 'Partly Cloudy / Wind',\n",
    "                          'wind': {'direction': '302',\n",
    "                                   'gust': 'N/A',\n",
    "                                   'speed': '23',\n",
    "                                   'text': 'WNW'}},\n",
    "                'sunrise': '7:43 AM',\n",
    "                'sunset': '4:52 PM'}\n",
    "              ],\n",
    "  'location': {'lat': '42.03', 'lon': '-93.62', 'name': 'Ames, IA (50010)'},\n",
    "  'units': {'distance': 'mi',\n",
    "           'pressure': 'in',\n",
    "           'rainfall': 'in',\n",
    "           'speed': 'mph',\n",
    "           'temperature': 'F'}\n",
    "}"
   ]
  },
  {
   "cell_type": "code",
   "execution_count": 3,
   "metadata": {
    "deletable": false,
    "editable": false,
    "nbgrader": {
     "cell_type": "code",
     "checksum": "8bb90a18feea5c5db4e4940de1936878",
     "grade": false,
     "grade_id": "intro2",
     "locked": true,
     "schema_version": 3,
     "solution": false,
     "task": false
    }
   },
   "outputs": [
    {
     "name": "stdout",
     "output_type": "stream",
     "text": [
      "{'current_conditions': {'barometer': {'direction': '', 'reading': '28.59'},\n",
      "                        'dewpoint': '28',\n",
      "                        'feels_like': '30',\n",
      "                        'humidity': '68',\n",
      "                        'icon': '26',\n",
      "                        'last_updated': '12/30/18 7:53 PM CST',\n",
      "                        'moon_phase': {'icon': '1', 'text': 'Waxing Crescent'},\n",
      "                        'station': 'Ames, IA, US',\n",
      "                        'temperature': '38',\n",
      "                        'text': 'Cloudy',\n",
      "                        'uv': {'index': '0', 'text': 'Low'},\n",
      "                        'visibility': '10.0',\n",
      "                        'wind': {'direction': '230',\n",
      "                                 'gust': 'N/A',\n",
      "                                 'speed': '13',\n",
      "                                 'text': 'SW'}},\n",
      " 'forecasts': [{'date': 'Dec 31',\n",
      "                'day': {'brief_text': 'Clear',\n",
      "                        'chance_precip': '0',\n",
      "                        'humidity': '0',\n",
      "                        'icon': '',\n",
      "                        'text': '',\n",
      "                        'wind': {'direction': '0',\n",
      "                                 'gust': 'N/A',\n",
      "                                 'speed': 'calm',\n",
      "                                 'text': 'CALM'}},\n",
      "                'day_of_week': 'Friday',\n",
      "                'high': '38',\n",
      "                'low': '29',\n",
      "                'night': {'brief_text': 'P Cloudy',\n",
      "                          'chance_precip': '10',\n",
      "                          'humidity': '79',\n",
      "                          'icon': '29',\n",
      "                          'text': 'Partly Cloudy',\n",
      "                          'wind': {'direction': '0',\n",
      "                                   'gust': 'N/A',\n",
      "                                   'speed': 'calm',\n",
      "                                   'text': 'CALM'}},\n",
      "                'sunrise': '7:43 AM',\n",
      "                'sunset': '4:52 PM'},\n",
      "               {'date': 'Jan 1',\n",
      "                'day': {'brief_text': 'M Sunny',\n",
      "                        'chance_precip': '0',\n",
      "                        'humidity': '72',\n",
      "                        'icon': '34',\n",
      "                        'text': 'Mostly Sunny',\n",
      "                        'wind': {'direction': '305',\n",
      "                                 'gust': 'N/A',\n",
      "                                 'speed': '18',\n",
      "                                 'text': 'NW'}},\n",
      "                'day_of_week': 'Saturday',\n",
      "                'high': '32',\n",
      "                'low': '22',\n",
      "                'night': {'brief_text': 'Clear',\n",
      "                          'chance_precip': '0',\n",
      "                          'humidity': '83',\n",
      "                          'icon': '31',\n",
      "                          'text': 'Clear',\n",
      "                          'wind': {'direction': '305',\n",
      "                                   'gust': 'N/A',\n",
      "                                   'speed': '18',\n",
      "                                   'text': 'NW'}},\n",
      "                'sunrise': '7:43 AM',\n",
      "                'sunset': '4:52 PM'},\n",
      "               {'date': 'Jan 2',\n",
      "                'day': {'brief_text': 'M Cloudy',\n",
      "                        'chance_precip': '0',\n",
      "                        'humidity': '70',\n",
      "                        'icon': '28',\n",
      "                        'text': 'Mostly Cloudy',\n",
      "                        'wind': {'direction': '162',\n",
      "                                 'gust': 'N/A',\n",
      "                                 'speed': '11',\n",
      "                                 'text': 'SSE'}},\n",
      "                'day_of_week': 'Sunday',\n",
      "                'high': '40',\n",
      "                'low': '32',\n",
      "                'night': {'brief_text': 'Shwrs Late',\n",
      "                          'chance_precip': '40',\n",
      "                          'humidity': '83',\n",
      "                          'icon': '45',\n",
      "                          'text': 'Showers Late',\n",
      "                          'wind': {'direction': '162',\n",
      "                                   'gust': 'N/A',\n",
      "                                   'speed': '11',\n",
      "                                   'text': 'SSE'}},\n",
      "                'sunrise': '7:43 AM',\n",
      "                'sunset': '4:52 PM'},\n",
      "               {'date': 'Jan 3',\n",
      "                'day': {'brief_text': 'T-Storms',\n",
      "                        'chance_precip': '90',\n",
      "                        'humidity': '97',\n",
      "                        'icon': '4',\n",
      "                        'text': 'T-Storms',\n",
      "                        'wind': {'direction': '133',\n",
      "                                 'gust': 'N/A',\n",
      "                                 'speed': '12',\n",
      "                                 'text': 'SE'}},\n",
      "                'day_of_week': 'Monday',\n",
      "                'high': '41',\n",
      "                'low': '26',\n",
      "                'night': {'brief_text': 'Shwrs Early',\n",
      "                          'chance_precip': '40',\n",
      "                          'humidity': '85',\n",
      "                          'icon': '45',\n",
      "                          'text': 'Showers Early',\n",
      "                          'wind': {'direction': '133',\n",
      "                                   'gust': 'N/A',\n",
      "                                   'speed': '12',\n",
      "                                   'text': 'SE'}},\n",
      "                'sunrise': '7:43 AM',\n",
      "                'sunset': '4:52 PM'},\n",
      "               {'date': 'Jan 4',\n",
      "                'day': {'brief_text': 'P Cldy/Wind',\n",
      "                        'chance_precip': '0',\n",
      "                        'humidity': '62',\n",
      "                        'icon': '24',\n",
      "                        'text': 'Partly Cloudy / Wind',\n",
      "                        'wind': {'direction': '302',\n",
      "                                 'gust': 'N/A',\n",
      "                                 'speed': '23',\n",
      "                                 'text': 'WNW'}},\n",
      "                'day_of_week': 'Tuesday',\n",
      "                'high': '27',\n",
      "                'low': '8',\n",
      "                'night': {'brief_text': 'P Cldy/Wind',\n",
      "                          'chance_precip': '0',\n",
      "                          'humidity': '59',\n",
      "                          'icon': '24',\n",
      "                          'text': 'Partly Cloudy / Wind',\n",
      "                          'wind': {'direction': '302',\n",
      "                                   'gust': 'N/A',\n",
      "                                   'speed': '23',\n",
      "                                   'text': 'WNW'}},\n",
      "                'sunrise': '7:43 AM',\n",
      "                'sunset': '4:52 PM'}],\n",
      " 'location': {'lat': '42.03', 'lon': '-93.62', 'name': 'Ames, IA (50010)'},\n",
      " 'units': {'distance': 'mi',\n",
      "           'pressure': 'in',\n",
      "           'rainfall': 'in',\n",
      "           'speed': 'mph',\n",
      "           'temperature': 'F'}}\n"
     ]
    }
   ],
   "source": [
    "# import the pprint function, which formats complex data to be more human readable\n",
    "from pprint import pprint \n",
    "pprint(w) "
   ]
  },
  {
   "cell_type": "markdown",
   "metadata": {
    "deletable": false,
    "editable": false,
    "nbgrader": {
     "cell_type": "markdown",
     "checksum": "22b4a421d0420a033f9a3e73dec54a3c",
     "grade": false,
     "grade_id": "q1d",
     "locked": true,
     "schema_version": 3,
     "solution": false
    }
   },
   "source": [
    "### [0.5 pt] type of w\n",
    "\n",
    "Looking at the above printout of w, what type of container is w? (list, dictionary, string ?) Explain your choice."
   ]
  },
  {
   "cell_type": "code",
   "execution_count": 4,
   "metadata": {
    "deletable": false,
    "nbgrader": {
     "cell_type": "code",
     "checksum": "f178c606c30b434fd77d708dd926d47d",
     "grade": true,
     "grade_id": "d1c",
     "locked": false,
     "points": 0.5,
     "schema_version": 3,
     "solution": true
    }
   },
   "outputs": [
    {
     "name": "stdout",
     "output_type": "stream",
     "text": [
      "w is a dictionary b/c it starts and ends with curly brackets\n"
     ]
    }
   ],
   "source": [
    "print(\"w is a dictionary b/c it starts and ends with curly brackets\")\n",
    "\n"
   ]
  },
  {
   "cell_type": "markdown",
   "metadata": {
    "deletable": false,
    "editable": false,
    "nbgrader": {
     "cell_type": "markdown",
     "checksum": "1713f369972031a12b2a657b5714381d",
     "grade": false,
     "grade_id": "q2d",
     "locked": true,
     "schema_version": 3,
     "solution": false
    }
   },
   "source": [
    "### [ 0.5 pt ] how many items in w?\n",
    "At it's \"top level\" how many items does w contain? Use a __function__ for counting how many items it contains (i.e. don't just human-count it and fill in that number!)"
   ]
  },
  {
   "cell_type": "code",
   "execution_count": 5,
   "metadata": {
    "deletable": false,
    "nbgrader": {
     "cell_type": "code",
     "checksum": "f943fab290c35bf632b0a93b5581a515",
     "grade": true,
     "grade_id": "q2c",
     "locked": false,
     "points": 0.5,
     "schema_version": 3,
     "solution": true
    }
   },
   "outputs": [
    {
     "name": "stdout",
     "output_type": "stream",
     "text": [
      "the dictionary w contains 4 items at top level\n"
     ]
    }
   ],
   "source": [
    "num_items = len(w) \n",
    "print(\"the dictionary w contains\", num_items, \"items at top level\")\n",
    "\n"
   ]
  },
  {
   "cell_type": "markdown",
   "metadata": {
    "deletable": false,
    "editable": false,
    "nbgrader": {
     "cell_type": "markdown",
     "checksum": "422a7cacf5bc2be64b3e1af24dcf6212",
     "grade": false,
     "grade_id": "q3d",
     "locked": true,
     "schema_version": 3,
     "solution": false
    }
   },
   "source": [
    "### [ 1 pt ] get a list of keys\n",
    "\n",
    "Get the keys that (the top level of) w contains and convert them into a __standard list__"
   ]
  },
  {
   "cell_type": "code",
   "execution_count": 8,
   "metadata": {
    "deletable": false,
    "nbgrader": {
     "cell_type": "code",
     "checksum": "fb6507c1097ffccd21ff9c25fcb29216",
     "grade": true,
     "grade_id": "q3c",
     "locked": false,
     "points": 1,
     "schema_version": 3,
     "solution": true
    }
   },
   "outputs": [
    {
     "name": "stdout",
     "output_type": "stream",
     "text": [
      "\n",
      "w contains these keys: ['current_conditions', 'forecasts', 'location', 'units']\n"
     ]
    }
   ],
   "source": [
    "list_of_keys = list(w.keys())\n",
    "print(\"\\nw contains these keys:\", list_of_keys)\n",
    "\n"
   ]
  },
  {
   "cell_type": "markdown",
   "metadata": {
    "deletable": false,
    "editable": false,
    "nbgrader": {
     "cell_type": "markdown",
     "checksum": "9c8833508b7ac9bf5882affd287b567a",
     "grade": false,
     "grade_id": "q4d",
     "locked": true,
     "schema_version": 3,
     "solution": false
    }
   },
   "source": [
    "### [ 1 pt ] value for 'forecasts'?\n",
    "\n",
    "One of the keys in w is called `'forecasts'`. \n",
    "Get the __value__ for this key and store it in the variable __fc__."
   ]
  },
  {
   "cell_type": "code",
   "execution_count": 9,
   "metadata": {
    "deletable": false,
    "nbgrader": {
     "cell_type": "code",
     "checksum": "f52114b89cb70349977833f63793c966",
     "grade": true,
     "grade_id": "q4c",
     "locked": false,
     "points": 1,
     "schema_version": 3,
     "solution": true
    }
   },
   "outputs": [
    {
     "name": "stdout",
     "output_type": "stream",
     "text": [
      "\n",
      "The value of fc is:\n",
      "[{'date': 'Dec 31',\n",
      "  'day': {'brief_text': 'Clear',\n",
      "          'chance_precip': '0',\n",
      "          'humidity': '0',\n",
      "          'icon': '',\n",
      "          'text': '',\n",
      "          'wind': {'direction': '0',\n",
      "                   'gust': 'N/A',\n",
      "                   'speed': 'calm',\n",
      "                   'text': 'CALM'}},\n",
      "  'day_of_week': 'Friday',\n",
      "  'high': '38',\n",
      "  'low': '29',\n",
      "  'night': {'brief_text': 'P Cloudy',\n",
      "            'chance_precip': '10',\n",
      "            'humidity': '79',\n",
      "            'icon': '29',\n",
      "            'text': 'Partly Cloudy',\n",
      "            'wind': {'direction': '0',\n",
      "                     'gust': 'N/A',\n",
      "                     'speed': 'calm',\n",
      "                     'text': 'CALM'}},\n",
      "  'sunrise': '7:43 AM',\n",
      "  'sunset': '4:52 PM'},\n",
      " {'date': 'Jan 1',\n",
      "  'day': {'brief_text': 'M Sunny',\n",
      "          'chance_precip': '0',\n",
      "          'humidity': '72',\n",
      "          'icon': '34',\n",
      "          'text': 'Mostly Sunny',\n",
      "          'wind': {'direction': '305',\n",
      "                   'gust': 'N/A',\n",
      "                   'speed': '18',\n",
      "                   'text': 'NW'}},\n",
      "  'day_of_week': 'Saturday',\n",
      "  'high': '32',\n",
      "  'low': '22',\n",
      "  'night': {'brief_text': 'Clear',\n",
      "            'chance_precip': '0',\n",
      "            'humidity': '83',\n",
      "            'icon': '31',\n",
      "            'text': 'Clear',\n",
      "            'wind': {'direction': '305',\n",
      "                     'gust': 'N/A',\n",
      "                     'speed': '18',\n",
      "                     'text': 'NW'}},\n",
      "  'sunrise': '7:43 AM',\n",
      "  'sunset': '4:52 PM'},\n",
      " {'date': 'Jan 2',\n",
      "  'day': {'brief_text': 'M Cloudy',\n",
      "          'chance_precip': '0',\n",
      "          'humidity': '70',\n",
      "          'icon': '28',\n",
      "          'text': 'Mostly Cloudy',\n",
      "          'wind': {'direction': '162',\n",
      "                   'gust': 'N/A',\n",
      "                   'speed': '11',\n",
      "                   'text': 'SSE'}},\n",
      "  'day_of_week': 'Sunday',\n",
      "  'high': '40',\n",
      "  'low': '32',\n",
      "  'night': {'brief_text': 'Shwrs Late',\n",
      "            'chance_precip': '40',\n",
      "            'humidity': '83',\n",
      "            'icon': '45',\n",
      "            'text': 'Showers Late',\n",
      "            'wind': {'direction': '162',\n",
      "                     'gust': 'N/A',\n",
      "                     'speed': '11',\n",
      "                     'text': 'SSE'}},\n",
      "  'sunrise': '7:43 AM',\n",
      "  'sunset': '4:52 PM'},\n",
      " {'date': 'Jan 3',\n",
      "  'day': {'brief_text': 'T-Storms',\n",
      "          'chance_precip': '90',\n",
      "          'humidity': '97',\n",
      "          'icon': '4',\n",
      "          'text': 'T-Storms',\n",
      "          'wind': {'direction': '133',\n",
      "                   'gust': 'N/A',\n",
      "                   'speed': '12',\n",
      "                   'text': 'SE'}},\n",
      "  'day_of_week': 'Monday',\n",
      "  'high': '41',\n",
      "  'low': '26',\n",
      "  'night': {'brief_text': 'Shwrs Early',\n",
      "            'chance_precip': '40',\n",
      "            'humidity': '85',\n",
      "            'icon': '45',\n",
      "            'text': 'Showers Early',\n",
      "            'wind': {'direction': '133',\n",
      "                     'gust': 'N/A',\n",
      "                     'speed': '12',\n",
      "                     'text': 'SE'}},\n",
      "  'sunrise': '7:43 AM',\n",
      "  'sunset': '4:52 PM'},\n",
      " {'date': 'Jan 4',\n",
      "  'day': {'brief_text': 'P Cldy/Wind',\n",
      "          'chance_precip': '0',\n",
      "          'humidity': '62',\n",
      "          'icon': '24',\n",
      "          'text': 'Partly Cloudy / Wind',\n",
      "          'wind': {'direction': '302',\n",
      "                   'gust': 'N/A',\n",
      "                   'speed': '23',\n",
      "                   'text': 'WNW'}},\n",
      "  'day_of_week': 'Tuesday',\n",
      "  'high': '27',\n",
      "  'low': '8',\n",
      "  'night': {'brief_text': 'P Cldy/Wind',\n",
      "            'chance_precip': '0',\n",
      "            'humidity': '59',\n",
      "            'icon': '24',\n",
      "            'text': 'Partly Cloudy / Wind',\n",
      "            'wind': {'direction': '302',\n",
      "                     'gust': 'N/A',\n",
      "                     'speed': '23',\n",
      "                     'text': 'WNW'}},\n",
      "  'sunrise': '7:43 AM',\n",
      "  'sunset': '4:52 PM'}]\n"
     ]
    }
   ],
   "source": [
    "fc = w['forecasts']\n",
    "print(\"\\nThe value of fc is:\")   \n",
    "pprint(fc)\n",
    "\n"
   ]
  },
  {
   "cell_type": "markdown",
   "metadata": {
    "deletable": false,
    "editable": false,
    "nbgrader": {
     "cell_type": "markdown",
     "checksum": "73563de654ff9e48d8bc145968e71f9c",
     "grade": false,
     "grade_id": "q5d",
     "locked": true,
     "schema_version": 3,
     "solution": false
    }
   },
   "source": [
    "### [ 0.5 pt ] What is fc's type?\n",
    "\n",
    "Figure out fc's type (dictionary, string, list, number, etc.) and explain why.\n"
   ]
  },
  {
   "cell_type": "code",
   "execution_count": null,
   "metadata": {
    "deletable": false,
    "nbgrader": {
     "cell_type": "code",
     "checksum": "ef46fd2db4fe9ae24f1c36e46919b5da",
     "grade": true,
     "grade_id": "q5c",
     "locked": false,
     "points": 0.5,
     "schema_version": 3,
     "solution": true
    }
   },
   "outputs": [],
   "source": [
    "pprint(fc)\n",
    "print(\"fc is a list b/c it starts and ends with square brackets\")\n",
    "\n",
    "\n"
   ]
  },
  {
   "cell_type": "markdown",
   "metadata": {
    "deletable": false,
    "editable": false,
    "nbgrader": {
     "cell_type": "markdown",
     "checksum": "f7c3f70924574c81e2c184939f98faca",
     "grade": false,
     "grade_id": "q6d",
     "locked": true,
     "schema_version": 3,
     "solution": false
    }
   },
   "source": [
    "### [ 1 pt ] get the info for the first day\n",
    "\n",
    "There are always five days worth of forecast information stored in fc. Grab the information for the first day. Hint: use an index, not a slice!"
   ]
  },
  {
   "cell_type": "code",
   "execution_count": 10,
   "metadata": {
    "deletable": false,
    "nbgrader": {
     "cell_type": "code",
     "checksum": "1048e0f0b1953f1cb9b0b6a21e1026c0",
     "grade": true,
     "grade_id": "q6c",
     "locked": false,
     "points": 1,
     "schema_version": 3,
     "solution": true
    }
   },
   "outputs": [
    {
     "name": "stdout",
     "output_type": "stream",
     "text": [
      "\n",
      "The value of first_day is:\n",
      "{'date': 'Dec 31',\n",
      " 'day': {'brief_text': 'Clear',\n",
      "         'chance_precip': '0',\n",
      "         'humidity': '0',\n",
      "         'icon': '',\n",
      "         'text': '',\n",
      "         'wind': {'direction': '0',\n",
      "                  'gust': 'N/A',\n",
      "                  'speed': 'calm',\n",
      "                  'text': 'CALM'}},\n",
      " 'day_of_week': 'Friday',\n",
      " 'high': '38',\n",
      " 'low': '29',\n",
      " 'night': {'brief_text': 'P Cloudy',\n",
      "           'chance_precip': '10',\n",
      "           'humidity': '79',\n",
      "           'icon': '29',\n",
      "           'text': 'Partly Cloudy',\n",
      "           'wind': {'direction': '0',\n",
      "                    'gust': 'N/A',\n",
      "                    'speed': 'calm',\n",
      "                    'text': 'CALM'}},\n",
      " 'sunrise': '7:43 AM',\n",
      " 'sunset': '4:52 PM'}\n"
     ]
    }
   ],
   "source": [
    "first_day = fc[0]  # value of the first day in fc\n",
    "print(\"\\nThe value of first_day is:\")\n",
    "pprint(first_day)\n",
    "\n"
   ]
  },
  {
   "cell_type": "markdown",
   "metadata": {
    "deletable": false,
    "editable": false,
    "nbgrader": {
     "cell_type": "markdown",
     "checksum": "c3b68a0e274595a187150729a2613e72",
     "grade": false,
     "grade_id": "q7d",
     "locked": true,
     "schema_version": 3,
     "solution": false
    }
   },
   "source": [
    "### [ 1 pt ] type of first_day \n",
    "Figure out the type of first_day and explain why"
   ]
  },
  {
   "cell_type": "code",
   "execution_count": null,
   "metadata": {
    "deletable": false,
    "nbgrader": {
     "cell_type": "code",
     "checksum": "9e33debccd230802aeab14fe7b3d1c3a",
     "grade": true,
     "grade_id": "q7c",
     "locked": false,
     "points": 1,
     "schema_version": 3,
     "solution": true
    }
   },
   "outputs": [],
   "source": [
    "pprint(first_day)\n",
    "print(\"first_day is of type dictionary b/c it starts and ends with curly brackets\")\n",
    "\n"
   ]
  },
  {
   "cell_type": "markdown",
   "metadata": {
    "deletable": false,
    "editable": false,
    "nbgrader": {
     "cell_type": "markdown",
     "checksum": "04765dc6396c6ed82dc053ff9c084842",
     "grade": false,
     "grade_id": "q8d",
     "locked": true,
     "schema_version": 3,
     "solution": false
    }
   },
   "source": [
    "### [ 1 pt ] get detailed data for first day\n",
    "\n",
    "- From first_day, get its date, the high and the low temperature\n",
    "- get the day and the night parts of the first day\n",
    "- The \"brief_text\" key describes a weather condition (like \"Sunny\"),  grab the value of this condition from the __day__ part"
   ]
  },
  {
   "cell_type": "code",
   "execution_count": 20,
   "metadata": {
    "deletable": false,
    "nbgrader": {
     "cell_type": "code",
     "checksum": "951aec7cc48ce8c9f8d98f2134d24b9f",
     "grade": true,
     "grade_id": "q8c",
     "locked": false,
     "points": 1,
     "schema_version": 3,
     "solution": true
    }
   },
   "outputs": [
    {
     "name": "stdout",
     "output_type": "stream",
     "text": [
      "On Dec 31 condition is Clear  with temps between 29 and 38\n"
     ]
    }
   ],
   "source": [
    "date = first_day['date']        # \"14 Jan\"  <- just an example!\n",
    "hi =   first_day['high']        # ex: '61'\n",
    "lo =   first_day['low']        # ex: '72'\n",
    "day_part = first_day['day']    # ex: 'day': {'brief_text': '','chance_precip': '0', ... }\n",
    "night_part = first_day['night']  # ex: 'night': {'brief_text': 'P Cloudy',, ...}\n",
    "condition =  day_part['brief_text']   # ex: 'Sunny'\n",
    "print(\"On\", date, \"condition is\", condition, \" with temps between\", lo, \"and\", hi)\n",
    "\n",
    "\n"
   ]
  },
  {
   "cell_type": "markdown",
   "metadata": {
    "deletable": false,
    "editable": false,
    "nbgrader": {
     "cell_type": "markdown",
     "checksum": "c6e434894cd5163dc9894f9d7ef071e6",
     "grade": false,
     "grade_id": "q9d",
     "locked": true,
     "schema_version": 3,
     "solution": false,
     "task": false
    }
   },
   "source": [
    "### [ 0.5 pt ] type of hi and lo temperatures \n",
    "\n",
    "What is the type of hi and lo? Explain why.  (For this just put your answer into the comment, instead of using print()"
   ]
  },
  {
   "cell_type": "code",
   "execution_count": 13,
   "metadata": {
    "deletable": false,
    "nbgrader": {
     "cell_type": "code",
     "checksum": "8f91fe58f8b13146e3e346b97695c0d9",
     "grade": true,
     "grade_id": "q9c",
     "locked": false,
     "points": 0.5,
     "schema_version": 3,
     "solution": true
    }
   },
   "outputs": [],
   "source": [
    "# both temperatures are represented as a string b/c they start and end with a quotation marks\n",
    "\n"
   ]
  },
  {
   "cell_type": "markdown",
   "metadata": {
    "deletable": false,
    "editable": false,
    "nbgrader": {
     "cell_type": "markdown",
     "checksum": "ac940957c7106eea06ac33344ebd5a3f",
     "grade": false,
     "grade_id": "q10d",
     "locked": true,
     "schema_version": 3,
     "solution": false
    }
   },
   "source": [
    "### [ 2 pts ]  temperature range of the first day\n",
    "- calculate the range (difference) between hi and lo  \n",
    "- if necessary, convert hi and low into numbers first"
   ]
  },
  {
   "cell_type": "code",
   "execution_count": 14,
   "metadata": {
    "deletable": false,
    "nbgrader": {
     "cell_type": "code",
     "checksum": "7e3e0873543496373e5bde81b2731b25",
     "grade": true,
     "grade_id": "q10c",
     "locked": false,
     "points": 2,
     "schema_version": 3,
     "solution": true
    }
   },
   "outputs": [
    {
     "name": "stdout",
     "output_type": "stream",
     "text": [
      "temperature range is 9 degrees\n"
     ]
    }
   ],
   "source": [
    "temp_range = int(hi) - int(lo)\n",
    "print(\"temperature range is\", temp_range, \"degrees\")\n",
    "\n"
   ]
  },
  {
   "cell_type": "markdown",
   "metadata": {
    "deletable": false,
    "editable": false,
    "nbgrader": {
     "cell_type": "markdown",
     "checksum": "0b7a025fb4d15c67b658e1806d333053",
     "grade": false,
     "grade_id": "q11d",
     "locked": true,
     "schema_version": 3,
     "solution": false
    }
   },
   "source": [
    "### [ +1 pt ] Optional: Show Visibility and windspeed \n",
    "\n",
    "- using `current_conditions` data, print out the visibility (distance) and wind speed, __including their units__\n",
    "- document the way you \"dig down\" into w, i.e. for each new level use  new variables with a descriptive name"
   ]
  },
  {
   "cell_type": "code",
   "execution_count": 19,
   "metadata": {
    "deletable": false,
    "nbgrader": {
     "cell_type": "code",
     "checksum": "ab63b56079675b103f4df4cc46f0504a",
     "grade": true,
     "grade_id": "q11c",
     "locked": false,
     "points": 0,
     "schema_version": 3,
     "solution": true
    }
   },
   "outputs": [
    {
     "name": "stdout",
     "output_type": "stream",
     "text": [
      "Visibility is 10.0 mi\n",
      "wind speed is 13 mph\n"
     ]
    }
   ],
   "source": [
    "units = w['units']\n",
    "speed_unit = units['speed']\n",
    "visibility_unit = units['distance']\n",
    "\n",
    "current_cond = w['current_conditions']\n",
    "visibility = current_cond['visibility']\n",
    "\n",
    "wind = current_cond['wind']\n",
    "wind_speed = wind['speed']\n",
    "\n",
    "\n",
    "print(\"Visibility is\", visibility, visibility_unit)\n",
    "print(\"wind speed is\", wind_speed, speed_unit)\n",
    "\n"
   ]
  },
  {
   "cell_type": "code",
   "execution_count": null,
   "metadata": {},
   "outputs": [],
   "source": []
  }
 ],
 "metadata": {
  "kernelspec": {
   "display_name": "Python 3 (ipykernel)",
   "language": "python",
   "name": "python3"
  },
  "language_info": {
   "codemirror_mode": {
    "name": "ipython",
    "version": 3
   },
   "file_extension": ".py",
   "mimetype": "text/x-python",
   "name": "python",
   "nbconvert_exporter": "python",
   "pygments_lexer": "ipython3",
   "version": "3.10.11"
  },
  "varInspector": {
   "cols": {
    "lenName": 16,
    "lenType": 16,
    "lenVar": 40
   },
   "kernels_config": {
    "python": {
     "delete_cmd_postfix": "",
     "delete_cmd_prefix": "del ",
     "library": "var_list.py",
     "varRefreshCmd": "print(var_dic_list())"
    },
    "r": {
     "delete_cmd_postfix": ") ",
     "delete_cmd_prefix": "rm(",
     "library": "var_list.r",
     "varRefreshCmd": "cat(var_dic_list()) "
    }
   },
   "types_to_exclude": [
    "module",
    "function",
    "builtin_function_or_method",
    "instance",
    "_Feature"
   ],
   "window_display": false
  },
  "vscode": {
   "interpreter": {
    "hash": "b1be0222797457612977eb3eaa00946922d56583fa52c09202534133b3ce7849"
   }
  }
 },
 "nbformat": 4,
 "nbformat_minor": 2
}
