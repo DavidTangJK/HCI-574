{
 "cells": [
  {
   "cell_type": "markdown",
   "metadata": {},
   "source": [
    "# HCI 574 General HW Instructions\n",
    "\n",
    "\n",
    "### Work through the problems\n",
    "- Answer the questions shown in the HW. Fix anything with ???. Answers to text questions should be given in a printed string, e.g.:  `print(\"This is the answer\")` or as a comment e.g. `# This is the answer`\n",
    "- Ensure that VSCode is set to autosve your notebook! In _Settings_ search for autosave and set it to 1000 ms.\n",
    "- It's fine to create new python cells if you want to try something without changing the offcial cell but please ensure that at the end there's only one cell with your official answer to the question and (__very impotant!__) that that cell as been run/executed so we can see its output. If you want to \"save\" your inofficial cell(s), make sure they are fully commented out!\n",
    "\n",
    "\n",
    "\n",
    "### Handing in the HW\n",
    "- Check that all other files the HW might have (screenshots, data files, etc.) are indeed in the correct HW folder.\n",
    "- Zip your HW folder folder (e.g. into HW1_ALemming.zip). On Windows you can Right-click -> Send To - Compress Folder. Please don't use rar or any other exotic compressors!\n",
    "- Zip your HW folder and hand it into Gradescope\n",
    "\n",
    "\n",
    "### Points\n",
    "\n",
    "The number of points a problem is worth when solved properly is always shown inside brackets at the heading of the problem, e.g.\n",
    "##### Q1 [ 3.5 pts]  This problem is worth 3.5 points\n",
    "\n",
    "Sometimes you may get additional extra credits if we feel your solution is particularly clever, etc. \n",
    "Some problem are entirely __optional__, these will have a + in from of the points, e.g.\n",
    "##### Q2 [ +1 pt ] This *optional* problem is worth 1 point\n",
    "\n",
    "You can solve these optional points to learn more or make up of points you missed in earlier HW. Note however, that there's a cap on the total HW points, if you have more than 100% of HW points the end of the semester, it will be reduced to 100%\n",
    "\n",
    "### Questions?\n",
    "If you have questions or need help, ask me after class, use Piazza or ask the TA during office hours  "
   ]
  },
  {
   "cell_type": "markdown",
   "metadata": {
    "deletable": false,
    "editable": false,
    "nbgrader": {
     "cell_type": "markdown",
     "checksum": "4b2f2a8ec1b22a3be51a88e38de4d17e",
     "grade": false,
     "grade_id": "intro",
     "locked": true,
     "schema_version": 3,
     "solution": false
    }
   },
   "source": [
    "# HCI 574 Midterm  2024  \n",
    "\n",
    "- Due Mar 17 (end of day)\n",
    "- The entire Midterm has 40 points but is capped at 35. That means you can loose up to 5 points and still get an A in the midterm. Note that if you get more that 35 points, these points are lost, i.e. they don't carry over into your final grade.\n",
    "\n",
    "\n",
    "<p>\n",
    "\n",
    "- Read through ALL of the exercises before you start.\n",
    "- __The last exercise is comparatively large (it has 6 parts) and worth 16 points total!__ You might want to look at it first so you don't have to cram it in as your last task and run out of time! Every semester there's at least one student that gets so caught up with solving an earlier, shorter task that they have no time left to work on the last task and that costs them 16 points. Please don't let that happen!\n",
    "- Mac Users: `database_for_mac.txt` is a version of `database.txt` that I saved on my Mac and that has the Mac/Unix convention for end-of-line.  If you have problems reading in `database.txt` on your Mac, use this file instead. (Not sure if this is still a potential issue with Macs, try `database.txt` first ...)\n",
    "- You're free to use the VSCode debugger but after your code works, make sure to put it back in the notebook cells. This notebook is the only valid form of code we will accept for grading\n",
    "- If you don't understand a question, please ask for clarification via Piazza "
   ]
  },
  {
   "cell_type": "markdown",
   "metadata": {
    "deletable": false,
    "editable": false,
    "nbgrader": {
     "cell_type": "markdown",
     "checksum": "779fb89b475aa8c92ce48a07d526a829",
     "grade": false,
     "grade_id": "q1t",
     "locked": true,
     "schema_version": 3,
     "solution": false
    }
   },
   "source": [
    "# Q1) Indexing and slicing (2 pts)\n",
    "\n",
    "``` Py\n",
    "L = [0, [], [1,2,3,4], [[5],[6,7]], [8,9,10]]\n",
    "```\n",
    "\n",
    "using both, indexing and slicing on L, assemble and print a new list N that contains:\n",
    "\n",
    "``` Py\n",
    "[0,2,3,[5,6],8,10]  \n",
    "```\n",
    "\n",
    "\n",
    "To illustrate how, look at how I've constructed the list N from the list L:\n",
    "\n",
    "``` Py\n",
    "L = [0, [], [1,2,3,4], [[5],[6,7]], [8,9,10]]\n",
    "N = [ L[2][1:-1], L[-1][2] ] \n",
    "print(N)  => [[2, 3], [10]]\n",
    "```\n",
    "\n",
    "You need to do something similar but end up with `[0,2,3,[5,6],8,10]` instead. \n",
    "\n",
    "You need to break the process down in small steps and explain what happens at each step using comments in your code. Use variables to store results of each step and use those variable in the next step(s). \n",
    "\n",
    "Here's an example of how using temporary variables might look:\n",
    "\n",
    "``` Py\n",
    "...  \n",
    "a = L[2] # get 3. element of L => [1,2,3,4]\n",
    "b = L[-1] # get last element of L =>  [8,9,10]\n",
    "```\n",
    "\n",
    "Note that it’s perfectly OK to make a new list by wrapping [] around temp. variables:\n",
    "\n",
    "``` Py\n",
    "# list of: slice of tmp1 from (incl.) 2. to (excl.) last and 3. elem. of tmp2\n",
    "c = [a[1:-1], b[2]]\n",
    "\n",
    "# It's also OK to remove a [] layer with [0], if needed:\n",
    "d = c[0]\n",
    "\n",
    "# at the end, assemble N from the variables and print it out\n",
    "# Note that your number of variables might be different!\n",
    "N = [ a, b, c, d, e, f]\n",
    "print(N)  # should print out [0,2,3,[5,6],8,10]\n",
    "```"
   ]
  },
  {
   "cell_type": "code",
   "execution_count": 63,
   "metadata": {
    "deletable": false,
    "nbgrader": {
     "cell_type": "code",
     "checksum": "9f2ef0f9b2fae36124dd7650e9a762cc",
     "grade": true,
     "grade_id": "q1c",
     "locked": false,
     "points": 2,
     "schema_version": 3,
     "solution": true
    }
   },
   "outputs": [
    {
     "name": "stdout",
     "output_type": "stream",
     "text": [
      "L is [0, [], [1, 2, 3, 4], [[5], [6, 7]], [8, 9, 10]]\n",
      "newL must be [0, 2, 3, [5, 6], 8, 10]\n",
      "newL is      [0, 2, 3, [5, 6], 8, 10]\n"
     ]
    }
   ],
   "source": [
    "L = [0, [], [1,2,3,4], [[5],[6,7]], [8,9,10]]\n",
    "print(\"L is\", L)\n",
    "print(\"newL must be\", [0, 2, 3, [5 ,6], 8, 10])\n",
    "\n",
    "a = L[0] #grab the first value 0 using indexing and store in a\n",
    "b = L[2][1:-1] #indexing to grab the second list in the nested list and slicing the list to only get 2 and 3\n",
    "c = b[0] #storing the value 2 in c\n",
    "d = b[1] #storing the value 3 in d\n",
    "e = L[3][0][0] #indexing to grab value 5 and store in e\n",
    "f = L[3][1][0] #indexing to grab value 6 and store in f\n",
    "g = [e, f] #putting e and f back into a list to get ready to be nested in newL\n",
    "h = L[-1][0] #indexing to grab value 8 from last nested list\n",
    "i = L[-1][-1] #indexing to grab value 10 from last nested list\n",
    "\n",
    "newL = [a, c, d, g, h, i]\n",
    "\n",
    "print(\"newL is     \", newL)   "
   ]
  },
  {
   "cell_type": "markdown",
   "metadata": {
    "deletable": false,
    "editable": false,
    "nbgrader": {
     "cell_type": "markdown",
     "checksum": "17442423727c4ea34e14368acd13e972",
     "grade": false,
     "grade_id": "q2t",
     "locked": true,
     "schema_version": 3,
     "solution": false
    }
   },
   "source": [
    "# Q2) While loops and for loops (6 pts)   \n",
    "\n",
    "- Using these two lists of numbers\n",
    "\n",
    "``` Py\n",
    "F = [4,7,2]\n",
    "N = [2,3,4,2,5,6,3,2,6,7,3,4]\n",
    "```\n",
    "\n",
    "- write code to count how often each element of the list F (4, 7 and 2) occurs within the list N and print out that number. \n",
    "- the solution must be:\n",
    "\n",
    "``` Py\n",
    "4 occurs in N 2 times\n",
    "7 occurs in N 1 times\n",
    "2 occurs in N 3 times\n",
    "```\n",
    "<p>\n",
    "\n",
    "- Write __two__ different versions (each worth 3 pts). \n",
    "- You will need to use a loop inside another loop (while within while, for within for, see below)\n",
    "- __Please do not simply use the count() function__! \n",
    "- You will need a counter that at one point in your code needs increment by 1 (e.g. `counter = counter + 1`)\n",
    "\n",
    "\n",
    "\n",
    "- a) using while loops\n",
    "    \n",
    "``` Py\n",
    "<set up index stuff>\n",
    "while ???:\n",
    "    while ???:\n",
    "        <if same, increment counter variable>\n",
    "    print(?, \"occurs in N\", ?, \"times\")\n",
    "```\n",
    "            \n",
    "- b) using for loops\n",
    "\n",
    "``` Py\n",
    "for ??? in ????:\n",
    "    for ??? in ????:\n",
    "\t<if same, increment counter variable>\n",
    "    print(?, \"occurs in N\", ?, \"times\")\n",
    "```"
   ]
  },
  {
   "cell_type": "code",
   "execution_count": 61,
   "metadata": {
    "deletable": false,
    "nbgrader": {
     "cell_type": "code",
     "checksum": "0bb4c639435b4625bb948ecb2c087ba3",
     "grade": true,
     "grade_id": "q2c_",
     "locked": false,
     "points": 3,
     "schema_version": 3,
     "solution": true
    }
   },
   "outputs": [
    {
     "name": "stdout",
     "output_type": "stream",
     "text": [
      "F is [4, 7, 2]\n",
      "N is [2, 3, 4, 2, 5, 6, 3, 2, 6, 7, 3, 4]\n",
      "while loop version:\n",
      "4 occurs in N  2  times\n",
      "7 occurs in N  1  times\n",
      "2 occurs in N  3  times\n"
     ]
    }
   ],
   "source": [
    "F = [4,7,2]\n",
    "N = [2,3,4,2,5,6,3,2,6,7,3,4]\n",
    "\n",
    "F_index = 0\n",
    "\n",
    "print(\"F is\", F)\n",
    "print(\"N is\", N)\n",
    "\n",
    "# a) using while loops\n",
    "print(\"while loop version:\")\n",
    "\n",
    "while F_index < len(F):\n",
    "    counter = 0\n",
    "    N_index = 0\n",
    "    while N_index < len(N):\n",
    "        if F[F_index] == N[N_index]:\n",
    "            counter += 1\n",
    "        N_index += 1\n",
    "    print(F[F_index], \"occurs in N \", counter, \" times\")\n",
    "    F_index += 1"
   ]
  },
  {
   "cell_type": "code",
   "execution_count": 62,
   "metadata": {
    "deletable": false,
    "nbgrader": {
     "cell_type": "code",
     "checksum": "ddbce76b4ff78ae244316db833cb5af5",
     "grade": true,
     "grade_id": "q2c",
     "locked": false,
     "points": 3,
     "schema_version": 3,
     "solution": true
    }
   },
   "outputs": [
    {
     "name": "stdout",
     "output_type": "stream",
     "text": [
      "F is [4, 7, 2]\n",
      "N is [2, 3, 4, 2, 5, 6, 3, 2, 6, 7, 3, 4]\n",
      "for loop version:\n",
      "4 occurs in N  2  times\n",
      "7 occurs in N  1  times\n",
      "2 occurs in N  3  times\n"
     ]
    }
   ],
   "source": [
    "F = [4,7,2]\n",
    "N = [2,3,4,2,5,6,3,2,6,7,3,4]\n",
    "\n",
    "print(\"F is\", F)\n",
    "print(\"N is\", N)\n",
    "\n",
    "# b) using for loops\n",
    "print(\"for loop version:\")\n",
    "\n",
    "for f_index in F:\n",
    "    counter = 0\n",
    "    for n_index in N:\n",
    "        if f_index == n_index:\n",
    "            counter += 1\n",
    "    print(f_index, \"occurs in N \", counter, \" times\")"
   ]
  },
  {
   "cell_type": "markdown",
   "metadata": {
    "deletable": false,
    "editable": false,
    "nbgrader": {
     "cell_type": "markdown",
     "checksum": "06a7fd52a5fdd350a11626a523de8b45",
     "grade": false,
     "grade_id": "q3t",
     "locked": true,
     "schema_version": 3,
     "solution": false
    }
   },
   "source": [
    "# Q3) Function design 1 (3  pts)\n",
    "\n",
    "- define (def) a function lenumerate() that, when given this string like \"But then of course African swallows are nonmigratory\", as an argument returns a (duo) list of lists, each containing the word and it's length.\n",
    "\n",
    "- Important: this has __nothing__ to do with the Python function enumerate(), it's just my attempt to come up with a whimsical function name \n",
    "\n",
    "- Words are defined as separated by white-space within the string. \n",
    "\n",
    "<p>\n",
    "\n",
    "- Example:\n",
    "\n",
    "- with this string as function argument: `\"But then of course African swallows are nonmigratory\"`your lenumerate() function needs to return this list:\n",
    "\n",
    "```\n",
    "[[\"But\", 3], [\"then\", 4], [\"of\", 2],   ...   , [\"nonmigratory\", 12]]\n",
    "```"
   ]
  },
  {
   "cell_type": "code",
   "execution_count": 55,
   "metadata": {
    "deletable": false,
    "nbgrader": {
     "cell_type": "code",
     "checksum": "0263145f18d255ebd7633a2c95ee2150",
     "grade": true,
     "grade_id": "q3c",
     "locked": false,
     "points": 3,
     "schema_version": 3,
     "solution": true
    }
   },
   "outputs": [],
   "source": [
    "def lenumerate(s):\n",
    "\n",
    "    # convert string s into a list of 2-element-lists\n",
    "    words = s.split()\n",
    "    word_length_list = [[w, len(w)] for w in words]\n",
    "    # return that list of lists\n",
    "    return word_length_list"
   ]
  },
  {
   "cell_type": "code",
   "execution_count": 56,
   "metadata": {
    "deletable": false,
    "editable": false,
    "nbgrader": {
     "cell_type": "code",
     "checksum": "0f9ba3f712145e8b555a7d8266b8f94b",
     "grade": false,
     "grade_id": "q3c2",
     "locked": true,
     "schema_version": 3,
     "solution": false
    }
   },
   "outputs": [
    {
     "name": "stdout",
     "output_type": "stream",
     "text": [
      "[['But', 3], ['then', 4], ['of', 2], ['course', 6], ['African', 7], ['swallows', 8], ['are', 3], ['nonmigratory', 12]]\n"
     ]
    }
   ],
   "source": [
    "# this cell calls your function \n",
    "# It's just here so you can test your function (don't change this code)\n",
    "text = \"But then of course African swallows are nonmigratory\"\n",
    "l = lenumerate(text) \n",
    "print(l)"
   ]
  },
  {
   "cell_type": "markdown",
   "metadata": {
    "deletable": false,
    "editable": false,
    "nbgrader": {
     "cell_type": "markdown",
     "checksum": "6e17dd72f318c59e6e4854579d1e070b",
     "grade": false,
     "grade_id": "q4t",
     "locked": true,
     "schema_version": 3,
     "solution": false
    }
   },
   "source": [
    "# Q4) Function design 2 (3 pts)\n",
    "\n",
    "- Now write a second, modified version of the lenumerate() function (named `lenumerate2()` ) that takes as second argument a boolean (i.e. True or False) called `flip`. \n",
    "- (Most of your lenumnerate1() code will be the same, you only have to add a couple of things!)\n",
    "\n",
    "<p>\n",
    "\n",
    "- The __default value__ for flip shall be `False`  (!)\n",
    "- If flip is `False` the same list as in lenumerate() will be returned, i.e.\n",
    "``` Py\n",
    "flip=False => [['But', 3], ['then', 4], ['of', 2], ... ['are', 3], ['nonmigratory', 12]]\n",
    "```\n",
    "\n",
    "<p>\n",
    "\n",
    "- If flip is `True`, the order of the 2 items shall be flipped around (reversed):\n",
    "``` Py\n",
    "flip=True => [[3, 'But'], [4, 'then'], [2, 'of'], ... [3, 'are'], [12, 'nonmigratory']]\n",
    "```"
   ]
  },
  {
   "cell_type": "code",
   "execution_count": 57,
   "metadata": {
    "deletable": false,
    "nbgrader": {
     "cell_type": "code",
     "checksum": "a87d8509ecfb852513f6cd67bd92a241",
     "grade": true,
     "grade_id": "q5c1",
     "locked": false,
     "points": 2,
     "schema_version": 3,
     "solution": true
    }
   },
   "outputs": [],
   "source": [
    "def lenumerate2(s, flip=False): # <-figure out how to give `flip` a default arg of False and implement the flipping\n",
    "\n",
    "# start by copying the code for lenumerate() here and change it!  \n",
    "    word_length_list = lenumerate(s)\n",
    "    if flip == False:\n",
    "        return word_length_list\n",
    "    else:\n",
    "        for reversed_word_length_list in word_length_list:\n",
    "            reversed_word_length_list.reverse()\n",
    "        return word_length_list"
   ]
  },
  {
   "cell_type": "markdown",
   "metadata": {
    "deletable": false,
    "editable": false,
    "nbgrader": {
     "cell_type": "markdown",
     "checksum": "3f790c82bd15ee6b31501db92b618f23",
     "grade": false,
     "grade_id": "cell-8b8971faab8d35b1",
     "locked": true,
     "schema_version": 3,
     "solution": false,
     "task": false
    }
   },
   "source": [
    "You see your modified function in action, call lenumerate2() two times:\n",
    "\n",
    " - A) Same as your call of lenumerate() previously, as shown below. Just run the cell below, you should see the same results."
   ]
  },
  {
   "cell_type": "code",
   "execution_count": 58,
   "metadata": {
    "deletable": false,
    "editable": false,
    "nbgrader": {
     "cell_type": "code",
     "checksum": "4e495be18cf4e2d3e8478fae6be6d5d2",
     "grade": false,
     "grade_id": "cell-ad2ba7acb1c80e6b",
     "locked": true,
     "schema_version": 3,
     "solution": false,
     "task": false
    }
   },
   "outputs": [
    {
     "name": "stdout",
     "output_type": "stream",
     "text": [
      "version 1 [['But', 3], ['then', 4], ['of', 2], ['course', 6], ['African', 7], ['swallows', 8], ['are', 3], ['nonmigratory', 12]]\n",
      "A) with flip as default value (non-flipped): [['But', 3], ['then', 4], ['of', 2], ['course', 6], ['African', 7], ['swallows', 8], ['are', 3], ['nonmigratory', 12]]\n"
     ]
    }
   ],
   "source": [
    "# Do not change this cell, just run it\n",
    "text = \"But then of course African swallows are nonmigratory\" \n",
    "\n",
    "l1 = lenumerate(text) \n",
    "print(\"version 1\", l1)\n",
    "\n",
    "\n",
    "# A) As flip is set to False by default in lenumerate2(), this output should also be the same as for lenumerate1()\n",
    "l2A = lenumerate2(text) # this MUST work without giving it a seconds arg! Do not use l1 = lenumerate2(text, False) here!\n",
    "print(\"A) with flip as default value (non-flipped):\", l2A)"
   ]
  },
  {
   "cell_type": "markdown",
   "metadata": {},
   "source": [
    " - B) set flip to True but as keyword argument(!), so the output should be flipped. For this, you will need to figure out how to set flip via keyword, __you cannot simply set it via position!__"
   ]
  },
  {
   "cell_type": "code",
   "execution_count": 59,
   "metadata": {
    "deletable": false,
    "nbgrader": {
     "cell_type": "code",
     "checksum": "ad1d5d92b6ba2b6cb6c31e12120fdf87",
     "grade": true,
     "grade_id": "q5c2_",
     "locked": false,
     "points": 1,
     "schema_version": 3,
     "solution": true,
     "task": false
    }
   },
   "outputs": [
    {
     "name": "stdout",
     "output_type": "stream",
     "text": [
      "But then of course African swallows are nonmigratory\n",
      "B) with flip to True via keyword argument [[3, 'But'], [4, 'then'], [2, 'of'], [6, 'course'], [7, 'African'], [8, 'swallows'], [3, 'are'], [12, 'nonmigratory']]\n"
     ]
    }
   ],
   "source": [
    "# B) set flip to True by using  a keyword argument(!), so the output should be flipped.\n",
    "print(text)\n",
    "l2B = lenumerate2(text, True) # set flip to True via keyword argument, \n",
    "print(\"B) with flip to True via keyword argument\", l2B)\n",
    "      \n"
   ]
  },
  {
   "cell_type": "markdown",
   "metadata": {
    "deletable": false,
    "editable": false,
    "nbgrader": {
     "cell_type": "markdown",
     "checksum": "d30a5dde259164720003d1b2ad2f510f",
     "grade": false,
     "grade_id": "q6t",
     "locked": true,
     "schema_version": 3,
     "solution": false
    }
   },
   "source": [
    "# Q5) Dictionary database (6 pts)\n",
    "<img src=\"https://upload.wikimedia.org/wikipedia/commons/thumb/0/00/Rolodex.agr.jpg/800px-Rolodex.agr.jpg\" width=\"200\">\n",
    "\n",
    "\n",
    "- d is a dictionary that stores names as keys and phone numbers as values:\n",
    "\n",
    "\n",
    "``` Py\n",
    "d = {'Jim':'233-5467', 'Anne':'478-4392', 'Jill':'952-4532'}\n",
    "print(d)\n",
    "```\n",
    "\n",
    "- Write a function `rolodex(name, d, phone)`  that searches the dict d for name (as key) and supports two modes. \n",
    "- `rolodex()` shall receive 3 args:\n",
    "    - a name (string)\n",
    "    - a dictionary\n",
    "    - a phone number (string), default is \"\" <- empty string\n",
    "    \n",
    "\n",
    "- rolordex() shall always return a dictionary, even if the incoming dictionary has not been changed.\n",
    "\n",
    "<p>\n",
    "\n",
    "1) Query mode: (important: in this mode, the phone arg has to be omitted b/c that's what you're looking for!)\n",
    "\n",
    "    - If the name DOES exists as key in d, print out the name and its previously assigned phone number:\n",
    "    - rolodex('Jim', d) prints: number for Jim is 233-5467\n",
    "    - If the name does NOT exist in the dict, your code should print out: \n",
    "    - rolodex('Alexander', d) prints: number for Alexander not found\n",
    "\n",
    "<p>\n",
    "    \n",
    "2) Entry/update mode: (important: in this mode, the phone arg has to be given)\n",
    "\n",
    "    - If the name already exists as key in d, overwrite it wih the new number\n",
    "    - rolodex('Jim', d, '123-456') prints: number for Jim was updated to 123-456 \n",
    "    - If the name does NOT exist, simply set the phone number of this name\n",
    "    - rolodex('Oliver', d, '235-684') prints: added number for Oliver: 235-684\n",
    "\n",
    "<p>\n",
    "\n",
    "- After every use, print out the entire dictionary returned from rolodex so I can see how the database changes.\n",
    "    \n",
    "<p>\n",
    "    \n",
    "- Below is the first line of the def part. Note that phone has a default value of \"\" (empty string).  \n",
    "- The actual value of phone (\"\" or a string with a phone number) is how you know in which mode you are. \n",
    "- If phone is \"\", you're in __query mode__, otherwise in __entry/update__ mode. \n",
    "- Remember that in both modes you have to return d, even if you have not changed it (in query mode)!\n",
    "- You don't need to test if phone actually is a proper phone number, we'll just say that any string will work (even something like 1-800-python) to keep it simple!\n",
    "\n",
    "\n"
   ]
  },
  {
   "cell_type": "code",
   "execution_count": 48,
   "metadata": {
    "deletable": false,
    "nbgrader": {
     "cell_type": "code",
     "checksum": "75deafb627644f79882b956e01be6ebe",
     "grade": true,
     "grade_id": "q6c1",
     "locked": false,
     "points": 6,
     "schema_version": 3,
     "solution": true
    }
   },
   "outputs": [],
   "source": [
    "def rolodex(name, d, phone=\"\"):\n",
    "    if phone != \"\":\n",
    "        if name in d.keys():\n",
    "            d[name] = phone\n",
    "            print(\"Number for \", name, \" was updated to \", phone)\n",
    "            return d\n",
    "        else:\n",
    "            d[name] = phone\n",
    "            print(\"Added number for \", name, \": \", phone)\n",
    "            return d\n",
    "    else:\n",
    "        if name in d.keys():\n",
    "            print(\"Number for \", name, \"is \", d[name])\n",
    "            return d\n",
    "        else:\n",
    "            print(\"Number for \", name, \" not found\")\n",
    "        return d\n",
    "    \n"
   ]
  },
  {
   "cell_type": "code",
   "execution_count": 49,
   "metadata": {},
   "outputs": [
    {
     "name": "stdout",
     "output_type": "stream",
     "text": [
      "Number for  Jim is  233-5467\n",
      "{'Jim': '233-5467', 'Anne': '478-4392', 'Jill': '952-4532'}\n"
     ]
    }
   ],
   "source": [
    "# Use this cell if you want to test your function \n",
    "d = {'Jim':'233-5467', 'Anne':'478-4392', 'Jill':'952-4532'}\n",
    "print(rolodex(\"Jim\", d))"
   ]
  },
  {
   "cell_type": "code",
   "execution_count": 50,
   "metadata": {
    "deletable": false,
    "editable": false,
    "nbgrader": {
     "cell_type": "code",
     "checksum": "c2443a3694fe8ab15d9c36a1acc2abd1",
     "grade": false,
     "grade_id": "q6c2",
     "locked": true,
     "schema_version": 3,
     "solution": false
    }
   },
   "outputs": [
    {
     "name": "stdout",
     "output_type": "stream",
     "text": [
      "{'Anne': '478-4392', 'Jill': '952-4532', 'Jim': '233-5467'}\n",
      "Number for  Jim is  233-5467\n",
      "{'Anne': '478-4392', 'Jill': '952-4532', 'Jim': '233-5467'}\n",
      "Number for  Alexander  not found\n",
      "{'Anne': '478-4392', 'Jill': '952-4532', 'Jim': '233-5467'}\n",
      "Number for  Jim  was updated to  123-456\n",
      "{'Anne': '478-4392', 'Jill': '952-4532', 'Jim': '123-456'}\n",
      "Added number for  Oliver :  235-684\n",
      "{'Anne': '478-4392', 'Jill': '952-4532', 'Jim': '123-456', 'Oliver': '235-684'}\n"
     ]
    }
   ],
   "source": [
    "# Run these test cases (don't change this cell)\n",
    "from pprint import pprint\n",
    "d = {'Jim':'233-5467', 'Anne':'478-4392', 'Jill':'952-4532'} # start DB\n",
    "pprint(d)\n",
    "d = rolodex(\"Jim\", d) # query Jim's phone number (found)\n",
    "pprint(d)\n",
    "d = rolodex('Alexander', d)# query Alexanders's phone number (not found)\n",
    "pprint(d)\n",
    "d = rolodex('Jim', d, '123-456') # update Jim's number\n",
    "pprint(d)\n",
    "d = rolodex('Oliver', d, '235-684') # create new entry for Oliver\n",
    "pprint(d)\n"
   ]
  },
  {
   "cell_type": "markdown",
   "metadata": {
    "deletable": false,
    "editable": false,
    "nbgrader": {
     "cell_type": "markdown",
     "checksum": "509d9e99ba740259803b03054485420c",
     "grade": false,
     "grade_id": "q7t",
     "locked": true,
     "schema_version": 3,
     "solution": false
    }
   },
   "source": [
    "# Q6) Python theory questions: (4 pts)\n",
    "- Objects, Assignment, reference, function call, argument, operators, in-place change\n",
    "- Answer the following questions in English in the print(\"......\")s below:\n",
    "- Each correct answer is worth 0.5 pt"
   ]
  },
  {
   "cell_type": "code",
   "execution_count": 46,
   "metadata": {
    "deletable": false,
    "nbgrader": {
     "cell_type": "code",
     "checksum": "b640b90c70e699fea1a8f2c50e71c82f",
     "grade": true,
     "grade_id": "q7c",
     "locked": false,
     "points": 4,
     "schema_version": 3,
     "solution": true
    }
   },
   "outputs": [
    {
     "name": "stdout",
     "output_type": "stream",
     "text": [
      "[334, 43, 75] 2891269589312\n",
      "1) = assigns the list on the right [334, 43, 75] to the variable L1.\n",
      "2) [334, 43, 75] is a list of numbers consisting of 334, 43 and 75.\n",
      "[334, 43, 75, 3]\n",
      "3) When using a + in the context of list, the value on the right of the plus sign gets added onto the last spot on the list.\n",
      "4) len() is a function that returns the length of a value. In the context of L1 in len(), len() will get the number of elements in the list L1.\n",
      "[334, 43, 75, 3] 2891269549696 [334, 43, 75, 3] 2891269549696\n",
      "5) L1 is now assigned to L2, so they are both referencing the same list.\n",
      "[334, 43, 75, 3] 2891269494016 [334, 43, 75, 3] 2891269549696 [334, 43, 75, 3] 2891269549696\n",
      "6) [:] can be used to create a slice of an array, in this case a copy of L1 is assigned to L3.\n",
      "[3, 43, 75, 334] 2891269549696 [3, 43, 75, 334] 2891269549696 [334, 43, 75, 3] 2891269494016\n",
      "7) Since L1 and L2 are referencing the same list, when there are changes made to L2, the change will be seen in L1 also, and vice versa. However L3 is a separate list from L1 and L2.\n",
      "[3, 43, 75, 334]\n",
      "[334, 43, 75, 3]\n",
      "8) sorted() creates a copy of L3 and sorts it while sort() directly sorts the list in it.\n"
     ]
    }
   ],
   "source": [
    "L1 = [334,43,75]\n",
    "print(L1, id(L1))\n",
    "\n",
    "\n",
    "# 1) What happens at the = with L1?\n",
    "print(\"1) = assigns the list on the right [334, 43, 75] to the variable L1.\")\n",
    "\n",
    "\n",
    "# 2) What is [334, 43, 75]?\n",
    "print(\"2) [334, 43, 75] is a list of numbers consisting of 334, 43 and 75.\")\n",
    "\n",
    "\n",
    "# 3) in the context of lists or strings, what's the effect of using a plus + sign? \n",
    "L1 = L1 + [len(L1)]\n",
    "print(L1)\n",
    "# A description is fine or you can use the technical term\n",
    "print(\"3) When using a + in the context of list, the value on the right of the plus sign gets added onto the last spot on the list.\")\n",
    "\n",
    "\n",
    "# 4) What is len() and what role has the L1 in len(L1)?\n",
    "print(\"4) len() is a function that returns the length of a value. In the context of L1 in len(), len() will get the number of elements in the list L1.\")\n",
    "\n",
    "\n",
    "# 5) What relationship between L1 and L2 is created here?\n",
    "L2 = L1\n",
    "print(L1, id(L1), L2, id(L2))\n",
    "print(\"5) L1 is now assigned to L2, so they are both referencing the same list.\")\n",
    "\n",
    "\n",
    "# 6) What happens here? How is this different from L3 = L1 ?\n",
    "L3 = L1[:]\n",
    "print(L3, id(L3), L1, id(L1), L2, id(L2))\n",
    "print(\"6) [:] can be used to create a slice of an array, in this case a copy of L1 is assigned to L3.\")\n",
    "\n",
    "# 7) Why is L1 now also sorted but L3 is still unsorted?\n",
    "L2.sort()\n",
    "print(L1, id(L1), L2, id(L2), L3, id(L3))\n",
    "print(\"7) Since L1 and L2 are referencing the same list, when there are changes made to L2, the change will be seen in L1 also, and vice versa. However L3 is a separate list from L1 and L2.\")\n",
    "\n",
    "\n",
    "# 8) How does using sorted() differ from sort() above?\n",
    "L3s = sorted(L3)\n",
    "print(L3s)\n",
    "print(L3)\n",
    "print(\"8) sorted() creates a copy of L3 and sorts it while sort() directly sorts the list in it.\")\n"
   ]
  },
  {
   "cell_type": "markdown",
   "metadata": {
    "deletable": false,
    "editable": false,
    "nbgrader": {
     "cell_type": "markdown",
     "checksum": "0cadab4c096a1e692ca19712b70a03f6",
     "grade": false,
     "grade_id": "q8intro",
     "locked": true,
     "schema_version": 3,
     "solution": false
    }
   },
   "source": [
    "# Q7) Read, process and print out data from a text file (16 pts)\n",
    "\n",
    "- The file `database.txt` contains data about some Monty Python sketches in a peculiar format. \n",
    "- Each sketch's data is contained in a sketch record\n",
    "- Each record holds 3 pieces of information about its sketch: an ID string, the title and the air date (as string). \n",
    "- Write a python program that reads in database.txt, assembles all records from it, puts the records inside a __nested list__, sorts them according to their ID and prints them out as a __formatted table.__\n",
    "\n",
    "<p>\n",
    "    \n",
    "In `database.txt`, each record is defined as a fixed sequence of 3 lines: \n",
    "- the 1. line always contains a ID string consisting of a mix letters and numbers, \n",
    "- the 2. line always contains the date and \n",
    "- the 3. line always contains the sketch's title. \n",
    "- The next line in the file begins a new record (the next record's ID, i.e. we're starting another 1. line), etc.\n",
    "\n",
    "<p>\n",
    "    \n",
    "The 7 records contained in database.txt take up 21 lines in total. Here are the first two records :\n",
    "\n",
    "```\n",
    "ID=zd7u4h     <- first record starts here\n",
    "Date=19 October 1969\n",
    "Title=Bicycle Repair Man <- end of 1. record\n",
    "ID=f983  <- 2. record starts here\n",
    "Date=22 December 1970\n",
    "Title=Royal Episode 13 (or: The Queen Will Be Watching) <- end of 2. Record\n",
    "etc.\n",
    "```\n",
    "\n",
    "- The first record starts with the line `ID=zd7u4h` and ends with the line `Title=Bicycle Repair Man`. \n",
    "- Note that the actual data contained in each line is only the stuff after each =, so the ID string is `zd7u4h`, the date is `19 October 1969` and the title is `Bicycle Repair Man`. \n",
    "- Your task is to use this information to create a data structure for each record and print all records out in a formated table (similar to in a spreadsheet). \n",
    "- The table will have a column for ID, Date and Title and each record's data will appear as a row. \n",
    "- The records need to be __sorted lexicographically__ by its ID column (e.g. d45j5jkd would come before j234hg).  \n",
    "\n",
    "<P>\n",
    "    \n",
    "Here's an incomplete version (containing only 2 of the 7 records) of this table. Note the different length of the ID and Date and how the columns still line up nicely!\n",
    "\n",
    "```\n",
    "ID     Date             Title\n",
    "f983   22 December 1970 Royal Episode 13 (Or: The Queen Will Be Watching)\n",
    "zd7u4h 19 October 1969  Bicycle Repair Man\n",
    "```"
   ]
  },
  {
   "cell_type": "markdown",
   "metadata": {
    "deletable": false,
    "editable": false,
    "nbgrader": {
     "cell_type": "markdown",
     "checksum": "123d96e1e81ac48b0b1041a62322847a",
     "grade": false,
     "grade_id": "q8intro2",
     "locked": true,
     "schema_version": 3,
     "solution": false
    }
   },
   "source": [
    "\n",
    "We'll divide your code in into several smaller tasks:\n",
    "\n",
    "- a) Read all of the text file into a single string and split it at newline ('\\n') \n",
    "- b) Put the records into a nested list \n",
    "- c) Capitalize the sketch titles  \n",
    "- d) Sort the list of records alphabetically according to ID\n",
    "- e) Determine the longest/widest ID and Data strings and store it in 2 variables\n",
    "- f) Print formatted as a table with a header row \n",
    "\n",
    "<p>\n",
    "\n",
    "I've given you a cell for each of these tasks to put your code in. It's  OK to create additional cells to play around with but please delete them before you hand in your midterm. (or comment them out with ''' ''' so it's clear that they are \"play around\" cells\n",
    "\n",
    "<P>\n",
    "    \n",
    "*Notes:*\n",
    "- Your program should be able to generally handle other files holding any number of records in this 3-line format. It should theoretically still work with another (similar) database file that has say 5 or 23  sketches instead of the 7 records this database.txt file contains. Do NOT hardcode anything for 7 b/c it would make you code not work with these other data files! \n",
    "- Also, do not assume that the length of IDs, titles and dates is limited to the data given in those records.  Again, the code needs to be able to theoretically handle a file with a different set of records with  IDs and titles that have a different max length!\n",
    "- Therefore you need to at onle point programmatically figure out the maximum string width for this data file, you cannot simply \"human-count\" the max width and hardcode that number (b/c, I want to be able to just run your code with another data file of the same format but with different content)"
   ]
  },
  {
   "cell_type": "markdown",
   "metadata": {
    "deletable": false,
    "editable": false,
    "nbgrader": {
     "cell_type": "markdown",
     "checksum": "d785dedf76effb468835ac563391c3d9",
     "grade": false,
     "grade_id": "q8t1",
     "locked": true,
     "schema_version": 3,
     "solution": false
    }
   },
   "source": [
    "###  Q7a) Read the text file into a string and split into lines [ 2 pts ]\n",
    "```\n",
    "f = open(“database.txt”, “r”)\n",
    "full_text = ???  # read full text into a single long string\n",
    "print(repr(full_text))  # I used her repr() to show the \\n characters\n",
    "```\n",
    "\n",
    "This should print out: \n",
    "\n",
    "```\n",
    "'ID=j234hg\\nDate=19 October 1969\\nTitle=court scene with cardinal richelieu\\nID=d45j5jkd\\nDate=28 ... December 1972\\nTitle=Mr. Pither' \n",
    "```\n",
    "\n",
    "(note that there's no \\n at the very end (after Mr. Pither), that's intentional!)\n",
    "\n",
    "Use splitlines() (not   splitlines(“\\n”)! ) to split full_text along the linebreaks. The list should look like this:\n",
    "\n",
    "```\n",
    "['ID=j234hg', 'Date=19 October 1969', 'Title=court scene with cardinal richelieu', 'ID=d45j5jkd', 'Date=28 December 1969', 'Title=THE ROYAL PHILHARMONIC ORCHESTRA GOES TO THE BATHROOM', 'ID=s4k5jk', 'Date=8 December 1970', 'Title=crossing the atlantic on a tricycle', 'ID=zd7u4h', 'Date=19 October 1969', 'Title=Bicycle Repair Man', 'ID=f983', 'Date=22 December 1970', 'Title=Royal Episode 13 (or: The Queen Will Be Watching)', 'ID=j8s74', 'Date=15 September 1970', 'Title=THE SEMAPHORE VERSION OF WUTHERING HEIGHTS', 'ID=n4j6l3j', 'Date=7 December 1972', 'Title=Mr. Pither'] \n",
    "```"
   ]
  },
  {
   "cell_type": "code",
   "execution_count": 12,
   "metadata": {
    "deletable": false,
    "nbgrader": {
     "cell_type": "code",
     "checksum": "3b2b1b8c5820b488e18f5d0c5faa0d85",
     "grade": true,
     "grade_id": "q8c1",
     "locked": false,
     "points": 2,
     "schema_version": 3,
     "solution": true
    }
   },
   "outputs": [
    {
     "name": "stdout",
     "output_type": "stream",
     "text": [
      "['ID=j234hg', 'Date=19 October 1969', 'Title=court scene with cardinal richelieu', 'ID=d45j5jkd', 'Date=28 December 1969', 'Title=THE ROYAL PHILHARMONIC ORCHESTRA GOES TO THE BATHROOM', 'ID=s4k5jk', 'Date=8 December 1970', 'Title=crossing the atlantic on a tricycle', 'ID=zd7u4h', 'Date=19 October 1969', 'Title=Bicycle Repair Man', 'ID=f983', 'Date=22 December 1970', 'Title=Royal Episode 13 (or: The Queen Will Be Watching)', 'ID=j8s74', 'Date=15 September 1970', 'Title=THE SEMAPHORE VERSION OF WUTHERING HEIGHTS', 'ID=n4j6l3j', 'Date=7 December 1972', 'Title=Mr. Pither']\n"
     ]
    }
   ],
   "source": [
    "f = open(\"database.txt\", \"r\")\n",
    "full_text = f.read()\n",
    "f.close()\n",
    "\n",
    "full_text_list = full_text.splitlines()\n",
    "print(full_text_list)\n",
    "\n",
    "\n"
   ]
  },
  {
   "cell_type": "markdown",
   "metadata": {
    "deletable": false,
    "editable": false,
    "nbgrader": {
     "cell_type": "markdown",
     "checksum": "cac76dfa6ca6789b33bd8c2ca99a6a04",
     "grade": false,
     "grade_id": "q8t2",
     "locked": true,
     "schema_version": 3,
     "solution": false
    }
   },
   "source": [
    "###  Q7b) Put the records into a nested list [ 5 pts ]\n",
    "- Each individual record consists of 3 pieces of information, each coming from one of the 3 consecutive lines in the text file. \n",
    "- This means you'll have to remove ID=, Date= and Title= from the \"raw\" input when you create a record!\n",
    "- Each record is a 3-element lists and all records would themselves be list elements, i.e. you would have a (nested) list of lists holding all your data:\n",
    "\n",
    "```\n",
    "arecord = [ <id>, <date>, <title>] : example: ['ID=j234hg', 'Date=19 October 1969', 'Title=court scene with cardinal richelieu']\n",
    "records_list = [ <first record>,  <second record>, …, <last record> ] \n",
    "example: [['ID=j234hg', 'Date=19 October 1969', 'Title=court scene with cardinal richelieu'], ['ID=d45j5jkd', 'Date=28 December 1969', 'Title=THE ROYAL PHILHARMONIC ORCHESTRA GOES TO THE BATHROOM'], ... ]\n",
    "```\n",
    "- you will need to use a loop here."
   ]
  },
  {
   "cell_type": "code",
   "execution_count": 15,
   "metadata": {
    "deletable": false,
    "nbgrader": {
     "cell_type": "code",
     "checksum": "ab91b3edd20e5b76d744690dccb1d298",
     "grade": true,
     "grade_id": "q8c2",
     "locked": false,
     "points": 5,
     "schema_version": 3,
     "solution": true
    }
   },
   "outputs": [
    {
     "name": "stdout",
     "output_type": "stream",
     "text": [
      "[['j234hg', '19 October 1969', 'court scene with cardinal richelieu'], ['d45j5jkd', '28 December 1969', 'THE ROYAL PHILHARMONIC ORCHESTRA GOES TO THE BATHROOM'], ['s4k5jk', '8 December 1970', 'crossing the atlantic on a tricycle'], ['zd7u4h', '19 October 1969', 'Bicycle Repair Man'], ['f983', '22 December 1970', 'Royal Episode 13 (or: The Queen Will Be Watching)'], ['j8s74', '15 September 1970', 'THE SEMAPHORE VERSION OF WUTHERING HEIGHTS'], ['n4j6l3j', '7 December 1972', 'Mr. Pither']]\n"
     ]
    }
   ],
   "source": [
    "nested_list = []\n",
    "record_list = []\n",
    "counter = 0\n",
    "\n",
    "#removing tags from raw data before creating record\n",
    "templist1 = [sub.replace('ID=', '') for sub in full_text_list]\n",
    "templist2 = [sub.replace('Date=', '') for sub in templist1]\n",
    "templist3 = [sub.replace('Title=', '') for sub in templist2]\n",
    "\n",
    "#creating record\n",
    "while counter < len(templist3):\n",
    "    record_list.append(templist3[counter])\n",
    "    if (counter + 1) % 3 == 0:\n",
    "        nested_list.append(record_list)\n",
    "        record_list = []\n",
    "    counter += 1\n",
    "\n",
    "print(nested_list)\n",
    "\n"
   ]
  },
  {
   "cell_type": "markdown",
   "metadata": {
    "deletable": false,
    "editable": false,
    "nbgrader": {
     "cell_type": "markdown",
     "checksum": "e7db2ac964c3d9f110af8abd68534165",
     "grade": false,
     "grade_id": "q8t3",
     "locked": true,
     "schema_version": 3,
     "solution": false
    }
   },
   "source": [
    "###  Q7c) Capitalize the sketch titles [ 1 pt ]\n",
    "For all the titles, each word’s first letter needs to be in upper case, e.g., 'court scene with cardinal richelieu' needs to become 'Court Scene With Cardinal Richelieu'.  Use the .title() string method.\n"
   ]
  },
  {
   "cell_type": "code",
   "execution_count": 65,
   "metadata": {
    "deletable": false,
    "nbgrader": {
     "cell_type": "code",
     "checksum": "7587d5d36290a58256dcc3db1131e240",
     "grade": true,
     "grade_id": "q8c3",
     "locked": false,
     "points": 1,
     "schema_version": 3,
     "solution": true
    }
   },
   "outputs": [
    {
     "name": "stdout",
     "output_type": "stream",
     "text": [
      "[['j234hg', '19 October 1969', 'Court Scene With Cardinal Richelieu'], ['d45j5jkd', '28 December 1969', 'The Royal Philharmonic Orchestra Goes To The Bathroom'], ['s4k5jk', '8 December 1970', 'Crossing The Atlantic On A Tricycle'], ['zd7u4h', '19 October 1969', 'Bicycle Repair Man'], ['f983', '22 December 1970', 'Royal Episode 13 (Or: The Queen Will Be Watching)'], ['j8s74', '15 September 1970', 'The Semaphore Version Of Wuthering Heights'], ['n4j6l3j', '7 December 1972', 'Mr. Pither']]\n"
     ]
    }
   ],
   "source": [
    "counter = 0\n",
    "nested_uppercase_list = []\n",
    "\n",
    "while counter < len(nested_list):\n",
    "    capital_titles_list = []\n",
    "    capital_titles_list.append(nested_list[counter][0])\n",
    "    capital_titles_list.append(nested_list[counter][1])\n",
    "    capital_titles_list.append(nested_list[counter][2].title())\n",
    "    counter += 1\n",
    "    nested_uppercase_list.append(capital_titles_list)\n",
    "\n",
    "print(nested_uppercase_list)\n",
    "\n",
    "\n"
   ]
  },
  {
   "cell_type": "markdown",
   "metadata": {
    "deletable": false,
    "editable": false,
    "nbgrader": {
     "cell_type": "markdown",
     "checksum": "fe3f09baa26365882e14c68dd6d3cfa9",
     "grade": false,
     "grade_id": "q8t4",
     "locked": true,
     "schema_version": 3,
     "solution": false
    }
   },
   "source": [
    "### Q7d) Sort the records lexicographically according to ID [ 1 pts ]"
   ]
  },
  {
   "cell_type": "code",
   "execution_count": 26,
   "metadata": {
    "deletable": false,
    "nbgrader": {
     "cell_type": "code",
     "checksum": "53413f605ea8d65c27a058d6496be3b6",
     "grade": true,
     "grade_id": "q8c4",
     "locked": false,
     "points": 1,
     "schema_version": 3,
     "solution": true
    }
   },
   "outputs": [
    {
     "name": "stdout",
     "output_type": "stream",
     "text": [
      "[['d45j5jkd', '28 December 1969', 'The Royal Philharmonic Orchestra Goes To The Bathroom'], ['f983', '22 December 1970', 'Royal Episode 13 (Or: The Queen Will Be Watching)'], ['j234hg', '19 October 1969', 'Court Scene With Cardinal Richelieu'], ['j8s74', '15 September 1970', 'The Semaphore Version Of Wuthering Heights'], ['n4j6l3j', '7 December 1972', 'Mr. Pither'], ['s4k5jk', '8 December 1970', 'Crossing The Atlantic On A Tricycle'], ['zd7u4h', '19 October 1969', 'Bicycle Repair Man']]\n"
     ]
    }
   ],
   "source": [
    "nested_uppercase_list.sort()\n",
    "\n",
    "print(nested_uppercase_list)\n",
    "\n"
   ]
  },
  {
   "cell_type": "markdown",
   "metadata": {
    "deletable": false,
    "editable": false,
    "nbgrader": {
     "cell_type": "markdown",
     "checksum": "e39693ca83a330ba56ba8c669df5f2b8",
     "grade": false,
     "grade_id": "q8t5",
     "locked": true,
     "schema_version": 3,
     "solution": false
    }
   },
   "source": [
    "###  Q7e) Get widest ID and Date strings [ 2 pts ]\n",
    "- figure out what the len() of the widest ID and Date strings is\n",
    "- store the results in variables and later use them when formating of the table"
   ]
  },
  {
   "cell_type": "code",
   "execution_count": 22,
   "metadata": {
    "deletable": false,
    "nbgrader": {
     "cell_type": "code",
     "checksum": "b053f8e60b14b6c86b1ec2aebd4c457f",
     "grade": true,
     "grade_id": "q8c5",
     "locked": false,
     "points": 2,
     "schema_version": 3,
     "solution": true
    }
   },
   "outputs": [
    {
     "name": "stdout",
     "output_type": "stream",
     "text": [
      "Widest ID is: 8\n",
      "Widest date is: 17\n"
     ]
    }
   ],
   "source": [
    "counter = 0\n",
    "widest_ID = 0\n",
    "widest_date = 0\n",
    "while counter < len(nested_uppercase_list):\n",
    "    if len(nested_uppercase_list[counter][0]) > widest_ID:\n",
    "        widest_ID = len(nested_uppercase_list[counter][0])\n",
    "    if len(nested_uppercase_list[counter][1]) > widest_date:\n",
    "        widest_date = len(nested_uppercase_list[counter][1])\n",
    "    counter += 1\n",
    "\n",
    "print(\"Widest ID is:\", widest_ID)\n",
    "print(\"Widest date is:\", widest_date)\n",
    "\n",
    "    \n",
    "\n",
    "\n"
   ]
  },
  {
   "cell_type": "markdown",
   "metadata": {
    "deletable": false,
    "editable": false,
    "nbgrader": {
     "cell_type": "markdown",
     "checksum": "ab77597359ce7b537a9bb5e42e47102a",
     "grade": false,
     "grade_id": "q8t6",
     "locked": true,
     "schema_version": 3,
     "solution": false
    }
   },
   "source": [
    "### Q7f) Print the table with a header row [ 5 pts ]\n",
    "- First, print a table header row (ID Date Title), then print all records (sorted by ID) into a separate row (line). - However, make sure to print each row (including the header row) so that the columns line up nicely as shown below. - All columns should print left-justified and need to be padded with spaces to the right. \n",
    "- Use your longest width to pad each record’s ID and date so that they line up nicely with one space in between, i.e. so that all dates start at the D of Date, all title at the T of Title, etc., as shown here. \n",
    "- (Don't use pandas for this!)\n",
    "\n",
    "```\n",
    "ID       Date             Title\n",
    "d45j5jkd 28 December 1969 The Royal Philharmonic Orchestra Goes To The Bathroom\n",
    "j234hg   19 October 1969  Court Scene With Cardinal Richelieu\n",
    "```"
   ]
  },
  {
   "cell_type": "code",
   "execution_count": 40,
   "metadata": {
    "deletable": false,
    "nbgrader": {
     "cell_type": "code",
     "checksum": "bfe930a13969c7b765838ea54f7ac85d",
     "grade": true,
     "grade_id": "q8c6",
     "locked": false,
     "points": 5,
     "schema_version": 3,
     "solution": true
    }
   },
   "outputs": [
    {
     "name": "stdout",
     "output_type": "stream",
     "text": [
      "ID        Date               Title\n",
      "d45j5jkd  28 December 1969   The Royal Philharmonic Orchestra Goes To The Bathroom\n",
      "f983      22 December 1970   Royal Episode 13 (Or: The Queen Will Be Watching)\n",
      "j234hg    19 October 1969    Court Scene With Cardinal Richelieu\n",
      "j8s74     15 September 1970  The Semaphore Version Of Wuthering Heights\n",
      "n4j6l3j   7 December 1972    Mr. Pither\n",
      "s4k5jk    8 December 1970    Crossing The Atlantic On A Tricycle\n",
      "zd7u4h    19 October 1969    Bicycle Repair Man\n"
     ]
    }
   ],
   "source": [
    "#ID -2 to account for the string ID and +1 for the gap between date and ID \n",
    "#Date -4 to account for the string Date and +1 for the gap between date and title\n",
    "print(\"ID\", \" \" * (widest_ID - 2), \"Date\", \" \" * (widest_date - 4), \"Title\")\n",
    "\n",
    "counter = 0\n",
    "while counter < len(nested_uppercase_list):\n",
    "    print(nested_uppercase_list[counter][0], \" \" * (widest_ID - len(nested_uppercase_list[counter][0])), nested_uppercase_list[counter][1], \" \" * (widest_date - len(nested_uppercase_list[counter][1])), nested_uppercase_list[counter][2])\n",
    "    counter += 1\n",
    "\n",
    "\n"
   ]
  }
 ],
 "metadata": {
  "kernelspec": {
   "display_name": "Python 3 (ipykernel)",
   "language": "python",
   "name": "python3"
  },
  "language_info": {
   "codemirror_mode": {
    "name": "ipython",
    "version": 3
   },
   "file_extension": ".py",
   "mimetype": "text/x-python",
   "name": "python",
   "nbconvert_exporter": "python",
   "pygments_lexer": "ipython3",
   "version": "3.10.11"
  },
  "varInspector": {
   "cols": {
    "lenName": 16,
    "lenType": 16,
    "lenVar": 40
   },
   "kernels_config": {
    "python": {
     "delete_cmd_postfix": "",
     "delete_cmd_prefix": "del ",
     "library": "var_list.py",
     "varRefreshCmd": "print(var_dic_list())"
    },
    "r": {
     "delete_cmd_postfix": ") ",
     "delete_cmd_prefix": "rm(",
     "library": "var_list.r",
     "varRefreshCmd": "cat(var_dic_list()) "
    }
   },
   "types_to_exclude": [
    "module",
    "function",
    "builtin_function_or_method",
    "instance",
    "_Feature"
   ],
   "window_display": false
  },
  "vscode": {
   "interpreter": {
    "hash": "aee8b7b246df8f9039afb4144a1f6fd8d2ca17a180786b69acc140d282b71a49"
   }
  }
 },
 "nbformat": 4,
 "nbformat_minor": 2
}
