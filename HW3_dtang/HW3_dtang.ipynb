{
 "cells": [
  {
   "cell_type": "markdown",
   "metadata": {},
   "source": [
    "# HCI 574 General HW Instructions\n",
    "\n",
    "\n",
    "### Work through the problems\n",
    "- Answer the questions shown in the HW. Fix anything with ???. Answers to text questions should be given in a printed string, e.g.:  `print(\"This is the answer\")` or as a comment e.g. `# This is the answer`\n",
    "- Ensure that VSCode is set to autosve your notebook! In _Settings_ search for autosave and set it to 1000 ms.\n",
    "- It's fine to create new python cells if you want to try something without changing the offcial cell but please ensure that at the end there's only one cell with your official answer to the question and (__very impotant!__) that that cell as been run/executed so we can see its output. If you want to \"save\" your inofficial cell(s), make sure they are fully commented out!\n",
    "\n",
    "\n",
    "\n",
    "### Handing in the HW\n",
    "- Check that all other files the HW might have (screenshots, data files, etc.) are indeed in the correct HW folder.\n",
    "- Zip your HW folder folder (e.g. into HW1_ALemming.zip). On Windows you can Right-click -> Send To - Compress Folder. Please don't use rar or any other exotic compressors!\n",
    "- Zip your HW folder and hand it into Gradescope\n",
    "\n",
    "\n",
    "### Points\n",
    "\n",
    "The number of points a problem is worth when solved properly is always shown inside brackets at the heading of the problem, e.g.\n",
    "##### Q1 [ 3.5 pts]  This problem is worth 3.5 points\n",
    "\n",
    "Sometimes you may get additional extra credits if we feel your solution is particularly clever, etc. \n",
    "Some problem are entirely __optional__, these will have a + in from of the points, e.g.\n",
    "##### Q2 [ +1 pt ] This *optional* problem is worth 1 point\n",
    "\n",
    "You can solve these optional points to learn more or make up of points you missed in earlier HW. Note however, that there's a cap on the total HW points, if you have more than 100% of HW points the end of the semester, it will be reduced to 100%\n",
    "\n",
    "### Questions?\n",
    "If you have questions or need help, ask me after class, use Piazza or ask the TA during office hours  "
   ]
  },
  {
   "cell_type": "markdown",
   "metadata": {
    "deletable": false,
    "editable": false,
    "nbgrader": {
     "cell_type": "markdown",
     "checksum": "d9ba7f06fb3d53493b34c03e577782c4",
     "grade": false,
     "grade_id": "HW3header",
     "locked": true,
     "schema_version": 3,
     "solution": false
    }
   },
   "source": [
    "# HW3 - processing words from a text file  \n",
    "\n",
    "- myfile.txt contains the following (very short) text:\n",
    "\n",
    "```\n",
    "Example text: The word the repeats here, to demonstrate repetitions of the word the.\n",
    "```\n",
    "\n",
    "- you will read it this text, modify it and perform various anlysis steps on it\n"
   ]
  },
  {
   "cell_type": "markdown",
   "metadata": {
    "deletable": false,
    "editable": false,
    "nbgrader": {
     "cell_type": "markdown",
     "checksum": "b9f9509132f95fa76fa30b7baeff9cf2",
     "grade": false,
     "grade_id": "q1d",
     "locked": true,
     "schema_version": 3,
     "solution": false
    }
   },
   "source": [
    "### [ 1 pt ] Q1 read text into string\n",
    "\n",
    "Open text file for reading and read its text into a single string called raw_text"
   ]
  },
  {
   "cell_type": "code",
   "execution_count": 2,
   "metadata": {
    "deletable": false,
    "nbgrader": {
     "cell_type": "code",
     "checksum": "054dc3567b8b9178e9e8089323592848",
     "grade": true,
     "grade_id": "q1c",
     "locked": false,
     "points": 1,
     "schema_version": 3,
     "solution": true
    }
   },
   "outputs": [
    {
     "name": "stdout",
     "output_type": "stream",
     "text": [
      "Reading in text from myfile.txt\n",
      "Raw text from file myfile.txt :\n",
      " Example text: The word the repeats here, to demonstrate repetitions of the word the.\n",
      "\n"
     ]
    }
   ],
   "source": [
    "filename = \"myfile.txt\"\n",
    "\n",
    "print(\"Reading in text from\", filename)\n",
    "\n",
    "## create file object\n",
    "fileobject = open(filename, \"r\")\n",
    "\n",
    "## read the content of opened file into a string\n",
    "raw_text = fileobject.read() # This contains the unprocessed text\n",
    "\n",
    "fileobject.close()\n",
    "print(\"Raw text from file\", filename, \":\\n\", raw_text)\n",
    "\n"
   ]
  },
  {
   "cell_type": "markdown",
   "metadata": {
    "deletable": false,
    "editable": false,
    "nbgrader": {
     "cell_type": "markdown",
     "checksum": "22cca0ec43b4556aec2d93c8e3ea9d0d",
     "grade": false,
     "grade_id": "q2d",
     "locked": true,
     "schema_version": 3,
     "solution": false
    }
   },
   "source": [
    "### [ 2 pts ] Q2 remove punctuations\n",
    "\n",
    "- Remove any of the following punctuation signs from raw_text by replacing __each of them__ with an empty string. \n",
    "- comma (\",\")\n",
    "- colon (\":\")\n",
    "- period (\".\")\n",
    "- You will have to do three \"passes\" for this\":\n",
    "\n",
    "    - remove comma (store result in text_punct_removed)\n",
    "    - remove colon (again, store result in text_punct_removed)\n",
    "    - remove period (again, store result in text_punct_removed)\n",
    "    \n",
    "- (there is another, fancier, way to do these 3 replacements all at once using `translate()`. Use that if you want, but its not required here)"
   ]
  },
  {
   "cell_type": "code",
   "execution_count": 5,
   "metadata": {
    "deletable": false,
    "nbgrader": {
     "cell_type": "code",
     "checksum": "976fd9022847807a21dc1884fd26e1b8",
     "grade": true,
     "grade_id": "q2c",
     "locked": false,
     "points": 2,
     "schema_version": 3,
     "solution": true
    }
   },
   "outputs": [
    {
     "name": "stdout",
     "output_type": "stream",
     "text": [
      "\n",
      "text with punctuation characters removed:\n",
      " Example text The word the repeats here to demonstrate repetitions of the word the\n",
      "\n"
     ]
    }
   ],
   "source": [
    "text_punct_removed = raw_text[:]  # make a copy of raw_text and call it text_punct_removed\n",
    "text_punct_removed = text_punct_removed.replace(\",\", \"\")\n",
    "text_punct_removed = text_punct_removed.replace(\":\", \"\")\n",
    "text_punct_removed = text_punct_removed.replace(\".\", \"\")\n",
    "\n",
    "print(\"\\ntext with punctuation characters removed:\\n\", text_punct_removed)\n",
    "\n",
    "\n",
    "\n"
   ]
  },
  {
   "cell_type": "markdown",
   "metadata": {
    "deletable": false,
    "editable": false,
    "nbgrader": {
     "cell_type": "markdown",
     "checksum": "1d566dd548eb6497e31e2870c058baea",
     "grade": false,
     "grade_id": "q3t",
     "locked": true,
     "schema_version": 3,
     "solution": false
    }
   },
   "source": [
    "### [ 1 pt ] Q3 lowercasify\n",
    "\n",
    "Convert all words in text_punct_removed to all lower case, e.g. `The` needs to become `the`. If you don't know which mthod to use see here: https://www.w3schools.com/python/python_ref_string.asp"
   ]
  },
  {
   "cell_type": "code",
   "execution_count": 6,
   "metadata": {
    "deletable": false,
    "nbgrader": {
     "cell_type": "code",
     "checksum": "d24f821c4118793c1419af9ea2a1c602",
     "grade": true,
     "grade_id": "q3c",
     "locked": false,
     "points": 1,
     "schema_version": 3,
     "solution": true
    }
   },
   "outputs": [
    {
     "name": "stdout",
     "output_type": "stream",
     "text": [
      "\n",
      "text lowercased:\n",
      " example text the word the repeats here to demonstrate repetitions of the word the\n",
      "\n"
     ]
    }
   ],
   "source": [
    "lowercased = text_punct_removed.lower()\n",
    "print(\"\\ntext lowercased:\\n\", lowercased)\n",
    "\n",
    "\n"
   ]
  },
  {
   "cell_type": "markdown",
   "metadata": {
    "deletable": false,
    "editable": false,
    "nbgrader": {
     "cell_type": "markdown",
     "checksum": "231bba364c2bf94db8446419651b2581",
     "grade": false,
     "grade_id": "q4t",
     "locked": true,
     "schema_version": 3,
     "solution": false
    }
   },
   "source": [
    "### [ 1 pt ] Q4 split string into list elements\n",
    "\n",
    "- Split your lowercased string into a list of words using _whitespace_(!), not just space.\n",
    "- See lecture 11 for what whitespace is and how to split on it."
   ]
  },
  {
   "cell_type": "code",
   "execution_count": 7,
   "metadata": {
    "deletable": false,
    "nbgrader": {
     "cell_type": "code",
     "checksum": "6afb897e7e01df7fcb5937a1bdd11f8d",
     "grade": true,
     "grade_id": "q4c",
     "locked": false,
     "points": 1,
     "schema_version": 3,
     "solution": true
    }
   },
   "outputs": [
    {
     "name": "stdout",
     "output_type": "stream",
     "text": [
      "\n",
      "lowercased and split (at whitespace) into list elements:\n",
      " ['example', 'text', 'the', 'word', 'the', 'repeats', 'here', 'to', 'demonstrate', 'repetitions', 'of', 'the', 'word', 'the']\n"
     ]
    }
   ],
   "source": [
    "words = lowercased.split()\n",
    "print(\"\\nlowercased and split (at whitespace) into list elements:\\n\", words)\n",
    "\n"
   ]
  },
  {
   "cell_type": "markdown",
   "metadata": {
    "deletable": false,
    "editable": false,
    "nbgrader": {
     "cell_type": "markdown",
     "checksum": "c8e58cf87370a53c651d44aef4bd4c76",
     "grade": false,
     "grade_id": "q5t",
     "locked": true,
     "schema_version": 3,
     "solution": false
    }
   },
   "source": [
    "### [ 1 pt ] Q5 how many words?\n",
    "\n",
    "- After splitting, how many words (elements) does the list now contain?\n",
    "- Ex.: the list `[\"a\", \"bla\", \"a\", \"a\", \"monty\"]` contains 5 words\n",
    "- as usual, do not just human-count them, use a function!"
   ]
  },
  {
   "cell_type": "code",
   "execution_count": 8,
   "metadata": {
    "deletable": false,
    "nbgrader": {
     "cell_type": "code",
     "checksum": "ac66bfe569fb5f7a94d8a5605d6fce0f",
     "grade": true,
     "grade_id": "q5c",
     "locked": false,
     "points": 1,
     "schema_version": 3,
     "solution": true
    }
   },
   "outputs": [
    {
     "name": "stdout",
     "output_type": "stream",
     "text": [
      "\n",
      "the list words contains 14 words\n"
     ]
    }
   ],
   "source": [
    "print(\"\\nthe list words contains\", len(words), \"words\")\n",
    "\n"
   ]
  },
  {
   "cell_type": "markdown",
   "metadata": {
    "deletable": false,
    "editable": false,
    "nbgrader": {
     "cell_type": "markdown",
     "checksum": "2ee0d480546e580dda215f97134a5f87",
     "grade": false,
     "grade_id": "q6t",
     "locked": true,
     "schema_version": 3,
     "solution": false
    }
   },
   "source": [
    "### [ 4 pts ] Q6 make a \"duo\" list\n",
    "\n",
    "- Using __list comprehension__ (lecture 11), create a new list from your words list that contains  2-elements (duo) lists: a word and its length(!)\n",
    "- Ex.: `[\"a\", \"bla\", \"a\", \"a\", \"monty\"]` needs to result in `[ [\"a\",1], [\"bla\",3], [\"a\",1], [\"a\",1], [\"monty\",5] ]`\n",
    "- each string in the first list generates a list with two elements (\"duo\"): the string itself in `[0]` and the length of the string in`[1]`. \n",
    "- These duo (inner) lists are inside an (outer) list\n"
   ]
  },
  {
   "cell_type": "code",
   "execution_count": 24,
   "metadata": {
    "deletable": false,
    "nbgrader": {
     "cell_type": "code",
     "checksum": "4cb09b5567408583176bf5c3496bd9f0",
     "grade": true,
     "grade_id": "q6c",
     "locked": false,
     "points": 4,
     "schema_version": 3,
     "solution": true
    }
   },
   "outputs": [
    {
     "name": "stdout",
     "output_type": "stream",
     "text": [
      "\n",
      "list of [word,length] is:\n",
      " [['example', 7], ['text', 4], ['the', 3], ['word', 4], ['the', 3], ['repeats', 7], ['here', 4], ['to', 2], ['demonstrate', 11], ['repetitions', 11], ['of', 2], ['the', 3], ['word', 4], ['the', 3]]\n"
     ]
    }
   ],
   "source": [
    "word_length_pair_list = [[w, len(w)] for w in words]\n",
    "print(\"\\nlist of [word,length] is:\\n\", word_length_pair_list)\n",
    "\n",
    "\n",
    "\n"
   ]
  },
  {
   "cell_type": "markdown",
   "metadata": {
    "deletable": false,
    "editable": false,
    "nbgrader": {
     "cell_type": "markdown",
     "checksum": "93d33134da1eee8152737d21b54f2b36",
     "grade": false,
     "grade_id": "q7t",
     "locked": true,
     "schema_version": 3,
     "solution": false
    }
   },
   "source": [
    "### [ 2 pts ] Q7 make a dictionary\n",
    "\n",
    "- From word_length_pair_list create a dictionary that contains each word as key and its length as value\n",
    "- Ex.: the list `[ [\"a\",1], [\"bla\",3], [\"a\",1] ]` would become the dict `{ \"a\":1, \"bla\":3 }`\n",
    "- Hint: lecture 08 shows how to turn a list of a specific format into a dictionary, using the `dict()` function."
   ]
  },
  {
   "cell_type": "code",
   "execution_count": 25,
   "metadata": {
    "deletable": false,
    "nbgrader": {
     "cell_type": "code",
     "checksum": "22c2fa2130cc93ee31bba385edfad88d",
     "grade": true,
     "grade_id": "q7c",
     "locked": false,
     "points": 2,
     "schema_version": 3,
     "solution": true
    }
   },
   "outputs": [
    {
     "name": "stdout",
     "output_type": "stream",
     "text": [
      "\n",
      "dictionary for word:length is:\n",
      " {'example': 7, 'text': 4, 'the': 3, 'word': 4, 'repeats': 7, 'here': 4, 'to': 2, 'demonstrate': 11, 'repetitions': 11, 'of': 2}\n"
     ]
    }
   ],
   "source": [
    "# use word_length_pair_list to create a dictionary\n",
    "word_length_dict = dict(word_length_pair_list)\n",
    "print(\"\\ndictionary for word:length is:\\n\", word_length_dict)\n",
    "\n"
   ]
  },
  {
   "cell_type": "markdown",
   "metadata": {
    "deletable": false,
    "editable": false,
    "nbgrader": {
     "cell_type": "markdown",
     "checksum": "8797f296ea497a7d829162c23df6ce7f",
     "grade": false,
     "grade_id": "q8t",
     "locked": true,
     "schema_version": 3,
     "solution": false
    }
   },
   "source": [
    "### [ 1 pt ] Q8 number of pairs in dict vs number of elements in list\n",
    "\n",
    "- How many key-value pairs does the dictionary word_length_dict contain?\n",
    "- How many \"duo\" lists does word_length_pair_list contain (i.e. what's the number of top-level elements in it)?\n",
    "- As usual, do not just human-count them, use a function!"
   ]
  },
  {
   "cell_type": "code",
   "execution_count": 26,
   "metadata": {
    "deletable": false,
    "nbgrader": {
     "cell_type": "code",
     "checksum": "1ed89f2f9164b09fd582a963decc2e9e",
     "grade": true,
     "grade_id": "q8c",
     "locked": false,
     "points": 1,
     "schema_version": 3,
     "solution": true
    }
   },
   "outputs": [
    {
     "name": "stdout",
     "output_type": "stream",
     "text": [
      "\n",
      "The dictionary word_length_dict contains 10 key-value pairs\n",
      "The list word_length_pair_list  contains 14 list pairs (top-level elements)\n"
     ]
    }
   ],
   "source": [
    "print(\"\\nThe dictionary word_length_dict contains\", len(word_length_dict), \"key-value pairs\")\n",
    "print(\"The list word_length_pair_list  contains\", len(word_length_pair_list), \"list pairs (top-level elements)\")\n",
    "\n"
   ]
  },
  {
   "cell_type": "markdown",
   "metadata": {
    "deletable": false,
    "editable": false,
    "nbgrader": {
     "cell_type": "markdown",
     "checksum": "2ccd91bfa5e0384f125a195e064ae719",
     "grade": false,
     "grade_id": "q9t",
     "locked": true,
     "schema_version": 3,
     "solution": false
    }
   },
   "source": [
    "### [ 2 pts ] Q9 why are the numbers different?\n",
    "- Briefly explain why word_length_dict contains a different number of pairs than the number of list pairs in word_length_pair_list. \n",
    "- Print out our explanation (need to use the \"\"\" at beginning and end!)"
   ]
  },
  {
   "cell_type": "code",
   "execution_count": 29,
   "metadata": {
    "deletable": false,
    "nbgrader": {
     "cell_type": "code",
     "checksum": "2d68f3bb9d59bd361ecde38eeef33428",
     "grade": true,
     "grade_id": "q9c",
     "locked": false,
     "points": 2,
     "schema_version": 3,
     "solution": true
    }
   },
   "outputs": [
    {
     "name": "stdout",
     "output_type": "stream",
     "text": [
      "The word_length_dict dictionary contains a different number of pair lists than the\n",
      "number of pairs in word_length_pair_list because a dictionary does not allow any duplicate keys, so any duplicated keys are overwritten.\n",
      "      \n"
     ]
    }
   ],
   "source": [
    "print(\"\"\"The word_length_dict dictionary contains a different number of pair lists than the\n",
    "number of pairs in word_length_pair_list because a dictionary does not allow any duplicate keys, so any duplicated keys are overwritten.\n",
    "      \"\"\")\n",
    "\n",
    "\n"
   ]
  },
  {
   "cell_type": "markdown",
   "metadata": {
    "deletable": false,
    "editable": false,
    "nbgrader": {
     "cell_type": "markdown",
     "checksum": "f1cd5938f4082b9a65276abccacf31b1",
     "grade": false,
     "grade_id": "q10t",
     "locked": true,
     "schema_version": 3,
     "solution": false
    }
   },
   "source": [
    "### [ +1 pts ] Q10 Optional: What are the most common words?\n",
    "\n",
    "Which words occur most often in a text?\n",
    "\n",
    "- For this optional task I will only describe the general steps. When you write your code for it please also include comments that explain what you're doing and print out your results after each step. \n",
    "\n",
    "- Start developing the solution with a tiny example, like [\"a\", \"bla\", \"a\", \"a\", \"monty\"], after this works, use longer texts like DeadParrt.txt\n",
    "\n",
    "- Use the method `L.count(s)` that returns the number of occurrences of s in L as an int\n",
    "\n",
    "- Use `count()` to make  duo list of \"pairs\", containing each word and how often it occurs (its count).\n",
    "\n",
    "`['a', 'bla', 'a', 'a', 'monty'] => [['a',3], ['bla',1], ['a',3], ['a',3], ['monty',1]]`\n",
    "\n",
    "- This means 'a' occurs 3 times, 'bla' once, etc. But, you now, have the 3 duo lists ['a',3] with the same content!\n",
    "\n",
    "- Next, you need to get rid of these \"duplications\". Use a dictionary as it cannot have multiples of the same key (e.g. \"a\"). We've already seen how to convert a list containing \"duos\" into a dictionary with the dict() function.\n",
    "\n",
    "`[['a',3], ['bla',1], ['a',3], ['a',3], ['monty',1]] => {'a': 3, 'bla': 1, 'monty': 1}`\n",
    "\n",
    "- Now, you need to sort this sequence of pairs by count. You can only sort lists, so you have to convert your dictionary back to a list of pairs. This is best done with the dictionary .items() method. (Don't forget to convert the dict_items object to a list using list())\n",
    "\n",
    "`{'a': 3, 'bla': 1, 'monty': 1} => [ ['a',3], ['bla',1], ['monty',1] ]`\n",
    "\n",
    "- By default, sorting a list of lists (each pair is a list) is based on the __first__ element in these lists, in our case by words, not by count. (You can configure sorted() to sort by the second element, but you will need to use the key=itemgetter() functionality: http://wiki.python.org/moin/HowTo/Sorting/ )\n",
    "\n",
    "- One way around this would be to use list comprehension to create another list with pairs, in which each list pair is \"flipped\" so that the count is the first element and the word the second: \n",
    "\n",
    "`[ ['a',3], ['bla',1], ['monty',1] ]  => [[3,'a'], [1,'bla'], [1, 'monty']] `\n",
    "\n",
    "- Now you can sort the list with sorted()\n",
    "\n",
    "`[[3,'a'], [1,'bla'], [1, 'monty']] => [[1,'bla'], [1, 'monty'], [3,'a']]`\n",
    "\n",
    "- Now reverse that list so the most often used word is first, not last (or you could use the reverse=True option in sorted()):\n",
    "\n",
    "`[[1,'bla'], [1, 'monty'], [3,'a']] => [[3,'a'],  [1, 'monty'], [1,'bla'],]`\n",
    "\n",
    "- Another way is to \n",
    "\n",
    "\n",
    "- Print out the top 3  (most often used) of your text, it should look something like this:\n",
    "\n",
    "```\n",
    "superman 13  -> the word superman was used 13 times\n",
    "man 13\n",
    "bicycle 12\n",
    "```\n",
    "\n",
    "- I know that there's a much easier and more efficient way of getting this result via the python class Counter. It takes a list of words and creates a type of dictionary from it, with each word as key and its count as value. If you print it out it will even appear to be sorted by count:\n",
    "\n",
    "```\n",
    "from collections import Counter\n",
    "words = [\"a\", \"bla\", \"a\", \"a\", \"monty\"]\n",
    "print(Counter(words)) # => Counter({'a': 3, 'bla': 1, 'monty': 1})\n",
    "```\n",
    "\n",
    "- Obviously that's way too easy and won't count as valid code for this exercise but you could check your result with it.\n",
    "\n",
    "- Once you have it working with a larger text file, try it on a book from project gutenberg: http://www.gutenberg.org/catalog/. \n",
    "- Download the Plain Text UTF-8 file (not in pdf or Kindle format!),  e.g. War and Peace: http://www.gutenberg.org/ebooks/2600 ,and list the top ten often used words.\n",
    "\n",
    "- However, make sure to open such a text file with encode set to this, to avoid unicode errors:\n",
    "\n",
    "```\n",
    "f = open(\"large.txt\", 'r',  encoding=\"latin-1\")  \n",
    "```\n"
   ]
  },
  {
   "cell_type": "code",
   "execution_count": null,
   "metadata": {},
   "outputs": [
    {
     "name": "stdout",
     "output_type": "stream",
     "text": [
      "['a', 'bla', 'a', 'a', 'monty', 'bla']\n",
      "\n",
      "using the Counter class from the collections module:\n",
      "[('a', 3), ('bla', 2), ('monty', 1)]\n"
     ]
    }
   ],
   "source": [
    "# Here's a solution using the Counter class, just so you can\n",
    "# see what the result should be. Obviously, you can't just use Counter yourself!\n",
    "\n",
    "words = [\"a\", \"bla\", \"a\", \"a\", \"monty\", \"bla\"]\n",
    "print(words)\n",
    "\n",
    "\n",
    "from collections import Counter\n",
    "# https://docs.python.org/3.1/library/collections.html\n",
    "\n",
    "print(\"\\nusing the Counter class from the collections module:\")\n",
    "cdict = Counter(words) # creates a special type of collection object called a Counter\n",
    "print(cdict.most_common(3)) # 3 most common words\n"
   ]
  },
  {
   "cell_type": "code",
   "execution_count": 38,
   "metadata": {
    "deletable": false,
    "nbgrader": {
     "cell_type": "code",
     "checksum": "d608763914f4c1c60e3109af28dbe32b",
     "grade": true,
     "grade_id": "q10c",
     "locked": false,
     "points": 0,
     "schema_version": 3,
     "solution": true
    }
   },
   "outputs": [
    {
     "name": "stdout",
     "output_type": "stream",
     "text": [
      "[['Dead', 1], ['Parrot', 1], ['As', 1], ['featured', 2], ['in', 8], ['the', 40], ['Flying', 3], ['Circus', 2], ['TV', 2], ['Show', 2], ['-', 4], ['Episode', 2], ['8', 1], ['About', 1], ['the', 40], ['Sketch', 1], ['This', 4], ['sketch', 3], ['not', 9], ['only', 3], ['appeared', 1], ['in', 8], ['the', 40], ['Flying', 3], ['Circus', 2], ['TV', 2], ['Show', 2], ['-', 4], ['Episode', 2], ['8,', 1], ['it', 15], ['also', 3], ['featured', 2], ['in', 8], ['the', 40], ['Movie', 1], ['-', 4], [\"'And\", 1], ['Now', 2], ['For', 1], ['Something', 1], ['Completely', 1], [\"Different'.\", 1], ['It', 2], ['was', 9], ['also', 3], ['performed', 2], ['on', 8], ['their', 2], ['Albums', 1], ['-', 4], [\"'Monty\", 3], [\"Python's\", 2], ['Flying', 3], [\"Circus',\", 1], [\"'The\", 3], ['Monty', 3], ['Python', 5], ['Instant', 2], ['Record', 2], [\"Collection'\", 2], ['(UK', 1], ['version),', 2], [\"'The\", 3], ['Monty', 3], ['Python', 5], ['Instant', 2], ['Record', 2], [\"Collection'\", 2], ['(US', 1], ['version),', 2], [\"''Monty\", 1], [\"Python's\", 2], ['The', 8], ['Final', 1], [\"Ripoff'\", 2], [\"'The\", 3], ['Ultimate', 1], ['Monty', 3], ['Python', 5], [\"Ripoff'\", 2], ['and', 14], [\"'Lust\", 1], ['for', 8], [\"Glory'..\", 1], ['They', 1], ['also', 3], ['performed', 2], ['this', 9], ['sketch', 3], ['on', 8], ['their', 2], ['live', 3], ['albums', 1], [\"'Monty\", 3], ['Python', 5], ['live', 3], ['at', 5], ['the', 40], ['Theatre', 1], ['Royal', 1], ['Drury', 1], [\"Lane'\", 1], ['and', 14], [\"'Monty\", 3], ['Python', 5], ['live', 3], ['at', 5], ['City', 1], [\"Center'.\", 1], ['The', 8], ['cast', 1], ['MR.', 1], ['PRALINE', 1], ['John', 1], ['Cleese', 1], ['SHOP', 1], ['OWNER', 1], ['Michael', 1], ['Palin', 1], ['The', 8], ['sketch', 3], ['A', 4], ['customer', 3], ['enters', 2], ['a', 20], ['pet', 5], ['shop.', 2], ['Mr.', 36], ['Praline', 36], [\"'Ello,\", 3], ['I', 30], ['wish', 5], ['to', 17], ['register', 1], ['a', 20], ['complaint.', 1], ['(The', 3], ['owner', 2], ['does', 2], ['not', 9], ['respond.)', 1], ['Mr.', 36], ['Praline', 36], [\"'Ello,\", 3], ['Miss', 1], ['Owner', 25], ['What', 2], ['do', 3], ['you', 12], ['mean', 1], ['miss', 1], ['Mr.', 36], ['Praline', 36], ['{pause}', 2], [\"I'm\", 4], ['sorry,', 1], ['I', 30], ['have', 2], ['a', 20], ['cold.', 1], ['I', 30], ['wish', 5], ['to', 17], ['make', 1], ['a', 20], ['complaint!', 1], ['Owner', 25], [\"We're\", 1], [\"closin'\", 1], ['for', 8], ['lunch.', 1], ['Mr.', 36], ['Praline', 36], ['Never', 1], ['mind', 1], ['that,', 2], ['my', 5], ['lad.', 2], ['I', 30], ['wish', 5], ['to', 17], ['complain', 1], ['about', 1], ['this', 9], ['parrot', 7], ['what', 3], ['I', 30], ['purchased', 2], ['not', 9], ['half', 1], ['an', 2], ['hour', 2], ['ago', 1], ['from', 1], ['this', 9], ['very', 1], ['boutique.', 1], ['Owner', 25], ['Oh', 1], ['yes,', 1], ['the,', 1], ['uh,', 2], ['the', 40], ['Norwegian', 4], [\"Blue...What's,uh...What's\", 1], ['wrong', 3], ['with', 5], ['it', 15], ['Mr.', 36], ['Praline', 36], [\"I'll\", 2], ['tell', 1], ['you', 12], [\"what's\", 2], ['wrong', 3], ['with', 5], ['it,', 2], ['my', 5], ['lad.', 2], [\"'E's\", 10], ['dead,', 2], [\"that's\", 3], [\"what's\", 2], ['wrong', 3], ['with', 5], ['it!', 3], ['Owner', 25], ['No,', 6], ['no,', 2], [\"'e's\", 3], [\"uh,...he's\", 1], ['resting.', 1], ['Mr.', 36], ['Praline', 36], ['Look,', 3], ['matey,', 1], ['I', 30], ['know', 1], ['a', 20], ['dead', 2], ['parrot', 7], ['when', 3], ['I', 30], ['see', 1], ['one,', 1], ['and', 14], [\"I'm\", 4], ['looking', 1], ['at', 5], ['one', 1], ['right', 3], ['now.', 1], ['Owner', 25], ['No', 2], ['no', 2], [\"he's\", 3], ['not', 9], ['dead,', 2], [\"he's,\", 1], [\"he's\", 3], [\"restin'!\", 1], ['Remarkable', 2], ['bird,', 2], ['the', 40], ['Norwegian', 4], ['Blue,', 1], [\"idn'it,\", 1], ['ay', 1], ['Beautiful', 1], ['plumage!', 2], ['Mr.', 36], ['Praline', 36], ['The', 8], ['plumage', 1], [\"don't\", 2], ['enter', 1], ['into', 1], ['it.', 1], [\"It's\", 2], ['stone', 1], ['dead.', 1], ['Owner', 25], ['Nononono,', 1], ['no,', 2], ['no!', 2], [\"'E's\", 10], ['resting!', 1], ['Mr.', 36], ['Praline', 36], ['All', 1], ['right', 3], ['then,', 1], ['if', 4], [\"he's\", 3], [\"restin',\", 1], [\"I'll\", 2], ['wake', 1], ['him', 1], ['up!', 2], ['(shouting', 1], ['at', 5], ['the', 40], ['cage)', 2], [\"'Ello,\", 3], ['Mister', 1], ['Polly', 1], ['Parrot!', 1], [\"I've\", 3], ['got', 5], ['a', 20], ['lovely', 1], ['fresh', 1], ['cuttle', 1], ['fish', 1], ['for', 8], ['you', 12], ['if', 4], ['you', 12], ['show...', 1], ['(owner', 1], ['hits', 1], ['the', 40], ['cage)', 2], ['Owner', 25], ['There,', 1], ['he', 4], ['moved!', 1], ['Mr.', 36], ['Praline', 36], ['No,', 6], ['he', 4], [\"didn't,\", 1], ['that', 9], ['was', 9], ['you', 12], ['hitting', 2], ['the', 40], ['cage!', 1], ['Owner', 25], ['I', 30], ['never!!', 1], ['Mr.', 36], ['Praline', 36], ['Yes,', 1], ['you', 12], ['did!', 1], ['Owner', 25], ['I', 30], ['never,', 1], ['never', 1], ['did', 2], ['anything...', 1], ['Mr.', 36], ['Praline', 36], ['(yelling', 1], ['and', 14], ['hitting', 2], ['the', 40], ['cage', 2], ['repeatedly)', 1], [\"'ELLO\", 1], ['POLLY!!!!!', 1], ['Testing!', 4], ['Testing!', 4], ['Testing!', 4], ['Testing!', 4], ['This', 4], ['is', 10], ['your', 2], ['nine', 1], [\"o'clock\", 1], ['alarm', 1], ['call!', 1], ['(Takes', 1], ['parrot', 7], ['out', 4], ['of', 10], ['the', 40], ['cage', 2], ['and', 14], ['thumps', 1], ['its', 4], ['head', 1], ['on', 8], ['the', 40], ['counter.', 1], ['Throws', 1], ['it', 15], ['up', 3], ['in', 8], ['the', 40], ['air', 1], ['and', 14], ['watches', 1], ['it', 15], ['plummet', 1], ['to', 17], ['the', 40], ['floor.)', 1], ['Mr.', 36], ['Praline', 36], ['Now', 2], [\"that's\", 3], ['what', 3], ['I', 30], ['call', 1], ['a', 20], ['dead', 2], ['parrot.', 1], ['Owner', 25], ['No,', 6], ['no.....No,', 1], [\"'e's\", 3], ['stunned!', 1], ['Mr.', 36], ['Praline', 36], ['STUNNED!', 1], ['Owner', 25], ['Yeah!', 1], ['You', 2], ['stunned', 1], ['him,', 1], ['just', 1], ['as', 4], ['he', 4], ['was', 9], [\"wakin'\", 1], ['up!', 2], ['Norwegian', 4], ['Blues', 1], ['stun', 1], ['easily,', 1], ['major.', 1], ['Mr.', 36], ['Praline', 36], ['Um...now', 1], ['look...now', 1], ['look,', 2], ['mate,', 1], [\"I've\", 3], ['definitely', 2], [\"'ad\", 1], ['enough', 1], ['of', 10], ['this.', 1], ['That', 1], ['parrot', 7], ['is', 10], ['definitely', 2], ['deceased,', 1], ['and', 14], ['when', 3], ['I', 30], ['purchased', 2], ['it', 15], ['not', 9], [\"'alf\", 1], ['an', 2], ['hour', 2], ['ago,', 1], ['you', 12], ['assured', 1], ['me', 2], ['that', 9], ['its', 4], ['total', 1], ['lack', 1], ['of', 10], ['movement', 1], ['was', 9], ['due', 1], ['to', 17], ['it', 15], [\"bein'\", 1], ['tired', 1], ['and', 14], ['shagged', 1], ['out', 4], ['following', 1], ['a', 20], ['prolonged', 1], ['squawk.', 1], ['Owner', 25], ['Well,', 5], [\"he's...he's,\", 1], ['ah...probably', 1], ['pining', 1], ['for', 8], ['the', 40], ['fjords.', 1], ['Mr.', 36], ['Praline', 36], [\"PININ'\", 1], ['for', 8], ['the', 40], ['FJORDS!!!', 1], ['What', 2], ['kind', 1], ['of', 10], ['talk', 2], ['is', 10], ['that,', 2], ['look,', 2], ['why', 1], ['did', 2], ['he', 4], ['fall', 1], ['flat', 1], ['on', 8], ['his', 1], ['back', 2], ['the', 40], ['moment', 1], ['I', 30], ['got', 5], [\"'im\", 2], ['home', 1], ['Owner', 25], ['The', 8], ['Norwegian', 4], ['Blue', 1], ['prefers', 1], [\"keepin'\", 1], ['on', 8], [\"it's\", 3], ['back!', 1], ['Remarkable', 2], ['bird,', 2], [\"id'nit,\", 1], ['squire', 1], ['Lovely', 1], ['plumage!', 2], ['Mr.', 36], ['Praline', 36], ['Look,', 3], ['I', 30], ['took', 1], ['the', 40], ['liberty', 1], ['of', 10], ['examining', 1], ['that', 9], ['parrot', 7], ['when', 3], ['I', 30], ['got', 5], ['it', 15], ['home,', 1], ['and', 14], ['I', 30], ['discovered', 1], ['the', 40], ['only', 3], ['reason', 1], ['that', 9], ['it', 15], ['had', 3], ['been', 2], ['sitting', 1], ['on', 8], ['its', 4], ['perch', 2], ['in', 8], ['the', 40], ['first', 1], ['place', 1], ['was', 9], ['that', 9], ['it', 15], ['had', 3], ['been', 2], ['NAILED', 1], ['there.', 1], ['(pause)', 4], ['Owner', 25], ['Well,', 5], [\"o'course\", 1], ['it', 15], ['was', 9], ['nailed', 3], ['there!', 1], ['If', 2], ['I', 30], [\"hadn't\", 2], ['nailed', 3], ['that', 9], ['bird', 2], ['down,', 1], ['it', 15], ['would', 2], ['have', 2], ['nuzzled', 1], ['up', 3], ['to', 17], ['those', 1], ['bars,', 1], ['bent', 1], [\"'em\", 1], ['apart', 1], ['with', 5], ['its', 4], ['beak,', 1], ['and', 14], ['VOOM!', 2], ['Feeweeweewee!', 1], ['Mr.', 36], ['Praline', 36], ['VOOM!', 2], ['Mate,', 1], ['this', 9], ['bird', 2], [\"wouldn't\", 1], ['voom', 1], ['if', 4], ['you', 12], ['put', 1], ['four', 1], ['million', 1], ['volts', 1], ['through', 1], ['it!', 3], [\"'E's\", 10], [\"bleedin'\", 2], ['demised!', 1], ['Owner', 25], ['No', 2], ['no!', 2], [\"'E's\", 10], ['pining!', 1], ['Mr.', 36], ['Praline', 36], [\"'E's\", 10], ['not', 9], [\"pinin'!\", 1], [\"'E's\", 10], ['passed', 1], ['on!', 1], ['This', 4], ['parrot', 7], ['is', 10], ['no', 2], ['more!', 1], ['He', 3], ['has', 1], ['ceased', 1], ['to', 17], ['be!', 1], [\"'E's\", 10], ['expired', 1], ['and', 14], ['gone', 1], ['to', 17], ['meet', 1], [\"'is\", 2], ['maker!', 1], [\"'E's\", 10], ['a', 20], ['stiff!', 1], ['Bereft', 1], ['of', 10], ['life,', 1], [\"'e\", 1], ['rests', 1], ['in', 8], ['peace!', 1], ['If', 2], ['you', 12], [\"hadn't\", 2], ['nailed', 3], [\"'im\", 2], ['to', 17], ['the', 40], ['perch', 2], [\"'e'd\", 1], ['be', 2], ['pushing', 1], ['up', 3], ['the', 40], ['daisies!', 1], [\"'Is\", 1], ['metabolic', 1], ['processes', 1], ['are', 1], ['now', 1], [\"'istory!\", 1], [\"'E's\", 10], ['off', 2], ['the', 40], ['twig!', 1], [\"'E's\", 10], ['kicked', 1], ['the', 40], ['bucket,', 1], [\"'e's\", 3], ['shuffled', 1], ['off', 2], [\"'is\", 2], ['mortal', 1], ['coil,', 1], ['run', 1], ['down', 1], ['the', 40], ['curtain', 1], ['and', 14], ['joined', 1], ['the', 40], [\"bleedin'\", 2], ['choir', 1], ['invisibile!!', 1], ['THIS', 2], ['IS', 3], ['AN', 1], ['EX-PARROT!!', 1], ['(pause)', 4], ['Owner', 25], ['Well,', 5], [\"I'd\", 1], ['better', 1], ['replace', 2], ['it,', 2], ['then.', 1], ['(he', 1], ['takes', 1], ['a', 20], ['quick', 1], ['peek', 1], ['behind', 2], ['the', 40], ['counter)', 1], ['Sorry', 1], ['squire,', 1], [\"I've\", 3], ['had', 3], ['a', 20], ['look', 1], [\"'round\", 1], ['the', 40], ['back', 2], ['of', 10], ['the', 40], ['shop,', 1], ['and', 14], ['uh,', 2], [\"we're\", 1], ['right', 3], ['out', 4], ['of', 10], ['parrots.', 1], ['Mr.', 36], ['Praline', 36], ['I', 30], ['see.', 1], ['I', 30], ['see,', 1], ['I', 30], ['get', 1], ['the', 40], ['picture.', 1], ['Owner', 25], ['{pause}', 2], ['I', 30], ['got', 5], ['a', 20], ['slug.', 1], ['(pause)', 4], ['Mr.', 36], ['Praline', 36], ['(sweet', 1], ['as', 4], ['sugar)', 1], ['Pray,', 1], ['does', 2], ['it', 15], ['talk', 2], ['Owner', 25], ['Nnnnot', 1], ['really.', 1], ['Mr.', 36], ['Praline', 36], ['WELL', 1], [\"IT'S\", 1], ['HARDLY', 1], ['A', 4], ['BLOODY', 1], ['REPLACEMENT,', 1], ['IS', 3], ['IT!!!!', 1], ['Owner', 25], ['Look,', 3], ['if', 4], ['you', 12], ['go', 1], ['to', 17], ['my', 5], [\"brother's\", 1], ['pet', 5], ['shop', 2], ['in', 8], ['Bolton,', 3], [\"he'll\", 1], ['replace', 2], ['the', 40], ['parrot', 7], ['for', 8], ['you.', 2], ['Mr.', 36], ['Praline', 36], ['Bolton,', 3], ['eh', 1], ['Very', 1], ['well.', 1], ['(The', 3], ['customer', 3], ['leaves.)', 1], ['(The', 3], ['customer', 3], ['enters', 2], ['the', 40], ['same', 2], ['pet', 5], ['shop.', 2], ['The', 8], ['owner', 2], ['is', 10], ['putting', 1], ['on', 8], ['a', 20], ['false', 1], ['moustache.)', 1], ['Mr.', 36], ['Praline', 36], ['This', 4], ['is', 10], ['Bolton,', 3], ['is', 10], ['it', 15], ['Owner', 25], ['(with', 1], ['a', 20], ['fake', 2], ['mustache)', 2], ['No,', 6], [\"it's\", 3], ['Ipswitch.', 2], ['Mr.', 36], ['Praline', 36], ['(looking', 1], ['at', 5], ['the', 40], ['camera)', 2], [\"That's\", 1], ['inter-city', 1], ['rail', 1], ['for', 8], ['you.', 2], ['(Mr', 1], ['Praine', 1], ['goes', 1], ['to', 17], ['the', 40], ['train', 2], ['station.', 1], ['He', 3], ['addresses', 1], ['a', 20], ['man', 1], ['standing', 1], ['behind', 2], ['a', 20], ['desk', 1], ['marked', 1], ['Complaints.)', 1], ['Mr.', 36], ['Praline', 36], ['I', 30], ['wish', 5], ['to', 17], ['complain,', 1], ['British-Railways', 1], ['Person.', 1], ['Attendant', 5], ['I', 30], [\"DON'T\", 1], ['HAVE', 1], ['TO', 1], ['DO', 1], ['THIS', 2], ['JOB,', 1], ['YOU', 1], ['KNOW!!!', 1], ['Mr.', 36], ['Praline', 36], ['I', 30], ['beg', 1], ['your', 2], ['pardon...', 1], ['Attendant', 5], [\"I'm\", 4], ['a', 20], ['qualified', 1], ['brain', 1], ['surgeon!', 1], ['I', 30], ['only', 3], ['do', 3], ['this', 9], ['job', 1], ['because', 1], ['I', 30], ['like', 1], ['being', 1], ['my', 5], ['own', 1], ['boss!', 1], ['Mr.', 36], ['Praline', 36], ['Excuse', 1], ['me,', 1], ['this', 9], ['is', 10], ['irrelevant,', 1], [\"isn't\", 1], ['it', 15], ['Attendant', 5], ['Yeah,', 2], ['well', 1], [\"it's\", 3], ['not', 9], ['easy', 1], ['to', 17], ['pad', 1], ['these', 1], ['python', 1], ['files', 1], ['out', 4], ['to', 17], ['150', 1], ['lines,', 1], ['you', 12], ['know.', 1], ['Mr.', 36], ['Praline', 36], ['Well,', 5], ['I', 30], ['wish', 5], ['to', 17], ['complain.', 1], ['I', 30], ['got', 5], ['on', 8], ['the', 40], ['Bolton', 2], ['train', 2], ['and', 14], ['found', 1], ['myself', 1], ['deposited', 1], ['here', 1], ['in', 8], ['Ipswitch.', 2], ['Attendant', 5], ['No,', 6], ['this', 9], ['is', 10], ['Bolton.', 2], ['Mr.', 36], ['Praline', 36], ['(to', 1], ['the', 40], ['camera)', 2], ['The', 8], ['pet', 5], ['shop', 2], [\"man's\", 1], ['brother', 1], ['was', 9], ['lying!!', 1], ['Attendant', 5], [\"Can't\", 1], ['blame', 1], ['British', 1], ['Rail', 1], ['for', 8], ['that.', 1], ['Mr.', 36], ['Praline', 36], ['In', 1], ['that', 9], ['case,', 1], ['I', 30], ['shall', 1], ['return', 1], ['to', 17], ['the', 40], ['pet', 5], ['shop!', 1], ['He', 3], ['does.', 1], ['Mr.', 36], ['Praline', 36], ['I', 30], ['understand', 1], ['this', 9], ['IS', 3], ['Bolton.', 2], ['Owner', 25], ['(still', 1], ['with', 5], ['the', 40], ['fake', 2], ['mustache)', 2], ['Yes', 1], ['Mr.', 36], ['Praline', 36], ['You', 2], ['told', 1], ['me', 2], ['it', 15], ['was', 9], ['Ipswitch!', 1], ['Owner', 25], ['...It', 1], ['was', 9], ['a', 20], ['pun.', 1], ['Mr.', 36], ['Praline', 36], ['(pause)', 4], ['A', 4], ['PUN!', 1], ['Owner', 25], ['No,', 6], ['no...not', 1], ['a', 20], [\"pun...What's\", 1], ['that', 9], ['thing', 1], ['that', 9], ['spells', 1], ['the', 40], ['same', 2], ['backwards', 1], ['as', 4], ['forwards', 1], ['Mr.', 36], ['Praline', 36], ['(Long', 1], ['pause)', 1], ['A', 4], ['palindrome...', 1], ['Owner', 25], ['Yeah,', 2], [\"that's\", 3], ['it!', 3], ['Mr.', 36], ['Praline', 36], [\"It's\", 2], ['not', 9], ['a', 20], ['palindrome!', 1], ['The', 8], ['palindrome', 1], ['of', 10], ['Bolton', 2], ['would', 2], ['be', 2], ['Notlob!!', 1], ['It', 2], [\"don't\", 2], ['work!!', 1], ['Owner', 25], ['Well,', 5], ['what', 3], ['do', 3], ['you', 12], ['want', 1], ['Mr.', 36], ['Praline', 36], [\"I'm\", 4], ['not', 9], ['prepared', 1], ['to', 17], ['pursue', 1], ['my', 5], ['line', 1], ['of', 10], ['inquiry', 1], ['any', 1], ['longer', 1], ['as', 4], ['I', 30], ['think', 1], ['this', 9], ['is', 10], ['getting', 1], ['too', 1], ['silly!', 1]]\n",
      "{'Dead': 1, 'Parrot': 1, 'As': 1, 'featured': 2, 'in': 8, 'the': 40, 'Flying': 3, 'Circus': 2, 'TV': 2, 'Show': 2, '-': 4, 'Episode': 2, '8': 1, 'About': 1, 'Sketch': 1, 'This': 4, 'sketch': 3, 'not': 9, 'only': 3, 'appeared': 1, '8,': 1, 'it': 15, 'also': 3, 'Movie': 1, \"'And\": 1, 'Now': 2, 'For': 1, 'Something': 1, 'Completely': 1, \"Different'.\": 1, 'It': 2, 'was': 9, 'performed': 2, 'on': 8, 'their': 2, 'Albums': 1, \"'Monty\": 3, \"Python's\": 2, \"Circus',\": 1, \"'The\": 3, 'Monty': 3, 'Python': 5, 'Instant': 2, 'Record': 2, \"Collection'\": 2, '(UK': 1, 'version),': 2, '(US': 1, \"''Monty\": 1, 'The': 8, 'Final': 1, \"Ripoff'\": 2, 'Ultimate': 1, 'and': 14, \"'Lust\": 1, 'for': 8, \"Glory'..\": 1, 'They': 1, 'this': 9, 'live': 3, 'albums': 1, 'at': 5, 'Theatre': 1, 'Royal': 1, 'Drury': 1, \"Lane'\": 1, 'City': 1, \"Center'.\": 1, 'cast': 1, 'MR.': 1, 'PRALINE': 1, 'John': 1, 'Cleese': 1, 'SHOP': 1, 'OWNER': 1, 'Michael': 1, 'Palin': 1, 'A': 4, 'customer': 3, 'enters': 2, 'a': 20, 'pet': 5, 'shop.': 2, 'Mr.': 36, 'Praline': 36, \"'Ello,\": 3, 'I': 30, 'wish': 5, 'to': 17, 'register': 1, 'complaint.': 1, '(The': 3, 'owner': 2, 'does': 2, 'respond.)': 1, 'Miss': 1, 'Owner': 25, 'What': 2, 'do': 3, 'you': 12, 'mean': 1, 'miss': 1, '{pause}': 2, \"I'm\": 4, 'sorry,': 1, 'have': 2, 'cold.': 1, 'make': 1, 'complaint!': 1, \"We're\": 1, \"closin'\": 1, 'lunch.': 1, 'Never': 1, 'mind': 1, 'that,': 2, 'my': 5, 'lad.': 2, 'complain': 1, 'about': 1, 'parrot': 7, 'what': 3, 'purchased': 2, 'half': 1, 'an': 2, 'hour': 2, 'ago': 1, 'from': 1, 'very': 1, 'boutique.': 1, 'Oh': 1, 'yes,': 1, 'the,': 1, 'uh,': 2, 'Norwegian': 4, \"Blue...What's,uh...What's\": 1, 'wrong': 3, 'with': 5, \"I'll\": 2, 'tell': 1, \"what's\": 2, 'it,': 2, \"'E's\": 10, 'dead,': 2, \"that's\": 3, 'it!': 3, 'No,': 6, 'no,': 2, \"'e's\": 3, \"uh,...he's\": 1, 'resting.': 1, 'Look,': 3, 'matey,': 1, 'know': 1, 'dead': 2, 'when': 3, 'see': 1, 'one,': 1, 'looking': 1, 'one': 1, 'right': 3, 'now.': 1, 'No': 2, 'no': 2, \"he's\": 3, \"he's,\": 1, \"restin'!\": 1, 'Remarkable': 2, 'bird,': 2, 'Blue,': 1, \"idn'it,\": 1, 'ay': 1, 'Beautiful': 1, 'plumage!': 2, 'plumage': 1, \"don't\": 2, 'enter': 1, 'into': 1, 'it.': 1, \"It's\": 2, 'stone': 1, 'dead.': 1, 'Nononono,': 1, 'no!': 2, 'resting!': 1, 'All': 1, 'then,': 1, 'if': 4, \"restin',\": 1, 'wake': 1, 'him': 1, 'up!': 2, '(shouting': 1, 'cage)': 2, 'Mister': 1, 'Polly': 1, 'Parrot!': 1, \"I've\": 3, 'got': 5, 'lovely': 1, 'fresh': 1, 'cuttle': 1, 'fish': 1, 'show...': 1, '(owner': 1, 'hits': 1, 'There,': 1, 'he': 4, 'moved!': 1, \"didn't,\": 1, 'that': 9, 'hitting': 2, 'cage!': 1, 'never!!': 1, 'Yes,': 1, 'did!': 1, 'never,': 1, 'never': 1, 'did': 2, 'anything...': 1, '(yelling': 1, 'cage': 2, 'repeatedly)': 1, \"'ELLO\": 1, 'POLLY!!!!!': 1, 'Testing!': 4, 'is': 10, 'your': 2, 'nine': 1, \"o'clock\": 1, 'alarm': 1, 'call!': 1, '(Takes': 1, 'out': 4, 'of': 10, 'thumps': 1, 'its': 4, 'head': 1, 'counter.': 1, 'Throws': 1, 'up': 3, 'air': 1, 'watches': 1, 'plummet': 1, 'floor.)': 1, 'call': 1, 'parrot.': 1, 'no.....No,': 1, 'stunned!': 1, 'STUNNED!': 1, 'Yeah!': 1, 'You': 2, 'stunned': 1, 'him,': 1, 'just': 1, 'as': 4, \"wakin'\": 1, 'Blues': 1, 'stun': 1, 'easily,': 1, 'major.': 1, 'Um...now': 1, 'look...now': 1, 'look,': 2, 'mate,': 1, 'definitely': 2, \"'ad\": 1, 'enough': 1, 'this.': 1, 'That': 1, 'deceased,': 1, \"'alf\": 1, 'ago,': 1, 'assured': 1, 'me': 2, 'total': 1, 'lack': 1, 'movement': 1, 'due': 1, \"bein'\": 1, 'tired': 1, 'shagged': 1, 'following': 1, 'prolonged': 1, 'squawk.': 1, 'Well,': 5, \"he's...he's,\": 1, 'ah...probably': 1, 'pining': 1, 'fjords.': 1, \"PININ'\": 1, 'FJORDS!!!': 1, 'kind': 1, 'talk': 2, 'why': 1, 'fall': 1, 'flat': 1, 'his': 1, 'back': 2, 'moment': 1, \"'im\": 2, 'home': 1, 'Blue': 1, 'prefers': 1, \"keepin'\": 1, \"it's\": 3, 'back!': 1, \"id'nit,\": 1, 'squire': 1, 'Lovely': 1, 'took': 1, 'liberty': 1, 'examining': 1, 'home,': 1, 'discovered': 1, 'reason': 1, 'had': 3, 'been': 2, 'sitting': 1, 'perch': 2, 'first': 1, 'place': 1, 'NAILED': 1, 'there.': 1, '(pause)': 4, \"o'course\": 1, 'nailed': 3, 'there!': 1, 'If': 2, \"hadn't\": 2, 'bird': 2, 'down,': 1, 'would': 2, 'nuzzled': 1, 'those': 1, 'bars,': 1, 'bent': 1, \"'em\": 1, 'apart': 1, 'beak,': 1, 'VOOM!': 2, 'Feeweeweewee!': 1, 'Mate,': 1, \"wouldn't\": 1, 'voom': 1, 'put': 1, 'four': 1, 'million': 1, 'volts': 1, 'through': 1, \"bleedin'\": 2, 'demised!': 1, 'pining!': 1, \"pinin'!\": 1, 'passed': 1, 'on!': 1, 'more!': 1, 'He': 3, 'has': 1, 'ceased': 1, 'be!': 1, 'expired': 1, 'gone': 1, 'meet': 1, \"'is\": 2, 'maker!': 1, 'stiff!': 1, 'Bereft': 1, 'life,': 1, \"'e\": 1, 'rests': 1, 'peace!': 1, \"'e'd\": 1, 'be': 2, 'pushing': 1, 'daisies!': 1, \"'Is\": 1, 'metabolic': 1, 'processes': 1, 'are': 1, 'now': 1, \"'istory!\": 1, 'off': 2, 'twig!': 1, 'kicked': 1, 'bucket,': 1, 'shuffled': 1, 'mortal': 1, 'coil,': 1, 'run': 1, 'down': 1, 'curtain': 1, 'joined': 1, 'choir': 1, 'invisibile!!': 1, 'THIS': 2, 'IS': 3, 'AN': 1, 'EX-PARROT!!': 1, \"I'd\": 1, 'better': 1, 'replace': 2, 'then.': 1, '(he': 1, 'takes': 1, 'quick': 1, 'peek': 1, 'behind': 2, 'counter)': 1, 'Sorry': 1, 'squire,': 1, 'look': 1, \"'round\": 1, 'shop,': 1, \"we're\": 1, 'parrots.': 1, 'see.': 1, 'see,': 1, 'get': 1, 'picture.': 1, 'slug.': 1, '(sweet': 1, 'sugar)': 1, 'Pray,': 1, 'Nnnnot': 1, 'really.': 1, 'WELL': 1, \"IT'S\": 1, 'HARDLY': 1, 'BLOODY': 1, 'REPLACEMENT,': 1, 'IT!!!!': 1, 'go': 1, \"brother's\": 1, 'shop': 2, 'Bolton,': 3, \"he'll\": 1, 'you.': 2, 'eh': 1, 'Very': 1, 'well.': 1, 'leaves.)': 1, 'same': 2, 'putting': 1, 'false': 1, 'moustache.)': 1, '(with': 1, 'fake': 2, 'mustache)': 2, 'Ipswitch.': 2, '(looking': 1, 'camera)': 2, \"That's\": 1, 'inter-city': 1, 'rail': 1, '(Mr': 1, 'Praine': 1, 'goes': 1, 'train': 2, 'station.': 1, 'addresses': 1, 'man': 1, 'standing': 1, 'desk': 1, 'marked': 1, 'Complaints.)': 1, 'complain,': 1, 'British-Railways': 1, 'Person.': 1, 'Attendant': 5, \"DON'T\": 1, 'HAVE': 1, 'TO': 1, 'DO': 1, 'JOB,': 1, 'YOU': 1, 'KNOW!!!': 1, 'beg': 1, 'pardon...': 1, 'qualified': 1, 'brain': 1, 'surgeon!': 1, 'job': 1, 'because': 1, 'like': 1, 'being': 1, 'own': 1, 'boss!': 1, 'Excuse': 1, 'me,': 1, 'irrelevant,': 1, \"isn't\": 1, 'Yeah,': 2, 'well': 1, 'easy': 1, 'pad': 1, 'these': 1, 'python': 1, 'files': 1, '150': 1, 'lines,': 1, 'know.': 1, 'complain.': 1, 'Bolton': 2, 'found': 1, 'myself': 1, 'deposited': 1, 'here': 1, 'Bolton.': 2, '(to': 1, \"man's\": 1, 'brother': 1, 'lying!!': 1, \"Can't\": 1, 'blame': 1, 'British': 1, 'Rail': 1, 'that.': 1, 'In': 1, 'case,': 1, 'shall': 1, 'return': 1, 'shop!': 1, 'does.': 1, 'understand': 1, '(still': 1, 'Yes': 1, 'told': 1, 'Ipswitch!': 1, '...It': 1, 'pun.': 1, 'PUN!': 1, 'no...not': 1, \"pun...What's\": 1, 'thing': 1, 'spells': 1, 'backwards': 1, 'forwards': 1, '(Long': 1, 'pause)': 1, 'palindrome...': 1, 'palindrome!': 1, 'palindrome': 1, 'Notlob!!': 1, 'work!!': 1, 'want': 1, 'prepared': 1, 'pursue': 1, 'line': 1, 'inquiry': 1, 'any': 1, 'longer': 1, 'think': 1, 'getting': 1, 'too': 1, 'silly!': 1}\n",
      "[['Dead', 1], ['Parrot', 1], ['As', 1], ['featured', 2], ['in', 8], ['the', 40], ['Flying', 3], ['Circus', 2], ['TV', 2], ['Show', 2], ['-', 4], ['Episode', 2], ['8', 1], ['About', 1], ['Sketch', 1], ['This', 4], ['sketch', 3], ['not', 9], ['only', 3], ['appeared', 1], ['8,', 1], ['it', 15], ['also', 3], ['Movie', 1], [\"'And\", 1], ['Now', 2], ['For', 1], ['Something', 1], ['Completely', 1], [\"Different'.\", 1], ['It', 2], ['was', 9], ['performed', 2], ['on', 8], ['their', 2], ['Albums', 1], [\"'Monty\", 3], [\"Python's\", 2], [\"Circus',\", 1], [\"'The\", 3], ['Monty', 3], ['Python', 5], ['Instant', 2], ['Record', 2], [\"Collection'\", 2], ['(UK', 1], ['version),', 2], ['(US', 1], [\"''Monty\", 1], ['The', 8], ['Final', 1], [\"Ripoff'\", 2], ['Ultimate', 1], ['and', 14], [\"'Lust\", 1], ['for', 8], [\"Glory'..\", 1], ['They', 1], ['this', 9], ['live', 3], ['albums', 1], ['at', 5], ['Theatre', 1], ['Royal', 1], ['Drury', 1], [\"Lane'\", 1], ['City', 1], [\"Center'.\", 1], ['cast', 1], ['MR.', 1], ['PRALINE', 1], ['John', 1], ['Cleese', 1], ['SHOP', 1], ['OWNER', 1], ['Michael', 1], ['Palin', 1], ['A', 4], ['customer', 3], ['enters', 2], ['a', 20], ['pet', 5], ['shop.', 2], ['Mr.', 36], ['Praline', 36], [\"'Ello,\", 3], ['I', 30], ['wish', 5], ['to', 17], ['register', 1], ['complaint.', 1], ['(The', 3], ['owner', 2], ['does', 2], ['respond.)', 1], ['Miss', 1], ['Owner', 25], ['What', 2], ['do', 3], ['you', 12], ['mean', 1], ['miss', 1], ['{pause}', 2], [\"I'm\", 4], ['sorry,', 1], ['have', 2], ['cold.', 1], ['make', 1], ['complaint!', 1], [\"We're\", 1], [\"closin'\", 1], ['lunch.', 1], ['Never', 1], ['mind', 1], ['that,', 2], ['my', 5], ['lad.', 2], ['complain', 1], ['about', 1], ['parrot', 7], ['what', 3], ['purchased', 2], ['half', 1], ['an', 2], ['hour', 2], ['ago', 1], ['from', 1], ['very', 1], ['boutique.', 1], ['Oh', 1], ['yes,', 1], ['the,', 1], ['uh,', 2], ['Norwegian', 4], [\"Blue...What's,uh...What's\", 1], ['wrong', 3], ['with', 5], [\"I'll\", 2], ['tell', 1], [\"what's\", 2], ['it,', 2], [\"'E's\", 10], ['dead,', 2], [\"that's\", 3], ['it!', 3], ['No,', 6], ['no,', 2], [\"'e's\", 3], [\"uh,...he's\", 1], ['resting.', 1], ['Look,', 3], ['matey,', 1], ['know', 1], ['dead', 2], ['when', 3], ['see', 1], ['one,', 1], ['looking', 1], ['one', 1], ['right', 3], ['now.', 1], ['No', 2], ['no', 2], [\"he's\", 3], [\"he's,\", 1], [\"restin'!\", 1], ['Remarkable', 2], ['bird,', 2], ['Blue,', 1], [\"idn'it,\", 1], ['ay', 1], ['Beautiful', 1], ['plumage!', 2], ['plumage', 1], [\"don't\", 2], ['enter', 1], ['into', 1], ['it.', 1], [\"It's\", 2], ['stone', 1], ['dead.', 1], ['Nononono,', 1], ['no!', 2], ['resting!', 1], ['All', 1], ['then,', 1], ['if', 4], [\"restin',\", 1], ['wake', 1], ['him', 1], ['up!', 2], ['(shouting', 1], ['cage)', 2], ['Mister', 1], ['Polly', 1], ['Parrot!', 1], [\"I've\", 3], ['got', 5], ['lovely', 1], ['fresh', 1], ['cuttle', 1], ['fish', 1], ['show...', 1], ['(owner', 1], ['hits', 1], ['There,', 1], ['he', 4], ['moved!', 1], [\"didn't,\", 1], ['that', 9], ['hitting', 2], ['cage!', 1], ['never!!', 1], ['Yes,', 1], ['did!', 1], ['never,', 1], ['never', 1], ['did', 2], ['anything...', 1], ['(yelling', 1], ['cage', 2], ['repeatedly)', 1], [\"'ELLO\", 1], ['POLLY!!!!!', 1], ['Testing!', 4], ['is', 10], ['your', 2], ['nine', 1], [\"o'clock\", 1], ['alarm', 1], ['call!', 1], ['(Takes', 1], ['out', 4], ['of', 10], ['thumps', 1], ['its', 4], ['head', 1], ['counter.', 1], ['Throws', 1], ['up', 3], ['air', 1], ['watches', 1], ['plummet', 1], ['floor.)', 1], ['call', 1], ['parrot.', 1], ['no.....No,', 1], ['stunned!', 1], ['STUNNED!', 1], ['Yeah!', 1], ['You', 2], ['stunned', 1], ['him,', 1], ['just', 1], ['as', 4], [\"wakin'\", 1], ['Blues', 1], ['stun', 1], ['easily,', 1], ['major.', 1], ['Um...now', 1], ['look...now', 1], ['look,', 2], ['mate,', 1], ['definitely', 2], [\"'ad\", 1], ['enough', 1], ['this.', 1], ['That', 1], ['deceased,', 1], [\"'alf\", 1], ['ago,', 1], ['assured', 1], ['me', 2], ['total', 1], ['lack', 1], ['movement', 1], ['due', 1], [\"bein'\", 1], ['tired', 1], ['shagged', 1], ['following', 1], ['prolonged', 1], ['squawk.', 1], ['Well,', 5], [\"he's...he's,\", 1], ['ah...probably', 1], ['pining', 1], ['fjords.', 1], [\"PININ'\", 1], ['FJORDS!!!', 1], ['kind', 1], ['talk', 2], ['why', 1], ['fall', 1], ['flat', 1], ['his', 1], ['back', 2], ['moment', 1], [\"'im\", 2], ['home', 1], ['Blue', 1], ['prefers', 1], [\"keepin'\", 1], [\"it's\", 3], ['back!', 1], [\"id'nit,\", 1], ['squire', 1], ['Lovely', 1], ['took', 1], ['liberty', 1], ['examining', 1], ['home,', 1], ['discovered', 1], ['reason', 1], ['had', 3], ['been', 2], ['sitting', 1], ['perch', 2], ['first', 1], ['place', 1], ['NAILED', 1], ['there.', 1], ['(pause)', 4], [\"o'course\", 1], ['nailed', 3], ['there!', 1], ['If', 2], [\"hadn't\", 2], ['bird', 2], ['down,', 1], ['would', 2], ['nuzzled', 1], ['those', 1], ['bars,', 1], ['bent', 1], [\"'em\", 1], ['apart', 1], ['beak,', 1], ['VOOM!', 2], ['Feeweeweewee!', 1], ['Mate,', 1], [\"wouldn't\", 1], ['voom', 1], ['put', 1], ['four', 1], ['million', 1], ['volts', 1], ['through', 1], [\"bleedin'\", 2], ['demised!', 1], ['pining!', 1], [\"pinin'!\", 1], ['passed', 1], ['on!', 1], ['more!', 1], ['He', 3], ['has', 1], ['ceased', 1], ['be!', 1], ['expired', 1], ['gone', 1], ['meet', 1], [\"'is\", 2], ['maker!', 1], ['stiff!', 1], ['Bereft', 1], ['life,', 1], [\"'e\", 1], ['rests', 1], ['peace!', 1], [\"'e'd\", 1], ['be', 2], ['pushing', 1], ['daisies!', 1], [\"'Is\", 1], ['metabolic', 1], ['processes', 1], ['are', 1], ['now', 1], [\"'istory!\", 1], ['off', 2], ['twig!', 1], ['kicked', 1], ['bucket,', 1], ['shuffled', 1], ['mortal', 1], ['coil,', 1], ['run', 1], ['down', 1], ['curtain', 1], ['joined', 1], ['choir', 1], ['invisibile!!', 1], ['THIS', 2], ['IS', 3], ['AN', 1], ['EX-PARROT!!', 1], [\"I'd\", 1], ['better', 1], ['replace', 2], ['then.', 1], ['(he', 1], ['takes', 1], ['quick', 1], ['peek', 1], ['behind', 2], ['counter)', 1], ['Sorry', 1], ['squire,', 1], ['look', 1], [\"'round\", 1], ['shop,', 1], [\"we're\", 1], ['parrots.', 1], ['see.', 1], ['see,', 1], ['get', 1], ['picture.', 1], ['slug.', 1], ['(sweet', 1], ['sugar)', 1], ['Pray,', 1], ['Nnnnot', 1], ['really.', 1], ['WELL', 1], [\"IT'S\", 1], ['HARDLY', 1], ['BLOODY', 1], ['REPLACEMENT,', 1], ['IT!!!!', 1], ['go', 1], [\"brother's\", 1], ['shop', 2], ['Bolton,', 3], [\"he'll\", 1], ['you.', 2], ['eh', 1], ['Very', 1], ['well.', 1], ['leaves.)', 1], ['same', 2], ['putting', 1], ['false', 1], ['moustache.)', 1], ['(with', 1], ['fake', 2], ['mustache)', 2], ['Ipswitch.', 2], ['(looking', 1], ['camera)', 2], [\"That's\", 1], ['inter-city', 1], ['rail', 1], ['(Mr', 1], ['Praine', 1], ['goes', 1], ['train', 2], ['station.', 1], ['addresses', 1], ['man', 1], ['standing', 1], ['desk', 1], ['marked', 1], ['Complaints.)', 1], ['complain,', 1], ['British-Railways', 1], ['Person.', 1], ['Attendant', 5], [\"DON'T\", 1], ['HAVE', 1], ['TO', 1], ['DO', 1], ['JOB,', 1], ['YOU', 1], ['KNOW!!!', 1], ['beg', 1], ['pardon...', 1], ['qualified', 1], ['brain', 1], ['surgeon!', 1], ['job', 1], ['because', 1], ['like', 1], ['being', 1], ['own', 1], ['boss!', 1], ['Excuse', 1], ['me,', 1], ['irrelevant,', 1], [\"isn't\", 1], ['Yeah,', 2], ['well', 1], ['easy', 1], ['pad', 1], ['these', 1], ['python', 1], ['files', 1], ['150', 1], ['lines,', 1], ['know.', 1], ['complain.', 1], ['Bolton', 2], ['found', 1], ['myself', 1], ['deposited', 1], ['here', 1], ['Bolton.', 2], ['(to', 1], [\"man's\", 1], ['brother', 1], ['lying!!', 1], [\"Can't\", 1], ['blame', 1], ['British', 1], ['Rail', 1], ['that.', 1], ['In', 1], ['case,', 1], ['shall', 1], ['return', 1], ['shop!', 1], ['does.', 1], ['understand', 1], ['(still', 1], ['Yes', 1], ['told', 1], ['Ipswitch!', 1], ['...It', 1], ['pun.', 1], ['PUN!', 1], ['no...not', 1], [\"pun...What's\", 1], ['thing', 1], ['spells', 1], ['backwards', 1], ['forwards', 1], ['(Long', 1], ['pause)', 1], ['palindrome...', 1], ['palindrome!', 1], ['palindrome', 1], ['Notlob!!', 1], ['work!!', 1], ['want', 1], ['prepared', 1], ['pursue', 1], ['line', 1], ['inquiry', 1], ['any', 1], ['longer', 1], ['think', 1], ['getting', 1], ['too', 1], ['silly!', 1]]\n",
      "[['the', 40], ['Mr.', 36], ['Praline', 36], ['I', 30], ['Owner', 25], ['a', 20], ['to', 17], ['it', 15], ['and', 14], ['you', 12], [\"'E's\", 10], ['is', 10], ['of', 10], ['not', 9], ['was', 9], ['this', 9], ['that', 9], ['in', 8], ['on', 8], ['The', 8], ['for', 8], ['parrot', 7], ['No,', 6], ['Python', 5], ['at', 5], ['pet', 5], ['wish', 5], ['my', 5], ['with', 5], ['got', 5], ['Well,', 5], ['Attendant', 5], ['-', 4], ['This', 4], ['A', 4], [\"I'm\", 4], ['Norwegian', 4], ['if', 4], ['he', 4], ['Testing!', 4], ['out', 4], ['its', 4], ['as', 4], ['(pause)', 4], ['Flying', 3], ['sketch', 3], ['only', 3], ['also', 3], [\"'Monty\", 3], [\"'The\", 3], ['Monty', 3], ['live', 3], ['customer', 3], [\"'Ello,\", 3], ['(The', 3], ['do', 3], ['what', 3], ['wrong', 3], [\"that's\", 3], ['it!', 3], [\"'e's\", 3], ['Look,', 3], ['when', 3], ['right', 3], [\"he's\", 3], [\"I've\", 3], ['up', 3], [\"it's\", 3], ['had', 3], ['nailed', 3], ['He', 3], ['IS', 3], ['Bolton,', 3], ['featured', 2], ['Circus', 2], ['TV', 2], ['Show', 2], ['Episode', 2], ['Now', 2], ['It', 2], ['performed', 2], ['their', 2], [\"Python's\", 2], ['Instant', 2], ['Record', 2], [\"Collection'\", 2], ['version),', 2], [\"Ripoff'\", 2], ['enters', 2], ['shop.', 2], ['owner', 2], ['does', 2], ['What', 2], ['{pause}', 2], ['have', 2], ['that,', 2], ['lad.', 2], ['purchased', 2], ['an', 2], ['hour', 2], ['uh,', 2], [\"I'll\", 2], [\"what's\", 2], ['it,', 2], ['dead,', 2], ['no,', 2], ['dead', 2], ['No', 2], ['no', 2], ['Remarkable', 2], ['bird,', 2], ['plumage!', 2], [\"don't\", 2], [\"It's\", 2], ['no!', 2], ['up!', 2], ['cage)', 2], ['hitting', 2], ['did', 2], ['cage', 2], ['your', 2], ['You', 2], ['look,', 2], ['definitely', 2], ['me', 2], ['talk', 2], ['back', 2], [\"'im\", 2], ['been', 2], ['perch', 2], ['If', 2], [\"hadn't\", 2], ['bird', 2], ['would', 2], ['VOOM!', 2], [\"bleedin'\", 2], [\"'is\", 2], ['be', 2], ['off', 2], ['THIS', 2], ['replace', 2], ['behind', 2], ['shop', 2], ['you.', 2], ['same', 2], ['fake', 2], ['mustache)', 2], ['Ipswitch.', 2], ['camera)', 2], ['train', 2], ['Yeah,', 2], ['Bolton', 2], ['Bolton.', 2], ['Dead', 1], ['Parrot', 1], ['As', 1], ['8', 1], ['About', 1], ['Sketch', 1], ['appeared', 1], ['8,', 1], ['Movie', 1], [\"'And\", 1], ['For', 1], ['Something', 1], ['Completely', 1], [\"Different'.\", 1], ['Albums', 1], [\"Circus',\", 1], ['(UK', 1], ['(US', 1], [\"''Monty\", 1], ['Final', 1], ['Ultimate', 1], [\"'Lust\", 1], [\"Glory'..\", 1], ['They', 1], ['albums', 1], ['Theatre', 1], ['Royal', 1], ['Drury', 1], [\"Lane'\", 1], ['City', 1], [\"Center'.\", 1], ['cast', 1], ['MR.', 1], ['PRALINE', 1], ['John', 1], ['Cleese', 1], ['SHOP', 1], ['OWNER', 1], ['Michael', 1], ['Palin', 1], ['register', 1], ['complaint.', 1], ['respond.)', 1], ['Miss', 1], ['mean', 1], ['miss', 1], ['sorry,', 1], ['cold.', 1], ['make', 1], ['complaint!', 1], [\"We're\", 1], [\"closin'\", 1], ['lunch.', 1], ['Never', 1], ['mind', 1], ['complain', 1], ['about', 1], ['half', 1], ['ago', 1], ['from', 1], ['very', 1], ['boutique.', 1], ['Oh', 1], ['yes,', 1], ['the,', 1], [\"Blue...What's,uh...What's\", 1], ['tell', 1], [\"uh,...he's\", 1], ['resting.', 1], ['matey,', 1], ['know', 1], ['see', 1], ['one,', 1], ['looking', 1], ['one', 1], ['now.', 1], [\"he's,\", 1], [\"restin'!\", 1], ['Blue,', 1], [\"idn'it,\", 1], ['ay', 1], ['Beautiful', 1], ['plumage', 1], ['enter', 1], ['into', 1], ['it.', 1], ['stone', 1], ['dead.', 1], ['Nononono,', 1], ['resting!', 1], ['All', 1], ['then,', 1], [\"restin',\", 1], ['wake', 1], ['him', 1], ['(shouting', 1], ['Mister', 1], ['Polly', 1], ['Parrot!', 1], ['lovely', 1], ['fresh', 1], ['cuttle', 1], ['fish', 1], ['show...', 1], ['(owner', 1], ['hits', 1], ['There,', 1], ['moved!', 1], [\"didn't,\", 1], ['cage!', 1], ['never!!', 1], ['Yes,', 1], ['did!', 1], ['never,', 1], ['never', 1], ['anything...', 1], ['(yelling', 1], ['repeatedly)', 1], [\"'ELLO\", 1], ['POLLY!!!!!', 1], ['nine', 1], [\"o'clock\", 1], ['alarm', 1], ['call!', 1], ['(Takes', 1], ['thumps', 1], ['head', 1], ['counter.', 1], ['Throws', 1], ['air', 1], ['watches', 1], ['plummet', 1], ['floor.)', 1], ['call', 1], ['parrot.', 1], ['no.....No,', 1], ['stunned!', 1], ['STUNNED!', 1], ['Yeah!', 1], ['stunned', 1], ['him,', 1], ['just', 1], [\"wakin'\", 1], ['Blues', 1], ['stun', 1], ['easily,', 1], ['major.', 1], ['Um...now', 1], ['look...now', 1], ['mate,', 1], [\"'ad\", 1], ['enough', 1], ['this.', 1], ['That', 1], ['deceased,', 1], [\"'alf\", 1], ['ago,', 1], ['assured', 1], ['total', 1], ['lack', 1], ['movement', 1], ['due', 1], [\"bein'\", 1], ['tired', 1], ['shagged', 1], ['following', 1], ['prolonged', 1], ['squawk.', 1], [\"he's...he's,\", 1], ['ah...probably', 1], ['pining', 1], ['fjords.', 1], [\"PININ'\", 1], ['FJORDS!!!', 1], ['kind', 1], ['why', 1], ['fall', 1], ['flat', 1], ['his', 1], ['moment', 1], ['home', 1], ['Blue', 1], ['prefers', 1], [\"keepin'\", 1], ['back!', 1], [\"id'nit,\", 1], ['squire', 1], ['Lovely', 1], ['took', 1], ['liberty', 1], ['examining', 1], ['home,', 1], ['discovered', 1], ['reason', 1], ['sitting', 1], ['first', 1], ['place', 1], ['NAILED', 1], ['there.', 1], [\"o'course\", 1], ['there!', 1], ['down,', 1], ['nuzzled', 1], ['those', 1], ['bars,', 1], ['bent', 1], [\"'em\", 1], ['apart', 1], ['beak,', 1], ['Feeweeweewee!', 1], ['Mate,', 1], [\"wouldn't\", 1], ['voom', 1], ['put', 1], ['four', 1], ['million', 1], ['volts', 1], ['through', 1], ['demised!', 1], ['pining!', 1], [\"pinin'!\", 1], ['passed', 1], ['on!', 1], ['more!', 1], ['has', 1], ['ceased', 1], ['be!', 1], ['expired', 1], ['gone', 1], ['meet', 1], ['maker!', 1], ['stiff!', 1], ['Bereft', 1], ['life,', 1], [\"'e\", 1], ['rests', 1], ['peace!', 1], [\"'e'd\", 1], ['pushing', 1], ['daisies!', 1], [\"'Is\", 1], ['metabolic', 1], ['processes', 1], ['are', 1], ['now', 1], [\"'istory!\", 1], ['twig!', 1], ['kicked', 1], ['bucket,', 1], ['shuffled', 1], ['mortal', 1], ['coil,', 1], ['run', 1], ['down', 1], ['curtain', 1], ['joined', 1], ['choir', 1], ['invisibile!!', 1], ['AN', 1], ['EX-PARROT!!', 1], [\"I'd\", 1], ['better', 1], ['then.', 1], ['(he', 1], ['takes', 1], ['quick', 1], ['peek', 1], ['counter)', 1], ['Sorry', 1], ['squire,', 1], ['look', 1], [\"'round\", 1], ['shop,', 1], [\"we're\", 1], ['parrots.', 1], ['see.', 1], ['see,', 1], ['get', 1], ['picture.', 1], ['slug.', 1], ['(sweet', 1], ['sugar)', 1], ['Pray,', 1], ['Nnnnot', 1], ['really.', 1], ['WELL', 1], [\"IT'S\", 1], ['HARDLY', 1], ['BLOODY', 1], ['REPLACEMENT,', 1], ['IT!!!!', 1], ['go', 1], [\"brother's\", 1], [\"he'll\", 1], ['eh', 1], ['Very', 1], ['well.', 1], ['leaves.)', 1], ['putting', 1], ['false', 1], ['moustache.)', 1], ['(with', 1], ['(looking', 1], [\"That's\", 1], ['inter-city', 1], ['rail', 1], ['(Mr', 1], ['Praine', 1], ['goes', 1], ['station.', 1], ['addresses', 1], ['man', 1], ['standing', 1], ['desk', 1], ['marked', 1], ['Complaints.)', 1], ['complain,', 1], ['British-Railways', 1], ['Person.', 1], [\"DON'T\", 1], ['HAVE', 1], ['TO', 1], ['DO', 1], ['JOB,', 1], ['YOU', 1], ['KNOW!!!', 1], ['beg', 1], ['pardon...', 1], ['qualified', 1], ['brain', 1], ['surgeon!', 1], ['job', 1], ['because', 1], ['like', 1], ['being', 1], ['own', 1], ['boss!', 1], ['Excuse', 1], ['me,', 1], ['irrelevant,', 1], [\"isn't\", 1], ['well', 1], ['easy', 1], ['pad', 1], ['these', 1], ['python', 1], ['files', 1], ['150', 1], ['lines,', 1], ['know.', 1], ['complain.', 1], ['found', 1], ['myself', 1], ['deposited', 1], ['here', 1], ['(to', 1], [\"man's\", 1], ['brother', 1], ['lying!!', 1], [\"Can't\", 1], ['blame', 1], ['British', 1], ['Rail', 1], ['that.', 1], ['In', 1], ['case,', 1], ['shall', 1], ['return', 1], ['shop!', 1], ['does.', 1], ['understand', 1], ['(still', 1], ['Yes', 1], ['told', 1], ['Ipswitch!', 1], ['...It', 1], ['pun.', 1], ['PUN!', 1], ['no...not', 1], [\"pun...What's\", 1], ['thing', 1], ['spells', 1], ['backwards', 1], ['forwards', 1], ['(Long', 1], ['pause)', 1], ['palindrome...', 1], ['palindrome!', 1], ['palindrome', 1], ['Notlob!!', 1], ['work!!', 1], ['want', 1], ['prepared', 1], ['pursue', 1], ['line', 1], ['inquiry', 1], ['any', 1], ['longer', 1], ['think', 1], ['getting', 1], ['too', 1], ['silly!', 1]]\n",
      "The top 5 most common words in the txt file are: ['the', 40] ['Mr.', 36] ['Praline', 36] ['I', 30] ['Owner', 25]\n"
     ]
    }
   ],
   "source": [
    "# Your solution:\n",
    "from operator import itemgetter\n",
    "fileobject = open(\"DeadParrot.txt\", \"r\") # open text file in read mode\n",
    "\n",
    "## read the content of opened file into a string\n",
    "raw_text = fileobject.read() # This contains the unprocessed text\n",
    "\n",
    "fileobject.close() # close text file\n",
    "words = raw_text.split() # split text file into words and store them in words array\n",
    "\n",
    "#words = [\"a\", \"bla\", \"a\", \"a\", \"monty\", \"bla\", \"bla\", \"bla\"] use this for testing a small sample\n",
    "\n",
    "word_count_list = [[w, words.count(w)] for w in words] # get word count of each word and put into list\n",
    "print(word_count_list)\n",
    "\n",
    "word_count_dict = dict(word_count_list) # convert word count list to dictionary to eliminate duplicates\n",
    "print(word_count_dict)\n",
    "\n",
    "word_count_list_unsorted =  list(map(list, word_count_dict.items())) #convert word count dictionary back to list to get ready for sorting\n",
    "print(word_count_list_unsorted)\n",
    "\n",
    "word_count_list_sorted = sorted(word_count_list_unsorted, key=itemgetter(1), reverse=True) # sort list based on the second item in each \"list pair\" using itemgetter.\n",
    "print(word_count_list_sorted)\n",
    "\n",
    "\n",
    "# print the top 5 most common words in the list or in the text file\n",
    "print(\"The top 5 most common words in the txt file are:\" + \" \" + str(word_count_list_sorted[0]) + \" \" + str(word_count_list_sorted[1]) + \" \" + str(word_count_list_sorted[2]) + \" \" + str(word_count_list_sorted[3]) + \" \" + str(word_count_list_sorted[4]))\n",
    "\n",
    "\n",
    "\n",
    "\n"
   ]
  }
 ],
 "metadata": {
  "kernelspec": {
   "display_name": "Python 3 (ipykernel)",
   "language": "python",
   "name": "python3"
  },
  "language_info": {
   "codemirror_mode": {
    "name": "ipython",
    "version": 3
   },
   "file_extension": ".py",
   "mimetype": "text/x-python",
   "name": "python",
   "nbconvert_exporter": "python",
   "pygments_lexer": "ipython3",
   "version": "3.10.11"
  },
  "varInspector": {
   "cols": {
    "lenName": 16,
    "lenType": 16,
    "lenVar": 40
   },
   "kernels_config": {
    "python": {
     "delete_cmd_postfix": "",
     "delete_cmd_prefix": "del ",
     "library": "var_list.py",
     "varRefreshCmd": "print(var_dic_list())"
    },
    "r": {
     "delete_cmd_postfix": ") ",
     "delete_cmd_prefix": "rm(",
     "library": "var_list.r",
     "varRefreshCmd": "cat(var_dic_list()) "
    }
   },
   "types_to_exclude": [
    "module",
    "function",
    "builtin_function_or_method",
    "instance",
    "_Feature"
   ],
   "window_display": false
  }
 },
 "nbformat": 4,
 "nbformat_minor": 2
}
