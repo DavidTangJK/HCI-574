{
 "cells": [
  {
   "cell_type": "markdown",
   "metadata": {},
   "source": [
    "# HCI 574 General HW Instructions\n",
    "\n",
    "\n",
    "### Work through the problems\n",
    "- Answer the questions shown in the HW. Fix anything with ???. Answers to text questions should be given in a printed string, e.g.:  `print(\"This is the answer\")` or as a comment e.g. `# This is the answer`\n",
    "- Ensure that VSCode is set to autosve your notebook! In _Settings_ search for autosave and set it to 1000 ms.\n",
    "- It's fine to create new python cells if you want to try something without changing the offcial cell but please ensure that at the end there's only one cell with your official answer to the question and (__very impotant!__) that that cell as been run/executed so we can see its output. If you want to \"save\" your inofficial cell(s), make sure they are fully commented out!\n",
    "\n",
    "\n",
    "\n",
    "### Handing in the HW\n",
    "- Check that all other files the HW might have (screenshots, data files, etc.) are indeed in the correct HW folder.\n",
    "- Zip your HW folder folder (e.g. into HW1_ALemming.zip) and hand it into Canvas. On Windows use Right-click -> Send To - Compress Folder. Please don't use rar or any other exotic compressors!\n",
    "- Zip your HW folder and hand it into Gradescope\n",
    "\n",
    "\n",
    "### Points\n",
    "\n",
    "The number of points a problem is worth when solved properly is always shown inside brackets at the heading of the problem, e.g.\n",
    "##### Q1 [ 3.5 pts]  This problem is worth 3.5 points\n",
    "\n",
    "\n",
    "Sometimes you may get additional extra credits if we feel your solution is particularly clever, etc. \n",
    "Some problem are entirely __optional__, these will have a + in from of the points, e.g.\n",
    "##### Q2 [ +1 pt ] This *optional* problem is worth 1 point\n",
    "```\n",
    "'''\n",
    "# figure out something ...\n",
    "???\n",
    "'''\n",
    "```\n",
    "\n",
    "Optional problems start and end with a line with `'''`, so its code is ignored. If you want to do this problem you must first delete this first and last line and then make its code work.\n",
    "\n",
    "You can solve these optional points to learn more or make up of points you missed in earlier HW. Note however, that there's a cap on the total HW points, if you have more than 100% of HW points the end of the semester, it will be reduced to 100%\n",
    "\n",
    "\n",
    "### Questions?\n",
    "If you have questions or need help, ask me after class, use Piazza or ask the TA during office hours  "
   ]
  },
  {
   "cell_type": "markdown",
   "metadata": {
    "deletable": false,
    "editable": false,
    "nbgrader": {
     "cell_type": "markdown",
     "checksum": "ead9fbaf71642e5edcfca378cbfe2541",
     "grade": false,
     "grade_id": "doc_heading",
     "locked": true,
     "schema_version": 3,
     "solution": false,
     "task": false
    }
   },
   "source": [
    "# HCI574 - HW0 \n"
   ]
  },
  {
   "cell_type": "markdown",
   "metadata": {
    "deletable": false,
    "editable": false,
    "nbgrader": {
     "cell_type": "markdown",
     "checksum": "572dd31e59f233e8662b19198b67f71b",
     "grade": false,
     "grade_id": "Q1txt",
     "locked": true,
     "schema_version": 3,
     "solution": false,
     "task": false
    }
   },
   "source": [
    "### Q1 [ 0.5 pt ] Print out Hello, Jupyter!\n",
    "- use the `print(<stuff>)` function\n",
    "- for `<stuff>`, use the text (string) `\"Hello, Jupyter!\"`\n",
    "- Make sure to put double quotes around `Hello, Jupyter!` which tells Python that the stuff in between is a String!\n"
   ]
  },
  {
   "cell_type": "code",
   "execution_count": 6,
   "metadata": {
    "deletable": false,
    "nbgrader": {
     "cell_type": "code",
     "checksum": "94df755a1a8bdefce2bee169b1910fb6",
     "grade": true,
     "grade_id": "Q1",
     "locked": false,
     "points": 0.5,
     "schema_version": 3,
     "solution": true,
     "task": false
    }
   },
   "outputs": [
    {
     "name": "stdout",
     "output_type": "stream",
     "text": [
      "Hello, Jupyter!\n"
     ]
    }
   ],
   "source": [
    "# replace the ???? below with your code\n",
    "print(\"Hello, Jupyter!\")\n",
    "\n"
   ]
  },
  {
   "cell_type": "markdown",
   "metadata": {
    "deletable": false,
    "editable": false,
    "nbgrader": {
     "cell_type": "markdown",
     "checksum": "39a236cdde6c180949bdeb16da93ddbc",
     "grade": false,
     "grade_id": "cell-f2908a33279d20ee",
     "locked": true,
     "schema_version": 3,
     "solution": false,
     "task": false
    }
   },
   "source": [
    "### Q2 [ 0.5 pt ] Generate a Maze\n",
    "- set the maze height (mh) to a value of 15 \n",
    "- for the maze width (mw) make it so that it's exactly __twice__ as wide as mh \n",
    "- Important: use a math formula (don't just set it to 30!)\n",
    "- Run your code with 15 for mh\n",
    "- If your math is correct, the width should automatically be twice of mh, without having to change anything\n",
    "- Optional: change the 15 for another number and see what happens ..."
   ]
  },
  {
   "cell_type": "code",
   "execution_count": 9,
   "metadata": {
    "deletable": false,
    "nbgrader": {
     "cell_type": "code",
     "checksum": "e75328dae513327142c1c22a3889dc16",
     "grade": true,
     "grade_id": "Q2",
     "locked": false,
     "points": 0.5,
     "schema_version": 3,
     "solution": true,
     "task": false
    }
   },
   "outputs": [
    {
     "name": "stdout",
     "output_type": "stream",
     "text": [
      "╚╝╠╝╠╠╗║╗╠╠╝╗╬╗╦╚╦╝╦═╬╬╗╦╩╠╗╬═\n",
      "║╦╬║╗═╠╠╩╝║╦╩╬═╗╝╠╗╩╠╦╚═╬╝╩║╠╬\n",
      "╩╬╚╬╚╩╠╦╠╦╩║╠╝╚╠╚╩╠═╝══╩╩╠╠╠╠╝\n",
      "╩╠╠╩╬╚╩╝╠╠╚══╗╗╠╬╩╚╝═╝╬╚═║╝╦╝═\n",
      "╠╦╠║╠══╚═╠╗║║╬╩╬║╠╗╗╬═╚╝╗╗╗╠═╗\n",
      "╠╩╠╠╗╚║╦╗╠╠╠╗╦╠╬╠╗╩╝╗╝╠╦╬╠╗╠║╦\n",
      "╗╝╚╝═║╠═╠║╗╦╝╦╬╠═╗╚╗╝╠══╠╠╩╩╚╩\n",
      "═╚╩╠╠║╝╗╩╦╠╚╗╗═╬╩╚╬╦╗╚╦╝╩╠║╦═╚\n",
      "══╚╦╚╩╠═╝╠╩╠╠╠╚╠╝╚╗╚╬╦╬╦╚╬╗╩╠╝\n",
      "╚║╚╠╝║╦╠╚╠╠╝║╦╚║╠║╚╬╚══╝╦╝╠╗═╗\n",
      "╬╠╠╠╦╩═║║╝╩║╬╗╝╩═╩║╚╠╬╗╝╦╗╠═║╩\n",
      "╠╚═╠═╬║╦╩╚═║╗╚╬╩╠═╬╠╬╠║╠╠╬╚╗═╩\n",
      "╦╠═╩╩║╚║═╗═║║╬╦║╚╬╝╠╩═╬╝║═╠╗╦╠\n",
      "╝╠╝╠╗╬║╝╠╠╗║╚╗╝╦╠═║╠║╬╠╠╠╗╩║═║\n",
      "╦╠╚╝╬║╠╚╠╠╬╚╠╗╝╩╝═╬╩╝╩╦╠╚╠╬╠╗╠\n"
     ]
    }
   ],
   "source": [
    "# import modules\n",
    "from random import random, choice\n",
    "\n",
    "# each wall symbol has its number in the unicode table\n",
    "symbols  = [\"\\u2550\", \"\\u2551\", \"\\u2557\", \"\\u255a\", \"\\u255d\", \"\\u2560\", \"\\u2560\", \"\\u2566\", \"\\u2569\", \"\\u256c\"]\n",
    "\n",
    "mh = 15 # height of the maze\n",
    "mw = mh * 2 # width of the maze - how many wall symbols in one line? Make it twice as wide as it is high\n",
    "\n",
    "\n",
    "\n",
    "\n",
    "# print the maze\n",
    "for l in range(mh):  # outer loop: print that many lines\n",
    "    for l in range(mw):  # inner loop: print that many symbols with each line\n",
    "        c = choice(symbols) # pick a random symbol\n",
    "        print(c, end=\"\") # end=\"\" means print everything in one line  \n",
    "    print() # print line break at the end of the line"
   ]
  }
 ],
 "metadata": {
  "kernelspec": {
   "display_name": "Python 3 (ipykernel)",
   "language": "python",
   "name": "python3"
  },
  "language_info": {
   "codemirror_mode": {
    "name": "ipython",
    "version": 3
   },
   "file_extension": ".py",
   "mimetype": "text/x-python",
   "name": "python",
   "nbconvert_exporter": "python",
   "pygments_lexer": "ipython3",
   "version": "3.10.11"
  },
  "varInspector": {
   "cols": {
    "lenName": 16,
    "lenType": 16,
    "lenVar": 40
   },
   "kernels_config": {
    "python": {
     "delete_cmd_postfix": "",
     "delete_cmd_prefix": "del ",
     "library": "var_list.py",
     "varRefreshCmd": "print(var_dic_list())"
    },
    "r": {
     "delete_cmd_postfix": ") ",
     "delete_cmd_prefix": "rm(",
     "library": "var_list.r",
     "varRefreshCmd": "cat(var_dic_list()) "
    }
   },
   "types_to_exclude": [
    "module",
    "function",
    "builtin_function_or_method",
    "instance",
    "_Feature"
   ],
   "window_display": false
  }
 },
 "nbformat": 4,
 "nbformat_minor": 2
}
