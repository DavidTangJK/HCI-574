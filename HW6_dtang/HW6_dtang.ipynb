{
 "cells": [
  {
   "cell_type": "markdown",
   "metadata": {},
   "source": [
    "# HCI 574 General HW Instructions\n",
    "\n",
    "\n",
    "### Work through the problems\n",
    "- Answer the questions shown in the HW. Fix anything with ???. Answers to text questions should be given in a printed string, e.g.:  `print(\"This is the answer\")` or as a comment e.g. `# This is the answer`\n",
    "- Ensure that VSCode is set to autosve your notebook! In _Settings_ search for autosave and set it to 1000 ms.\n",
    "- It's fine to create new python cells if you want to try something without changing the offcial cell but please ensure that at the end there's only one cell with your official answer to the question and (__very impotant!__) that that cell as been run/executed so we can see its output. If you want to \"save\" your inofficial cell(s), make sure they are fully commented out!\n",
    "\n",
    "\n",
    "\n",
    "### Handing in the HW\n",
    "- Check that all other files the HW might have (screenshots, data files, etc.) are indeed in the correct HW folder.\n",
    "- Zip your HW folder folder (e.g. into HW1_ALemming.zip). On Windows you can Right-click -> Send To - Compress Folder. Please don't use rar or any other exotic compressors!\n",
    "- Zip your HW folder and hand it into Gradescope\n",
    "\n",
    "\n",
    "### Points\n",
    "\n",
    "The number of points a problem is worth when solved properly is always shown inside brackets at the heading of the problem, e.g.\n",
    "##### Q1 [ 3.5 pts]  This problem is worth 3.5 points\n",
    "\n",
    "Sometimes you may get additional extra credits if we feel your solution is particularly clever, etc. \n",
    "Some problem are entirely __optional__, these will have a + in from of the points, e.g.\n",
    "##### Q2 [ +1 pt ] This *optional* problem is worth 1 point\n",
    "\n",
    "You can solve these optional points to learn more or make up of points you missed in earlier HW. Note however, that there's a cap on the total HW points, if you have more than 100% of HW points the end of the semester, it will be reduced to 100%\n",
    "\n",
    "### Questions?\n",
    "If you have questions or need help, ask me after class, use Piazza or ask the TA during office hours  "
   ]
  },
  {
   "cell_type": "markdown",
   "metadata": {
    "deletable": false,
    "editable": false,
    "nbgrader": {
     "cell_type": "markdown",
     "checksum": "845d43056ec3232309a08ae36428c9e9",
     "grade": false,
     "grade_id": "intro",
     "locked": true,
     "schema_version": 3,
     "solution": false
    }
   },
   "source": [
    "# HCI 574 - HW 6   \n",
    "\n",
    "\n",
    "- For this HW you will write code to find files with the same name in two sub-folders inside the current (HW6) folder\n",
    "- Example with `HW6_netid` as your current(!) folder with 2 subfolders A and C:\n",
    "\n",
    "```\n",
    "HW6_netid-----+\n",
    "|             |\n",
    "A-----+       C-----+\n",
    "|     |       |     |\n",
    "A.txt C.txt   A.txt B.txt\n",
    "```\n",
    "\n",
    "- both sub-folders happen to contain a file named `A.txt`\n",
    "- `A.txt` is what I will call a __duplicate file__\n",
    "- Your task is to find and report all such _duplicate_ filenames to the user."
   ]
  },
  {
   "cell_type": "code",
   "execution_count": 5,
   "metadata": {
    "deletable": false,
    "editable": false,
    "nbgrader": {
     "cell_type": "code",
     "checksum": "2dcef6f43c7eb26f0fdbc927aa89c78b",
     "grade": false,
     "grade_id": "imports",
     "locked": true,
     "schema_version": 3,
     "solution": false
    }
   },
   "outputs": [],
   "source": [
    "from glob import glob # Import the glob function from the glob module\n",
    "\n",
    "import os\n",
    "# Here are the methods you may need to use from os and from os.path:\n",
    "# os.sep, os.getcwd, os.listdir, os.chdir, os.walk\n",
    "# os.path.exists, os.path.isdir, os.path.isfile, os.path.getsize, os.path.basename, os.path.join, os.path.split\n",
    "\n"
   ]
  },
  {
   "cell_type": "markdown",
   "metadata": {
    "deletable": false,
    "editable": false,
    "nbgrader": {
     "cell_type": "markdown",
     "checksum": "084dd7b6067d8ceafe9f7d0b2ac0131b",
     "grade": false,
     "grade_id": "p1t",
     "locked": true,
     "schema_version": 3,
     "solution": false,
     "task": false
    }
   },
   "source": [
    "###  Q1  Check that a folder is valid [3 pts ]\n",
    "- write a function check_folder()\n",
    "- you will later call `check_folder(folder)` with the name of a folder\n",
    "- FYI although the folder will later be given by the user, for testing purposes we will just hard-code our input here\n",
    "\n",
    "<p>\n",
    "\n",
    "- you need to check that folder passes these tests:\n",
    "    - does folder actually exist?\n",
    "    - is folder actually a folder and not a file?\n",
    "    - if folder is a folder does it contain any files? Otherwise, there can't be any duplicates in it anyway! \n",
    "     \n",
    "- you will need to use functions (imported from os.path earlier) that themselves return True or False.\n",
    "- If those return True you can return True as well\n",
    "- If those return False, you must return an informative __error string__ instead!\n",
    "- you must only return True or an error string, however, you can keep the debug print() inside the function that shows the folder content\n",
    "\n",
    "<p>\n",
    "    \n",
    "- when you develop this function use the 4 tests below. \n",
    "- They test each of the four steps in the order suggested below, so you could write step 1 and then run test 1, etc.\n"
   ]
  },
  {
   "cell_type": "code",
   "execution_count": 6,
   "metadata": {
    "deletable": false,
    "nbgrader": {
     "cell_type": "code",
     "checksum": "66020310ef1416cca80ee3c49c025e90",
     "grade": true,
     "grade_id": "p1c",
     "locked": false,
     "points": 4,
     "schema_version": 3,
     "solution": true
    }
   },
   "outputs": [],
   "source": [
    "def check_folder(folder):\n",
    "    '''Will check if the folder (string) exists and also is not a file and also in not empty.\n",
    "    Returns True if ALL three conditions are fulfilled, otherwise returns error straing\n",
    "    '''\n",
    "\n",
    "    # 1) check that the folder actually exists  (potential user typo?)\n",
    "\n",
    "    # on error, return an informative error message (a single string!)\n",
    "    if os.path.exists(folder) == False:\n",
    "        return(folder, \"IdontExist\")\n",
    "    \n",
    "    # 2) check that folder is actually a folder, not just a weirdly named file \n",
    "    \n",
    "    # on error, return an informative error message (a single string!)\n",
    "    if os.path.isdir(folder) == False:\n",
    "        return(folder, \"ImAfileNotaFolder\")\n",
    "    \n",
    "    # 3) check that folder actally contains any files or folders (i.e. is NOT empty) \n",
    "    \n",
    "    # on error, return an informative error message (a single string!)\n",
    "    if len(os.listdir(folder)) == 0:\n",
    "        return(folder, \"is empty\")\n",
    "    \n",
    "    # 4) if no errors occured, return True\n",
    "    return True\n",
    "   \n",
    "              \n",
    "    "
   ]
  },
  {
   "cell_type": "code",
   "execution_count": 7,
   "metadata": {},
   "outputs": [
    {
     "name": "stdout",
     "output_type": "stream",
     "text": [
      "current folder: c:\\Users\\david\\OneDrive\\Documents\\HCI 574\\HW6_dtang\n",
      "content: ['A', 'B', 'C', 'D', 'E', 'HW6_dtang.ipynb', 'HW6_dtang.zip', 'ImAfileNotaFolder']\n"
     ]
    }
   ],
   "source": [
    "print(\"current folder:\", os.getcwd())\n",
    "print(\"content:\", os.listdir())\n"
   ]
  },
  {
   "cell_type": "markdown",
   "metadata": {
    "deletable": false,
    "editable": false,
    "nbgrader": {
     "cell_type": "markdown",
     "checksum": "cfb63128d0b05bbe1aa00eda071e8a06",
     "grade": false,
     "grade_id": "p2t",
     "locked": true,
     "schema_version": 3,
     "solution": false,
     "task": false
    }
   },
   "source": [
    "### Q2 Test battery for your check_folder() [2 pts]\n",
    "- Don't change these tests, they must be passed as described (return True or an error string, as described)\n",
    "- if something is wrong (test passes when it should fail, or vice versa) you need to fix your check_folder() code\n",
    "- This assumes that the folder with your notebook file contains these folders  ```'A', 'B', 'C', 'D', 'E'``` and this file ```'ImAfileNotaFolder'```\n",
    "- Each test is worth 0.25 pts"
   ]
  },
  {
   "cell_type": "code",
   "execution_count": 8,
   "metadata": {},
   "outputs": [
    {
     "name": "stdout",
     "output_type": "stream",
     "text": [
      "test1: Does folder exists? Must give an Error IdontExist ('IdontExist', 'IdontExist')\n"
     ]
    }
   ],
   "source": [
    "# 1) Does the folder exist?\n",
    "folder = \"IdontExist\"\n",
    "print(\"test1: Does folder exists? Must give an Error\", folder, check_folder(folder))"
   ]
  },
  {
   "cell_type": "code",
   "execution_count": 9,
   "metadata": {},
   "outputs": [
    {
     "name": "stdout",
     "output_type": "stream",
     "text": [
      "test2: Is it a folder? Must give an Error ImAfileNotaFolder ('ImAfileNotaFolder', 'ImAfileNotaFolder')\n"
     ]
    }
   ],
   "source": [
    "# 2) test file vs folder\n",
    "folder = \"ImAfileNotaFolder\"\n",
    "print(\"test2: Is it a folder? Must give an Error\", folder, check_folder(folder))"
   ]
  },
  {
   "cell_type": "code",
   "execution_count": 10,
   "metadata": {},
   "outputs": [
    {
     "ename": "FileExistsError",
     "evalue": "[WinError 183] Cannot create a file when that file already exists: 'E'",
     "output_type": "error",
     "traceback": [
      "\u001b[1;31m---------------------------------------------------------------------------\u001b[0m",
      "\u001b[1;31mFileExistsError\u001b[0m                           Traceback (most recent call last)",
      "Cell \u001b[1;32mIn[10], line 3\u001b[0m\n\u001b[0;32m      1\u001b[0m \u001b[38;5;66;03m# 3) Is it a folder with files in it? (no, for empty folder E)\u001b[39;00m\n\u001b[0;32m      2\u001b[0m folder \u001b[38;5;241m=\u001b[39m \u001b[38;5;124m\"\u001b[39m\u001b[38;5;124mE\u001b[39m\u001b[38;5;124m\"\u001b[39m\n\u001b[1;32m----> 3\u001b[0m \u001b[43mos\u001b[49m\u001b[38;5;241;43m.\u001b[39;49m\u001b[43mmkdir\u001b[49m\u001b[43m(\u001b[49m\u001b[43mfolder\u001b[49m\u001b[43m)\u001b[49m \u001b[38;5;66;03m# make folder, will be initially empty\u001b[39;00m\n\u001b[0;32m      4\u001b[0m \u001b[38;5;28mprint\u001b[39m(\u001b[38;5;124m\"\u001b[39m\u001b[38;5;124mtest3: test if E is empty? E must give an Error\u001b[39m\u001b[38;5;124m\"\u001b[39m, folder, check_folder(folder))\n",
      "\u001b[1;31mFileExistsError\u001b[0m: [WinError 183] Cannot create a file when that file already exists: 'E'"
     ]
    }
   ],
   "source": [
    "# 3) Is it a folder with files in it? (no, for empty folder E)\n",
    "folder = \"E\"\n",
    "os.mkdir(folder) # make folder, will be initially empty\n",
    "print(\"test3: test if E is empty? E must give an Error\", folder, check_folder(folder))"
   ]
  },
  {
   "cell_type": "code",
   "execution_count": 11,
   "metadata": {},
   "outputs": [
    {
     "name": "stdout",
     "output_type": "stream",
     "text": [
      "test4: Are there actually any files in these folders i.e. is folder not empty?? Must be True for all these folders\n",
      "A True\n",
      "B True\n",
      "C True\n",
      "D True\n"
     ]
    }
   ],
   "source": [
    "# 4) Is it a folder with files in it? (yes for all 4 folders)\n",
    "print(\"test4: Are there actually any files in these folders i.e. is folder not empty?? Must be True for all these folders\")\n",
    "\n",
    "for folder in [\"A\", \"B\", \"C\", \"D\"]:\n",
    "    print(folder, check_folder(folder))"
   ]
  },
  {
   "cell_type": "markdown",
   "metadata": {
    "deletable": false,
    "editable": false,
    "nbgrader": {
     "cell_type": "markdown",
     "checksum": "63b6a0e52276b9e3dff3cb31f5f778ff",
     "grade": false,
     "grade_id": "p3t",
     "locked": true,
     "schema_version": 3,
     "solution": false
    }
   },
   "source": [
    "### Q3 Define the `get_dups(folder1, folder2)` function [ 8 pts ]\n",
    "\n",
    "- Define a function `get_dups(folder1, folder2)` that returns a list of duplicate names in 2 given subfolders\n",
    "- Assuming you are \"sitting\" in HW6_netid, to get the duplicates for the subfolders A and B, `get_dups(\"A\", \"B\")`  should return the list ['B.txt', 'D.txt']\n",
    "\n",
    "<p>\n",
    "\n",
    "Hints:\n",
    "- this will be a pretty long function, so you may want to develop and test it inside a .py file in VS Code and use the full debugger!\n",
    "- Or you could again use each of the test cases below\n",
    "- folder1 and folder2 args are names of subfolder within the current folder  \n",
    "- check that both folders are not the same (otherwise the rest would be pointless) otherwise return an error string instead of the list\n",
    "- use your function check_folder() to check that each of the folder is OK, if not return an error string. Note that you cannot check for False (`if check_folder(folder1) == False:`) b/c the function will only return True or an error string! However, you can check for not True: `if check_folder(folder1) is not True:`\n",
    "\n",
    "<p>\n",
    "    \n",
    "- Use `glob(\"<subfolder>/*.*\")` to get all files in subfolder\n",
    "- for A, this would be [\"A/B.txt\", \"A/C.dat\", \"A/D.txt\"] \n",
    "- make a list of strings containing the filenames of the files in each folder\n",
    "    - for this you will need to use the os.path method split() to grab the second element (the filename), see below for a example of how this works\n",
    "    - files_in_folder1 could contain [\"A.txt\", \"C.txt\"]\n",
    "    - files_in_folder2 could contain [\"A.txt\", \"B.txt\"]\n",
    "- the list duplicate_files is initially empty []\n",
    "- go though files_in_folder1 (one string at a time) and test if it is the same as any of the strings in files_in_folder2 \n",
    "    - remember that you can use the `in` statement to test if an element is in a list:\n",
    "    - `\"bla\" in [\"whatever\", \"stuff\", \"bla\"]` => True, as there's a \"bla\" in that list\n",
    "    - if you get a match, append it to duplicate_files\n",
    "- at the end, the duplicate_files list here would contain [\"A.txt\"]"
   ]
  },
  {
   "cell_type": "markdown",
   "metadata": {},
   "source": [
    "- You many need to use os.path.split() to split a path string into a folder name and a file name.\n",
    "- This is needed so you can use `glob(<foldername>/*.*)` on both of your folders, then split off the filename (e.g. from A\\B.txt, get B.txt) and compare it to the filenames from the other folder.\n"
   ]
  },
  {
   "cell_type": "code",
   "execution_count": 12,
   "metadata": {},
   "outputs": [
    {
     "name": "stdout",
     "output_type": "stream",
     "text": [
      "['A\\\\B.txt', 'A\\\\C.dat', 'A\\\\D.txt']\n",
      "A\\B.txt A B.txt\n"
     ]
    }
   ],
   "source": [
    "# This shows how os.path.split() works differently from the standard split()\n",
    "paths = glob(\"A/*.*\")\n",
    "print(paths) # all files in A, but still with the folder path in from of it! e.g. A\\B.txt\n",
    "\n",
    "# split A\\B.txt into folder name (A) and file name (B.txt)\n",
    "path = paths[0] # first element in list created by glob()\n",
    "split_tuple = os.path.split(path) # return a tuple with folder name at index 0 and file name at index 1\n",
    "print(path, split_tuple[0], split_tuple[1] ) "
   ]
  },
  {
   "cell_type": "code",
   "execution_count": 13,
   "metadata": {
    "deletable": false,
    "nbgrader": {
     "cell_type": "code",
     "checksum": "2bd3ebcf2e9f72f7d9bb7e0c48ad3202",
     "grade": true,
     "grade_id": "p3c",
     "locked": false,
     "points": 6,
     "schema_version": 3,
     "solution": true
    }
   },
   "outputs": [],
   "source": [
    "def get_dups(folder1, folder2):\n",
    "    \"\"\"returns a list of files that occur in both folders or an error string\"\"\"\n",
    "    print(\"in get_dups(), folders are:\", folder1, folder2)\n",
    "    \n",
    "    # check if folder1 and folder2 are the same, if so return an informative error message (a single string!)\n",
    "    if folder1 == folder2:\n",
    "        return(folder1, \"and\", folder2, \"are the same folder\")\n",
    "    \n",
    "    # check if folder1 is OK (got True), if not (didn't get True) return its error message\n",
    "    if check_folder(folder1) != True:\n",
    "        return(check_folder(folder1))\n",
    "\n",
    "    # check if folder2 is OK (got True), if not (didn't get True) return its error message\n",
    "    if check_folder(folder2) != True:\n",
    "        return(check_folder(folder2))\n",
    "\n",
    "    # We can assume both folders are OK\n",
    "    duplicate_files = [] # this will later contain the names of files that occur in both folders (duplicates)\n",
    "\n",
    "    # get files in folder1 in list1\n",
    "    paths1 = glob(folder1+\"/*.*\")\n",
    "    file_list1 = []\n",
    "    for files1 in paths1:\n",
    "        split_tuple1 = os.path.split(files1)\n",
    "        file_list1.append(split_tuple1[1])\n",
    "\n",
    "    # get files in folder2 in list2\n",
    "    paths2 = glob(folder2+\"/*.*\")\n",
    "    file_list2 = []\n",
    "    for files2 in paths2:\n",
    "        split_tuple2 = os.path.split(files2)\n",
    "        file_list2.append(split_tuple2[1])\n",
    "\n",
    "    # check if a file from list1 occurs in list2\n",
    "    # if so, you found a duplicate, so append it to duplicate_files\n",
    "    for file in file_list1:\n",
    "        if file in file_list2:\n",
    "            duplicate_files.append(file)\n",
    "            file_list2.remove(file)\n",
    "\n",
    "    \n",
    "    # when you've done all the checks, return duplicate_file\n",
    "    return duplicate_files\n",
    "    "
   ]
  },
  {
   "cell_type": "markdown",
   "metadata": {
    "deletable": false,
    "editable": false,
    "nbgrader": {
     "cell_type": "markdown",
     "checksum": "e2fe6312f3ed2a96b9173a4e05f6ef6b",
     "grade": false,
     "grade_id": "p4t",
     "locked": true,
     "schema_version": 3,
     "solution": false,
     "task": false
    }
   },
   "source": [
    "### Q4 Optional: in get_dups() also use the file size for determining duplicates. (2 pts)\n",
    "\n",
    "- if there are duplicates (say B.txt) in the folders, they also must have the same size (in bytes) to be treated as true duplicates\n",
    "- In this case, if one B.txt is 100 bytes but the other 120 bytes, they do __NOT__ count as true duplicates despite having the same file name\n",
    "- for these \"pseudo\" duplicates (names match but sizes do not), print out something like `B.txt found in both folders but size differs (100 bytes vs 120 bytes)`\n",
    "- change your code in the above get_dups() cell or copy it into the cell below and make your changes there"
   ]
  },
  {
   "cell_type": "markdown",
   "metadata": {
    "deletable": false,
    "editable": false,
    "nbgrader": {
     "cell_type": "markdown",
     "checksum": "d606011e8fae3bde85bd2448c61e4273",
     "grade": false,
     "grade_id": "p6t",
     "locked": true,
     "schema_version": 3,
     "solution": false,
     "task": false
    }
   },
   "source": [
    "###  Q5 Battery of Test cases [ 2 pts]\n",
    "\n",
    "For this last part you will simply show that your function works as expected. Run the cell below and see if the output matches this: (You are allowed to have some variation to this with your own error messages!)\n",
    "\n",
    "```\n",
    "get_dups(\"A\", \"B\")  -> ['B.txt', 'D.txt'] \n",
    "\n",
    "get_dups(\"A\", \"C\") -> ['B.txt', 'D.txt']\n",
    "\n",
    "get_dups(\"A\", \"A\") -> Error: A and A cannot be the same!\n",
    "\n",
    "get_dups(\"A\", \"Stuff\") -> Error: Stuff does not exist!\n",
    "\n",
    "get_dups(\"A\", \"E\") -> Error: E is empty!\n",
    "```\n",
    "\n",
    "with optional file size check you would instead get this for A C:\n",
    "\n",
    "```\n",
    "get_dups(\"A\", \"C\") -> \n",
    "B.txt found in both folders but size differs (817 bytes vs 4179 bytes)\n",
    "['D.txt']\n",
    "```"
   ]
  },
  {
   "cell_type": "code",
   "execution_count": 14,
   "metadata": {},
   "outputs": [
    {
     "name": "stdout",
     "output_type": "stream",
     "text": [
      "in get_dups(), folders are: A B\n",
      "A B ['B.txt', 'D.txt']\n"
     ]
    }
   ],
   "source": [
    "# Test cases you must pass:\n",
    "print(\"A\", \"B\", get_dups(\"A\", \"B\"))  # -> ['B.txt', 'D.txt'] "
   ]
  },
  {
   "cell_type": "code",
   "execution_count": 95,
   "metadata": {},
   "outputs": [
    {
     "name": "stdout",
     "output_type": "stream",
     "text": [
      "in get_dups(), folders are: A C\n",
      "A C ['B.txt', 'D.txt']\n"
     ]
    }
   ],
   "source": [
    "print(\"A\", \"C\", get_dups(\"A\", \"C\")) # -> ['B.txt', 'D.txt'] \n",
    "# or B.txt found in both folders but size differs (817 bytes vs 4179 bytes) ['D.txt']"
   ]
  },
  {
   "cell_type": "code",
   "execution_count": 94,
   "metadata": {},
   "outputs": [
    {
     "name": "stdout",
     "output_type": "stream",
     "text": [
      "in get_dups(), folders are: A A\n",
      "A A ('A', 'and', 'A', 'are the same folder')\n"
     ]
    }
   ],
   "source": [
    "print(\"A\", \"A\", get_dups(\"A\", \"A\")) # -> Error: A and A cannot be the same!"
   ]
  },
  {
   "cell_type": "code",
   "execution_count": 93,
   "metadata": {},
   "outputs": [
    {
     "name": "stdout",
     "output_type": "stream",
     "text": [
      "in get_dups(), folders are: A Stuff\n",
      "A Stuff ('Stuff', 'IdontExist')\n"
     ]
    }
   ],
   "source": [
    "print(\"A\", \"Stuff\", get_dups(\"A\", \"Stuff\")) # -> Error: Stuff does not exist!"
   ]
  },
  {
   "cell_type": "code",
   "execution_count": 92,
   "metadata": {},
   "outputs": [
    {
     "name": "stdout",
     "output_type": "stream",
     "text": [
      "in get_dups(), folders are: A E\n",
      "A E ('E', 'is empty')\n"
     ]
    }
   ],
   "source": [
    "print(\"A\", \"E\", get_dups(\"A\", \"E\")) # Error: E is empty!"
   ]
  }
 ],
 "metadata": {
  "kernelspec": {
   "display_name": "Python 3",
   "language": "python",
   "name": "python3"
  },
  "language_info": {
   "codemirror_mode": {
    "name": "ipython",
    "version": 3
   },
   "file_extension": ".py",
   "mimetype": "text/x-python",
   "name": "python",
   "nbconvert_exporter": "python",
   "pygments_lexer": "ipython3",
   "version": "3.10.11"
  },
  "varInspector": {
   "cols": {
    "lenName": 16,
    "lenType": 16,
    "lenVar": 40
   },
   "kernels_config": {
    "python": {
     "delete_cmd_postfix": "",
     "delete_cmd_prefix": "del ",
     "library": "var_list.py",
     "varRefreshCmd": "print(var_dic_list())"
    },
    "r": {
     "delete_cmd_postfix": ") ",
     "delete_cmd_prefix": "rm(",
     "library": "var_list.r",
     "varRefreshCmd": "cat(var_dic_list()) "
    }
   },
   "types_to_exclude": [
    "module",
    "function",
    "builtin_function_or_method",
    "instance",
    "_Feature"
   ],
   "window_display": false
  }
 },
 "nbformat": 4,
 "nbformat_minor": 2
}
