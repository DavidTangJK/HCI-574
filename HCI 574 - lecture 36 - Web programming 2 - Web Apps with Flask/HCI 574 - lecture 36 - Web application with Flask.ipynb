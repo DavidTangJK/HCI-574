{
 "cells": [
  {
   "attachments": {},
   "cell_type": "markdown",
   "metadata": {},
   "source": [
    "# HCI 574 - lecture 36 - Web application with Flask \n",
    "\n",
    "April 15, 2024\n",
    "\n",
    "(Post lecture change: fixed gte_links() so it now also accepts https URLs)\n",
    "\n",
    "- reminder to fill out the 2. lecture feedback assignment  \n",
    "\n",
    "#### Recap\n",
    "- HTML as a container for text formatting and GUI scripting in static web pages\n",
    "- run a local server to serve up a HTML doc we crated from scratch\n",
    "- used HTTP (via the requests module) to download data and HTML docs \n",
    "- used the BeautyfulSoup module to download a HTML file and parse (analyze) it to pull out all its links (hrefs)\n",
    "- scraped files from a web site \n",
    "\n",
    "<p>\n",
    "\n",
    "### Today\n",
    "- we'll write a Web application using the [Flask Microframework](http://flask.pocoo.org/), ([documentation](http://flask.pocoo.org/docs/)) \n",
    "- for now deploy the app on a local Flask server\n",
    "- The web application will:  \n",
    "    - Use a simple javascript GUI to give the server a URL to a web page (input) \n",
    "    - Have the server pull out all links from that web page (processing with BeautifulSoup from last lecture) \n",
    "    - Display the links\n",
    "\n",
    "<p>\n",
    "\n",
    "- This is based on  [Flasks Hello world with a customized greeting](https://player.oreilly.com/videos/9781491911921)   (video is part of the O'Reilly book: Flask Web Development which I have skimmed over and liked ..)\n",
    "- this workflow is similar to __HW10__, except that you will have to analyze an RSS feed instead of a web page (i.e. you won't use BeautifulSoup!)\n",
    "\n",
    "<p>\n",
    "\n",
    "- next lecture: deploy our app to a remote server on [pythonanywhere.com](https://www.pythonanywhere.com). Please get an account (free) with them before next time.\n",
    "- next-next lecture: analyzing RSS newsfeeds (XML format)"
   ]
  },
  {
   "attachments": {},
   "cell_type": "markdown",
   "metadata": {},
   "source": [
    "### Serve up a dynamically generated HTML page\n",
    "\n",
    "- You will will run a Flask server on your local PC at a certain port number (I'll use 8080) \n",
    "- Last time we made our simple server load a HTML file (index.html)\n",
    "- Now, we will generate this HTML \"file\" as a string of text and have the server serve up this dynamically generated \"page\" instead\n",
    "- To look at that page from the running server, paste `http://127.0.0.1:8080` into your browser (the :8080 is important!)"
   ]
  },
  {
   "attachments": {},
   "cell_type": "markdown",
   "metadata": {},
   "source": [
    "### How to make the server serve up a specific HTML page\n",
    "- Web servers typically serve up many different pages\n",
    "- Every page we want the app to serve needs to have a `route` definition\n",
    "- the route to /  (the last / in `http://127.0.0.1:8080/`)  is defined in Flask with:\n",
    "\n",
    "\n",
    "```py\n",
    "@app.route(\"/\") \n",
    "def main_page(): <- will be called when server needs to serve up /\n",
    "   ...\n",
    "```\n",
    "   \n",
    "- main_page() is a sort of  __callback__ function\n",
    "- what's the `@` ? It's a [decorator](https://realpython.com/primer-on-python-decorators/), [more](https://sumit-ghosh.com/articles/demystifying-decorators-python/). \n",
    "- Think of it of a special kind of method `route()` of the `app` class that reads in the def on the next line. \n",
    "- this case here defines a route method for our app that's called main_page() and that runs automatically when the browser requests the root page / of our server running at `http://127.0.0.1:8080`\n",
    "\n",
    "<br>\n",
    "\n",
    "- the page is the same as my javascript example file from last time but it's generated as a string inside the method\n",
    "- generating html code directly works but is rather crude, a better way is to use [templates](https://blog.miguelgrinberg.com/post/the-flask-mega-tutorial-part-ii-templates)), which we'll do next"
   ]
  },
  {
   "cell_type": "code",
   "execution_count": 2,
   "metadata": {},
   "outputs": [
    {
     "name": "stdout",
     "output_type": "stream",
     "text": [
      "Note: you may need to restart the kernel to use updated packages.Requirement already satisfied: requests in c:\\users\\david\\appdata\\local\\packages\\pythonsoftwarefoundation.python.3.10_qbz5n2kfra8p0\\localcache\\local-packages\\python310\\site-packages (2.28.1)\n",
      "Requirement already satisfied: urllib3<1.27,>=1.21.1 in c:\\users\\david\\appdata\\local\\packages\\pythonsoftwarefoundation.python.3.10_qbz5n2kfra8p0\\localcache\\local-packages\\python310\\site-packages (from requests) (1.26.13)\n",
      "Requirement already satisfied: charset-normalizer<3,>=2 in c:\\users\\david\\appdata\\local\\packages\\pythonsoftwarefoundation.python.3.10_qbz5n2kfra8p0\\localcache\\local-packages\\python310\\site-packages (from requests) (2.1.1)\n",
      "Requirement already satisfied: idna<4,>=2.5 in c:\\users\\david\\appdata\\local\\packages\\pythonsoftwarefoundation.python.3.10_qbz5n2kfra8p0\\localcache\\local-packages\\python310\\site-packages (from requests) (3.4)\n",
      "Requirement already satisfied: certifi>=2017.4.17 in c:\\users\\david\\appdata\\local\\packages\\pythonsoftwarefoundation.python.3.10_qbz5n2kfra8p0\\localcache\\local-packages\\python310\\site-packages (from requests) (2022.12.7)\n",
      "\n"
     ]
    },
    {
     "name": "stderr",
     "output_type": "stream",
     "text": [
      "\n",
      "[notice] A new release of pip is available: 23.0.1 -> 24.0\n",
      "[notice] To update, run: C:\\Users\\david\\AppData\\Local\\Microsoft\\WindowsApps\\PythonSoftwareFoundation.Python.3.10_qbz5n2kfra8p0\\python.exe -m pip install --upgrade pip\n"
     ]
    },
    {
     "name": "stdout",
     "output_type": "stream",
     "text": [
      "Collecting bs4\n",
      "  Downloading bs4-0.0.2-py2.py3-none-any.whl (1.2 kB)\n",
      "Requirement already satisfied: beautifulsoup4 in c:\\users\\david\\appdata\\local\\packages\\pythonsoftwarefoundation.python.3.10_qbz5n2kfra8p0\\localcache\\local-packages\\python310\\site-packages (from bs4) (4.12.3)\n",
      "Requirement already satisfied: soupsieve>1.2 in c:\\users\\david\\appdata\\local\\packages\\pythonsoftwarefoundation.python.3.10_qbz5n2kfra8p0\\localcache\\local-packages\\python310\\site-packages (from beautifulsoup4->bs4) (2.5)\n",
      "Installing collected packages: bs4\n",
      "Successfully installed bs4-0.0.2\n",
      "Note: you may need to restart the kernel to use updated packages.\n"
     ]
    },
    {
     "name": "stderr",
     "output_type": "stream",
     "text": [
      "\n",
      "[notice] A new release of pip is available: 23.0.1 -> 24.0\n",
      "[notice] To update, run: C:\\Users\\david\\AppData\\Local\\Microsoft\\WindowsApps\\PythonSoftwareFoundation.Python.3.10_qbz5n2kfra8p0\\python.exe -m pip install --upgrade pip\n"
     ]
    },
    {
     "name": "stdout",
     "output_type": "stream",
     "text": [
      "Collecting Flask\n",
      "  Downloading flask-3.0.3-py3-none-any.whl (101 kB)\n",
      "     ---------------------------------------- 0.0/101.7 kB ? eta -:--:--\n",
      "     -------------- ---------------------- 41.0/101.7 kB 653.6 kB/s eta 0:00:01\n",
      "     -------------------------------------- 101.7/101.7 kB 1.5 MB/s eta 0:00:00\n",
      "Collecting itsdangerous>=2.1.2\n",
      "  Downloading itsdangerous-2.2.0-py3-none-any.whl (16 kB)\n",
      "Collecting Jinja2>=3.1.2\n",
      "  Downloading Jinja2-3.1.3-py3-none-any.whl (133 kB)\n",
      "     ---------------------------------------- 0.0/133.2 kB ? eta -:--:--\n",
      "     -------------------------------------  133.1/133.2 kB 4.0 MB/s eta 0:00:01\n",
      "     -------------------------------------- 133.2/133.2 kB 2.7 MB/s eta 0:00:00\n",
      "Collecting Werkzeug>=3.0.0\n",
      "  Downloading werkzeug-3.0.2-py3-none-any.whl (226 kB)\n",
      "     ---------------------------------------- 0.0/226.8 kB ? eta -:--:--\n",
      "     ------------------------------------- 226.8/226.8 kB 13.5 MB/s eta 0:00:00\n",
      "Collecting blinker>=1.6.2\n",
      "  Downloading blinker-1.7.0-py3-none-any.whl (13 kB)\n",
      "Collecting click>=8.1.3\n",
      "  Downloading click-8.1.7-py3-none-any.whl (97 kB)\n",
      "     ---------------------------------------- 0.0/97.9 kB ? eta -:--:--\n",
      "     ---------------------------------------- 97.9/97.9 kB ? eta 0:00:00\n",
      "Requirement already satisfied: colorama in c:\\users\\david\\appdata\\local\\packages\\pythonsoftwarefoundation.python.3.10_qbz5n2kfra8p0\\localcache\\local-packages\\python310\\site-packages (from click>=8.1.3->Flask) (0.4.6)\n",
      "Collecting MarkupSafe>=2.0\n",
      "  Downloading MarkupSafe-2.1.5-cp310-cp310-win_amd64.whl (17 kB)\n",
      "Installing collected packages: MarkupSafe, itsdangerous, click, blinker, Werkzeug, Jinja2, Flask\n",
      "Successfully installed Flask-3.0.3 Jinja2-3.1.3 MarkupSafe-2.1.5 Werkzeug-3.0.2 blinker-1.7.0 click-8.1.7 itsdangerous-2.2.0\n",
      "Note: you may need to restart the kernel to use updated packages.\n"
     ]
    },
    {
     "name": "stderr",
     "output_type": "stream",
     "text": [
      "\n",
      "[notice] A new release of pip is available: 23.0.1 -> 24.0\n",
      "[notice] To update, run: C:\\Users\\david\\AppData\\Local\\Microsoft\\WindowsApps\\PythonSoftwareFoundation.Python.3.10_qbz5n2kfra8p0\\python.exe -m pip install --upgrade pip\n"
     ]
    }
   ],
   "source": [
    "%pip install requests\n",
    "%pip install bs4\n",
    "%pip install Flask"
   ]
  },
  {
   "attachments": {},
   "cell_type": "markdown",
   "metadata": {},
   "source": [
    "## Step 1 - generate a simple html page as a single string\n",
    "- instantiate an app\n",
    "- add a route for `/`\n",
    "- when the route is run, make a html document (in a simple string) and return it\n",
    "- the browser will display (render) that page\n",
    "- once your server runs, click on http://127.0.0.1:8080/ to open a browser that requests the / (root) page\n",
    "- to stop the server use _Interrupt_ \n",
    "- clicking submit will have no effect (later)"
   ]
  },
  {
   "cell_type": "code",
   "execution_count": 3,
   "metadata": {},
   "outputs": [],
   "source": [
    "# Web app with flask - step 1\n",
    "from flask import Flask, request    # import some classes from flask module \n",
    "#(BTW this is NOT the requests module we used last time, this is a sub-module of Flask\n",
    "\n",
    "# define an app object\n",
    "app = Flask(\"step1\")\n",
    "\n",
    "# for this app, define a method to respond when the root page URL (/) is requested\n",
    "@app.route(\"/\") #@ is a decorator\n",
    "def main_page():\n",
    "    \n",
    "    # return the HTML code that the browser will receive and process  \n",
    "    # here it contains a chunk of JS that it will run when you mouse over the h2 text\n",
    "    # this is the same as the JS example from last lecture where it was inside a HTML file\n",
    "    return \"\"\"\n",
    "      <html>\n",
    "        <body>\n",
    "          \n",
    "          <!-- JavaScript -->\n",
    "          <script>\n",
    "              function mOver(obj)\n",
    "              {\n",
    "                  obj.innerHTML=Date()\n",
    "              }\n",
    "              function mOut(obj)\n",
    "              {\n",
    "                  obj.innerHTML=\"Hello World of WebApps - Step 1\";\n",
    "              }\n",
    "          </script>\n",
    "          <!-- JavaScript -->\n",
    "          \n",
    "           <h2 onmouseover=\"mOver(this)\" onmouseout=\"mOut(this)\" >\n",
    "              Step 1 - just one page, html is generate as a simple string\n",
    "          </h2>\n",
    "          \n",
    "          \n",
    "          <!-- not yet connected, so nothing will happen when you hit the submit button -->\n",
    "          <form action=\"\">\n",
    "              Example of two Radio buttons: <br>       \n",
    "              <input type=\"radio\" name=\"status\" value=\"On\">On<br>\n",
    "              <input type=\"radio\" name=\"status\" value=\"Off\" checked>Off<br>\n",
    "      \n",
    "              <br>Example of a drop-down list with a pre selected value: <br>     \n",
    "              <select name=\"lang\">\n",
    "              <option value=\"C++\">C++</option>\n",
    "              <option value=\"Java\">Java</option>\n",
    "              <option value=\"Python\" selected>Python</option>\n",
    "              <option value=\"Fortran\">Fortran</option>\n",
    "              </select>\n",
    "      \n",
    "             <br><br>Example of a text entry field<br> \n",
    "                <input type=\"text\" name=\"URL\"   \n",
    "                    value=\"www.iastate.edu\" \n",
    "                    size=\"40\">\n",
    "             <br><br>       \n",
    "             <input type=\"submit\" value=\"Submit Form content\">\n",
    "           </form>            \n",
    "      \n",
    "        </body>\n",
    "      </html>\"\"\""
   ]
  },
  {
   "cell_type": "code",
   "execution_count": 4,
   "metadata": {
    "scrolled": true
   },
   "outputs": [
    {
     "name": "stdout",
     "output_type": "stream",
     "text": [
      " * Serving Flask app 'step1'\n",
      " * Debug mode: off\n"
     ]
    },
    {
     "name": "stderr",
     "output_type": "stream",
     "text": [
      "WARNING: This is a development server. Do not use it in a production deployment. Use a production WSGI server instead.\n",
      " * Running on http://127.0.0.1:8080\n",
      "Press CTRL+C to quit\n",
      "127.0.0.1 - - [16/Apr/2024 23:08:03] \"GET / HTTP/1.1\" 200 -\n",
      "127.0.0.1 - - [16/Apr/2024 23:08:04] \"GET /favicon.ico HTTP/1.1\" 404 -\n",
      "127.0.0.1 - - [16/Apr/2024 23:08:08] \"GET /?status=Off&lang=Java&URL=www.iastate.edu HTTP/1.1\" 200 -\n"
     ]
    }
   ],
   "source": [
    "app.run(debug=False, port=8080)  # host on http://127.0.0.1:8080/\n",
    "# Don't use Debug=True, is seems to not release the socket and you'll get a bind error when you run it next!\n",
    "\n",
    "# Should say:  * Running on http://127.0.0.1:8080/ (Press CTRL+C to quit)\n",
    "# To stop the server when using jupyter use Stop Cell Execution or Restart"
   ]
  },
  {
   "attachments": {},
   "cell_type": "markdown",
   "metadata": {},
   "source": [
    "## Step 2: Use a template file instead of a string to serve the html page \n",
    "-  `step2.html` in the template folder is our template file\n",
    "- by default all template files are expected to be in the template (sub) folder\n",
    "- it's the same as my html string in step 1, except for `{{ title }}`\n",
    "\n",
    "```HTML\n",
    "<html>\n",
    "    <body>\n",
    "          \n",
    "      <script>\n",
    "      ...\n",
    "      \tfunction mOut(obj)\n",
    "\t\t  {\n",
    "\t\t\t  obj.innerHTML=\"{{ title }}\";\n",
    "\t\t  }\n",
    "\t  </script>\n",
    "      \n",
    "\t   <h2 onmouseover=\"mOver(this)\" onmouseout=\"mOut(this)\" >\n",
    "\t\t  {{ title }}\n",
    "\t  </h2>\n",
    "\t  \n",
    "\t  \n",
    "\t  <form action=\"\">\n",
    "      ...\n",
    "      </form>             \n",
    "\n",
    "    </body>\n",
    "</html>\n",
    "```\n",
    "\t\n",
    "- `{{ title }}` with the curly brackets is NOT html indicates a __template variable__\n",
    "- Flask uses [jinja2](https://codeburst.io/jinja-2-explained-in-5-minutes-88548486834e), yet another special language, to allow us to fill specific \"special\" parts of a template with __our__ values from Python.\n",
    "- `render_template()` will do this variable inlining and then give the template text (with our variable) to the browser to render (display)\n",
    "- Here, we just fill `{{ title }}` with our own text by giving render_template the argument `title` (which matches the word inside the `{{ }}`) with the string we want `{{ title }}` to be replaced with.\n",
    "\n",
    "<p>\n",
    "\n",
    "- `render_template('step2.html', title=\"Step 2 - using a template\")` will paste `Step 2 - using a template` into any `{{ title }}` within the html file"
   ]
  },
  {
   "cell_type": "markdown",
   "metadata": {},
   "source": [
    "### Running the step 2 server \n",
    "\n",
    "- make sure the old server has stopped, then run the cell below and go to http://127.0.0.1:8080/ If it hangs hit Restart\n",
    "- as debug, I print out templated html doc  \n",
    "- You can see that the code is much more concise b/c I don't have to create html as a string, I just fill a few spots in the index.html template with my own settings and give the filled file to the browser\n",
    "- You will see that the h2 tag is now filled with the title value I used in `render_template()` (Step 2 - using a template)\n",
    "- If you hit the Submit button and then look at the server log, you'll see that it transmits the set values to our server: `127.0.0.1 - - [10/Apr/2020 13:02:56] \"GET /?status=Off&lang=Python&URL=www.iastate.edu HTTP/1.1\" 200 -`\n",
    "- In step 3, we'll learn how to actually catch them!"
   ]
  },
  {
   "cell_type": "code",
   "execution_count": 5,
   "metadata": {},
   "outputs": [
    {
     "name": "stdout",
     "output_type": "stream",
     "text": [
      " * Serving Flask app 'step2'\n",
      " * Debug mode: off\n"
     ]
    },
    {
     "name": "stderr",
     "output_type": "stream",
     "text": [
      "WARNING: This is a development server. Do not use it in a production deployment. Use a production WSGI server instead.\n",
      " * Running on http://127.0.0.1:8080\n",
      "Press CTRL+C to quit\n",
      "127.0.0.1 - - [16/Apr/2024 23:09:17] \"GET / HTTP/1.1\" 200 -\n"
     ]
    },
    {
     "name": "stdout",
     "output_type": "stream",
     "text": [
      "<html>\n",
      "    <body>\n",
      "          \n",
      "\t  <!-- JavaScript -->\n",
      "\t  <script>\n",
      "\t\t  function mOver(obj)\n",
      "\t\t  {\n",
      "\t\t\t  obj.innerHTML=Date()\n",
      "\t\t  }\n",
      "\t\t  function mOut(obj)\n",
      "\t\t  {\n",
      "\t\t\t  obj.innerHTML=\"Step 2 - using a template file\";\n",
      "\t\t  }\n",
      "\t  </script>\n",
      "\t  <!-- JavaScript -->\n",
      "\t  \n",
      "\t   <h2 onmouseover=\"mOver(this)\" onmouseout=\"mOut(this)\" >\n",
      "\t\t  Step 2 - using a template file\n",
      "\t  </h2>\n",
      "\t  \n",
      "\t  \n",
      "\t  <!-- not yet connected to server, so nothing will happen when you hit the submit button for now ... -->\n",
      "\t  <form action=\"\">\n",
      "\t\t  Example of two Radio buttons: <br>       \n",
      "\t\t  <input type=\"radio\" name=\"status\" value=\"On\">On<br>\n",
      "\t\t  <input type=\"radio\" name=\"status\" value=\"Off\" checked>Off<br>\n",
      "  \n",
      "\t\t  <br>Example of a drop-down list with a pre selected value: <br>     \n",
      "\t\t  <select name=\"lang\">\n",
      "\t\t  <option value=\"C++\">C++</option>\n",
      "\t\t  <option value=\"Java\">Java</option>\n",
      "\t\t  <option value=\"Python\" selected>Python</option>\n",
      "\t\t  <option value=\"Fortran\">Fortran</option>\n",
      "\t\t  </select>\n",
      "  \n",
      "\t\t <br><br>Example of a text entry field<br> \n",
      "\t\t\t<input type=\"text\" name=\"URL\"   \n",
      "\t\t\t\tvalue=\"www.iastate.edu/index\" \n",
      "\t\t\t\tsize=\"40\">\n",
      "\t\t <br><br>       \n",
      "\t\t <input type=\"submit\" value=\"Submit Form content\">\n",
      "\t   </form>             \n",
      "  \n",
      "\n",
      "      \n",
      "    </body>\n",
      "</html>\n"
     ]
    }
   ],
   "source": [
    "from flask import Flask, request, render_template # now also import the render template class\n",
    "app = Flask(\"step2\")\n",
    "\n",
    "@app.route(\"/\")  \n",
    "def main_page():\n",
    "    html_str = render_template('step2.html', title=\"Step 2 - using a template file\") # title will be inlined in {{ title }}\n",
    "    print(html_str) # DEBUG\n",
    "    return html_str  # give it to the browser to display the inline page\n",
    "\n",
    "app.run(debug=False, port=8080) \n",
    "\n",
    "# http://127.0.0.1:8080/"
   ]
  },
  {
   "attachments": {},
   "cell_type": "markdown",
   "metadata": {},
   "source": [
    "## Step 3: Submit data to the server\n",
    "- the template for step 3 (step3.html) is this (same as step 2 but without the mouse callback stuff and the radio buttons)\n",
    "  \n",
    "```HTML\n",
    "<html>\n",
    "  <body>\n",
    "    \n",
    "    {{ title }} <br><br>  \n",
    "  \t\n",
    "    <form action=\"/result/\" method=\"get\">   \n",
    "\t\t\n",
    "        Select a value:\n",
    "\t\t<select name=\"lang\">\n",
    "\t  \t\t<option value=\"C++\">C++</option>\n",
    "\t  \t\t<option value=\"Java\">Java</option>\n",
    "\t  \t\t<option value=\"Python\" selected>Python</option>\n",
    "\t  \t\t<option value=\"Fortran\">Fortran</option>\n",
    "\t\t</select>\n",
    "\t \t\n",
    "        Enter a URL: \n",
    "\t\t<input  type=\"text\"  name=\"URL\"\n",
    "\t\t\tvalue=\"www.iastate.edu\" \n",
    "\t\t\tsize=\"40\">\n",
    "\t\t\n",
    "        <input type=\"submit\" value=\"Submit URL to Server\">\n",
    "    \n",
    "    </form>             \n",
    "  \n",
    "  </body>\n",
    "</html>\n",
    "```\n",
    "\n",
    "- `form` contains 2 data fields, which belong to the 2 GUI widgets:\n",
    "    - `lang` contains a value selected via a _pull down list_ (default is `Python`)\n",
    "    - `URL` contains a string given via a _text field_ (default value is `www.iastate.edu`)\n",
    "- the value of these fields is transmitted to the server via `<input type=\"submit\">`, which is a special button widget\n",
    "\n",
    "<p>\n",
    "\n",
    "- Once submit is pressed, the value of our  widgets inside the `form` tag are transmitted to the server:\n",
    "- the `/result/` in `<form action=\"/result/\" method=\"get\">` means that these values are to be sent to a __new__ page\n",
    "- Using the \"get\" method will transmit values to the server by inlining the inside the URL as query parameters, which is everything after the ?. You can see that in the actual URL and also in the server log, \n",
    "- ex: `\"GET /?lang=Python&URL=www.iastate.edu HTTP/1.1\"` encodes the value for `lang` as `Python` and the value for `URL` as `www.iastate.edu`\n",
    "- Effectively the submit button calls this URL: `http://127.0.0.1:8080/result/?lang=Python&URL=www.iastate.edu`\n",
    "\n",
    "<p>\n",
    "\n",
    "- the new page is called `result` (i.e. `http://127.0.0.1:8080/result/` instead of the main page at `http://127.0.0.1:8080/`\n",
    "- We still will need the main route (cell below):"
   ]
  },
  {
   "cell_type": "code",
   "execution_count": 6,
   "metadata": {},
   "outputs": [],
   "source": [
    "from flask import Flask, request, render_template  \n",
    "\n",
    "app = Flask(\"step3\")\n",
    "\n",
    "# Main route as our landing page\n",
    "@app.route(\"/\") \n",
    "def main_page():\n",
    "    # fill in values to template\n",
    "    html_str = render_template('step3.html', title=\"Step 3 - submitting values from HTML form\")\n",
    "    return html_str  # give it to the browser"
   ]
  },
  {
   "attachments": {},
   "cell_type": "markdown",
   "metadata": {},
   "source": [
    "#### the /result/ page\n",
    "- but - we need to also set up a new route for `/result/`, which the server will request and give the values to\n",
    "- as this route will be called with query parameters (`/result/?lang=Python&URL=www.iastate.edu`), flask automatically creates a __request__ object that contains the data from the form\n",
    "\n",
    "<p>\n",
    "\n",
    "- the request object has a args dictionary, which contains the name of the data field (lang or URL) and its value\n",
    "- e.g. ` request.args[\"URL\"]` has the value value given to the parameter `URL`, i.e. `www.iastate.edu`\n",
    "\n",
    "<p>\n",
    "\n",
    "- once we have the values, I create a super simple html doc (as string) that: \n",
    "    -  shows the names and their values as a simple paragraph (`<p>` tag)\n",
    "    - has another `get` form with a submit button that jumps back to / (root):\n",
    "    ```HTML\n",
    "        <form action=\"/\" method=\"get\">\n",
    "           <input type=\"submit\" value=\"Back to Main page\"> \n",
    "        </form>\n",
    "    ```\n",
    "\n",
    "<p>\n",
    "\n",
    "- after defining the result route, we can again start the app.\n",
    "- Make sure the step 2 server is stopped (interrupt), then run the cell below and point your browser again to http://127.0.0.1:8080/\n",
    "- If that doesn't work (happened to me!) just __Restart the Kernel__\n",
    "\n",
    "<p>\n",
    "\n",
    "- Finally, I added a \"Back to Main page\" submit button that will call the root (`/`) ... but without any query parameters \n",
    "- because of that this sets all fields in the main back to the page default values. \n",
    "- Alternatively, you can hit your browser's back arrow, for which the values are cached"
   ]
  },
  {
   "cell_type": "code",
   "execution_count": 7,
   "metadata": {},
   "outputs": [
    {
     "name": "stdout",
     "output_type": "stream",
     "text": [
      " * Serving Flask app 'step3'\n",
      " * Debug mode: off\n"
     ]
    },
    {
     "name": "stderr",
     "output_type": "stream",
     "text": [
      "WARNING: This is a development server. Do not use it in a production deployment. Use a production WSGI server instead.\n",
      " * Running on http://127.0.0.1:8080\n",
      "Press CTRL+C to quit\n",
      "127.0.0.1 - - [17/Apr/2024 00:07:29] \"GET / HTTP/1.1\" 200 -\n",
      "127.0.0.1 - - [17/Apr/2024 00:07:33] \"GET /result/?language=Python&URL=www.iastate.edu/index HTTP/1.1\" 200 -\n"
     ]
    },
    {
     "name": "stdout",
     "output_type": "stream",
     "text": [
      "URL: www.iastate.edu/index\n"
     ]
    },
    {
     "name": "stderr",
     "output_type": "stream",
     "text": [
      "127.0.0.1 - - [17/Apr/2024 00:07:37] \"GET /result/?language=Python&URL=www.iastate.edu/index HTTP/1.1\" 200 -\n"
     ]
    },
    {
     "name": "stdout",
     "output_type": "stream",
     "text": [
      "URL: www.iastate.edu/index\n"
     ]
    }
   ],
   "source": [
    "from flask import Flask, request, render_template  \n",
    "\n",
    "app = Flask(\"step3\")\n",
    "\n",
    "# Main route as our landing page\n",
    "@app.route(\"/\") \n",
    "def main_page():\n",
    "    html_str = render_template('step3.html', title=\"Step 3 - submitting values from HTML form\")\n",
    "    return html_str  # give it to the browser\n",
    "\n",
    "# route for grabbing the browers data (HTML form)\n",
    "@app.route('/result/', methods=[\"GET\"])\n",
    "def result_page():\n",
    "    \n",
    "    # request.args is a dict with the name and the value of the select and \n",
    "    print(\"URL:\", request.args[\"URL\"])   # value for name=\"URL\"  part in form\n",
    "    \n",
    "    html = \"\"\"\n",
    "        <html>\n",
    "          <body>\n",
    "            <p>Server here! I just got this URL:  \"\"\" + request.args[\"URL\"] + \"\"\" </p>\n",
    "            \n",
    "            <form action=\"/\" method=\"get\">\n",
    "              <input type=\"submit\" value=\"Back to Main page\"> \n",
    "            </form>\n",
    "          \n",
    "          </body>\n",
    "        </html>\"\"\"\n",
    "    return html\n",
    "\n",
    "app.run(debug=False, port=8080)\n",
    "\n",
    "# http://127.0.0.1:8080/"
   ]
  },
  {
   "cell_type": "markdown",
   "metadata": {},
   "source": [
    "### Class exercise: also print out the selected language\n",
    "- add code that also \"catches\" the string coming from the UI element with the name \"language\" in the current (step3) template\n",
    "- use that string to \"print out\" the selected language inside its own paragraph"
   ]
  },
  {
   "cell_type": "code",
   "execution_count": null,
   "metadata": {},
   "outputs": [],
   "source": [
    "from flask import Flask, request, render_template  \n",
    "\n",
    "app = Flask(\"step3\")\n",
    "\n",
    "# Main route as our landing page\n",
    "@app.route(\"/\") \n",
    "def main_page():\n",
    "    html_str = render_template('step3.html', title=\"Step 3 - submitting values from HTML form\")\n",
    "    return html_str  # give it to the browser\n",
    "\n",
    "# route for grabbing the browers data (HTML form)\n",
    "@app.route('/result/', methods=[\"GET\"])\n",
    "def result_page():\n",
    "    \n",
    "    # request.args is a dict with the name and the value of the select and \n",
    "    print(\"Language:\", ?????     )\n",
    "    print(\"URL:\", request.args[\"URL\"])   # value for name=\"URL\"  part in form\n",
    "    \n",
    "    html = \"\"\"\n",
    "        <html>\n",
    "          <body>\n",
    "            <p>Server here! I just got this URL:  \"\"\" + request.args[\"URL\"] + \"\"\" </p>\n",
    "            <p>Language is: \"\"\" + ??? + \"\"\"</p>\n",
    "            <form action=\"/\" method=\"get\">\n",
    "              <input type=\"submit\" value=\"Back to Main page\"> \n",
    "            </form>\n",
    "          \n",
    "          </body>\n",
    "        </html>\"\"\"\n",
    "    return html\n",
    "\n",
    "app.run(debug=False, port=8080)\n",
    "\n",
    "# http://127.0.0.1:8080/"
   ]
  },
  {
   "cell_type": "code",
   "execution_count": 8,
   "metadata": {},
   "outputs": [
    {
     "name": "stdout",
     "output_type": "stream",
     "text": [
      " * Serving Flask app 'step3'\n",
      " * Debug mode: off\n"
     ]
    },
    {
     "name": "stderr",
     "output_type": "stream",
     "text": [
      "WARNING: This is a development server. Do not use it in a production deployment. Use a production WSGI server instead.\n",
      " * Running on http://127.0.0.1:8080\n",
      "Press CTRL+C to quit\n",
      "127.0.0.1 - - [17/Apr/2024 00:10:03] \"GET / HTTP/1.1\" 200 -\n"
     ]
    }
   ],
   "source": [
    "'''\n",
    "\n",
    "\n",
    "\n",
    "\n",
    "\n",
    "\n",
    "\n",
    "\n",
    "\n",
    "\n",
    "\n",
    "\n",
    "\n",
    "\n",
    "\n",
    "\n",
    "\n",
    "\n",
    "\n",
    "\n",
    "'''\n",
    "# Solution\n",
    "from flask import Flask, request, render_template  \n",
    "\n",
    "app = Flask(\"step3\")\n",
    "\n",
    "# Main route as our landing page\n",
    "@app.route(\"/\") \n",
    "def main_page():\n",
    "    html_str = render_template('step3.html', title=\"Step 3 - submitting values from HTML form\")\n",
    "    return html_str  # give it to the browser\n",
    "\n",
    "# route for grabbing the browers data (HTML form)\n",
    "@app.route('/result/', methods=[\"GET\"])\n",
    "def result_page():\n",
    "    \n",
    "    # request.args is a dict with the name and the value of the select and \n",
    "    print(\"Language:\", request.args[\"language\"])\n",
    "    print(\"URL:\", request.args[\"URL\"])   # value for name=\"URL\"  part in form\n",
    "    \n",
    "    html = \"\"\"\n",
    "        <html>\n",
    "          <body>\n",
    "            <p>Server here! I just got this URL:  \"\"\" + request.args[\"URL\"] + \"\"\" </p>\n",
    "            <p>Language is: \"\"\" + request.args[\"language\"] + \"\"\"</p>\n",
    "            <form action=\"/\" method=\"get\">\n",
    "              <input type=\"submit\" value=\"Back to Main page\"> \n",
    "            </form>\n",
    "          \n",
    "          </body>\n",
    "        </html>\"\"\"\n",
    "    return html\n",
    "\n",
    "app.run(debug=False, port=8080)\n",
    "\n",
    "# http://127.0.0.1:8080/"
   ]
  },
  {
   "attachments": {},
   "cell_type": "markdown",
   "metadata": {},
   "source": [
    "## Step 4: Analyze (parse) the URL with BeautifulSoup and display its links\n",
    "- For the last step, we will parse the URL give to us via BeautifulSoup \n",
    "- I will re-use the parsing code from last time, where we created a HTML doc containing all links scraped from that URL\n",
    "- For this, all I need is a text input widget for the URL and the submit button on the main page, so no more language selection\n",
    "\n",
    "<p>\n",
    "\n",
    "- The step4.html is:\n",
    "```\n",
    "<html>\n",
    " <body>\n",
    "   {{ title }}<br><br>  \n",
    "   <form action=\"/result/\" method=\"get\">  \n",
    "\t Give me a URL to scrape for links: \n",
    "\t <input type=\"text\"  name=\"URL\"\n",
    "\t\t\tvalue=\"www.iastate.edu\" \n",
    "\t\t\tsize=\"40\">\n",
    "\t<input type=\"submit\" value=\"Commence Scraping!\">\n",
    "   </form>             \n",
    " </body>\n",
    "</html>\n",
    "```\n",
    "\n",
    "<p>\n",
    "\n",
    "- on submit, the server gets the URL and again transmits it to result as: `/result/?URL=www.iastate.edu`\n",
    "- The first part is the same as for step 3, execpt I also import BeautifulSoup for later ..."
   ]
  },
  {
   "cell_type": "code",
   "execution_count": null,
   "metadata": {},
   "outputs": [],
   "source": [
    "from flask import Flask, request, render_template   \n",
    "import requests # this is the requests (with s!) module\n",
    "import bs4 # BeautifulSoup parser for html\n",
    "\n",
    "app = Flask(\"step4\")\n",
    "@app.route(\"/\") \n",
    "def main_page():\n",
    "    html_str = render_template('step4.html', title=\"Step 4 - get a URL, scrape for links and display them\")\n",
    "    return html_str  # give it to the browser \n"
   ]
  },
  {
   "attachments": {},
   "cell_type": "markdown",
   "metadata": {},
   "source": [
    "#### Extract the data\n",
    "- in the `/result/` route we will again get the URL from the `request.arg` dict\n",
    "- we also need fix up the URL so it starts with `http://` and ends with `/` otherwise it's not a proper, valid URL\n",
    "\n",
    "<p>\n",
    "\n",
    "- Using `requests` (nothing to do with the request object from before!) we load the html text of that URL and extract all anchor tags via BeautifulSoup. The href value of each anchor tag contains the URL we are looking for.\n",
    "- The function `get_links()` will return a list of all (non-local) link URLs (href) from that list of anchor tags"
   ]
  },
  {
   "cell_type": "code",
   "execution_count": null,
   "metadata": {},
   "outputs": [],
   "source": [
    "def get_links(anchors_tags):\n",
    "    links = []\n",
    "    for a in anchors_tags:\n",
    "        l = a.get('href')\n",
    "        if l != None and l.startswith(\"http\"): # only collect external (internet) links\n",
    "            links.append(str(l))    # convert to string and append to list\n",
    "    return links"
   ]
  },
  {
   "attachments": {},
   "cell_type": "markdown",
   "metadata": {},
   "source": [
    "#### Make a web page to show the scraped data (/result/ route)\n",
    "- make a long string with all link URLs, each inside a anchor tag\n",
    "- make a html doc from it with a back to Main page button"
   ]
  },
  {
   "cell_type": "code",
   "execution_count": null,
   "metadata": {},
   "outputs": [],
   "source": [
    "\n",
    "@app.route('/result/', methods=[\"GET\"])\n",
    "def result_page():\n",
    "    \n",
    "    # request.args is a dict with the name and the value of the select and \n",
    "    url = request.args[\"URL\"]  # value for name = \"URL\"  in input part of form\n",
    "    print(\"Downloading page from\", url)\n",
    "    \n",
    "    # if url doesn't start with http://, put it in front, otherwise requests.get() gets confused\n",
    "    if not url.startswith(\"http://\") and not url.startswith(\"https://\"):\n",
    "        url = \"https://\" + url\n",
    "    \n",
    "    # if url doesn't end with / add that\n",
    "    if url[-1] != \"/\": \n",
    "        url += '/'\n",
    "    \n",
    "    \n",
    "    # GET webpage from the url, \n",
    "    wp = requests.get(url)  \n",
    "    wp.raise_for_status()  # raises an exception if there was a problem when getting the url\n",
    "    \n",
    "    # create a BeautifulSoup html parser object \n",
    "    # wp.text contains the web page text we want to analyse\n",
    "    soup = bs4.BeautifulSoup(wp.text, \"html.parser\")  \n",
    "    \n",
    "    # pull out all link URLs  (the <a> or anchor tag)\n",
    "    anchor_tags = soup.find_all('a')\n",
    "    links = get_links(anchor_tags)\n",
    "    print (\"found\", len(links), \"links in\", url)\n",
    "    \n",
    "    # make a long string with all URLs wrapped into anchor tags\n",
    "    link_URLs_string = \"\"\n",
    "    for l in links:\n",
    "        link_URLs_string = link_URLs_string + \"<a href=\\\"\" + l + \"\\\"> \" + l + \" </a><br>\"\n",
    "    \n",
    "    # wrap HTML body around the links and add a back to main button   \n",
    "    html = \"\"\"\n",
    "        <html>\n",
    "          <body>\n",
    "            These links were found in \"\"\" + url + \"\"\"\n",
    "            <form action=\"/\" method=\"get\">\n",
    "              <input type=\"submit\" value=\"Back to Main page\"> \n",
    "            </form>\"\"\" + link_URLs_string + \"\"\"\n",
    "          </body>\n",
    "        </html>\"\"\"\n",
    "    return html # show finished web page"
   ]
  },
  {
   "attachments": {},
   "cell_type": "markdown",
   "metadata": {},
   "source": [
    "#### Error handling\n",
    "- You may want to protect your server code from simply stopping when an error occurs\n",
    "- Example: user enters an invalid URL to scrape\n",
    "- You can define an error handler for each type of error as defined by the error code (e.g. 404)\n",
    "- here I use 500 instead of 404 with seems to be a more general error\n",
    "- Again, this is done in flask by defining a function (`errorhandler()`) via a decorator \n",
    "- `error` contains the error text (very technical!)\n",
    "- I just show the invalid webpage for this error as a simple string"
   ]
  },
  {
   "cell_type": "code",
   "execution_count": null,
   "metadata": {},
   "outputs": [],
   "source": [
    "@app.errorhandler(500)\n",
    "def page_not_found(error):\n",
    "    print(error) \n",
    "    s = \"Error with \" + str(request.args[\"URL\"]) + \"<br>\" + str(error)   \n",
    "    s = s + \"<br>Hit the Back button and try another site to scrape\"\n",
    "    return s"
   ]
  },
  {
   "cell_type": "markdown",
   "metadata": {},
   "source": [
    "#### Step 4 code in full - using a .py file\n",
    "- I've copied the cell below into step4.py\n",
    "- Load step4.py and let's step through it first "
   ]
  },
  {
   "cell_type": "code",
   "execution_count": null,
   "metadata": {},
   "outputs": [],
   "source": [
    "# Step 4 code in one single cell\n",
    "from flask import Flask, request, render_template   \n",
    "import requests # this is the requests (with s!) module\n",
    "import bs4 # BeautifulSoup parser for html\n",
    "\n",
    "def get_links(anchors_tags):\n",
    "    links = []\n",
    "    for a in anchors_tags:\n",
    "        l = a.get('href')\n",
    "        if l != None and (l[:5] == \"http:\" or l[:6] == \"https\"): # only collect external (internet) links\n",
    "            links.append(str(l))    # convert to string and append to list\n",
    "    return links\n",
    "\n",
    "app = Flask(\"step4\")\n",
    "@app.route(\"/\") \n",
    "def main_page():\n",
    "    html_str = render_template('step4.html', title=\"Step 4 - get a URL, scrape for links and display them\")\n",
    "    return html_str  # give it to the browser \n",
    "\n",
    "@app.route('/result/', methods=[\"GET\"])\n",
    "def result_page():\n",
    "    \n",
    "    # request.args is a dict with the name and the value of the select and \n",
    "    url = request.args[\"URL\"]  # value for name = \"URL\"  in input part of form\n",
    "    print(\"Downloading page from\", url)\n",
    "    \n",
    "    # if url doesn't start with http://, put it in front, otherwise requests.get() gets confused\n",
    "    if not url.startswith(\"http://\") and not url.startswith(\"https://\"):\n",
    "        url = \"https://\" + url\n",
    "    \n",
    "    # if url doesn't end with / add that\n",
    "    if url[-1] != \"/\": \n",
    "        url += '/'\n",
    "    \n",
    "    # GET webpage from the url, \n",
    "    wp = requests.get(url)  \n",
    "    wp.raise_for_status()  # raises an exception if there was a problem when getting the url\n",
    "    \n",
    "    # create a BeautifulSoup html parser object \n",
    "    # wp.text contains the web page text we want to analyse\n",
    "    soup = bs4.BeautifulSoup(wp.text, \"html.parser\")  \n",
    "    \n",
    "    # pull out all link URLs  (the <a> or anchor tag)\n",
    "    anchor_tags = soup.find_all('a')\n",
    "    links = get_links(anchor_tags)\n",
    "    print (\"found\", len(links), \"links in\", url)\n",
    "    \n",
    "    # make a long string with all URLs wrapped into anchor tags\n",
    "    link_URLs_string = \"\"\n",
    "    for l in links:\n",
    "        link_URLs_string = link_URLs_string + \"<a href=\\\"\" + l + \"\\\"> \" + l + \" </a><br>\"\n",
    "    \n",
    "    # wrap HTML body around the links and add a back to main button   \n",
    "    html = \"\"\"\n",
    "        <html>\n",
    "          <body>\n",
    "            These links were found in \"\"\" + url + \"\"\"\n",
    "            <form action=\"/\" method=\"get\">\n",
    "              <input type=\"submit\" value=\"Back to Main page\"> \n",
    "            </form>\"\"\" + link_URLs_string + \"\"\"\n",
    "          </body>\n",
    "        </html>\"\"\"\n",
    "    return html # show finished web page\n",
    "\n",
    "@app.errorhandler(500)\n",
    "def page_not_found(error):\n",
    "    print(error) \n",
    "    s = \"Error with \" + str(request.args[\"URL\"]) + \"<br>\" + str(error)   \n",
    "    s = s + \"<br>Hit the Back button and try something else ...)\"\n",
    "    return s\n",
    "\n",
    "app.run(debug=False, port=8080)\n",
    "\n",
    "# http://127.0.0.1:8080/"
   ]
  },
  {
   "cell_type": "markdown",
   "metadata": {},
   "source": [
    "### For next lecture:\n",
    "- sign up for a [beginner](https://www.pythonanywhere.com/pricing/) (=free) account at https://pythonanywhere.com\n",
    "- you will get an email to confirm your account\n",
    "- pythonanywhere.com let's you run python code on their server. However, in the free mode, you  can't run jupyter, you're limited to putting code into a .py file (stored on their server) and running that file via the command line or just using a python shell\n",
    "- next lecture we will walk through how to deploy this flask app to their server "
   ]
  }
 ],
 "metadata": {
  "kernelspec": {
   "display_name": "Python 3",
   "language": "python",
   "name": "python3"
  },
  "language_info": {
   "codemirror_mode": {
    "name": "ipython",
    "version": 3
   },
   "file_extension": ".py",
   "mimetype": "text/x-python",
   "name": "python",
   "nbconvert_exporter": "python",
   "pygments_lexer": "ipython3",
   "version": "3.10.11"
  },
  "varInspector": {
   "cols": {
    "lenName": 16,
    "lenType": 16,
    "lenVar": 40
   },
   "kernels_config": {
    "python": {
     "delete_cmd_postfix": "",
     "delete_cmd_prefix": "del ",
     "library": "var_list.py",
     "varRefreshCmd": "print(var_dic_list())"
    },
    "r": {
     "delete_cmd_postfix": ") ",
     "delete_cmd_prefix": "rm(",
     "library": "var_list.r",
     "varRefreshCmd": "cat(var_dic_list()) "
    }
   },
   "types_to_exclude": [
    "module",
    "function",
    "builtin_function_or_method",
    "instance",
    "_Feature"
   ],
   "window_display": false
  }
 },
 "nbformat": 4,
 "nbformat_minor": 2
}
